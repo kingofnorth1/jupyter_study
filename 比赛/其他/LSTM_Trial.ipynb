{
 "cells": [
  {
   "cell_type": "code",
   "execution_count": 96,
   "id": "15a200a4-3b42-4cf6-817c-7f3bf93eaca7",
   "metadata": {
    "scrolled": true
   },
   "outputs": [],
   "source": [
    "# 使用LSTM预测电力负荷\n",
    "import numpy as np\n",
    "import matplotlib.pyplot as plt\n",
    "import pandas as pd\n",
    "import math\n",
    "from keras.models import Sequential\n",
    "from keras.layers import Dense\n",
    "from keras.layers import LSTM\n",
    "from sklearn.preprocessing import MinMaxScaler\n",
    "from sklearn.metrics import mean_squared_error"
   ]
  },
  {
   "cell_type": "code",
   "execution_count": 112,
   "id": "b2f84376-52f3-413b-b6b9-e1906d5650fc",
   "metadata": {},
   "outputs": [],
   "source": [
    "# 生成t-x数据\n",
    "def create_dataset(dataset, look_back):\n",
    "    dataX, dataY = [], []\n",
    "    for i in range(len(dataset)-look_back-1):\n",
    "        a = dataset[i:(i+look_back), 0]\n",
    "        dataX.append(a)\n",
    "        dataY.append(dataset[i + look_back, 0])\n",
    "    return np.array(dataX), np.array(dataY)\n",
    "\n",
    "# 设置随机种子，保证复现\n",
    "np.random.seed(7)"
   ]
  },
  {
   "cell_type": "code",
   "execution_count": 98,
   "id": "6fd63e97-9ebe-4e3b-8bc9-df5aca3057af",
   "metadata": {},
   "outputs": [],
   "source": [
    "# 载入数据\n",
    "df = pd.read_csv(r\"./泰迪杯数据01.csv\")\n",
    "df = df.rename(columns={'日期1':'date'})"
   ]
  },
  {
   "cell_type": "code",
   "execution_count": 99,
   "id": "063d3105-4e8b-43c7-902e-e4bbd1a4c4b4",
   "metadata": {},
   "outputs": [
    {
     "data": {
      "text/html": [
       "<div>\n",
       "<style scoped>\n",
       "    .dataframe tbody tr th:only-of-type {\n",
       "        vertical-align: middle;\n",
       "    }\n",
       "\n",
       "    .dataframe tbody tr th {\n",
       "        vertical-align: top;\n",
       "    }\n",
       "\n",
       "    .dataframe thead th {\n",
       "        text-align: right;\n",
       "    }\n",
       "</style>\n",
       "<table border=\"1\" class=\"dataframe\">\n",
       "  <thead>\n",
       "    <tr style=\"text-align: right;\">\n",
       "      <th></th>\n",
       "      <th>date</th>\n",
       "      <th>总有功功率（kw）</th>\n",
       "      <th>最高温度</th>\n",
       "      <th>最低温度</th>\n",
       "      <th>白天风力风向</th>\n",
       "      <th>夜晚风力风向</th>\n",
       "      <th>天气1</th>\n",
       "      <th>天气2</th>\n",
       "    </tr>\n",
       "  </thead>\n",
       "  <tbody>\n",
       "    <tr>\n",
       "      <th>93</th>\n",
       "      <td>2018/1/1 23:15:00</td>\n",
       "      <td>213662.3933</td>\n",
       "      <td>22</td>\n",
       "      <td>12</td>\n",
       "      <td>0</td>\n",
       "      <td>0</td>\n",
       "      <td>2</td>\n",
       "      <td>2</td>\n",
       "    </tr>\n",
       "    <tr>\n",
       "      <th>94</th>\n",
       "      <td>2018/1/1 23:30:00</td>\n",
       "      <td>209709.2317</td>\n",
       "      <td>22</td>\n",
       "      <td>12</td>\n",
       "      <td>0</td>\n",
       "      <td>0</td>\n",
       "      <td>2</td>\n",
       "      <td>2</td>\n",
       "    </tr>\n",
       "    <tr>\n",
       "      <th>95</th>\n",
       "      <td>2018/1/1 23:45:00</td>\n",
       "      <td>205839.6378</td>\n",
       "      <td>22</td>\n",
       "      <td>12</td>\n",
       "      <td>0</td>\n",
       "      <td>0</td>\n",
       "      <td>2</td>\n",
       "      <td>2</td>\n",
       "    </tr>\n",
       "    <tr>\n",
       "      <th>96</th>\n",
       "      <td>2018/1/2 00:00:00</td>\n",
       "      <td>207655.1990</td>\n",
       "      <td>22</td>\n",
       "      <td>15</td>\n",
       "      <td>0</td>\n",
       "      <td>0</td>\n",
       "      <td>2</td>\n",
       "      <td>2</td>\n",
       "    </tr>\n",
       "    <tr>\n",
       "      <th>97</th>\n",
       "      <td>2018/1/2 00:15:00</td>\n",
       "      <td>200673.8192</td>\n",
       "      <td>22</td>\n",
       "      <td>15</td>\n",
       "      <td>0</td>\n",
       "      <td>0</td>\n",
       "      <td>2</td>\n",
       "      <td>2</td>\n",
       "    </tr>\n",
       "  </tbody>\n",
       "</table>\n",
       "</div>"
      ],
      "text/plain": [
       "                 date    总有功功率（kw）  最高温度  最低温度  白天风力风向  夜晚风力风向  天气1  天气2\n",
       "93  2018/1/1 23:15:00  213662.3933    22    12       0       0    2    2\n",
       "94  2018/1/1 23:30:00  209709.2317    22    12       0       0    2    2\n",
       "95  2018/1/1 23:45:00  205839.6378    22    12       0       0    2    2\n",
       "96  2018/1/2 00:00:00  207655.1990    22    15       0       0    2    2\n",
       "97  2018/1/2 00:15:00  200673.8192    22    15       0       0    2    2"
      ]
     },
     "execution_count": 99,
     "metadata": {},
     "output_type": "execute_result"
    }
   ],
   "source": [
    "df.iloc[:98, :].tail()"
   ]
  },
  {
   "cell_type": "code",
   "execution_count": 100,
   "id": "b93c998d-46fa-4d91-9a88-eb8f8a3f6f90",
   "metadata": {},
   "outputs": [],
   "source": [
    "# 数据整理\n",
    "\n",
    "df['date1'] = df['date'].apply(lambda x: x.split(\" \")[0])\n",
    "df['time'] = df['date'].apply(lambda x: x.split(\" \")[1])"
   ]
  },
  {
   "cell_type": "code",
   "execution_count": 101,
   "id": "8d5ae1e3",
   "metadata": {},
   "outputs": [
    {
     "data": {
      "text/html": [
       "<div>\n",
       "<style scoped>\n",
       "    .dataframe tbody tr th:only-of-type {\n",
       "        vertical-align: middle;\n",
       "    }\n",
       "\n",
       "    .dataframe tbody tr th {\n",
       "        vertical-align: top;\n",
       "    }\n",
       "\n",
       "    .dataframe thead th {\n",
       "        text-align: right;\n",
       "    }\n",
       "</style>\n",
       "<table border=\"1\" class=\"dataframe\">\n",
       "  <thead>\n",
       "    <tr style=\"text-align: right;\">\n",
       "      <th></th>\n",
       "      <th>date</th>\n",
       "      <th>总有功功率（kw）</th>\n",
       "      <th>最高温度</th>\n",
       "      <th>最低温度</th>\n",
       "      <th>白天风力风向</th>\n",
       "      <th>夜晚风力风向</th>\n",
       "      <th>天气1</th>\n",
       "      <th>天气2</th>\n",
       "      <th>date1</th>\n",
       "      <th>time</th>\n",
       "    </tr>\n",
       "  </thead>\n",
       "  <tbody>\n",
       "    <tr>\n",
       "      <th>0</th>\n",
       "      <td>2018/1/1 00:00:00</td>\n",
       "      <td>244033.7682</td>\n",
       "      <td>22</td>\n",
       "      <td>12</td>\n",
       "      <td>0</td>\n",
       "      <td>0</td>\n",
       "      <td>2</td>\n",
       "      <td>2</td>\n",
       "      <td>2018/1/1</td>\n",
       "      <td>00:00:00</td>\n",
       "    </tr>\n",
       "    <tr>\n",
       "      <th>1</th>\n",
       "      <td>2018/1/1 00:15:00</td>\n",
       "      <td>232720.6402</td>\n",
       "      <td>22</td>\n",
       "      <td>12</td>\n",
       "      <td>0</td>\n",
       "      <td>0</td>\n",
       "      <td>2</td>\n",
       "      <td>2</td>\n",
       "      <td>2018/1/1</td>\n",
       "      <td>00:15:00</td>\n",
       "    </tr>\n",
       "    <tr>\n",
       "      <th>2</th>\n",
       "      <td>2018/1/1 00:30:00</td>\n",
       "      <td>231685.6891</td>\n",
       "      <td>22</td>\n",
       "      <td>12</td>\n",
       "      <td>0</td>\n",
       "      <td>0</td>\n",
       "      <td>2</td>\n",
       "      <td>2</td>\n",
       "      <td>2018/1/1</td>\n",
       "      <td>00:30:00</td>\n",
       "    </tr>\n",
       "    <tr>\n",
       "      <th>3</th>\n",
       "      <td>2018/1/1 00:45:00</td>\n",
       "      <td>227581.3317</td>\n",
       "      <td>22</td>\n",
       "      <td>12</td>\n",
       "      <td>0</td>\n",
       "      <td>0</td>\n",
       "      <td>2</td>\n",
       "      <td>2</td>\n",
       "      <td>2018/1/1</td>\n",
       "      <td>00:45:00</td>\n",
       "    </tr>\n",
       "    <tr>\n",
       "      <th>4</th>\n",
       "      <td>2018/1/1 01:00:00</td>\n",
       "      <td>233482.4269</td>\n",
       "      <td>22</td>\n",
       "      <td>12</td>\n",
       "      <td>0</td>\n",
       "      <td>0</td>\n",
       "      <td>2</td>\n",
       "      <td>2</td>\n",
       "      <td>2018/1/1</td>\n",
       "      <td>01:00:00</td>\n",
       "    </tr>\n",
       "    <tr>\n",
       "      <th>...</th>\n",
       "      <td>...</td>\n",
       "      <td>...</td>\n",
       "      <td>...</td>\n",
       "      <td>...</td>\n",
       "      <td>...</td>\n",
       "      <td>...</td>\n",
       "      <td>...</td>\n",
       "      <td>...</td>\n",
       "      <td>...</td>\n",
       "      <td>...</td>\n",
       "    </tr>\n",
       "    <tr>\n",
       "      <th>1339</th>\n",
       "      <td>2018/1/14 22:45:00</td>\n",
       "      <td>261445.6821</td>\n",
       "      <td>20</td>\n",
       "      <td>10</td>\n",
       "      <td>0</td>\n",
       "      <td>0</td>\n",
       "      <td>2</td>\n",
       "      <td>2</td>\n",
       "      <td>2018/1/14</td>\n",
       "      <td>22:45:00</td>\n",
       "    </tr>\n",
       "    <tr>\n",
       "      <th>1340</th>\n",
       "      <td>2018/1/14 23:00:00</td>\n",
       "      <td>261757.4549</td>\n",
       "      <td>20</td>\n",
       "      <td>10</td>\n",
       "      <td>0</td>\n",
       "      <td>0</td>\n",
       "      <td>2</td>\n",
       "      <td>2</td>\n",
       "      <td>2018/1/14</td>\n",
       "      <td>23:00:00</td>\n",
       "    </tr>\n",
       "    <tr>\n",
       "      <th>1341</th>\n",
       "      <td>2018/1/14 23:15:00</td>\n",
       "      <td>252103.9613</td>\n",
       "      <td>20</td>\n",
       "      <td>10</td>\n",
       "      <td>0</td>\n",
       "      <td>0</td>\n",
       "      <td>2</td>\n",
       "      <td>2</td>\n",
       "      <td>2018/1/14</td>\n",
       "      <td>23:15:00</td>\n",
       "    </tr>\n",
       "    <tr>\n",
       "      <th>1342</th>\n",
       "      <td>2018/1/14 23:30:00</td>\n",
       "      <td>248351.5415</td>\n",
       "      <td>20</td>\n",
       "      <td>10</td>\n",
       "      <td>0</td>\n",
       "      <td>0</td>\n",
       "      <td>2</td>\n",
       "      <td>2</td>\n",
       "      <td>2018/1/14</td>\n",
       "      <td>23:30:00</td>\n",
       "    </tr>\n",
       "    <tr>\n",
       "      <th>1343</th>\n",
       "      <td>2018/1/14 23:45:00</td>\n",
       "      <td>246574.5762</td>\n",
       "      <td>20</td>\n",
       "      <td>10</td>\n",
       "      <td>0</td>\n",
       "      <td>0</td>\n",
       "      <td>2</td>\n",
       "      <td>2</td>\n",
       "      <td>2018/1/14</td>\n",
       "      <td>23:45:00</td>\n",
       "    </tr>\n",
       "  </tbody>\n",
       "</table>\n",
       "<p>1344 rows × 10 columns</p>\n",
       "</div>"
      ],
      "text/plain": [
       "                    date    总有功功率（kw）  最高温度  最低温度  白天风力风向  夜晚风力风向  天气1  天气2  \\\n",
       "0      2018/1/1 00:00:00  244033.7682    22    12       0       0    2    2   \n",
       "1      2018/1/1 00:15:00  232720.6402    22    12       0       0    2    2   \n",
       "2      2018/1/1 00:30:00  231685.6891    22    12       0       0    2    2   \n",
       "3      2018/1/1 00:45:00  227581.3317    22    12       0       0    2    2   \n",
       "4      2018/1/1 01:00:00  233482.4269    22    12       0       0    2    2   \n",
       "...                  ...          ...   ...   ...     ...     ...  ...  ...   \n",
       "1339  2018/1/14 22:45:00  261445.6821    20    10       0       0    2    2   \n",
       "1340  2018/1/14 23:00:00  261757.4549    20    10       0       0    2    2   \n",
       "1341  2018/1/14 23:15:00  252103.9613    20    10       0       0    2    2   \n",
       "1342  2018/1/14 23:30:00  248351.5415    20    10       0       0    2    2   \n",
       "1343  2018/1/14 23:45:00  246574.5762    20    10       0       0    2    2   \n",
       "\n",
       "          date1      time  \n",
       "0      2018/1/1  00:00:00  \n",
       "1      2018/1/1  00:15:00  \n",
       "2      2018/1/1  00:30:00  \n",
       "3      2018/1/1  00:45:00  \n",
       "4      2018/1/1  01:00:00  \n",
       "...         ...       ...  \n",
       "1339  2018/1/14  22:45:00  \n",
       "1340  2018/1/14  23:00:00  \n",
       "1341  2018/1/14  23:15:00  \n",
       "1342  2018/1/14  23:30:00  \n",
       "1343  2018/1/14  23:45:00  \n",
       "\n",
       "[1344 rows x 10 columns]"
      ]
     },
     "execution_count": 101,
     "metadata": {},
     "output_type": "execute_result"
    }
   ],
   "source": [
    "df"
   ]
  },
  {
   "cell_type": "code",
   "execution_count": 102,
   "id": "46630ebb-9a2c-43d0-aa8b-1d5e1bae12e5",
   "metadata": {},
   "outputs": [
    {
     "data": {
      "text/plain": [
       "date1\n",
       "2018/1/1     96\n",
       "2018/1/10    96\n",
       "2018/1/11    96\n",
       "2018/1/12    96\n",
       "2018/1/13    96\n",
       "2018/1/14    96\n",
       "2018/1/2     96\n",
       "2018/1/3     96\n",
       "2018/1/4     96\n",
       "2018/1/5     96\n",
       "2018/1/6     96\n",
       "2018/1/7     96\n",
       "2018/1/8     96\n",
       "2018/1/9     96\n",
       "Name: date, dtype: int64"
      ]
     },
     "execution_count": 102,
     "metadata": {},
     "output_type": "execute_result"
    }
   ],
   "source": [
    "# 检查基本统计特征，看是否数据异常\n",
    "df.groupby('date1').date.count()"
   ]
  },
  {
   "cell_type": "code",
   "execution_count": 103,
   "id": "03511281-35ed-4a6f-9b61-408506140ede",
   "metadata": {},
   "outputs": [
    {
     "data": {
      "text/plain": [
       "Int64Index([0, 96, 192, 288, 384, 480, 576, 672, 768, 864, 960, 1056, 1152,\n",
       "            1248],\n",
       "           dtype='int64')"
      ]
     },
     "execution_count": 103,
     "metadata": {},
     "output_type": "execute_result"
    }
   ],
   "source": [
    "# 提取0点值,准备数据可视化\n",
    "date0 = df[df['time'] == \"00:00:00\"]\n",
    "date0.index"
   ]
  },
  {
   "cell_type": "code",
   "execution_count": null,
   "id": "bedbaaaf-6dee-43d5-aac5-45de61375395",
   "metadata": {},
   "outputs": [],
   "source": []
  },
  {
   "cell_type": "code",
   "execution_count": 105,
   "id": "b033389f-d6c2-422d-8dd8-ff8e1e2da0ca",
   "metadata": {},
   "outputs": [],
   "source": [
    "# 准备建模需要的数据格式\n",
    "dataset = df.loc[:, '总有功功率（kw）'].values\n",
    "dataset = dataset.reshape(dataset.shape[0], 1)\n",
    "dataset = dataset.astype(\"float32\")"
   ]
  },
  {
   "cell_type": "code",
   "execution_count": 106,
   "id": "763356ce",
   "metadata": {},
   "outputs": [
    {
     "data": {
      "text/plain": [
       "array([[244033.77],\n",
       "       [232720.64],\n",
       "       [231685.69],\n",
       "       ...,\n",
       "       [252103.97],\n",
       "       [248351.55],\n",
       "       [246574.58]], dtype=float32)"
      ]
     },
     "execution_count": 106,
     "metadata": {},
     "output_type": "execute_result"
    }
   ],
   "source": [
    "dataset"
   ]
  },
  {
   "cell_type": "code",
   "execution_count": 117,
   "id": "e7b38a9f-0db1-4f26-afca-7dc174f17944",
   "metadata": {},
   "outputs": [],
   "source": [
    "from sklearn.model_selection import train_test_split\n",
    "# LSTM对输入数据的大小敏感，需要对输入数据做标准化处理\n",
    "# 使用MinMaxScaler将数据映射到0-1区间\n",
    "scaler = MinMaxScaler(feature_range=(0, 1))\n",
    "dataset = scaler.fit_transform(dataset)\n",
    "# 将数据分为训练集、测试集\n",
    "train, test = train_test_split(dataset, test_size=0.2)"
   ]
  },
  {
   "cell_type": "code",
   "execution_count": 118,
   "id": "7e405b0a-f367-478f-9dc3-c005e490f1ac",
   "metadata": {},
   "outputs": [
    {
     "data": {
      "text/plain": [
       "((1075, 1), (269, 1))"
      ]
     },
     "execution_count": 118,
     "metadata": {},
     "output_type": "execute_result"
    }
   ],
   "source": [
    "train.shape, test.shape"
   ]
  },
  {
   "cell_type": "code",
   "execution_count": 119,
   "id": "d6c3d404-b99c-4bb7-85f2-5d9790317288",
   "metadata": {},
   "outputs": [],
   "source": [
    "# 经绘图，发现t-1周期性体现在24小时。因为数据粒度是15分钟，因此96条数据是一天\n",
    "look_back = int(24*60/15) # 96\n",
    "trainX, trainY = create_dataset(train, look_back)\n",
    "testX, testY = create_dataset(test, look_back)"
   ]
  },
  {
   "cell_type": "code",
   "execution_count": 120,
   "id": "a7439234-cc71-4a0e-91c2-ae21d3c95887",
   "metadata": {},
   "outputs": [
    {
     "data": {
      "text/plain": [
       "((978, 96), (172, 96))"
      ]
     },
     "execution_count": 120,
     "metadata": {},
     "output_type": "execute_result"
    }
   ],
   "source": [
    "trainX.shape,testX.shape"
   ]
  },
  {
   "cell_type": "code",
   "execution_count": 122,
   "id": "0eaf0879-3dd8-4783-bea7-20979afee4c2",
   "metadata": {},
   "outputs": [],
   "source": [
    "# LSTM网络的输入为【批次大小(行数)，时间步长，特征数量(列数)】\n",
    "# 将数据转换为符合输入的格式\n",
    "trainX = np.reshape(trainX, (trainX.shape[0], 1, trainX.shape[1]))\n",
    "testX = np.reshape(testX, (testX.shape[0], 1, testX.shape[1]))"
   ]
  },
  {
   "cell_type": "code",
   "execution_count": 123,
   "id": "28bd055f-45c5-4ea7-b1de-27a9aa64be18",
   "metadata": {
    "jupyter": {
     "outputs_hidden": true
    },
    "scrolled": true,
    "tags": []
   },
   "outputs": [
    {
     "name": "stdout",
     "output_type": "stream",
     "text": [
      "Epoch 1/100\n",
      "978/978 [==============================] - 2s 883us/step - loss: 0.0502\n",
      "Epoch 2/100\n",
      "978/978 [==============================] - 1s 909us/step - loss: 0.0447\n",
      "Epoch 3/100\n",
      "978/978 [==============================] - 1s 888us/step - loss: 0.0425\n",
      "Epoch 4/100\n",
      "978/978 [==============================] - 1s 876us/step - loss: 0.0409\n",
      "Epoch 5/100\n",
      "978/978 [==============================] - 1s 883us/step - loss: 0.0408\n",
      "Epoch 6/100\n",
      "978/978 [==============================] - 1s 880us/step - loss: 0.0405\n",
      "Epoch 7/100\n",
      "978/978 [==============================] - 1s 879us/step - loss: 0.0401\n",
      "Epoch 8/100\n",
      "978/978 [==============================] - 1s 878us/step - loss: 0.0397\n",
      "Epoch 9/100\n",
      "978/978 [==============================] - 1s 885us/step - loss: 0.0397\n",
      "Epoch 10/100\n",
      "978/978 [==============================] - 1s 882us/step - loss: 0.0396\n",
      "Epoch 11/100\n",
      "978/978 [==============================] - 1s 902us/step - loss: 0.0397\n",
      "Epoch 12/100\n",
      "978/978 [==============================] - 1s 920us/step - loss: 0.0395\n",
      "Epoch 13/100\n",
      "978/978 [==============================] - 1s 899us/step - loss: 0.0391\n",
      "Epoch 14/100\n",
      "978/978 [==============================] - 1s 918us/step - loss: 0.0394\n",
      "Epoch 15/100\n",
      "978/978 [==============================] - 1s 885us/step - loss: 0.0392\n",
      "Epoch 16/100\n",
      "978/978 [==============================] - 1s 894us/step - loss: 0.0392\n",
      "Epoch 17/100\n",
      "978/978 [==============================] - 1s 905us/step - loss: 0.0385\n",
      "Epoch 18/100\n",
      "978/978 [==============================] - 1s 890us/step - loss: 0.0385\n",
      "Epoch 19/100\n",
      "978/978 [==============================] - 1s 877us/step - loss: 0.0386\n",
      "Epoch 20/100\n",
      "978/978 [==============================] - 1s 881us/step - loss: 0.0386\n",
      "Epoch 21/100\n",
      "978/978 [==============================] - 1s 893us/step - loss: 0.0381\n",
      "Epoch 22/100\n",
      "978/978 [==============================] - 1s 884us/step - loss: 0.0382\n",
      "Epoch 23/100\n",
      "978/978 [==============================] - 1s 876us/step - loss: 0.0380\n",
      "Epoch 24/100\n",
      "978/978 [==============================] - 1s 877us/step - loss: 0.0375\n",
      "Epoch 25/100\n",
      "978/978 [==============================] - 1s 924us/step - loss: 0.0378\n",
      "Epoch 26/100\n",
      "978/978 [==============================] - 1s 906us/step - loss: 0.0375\n",
      "Epoch 27/100\n",
      "978/978 [==============================] - 1s 881us/step - loss: 0.0373\n",
      "Epoch 28/100\n",
      "978/978 [==============================] - 1s 885us/step - loss: 0.0370\n",
      "Epoch 29/100\n",
      "978/978 [==============================] - 1s 917us/step - loss: 0.0372\n",
      "Epoch 30/100\n",
      "978/978 [==============================] - 1s 898us/step - loss: 0.0369\n",
      "Epoch 31/100\n",
      "978/978 [==============================] - 1s 884us/step - loss: 0.0362\n",
      "Epoch 32/100\n",
      "978/978 [==============================] - 1s 885us/step - loss: 0.0363\n",
      "Epoch 33/100\n",
      "978/978 [==============================] - 1s 906us/step - loss: 0.0365\n",
      "Epoch 34/100\n",
      "978/978 [==============================] - 1s 912us/step - loss: 0.0364\n",
      "Epoch 35/100\n",
      "978/978 [==============================] - 1s 884us/step - loss: 0.0356\n",
      "Epoch 36/100\n",
      "978/978 [==============================] - 1s 891us/step - loss: 0.0357\n",
      "Epoch 37/100\n",
      "978/978 [==============================] - 1s 891us/step - loss: 0.0355\n",
      "Epoch 38/100\n",
      "978/978 [==============================] - 1s 906us/step - loss: 0.0358\n",
      "Epoch 39/100\n",
      "978/978 [==============================] - 1s 877us/step - loss: 0.0356\n",
      "Epoch 40/100\n",
      "978/978 [==============================] - 1s 872us/step - loss: 0.0355\n",
      "Epoch 41/100\n",
      "978/978 [==============================] - 1s 878us/step - loss: 0.0355\n",
      "Epoch 42/100\n",
      "978/978 [==============================] - 1s 881us/step - loss: 0.0350\n",
      "Epoch 43/100\n",
      "978/978 [==============================] - 1s 876us/step - loss: 0.0352\n",
      "Epoch 44/100\n",
      "978/978 [==============================] - 1s 879us/step - loss: 0.0349\n",
      "Epoch 45/100\n",
      "978/978 [==============================] - 1s 867us/step - loss: 0.0343\n",
      "Epoch 46/100\n",
      "978/978 [==============================] - 1s 876us/step - loss: 0.0345\n",
      "Epoch 47/100\n",
      "978/978 [==============================] - 1s 897us/step - loss: 0.0343\n",
      "Epoch 48/100\n",
      "978/978 [==============================] - 1s 879us/step - loss: 0.0337\n",
      "Epoch 49/100\n",
      "978/978 [==============================] - 1s 873us/step - loss: 0.0337\n",
      "Epoch 50/100\n",
      "978/978 [==============================] - 1s 875us/step - loss: 0.0335\n",
      "Epoch 51/100\n",
      "978/978 [==============================] - 1s 890us/step - loss: 0.0337\n",
      "Epoch 52/100\n",
      "978/978 [==============================] - 1s 876us/step - loss: 0.0333\n",
      "Epoch 53/100\n",
      "978/978 [==============================] - 1s 879us/step - loss: 0.0327\n",
      "Epoch 54/100\n",
      "978/978 [==============================] - 1s 887us/step - loss: 0.0329\n",
      "Epoch 55/100\n",
      "978/978 [==============================] - 1s 882us/step - loss: 0.0326\n",
      "Epoch 56/100\n",
      "978/978 [==============================] - 1s 878us/step - loss: 0.0326\n",
      "Epoch 57/100\n",
      "978/978 [==============================] - 1s 872us/step - loss: 0.0322\n",
      "Epoch 58/100\n",
      "978/978 [==============================] - 1s 875us/step - loss: 0.0319\n",
      "Epoch 59/100\n",
      "978/978 [==============================] - 1s 884us/step - loss: 0.0318\n",
      "Epoch 60/100\n",
      "978/978 [==============================] - 1s 874us/step - loss: 0.0315\n",
      "Epoch 61/100\n",
      "978/978 [==============================] - 1s 873us/step - loss: 0.0314\n",
      "Epoch 62/100\n",
      "978/978 [==============================] - 1s 870us/step - loss: 0.0311\n",
      "Epoch 63/100\n",
      "978/978 [==============================] - 1s 878us/step - loss: 0.0308\n",
      "Epoch 64/100\n",
      "978/978 [==============================] - 1s 878us/step - loss: 0.0303\n",
      "Epoch 65/100\n",
      "978/978 [==============================] - 1s 876us/step - loss: 0.0302\n",
      "Epoch 66/100\n",
      "978/978 [==============================] - 1s 878us/step - loss: 0.0308\n",
      "Epoch 67/100\n",
      "978/978 [==============================] - 1s 875us/step - loss: 0.0302\n",
      "Epoch 68/100\n",
      "978/978 [==============================] - 1s 885us/step - loss: 0.0300\n",
      "Epoch 69/100\n",
      "978/978 [==============================] - 1s 887us/step - loss: 0.0289\n",
      "Epoch 70/100\n",
      "978/978 [==============================] - 1s 875us/step - loss: 0.0287\n",
      "Epoch 71/100\n",
      "978/978 [==============================] - 1s 877us/step - loss: 0.0283\n",
      "Epoch 72/100\n",
      "978/978 [==============================] - 1s 884us/step - loss: 0.0282\n",
      "Epoch 73/100\n",
      "978/978 [==============================] - 1s 877us/step - loss: 0.0282\n",
      "Epoch 74/100\n",
      "978/978 [==============================] - 1s 873us/step - loss: 0.0281\n",
      "Epoch 75/100\n",
      "978/978 [==============================] - 1s 874us/step - loss: 0.0276\n",
      "Epoch 76/100\n",
      "978/978 [==============================] - 1s 881us/step - loss: 0.0273\n",
      "Epoch 77/100\n",
      "978/978 [==============================] - 1s 882us/step - loss: 0.0266\n",
      "Epoch 78/100\n",
      "978/978 [==============================] - 1s 874us/step - loss: 0.0266\n",
      "Epoch 79/100\n",
      "978/978 [==============================] - 1s 877us/step - loss: 0.0257\n",
      "Epoch 80/100\n",
      "978/978 [==============================] - 1s 897us/step - loss: 0.0256\n",
      "Epoch 81/100\n",
      "978/978 [==============================] - 1s 902us/step - loss: 0.0254\n",
      "Epoch 82/100\n",
      "978/978 [==============================] - 1s 880us/step - loss: 0.0251\n",
      "Epoch 83/100\n",
      "978/978 [==============================] - 1s 882us/step - loss: 0.0246\n",
      "Epoch 84/100\n",
      "978/978 [==============================] - 1s 879us/step - loss: 0.0246\n",
      "Epoch 85/100\n",
      "978/978 [==============================] - 1s 885us/step - loss: 0.0238\n",
      "Epoch 86/100\n",
      "978/978 [==============================] - 1s 880us/step - loss: 0.0250\n",
      "Epoch 87/100\n",
      "978/978 [==============================] - 1s 880us/step - loss: 0.0235\n",
      "Epoch 88/100\n",
      "978/978 [==============================] - 1s 878us/step - loss: 0.0229\n",
      "Epoch 89/100\n",
      "978/978 [==============================] - 1s 884us/step - loss: 0.0228\n",
      "Epoch 90/100\n",
      "978/978 [==============================] - 1s 876us/step - loss: 0.0231\n",
      "Epoch 91/100\n",
      "978/978 [==============================] - 1s 880us/step - loss: 0.0225\n",
      "Epoch 92/100\n",
      "978/978 [==============================] - 1s 881us/step - loss: 0.0226\n",
      "Epoch 93/100\n",
      "978/978 [==============================] - 1s 892us/step - loss: 0.0219\n",
      "Epoch 94/100\n",
      "978/978 [==============================] - 1s 882us/step - loss: 0.0217\n",
      "Epoch 95/100\n",
      "978/978 [==============================] - 1s 875us/step - loss: 0.0209\n",
      "Epoch 96/100\n",
      "978/978 [==============================] - 1s 876us/step - loss: 0.0210\n",
      "Epoch 97/100\n"
     ]
    },
    {
     "name": "stdout",
     "output_type": "stream",
     "text": [
      "978/978 [==============================] - 1s 874us/step - loss: 0.0202\n",
      "Epoch 98/100\n",
      "978/978 [==============================] - 1s 899us/step - loss: 0.0208\n",
      "Epoch 99/100\n",
      "978/978 [==============================] - 1s 913us/step - loss: 0.0202\n",
      "Epoch 100/100\n",
      "978/978 [==============================] - 1s 894us/step - loss: 0.0198\n"
     ]
    },
    {
     "data": {
      "text/plain": [
       "<keras.callbacks.History at 0x23b960bce20>"
      ]
     },
     "execution_count": 123,
     "metadata": {},
     "output_type": "execute_result"
    }
   ],
   "source": [
    "# 创建LSTM模型，拟合数据\n",
    "model = Sequential()\n",
    "\n",
    "# 添加4个LSTM神经元的隐层网络\n",
    "model.add(LSTM(4, input_shape=(1, look_back)))\n",
    "\n",
    "# 添加输出层，输出一个预测值\n",
    "model.add(Dense(1))\n",
    "# 损失函数与adam优化器\n",
    "model.compile(loss='mean_squared_error', optimizer='adam')\n",
    "# 训练数据100期, batch_size:一次训练抓取的样本数量\n",
    "model.fit(trainX, trainY, epochs=100, batch_size=1)"
   ]
  },
  {
   "cell_type": "code",
   "execution_count": 124,
   "id": "848baf60-503f-4287-a6a5-98fd2471c329",
   "metadata": {},
   "outputs": [],
   "source": [
    "# 预测\n",
    "trainPredict = model.predict(trainX)\n",
    "testPredict = model.predict(testX)\n",
    "\n",
    "# 前面把数据缩放到0-1范围。\n",
    "# 现在跟实际值做比较，将预测值反标准化，从0-1范围转换为原数据范围\n",
    "itrainPredict = scaler.inverse_transform(trainPredict)\n",
    "itrainY = scaler.inverse_transform([trainY])\n",
    "itestPredict = scaler.inverse_transform(testPredict)\n",
    "itestY = scaler.inverse_transform([testY])"
   ]
  },
  {
   "cell_type": "code",
   "execution_count": 125,
   "id": "ac6d14fa-09e2-4832-8a9c-81eeedf01b14",
   "metadata": {},
   "outputs": [
    {
     "name": "stdout",
     "output_type": "stream",
     "text": [
      "Train Score: 0.15 RMSE\n",
      "Test Score: 0.24 RMSE\n"
     ]
    }
   ],
   "source": [
    "# 评估RMSE误差\n",
    "trainScore = math.sqrt(mean_squared_error(itrainY[0], itrainPredict[:,0]))\n",
    "print('Train Score: %.2f RMSE' % (trainScore))\n",
    "testScore = math.sqrt(mean_squared_error(itestY[0], itestPredict[:,0]))\n",
    "print('Test Score: %.2f RMSE' % (testScore))"
   ]
  },
  {
   "cell_type": "code",
   "execution_count": 140,
   "id": "f4f7da0e-8617-4eeb-9205-2814d791b34b",
   "metadata": {
    "scrolled": true
   },
   "outputs": [
    {
     "data": {
      "image/png": "[encoded data removed]",
      "text/plain": [
       "<Figure size 432x288 with 1 Axes>"
      ]
     },
     "metadata": {
      "needs_background": "light"
     },
     "output_type": "display_data"
    }
   ],
   "source": [
    "# 准备画图 - 训练数据\n",
    "trainPredictPlot = np.empty_like(dataset)\n",
    "trainPredictPlot[:, :] = np.nan\n",
    "trainPredictPlot[look_back:len(itrainPredict)+look_back, :] = itrainPredict\n",
    "\n",
    "# 准备画图 - 测试数据\n",
    "testPredictPlot = np.empty_like(dataset)\n",
    "testPredictPlot[:, :] = np.nan\n",
    "testPredictPlot[len(itrainPredict)+(look_back*2)+1:len(dataset)-1, :] = itestPredict\n",
    "\n",
    "plt.plot(scaler.inverse_transform(dataset))\n",
    "plt.plot(trainPredictPlot)\n",
    "plt.plot(testPredictPlot)\n",
    "plt.xlim()\n",
    "plt.show()"
   ]
  },
  {
   "cell_type": "code",
   "execution_count": 133,
   "id": "cc78d000-b729-4533-bea2-f8d44e6913bf",
   "metadata": {},
   "outputs": [
    {
     "data": {
      "text/plain": [
       "(1344,)"
      ]
     },
     "execution_count": 133,
     "metadata": {},
     "output_type": "execute_result"
    }
   ],
   "source": [
    "# 特征工程优化\n",
    "# 数据平滑ma2 ma5 \n",
    "ma2 = (df['总有功功率（kw）'][:df.shape[0]-1].values + df['总有功功率（kw）'][1:].values)/2\n",
    "ma2 = np.append(ma2, ma2[-1])\n",
    "ma2.shape"
   ]
  },
  {
   "cell_type": "code",
   "execution_count": 134,
   "id": "d02a4b53-53ee-4362-9179-cb0f16ef0bf9",
   "metadata": {},
   "outputs": [],
   "source": [
    "df[\"ma2\"] = ma2"
   ]
  },
  {
   "cell_type": "code",
   "execution_count": 136,
   "id": "a2fa33cd",
   "metadata": {},
   "outputs": [
    {
     "data": {
      "image/png": "[encoded data removed]",
      "text/plain": [
       "<Figure size 432x288 with 1 Axes>"
      ]
     },
     "metadata": {
      "needs_background": "light"
     },
     "output_type": "display_data"
    }
   ],
   "source": [
    "plt.plot(df.index, df.ma2)\n",
    "for i in date0.index:\n",
    "    plt.axvline(i, color=\"orange\")\n",
    "# 干预分析"
   ]
  },
  {
   "cell_type": "code",
   "execution_count": null,
   "id": "24027fca",
   "metadata": {},
   "outputs": [],
   "source": []
  }
 ],
 "metadata": {
  "kernelspec": {
   "display_name": "Python 3 (ipykernel)",
   "language": "python",
   "name": "python3"
  },
  "language_info": {
   "codemirror_mode": {
    "name": "ipython",
    "version": 3
   },
   "file_extension": ".py",
   "mimetype": "text/x-python",
   "name": "python",
   "nbconvert_exporter": "python",
   "pygments_lexer": "ipython3",
   "version": "3.9.0"
  }
 },
 "nbformat": 4,
 "nbformat_minor": 5
}
