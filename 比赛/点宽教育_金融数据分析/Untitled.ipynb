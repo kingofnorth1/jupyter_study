{
 "cells": [
  {
   "cell_type": "code",
   "execution_count": 5,
   "id": "b4e4e9ca",
   "metadata": {},
   "outputs": [],
   "source": [
    "import numpy as np\n",
    "import atrader as at"
   ]
  },
  {
   "cell_type": "code",
   "execution_count": 7,
   "id": "5385c485",
   "metadata": {},
   "outputs": [
    {
     "ename": "AtReturnError",
     "evalue": "AtReturnError:atSendCmdGetKData, Code: 33, Reason: 用户没有min的数据权限, 申请权限请联系点宽客服(wechat id：digquantcs)",
     "output_type": "error",
     "traceback": [
      "\u001b[1;31m---------------------------------------------------------------------------\u001b[0m",
      "\u001b[1;31mAtReturnError\u001b[0m                             Traceback (most recent call last)",
      "\u001b[1;32mC:\\Windows\\Temp/ipykernel_7516/2918010326.py\u001b[0m in \u001b[0;36m<cell line: 1>\u001b[1;34m()\u001b[0m\n\u001b[1;32m----> 1\u001b[1;33m \u001b[0mdata\u001b[0m\u001b[1;33m=\u001b[0m\u001b[0mat\u001b[0m\u001b[1;33m.\u001b[0m\u001b[0mget_kdata\u001b[0m\u001b[1;33m(\u001b[0m\u001b[0mtarget_list\u001b[0m\u001b[1;33m=\u001b[0m\u001b[1;33m[\u001b[0m\u001b[1;34m'SZSE.000001'\u001b[0m\u001b[1;33m,\u001b[0m\u001b[1;34m'SZSE.000002'\u001b[0m\u001b[1;33m]\u001b[0m\u001b[1;33m,\u001b[0m \u001b[0mfrequency\u001b[0m\u001b[1;33m=\u001b[0m\u001b[1;34m'min'\u001b[0m\u001b[1;33m,\u001b[0m \u001b[0mfre_num\u001b[0m\u001b[1;33m=\u001b[0m\u001b[1;36m60\u001b[0m\u001b[1;33m,\u001b[0m \u001b[0mbegin_date\u001b[0m\u001b[1;33m=\u001b[0m\u001b[1;34m'2017-06-25'\u001b[0m\u001b[1;33m,\u001b[0m \u001b[0mend_date\u001b[0m\u001b[1;33m=\u001b[0m\u001b[1;34m'2017-06-26'\u001b[0m\u001b[1;33m,\u001b[0m\u001b[0mfq\u001b[0m\u001b[1;33m=\u001b[0m\u001b[1;36m1\u001b[0m\u001b[1;33m,\u001b[0m\u001b[0mfill_up\u001b[0m\u001b[1;33m=\u001b[0m\u001b[1;32mFalse\u001b[0m\u001b[1;33m,\u001b[0m \u001b[0mdf\u001b[0m\u001b[1;33m=\u001b[0m\u001b[1;32mTrue\u001b[0m\u001b[1;33m,\u001b[0m\u001b[0msort_by_date\u001b[0m\u001b[1;33m=\u001b[0m\u001b[1;32mFalse\u001b[0m\u001b[1;33m)\u001b[0m\u001b[1;33m\u001b[0m\u001b[1;33m\u001b[0m\u001b[0m\n\u001b[0m\u001b[0;32m      2\u001b[0m \u001b[0mprint\u001b[0m\u001b[1;33m(\u001b[0m\u001b[0mdata\u001b[0m\u001b[1;33m)\u001b[0m\u001b[1;33m\u001b[0m\u001b[1;33m\u001b[0m\u001b[0m\n",
      "\u001b[1;32mc:\\users\\king\\appdata\\local\\programs\\python\\python39\\lib\\site-packages\\atrader\\tframe\\uclass.cp39-win_amd64.pyd\u001b[0m in \u001b[0;36mtframe.uclass.SystemModeMgr.force_phase.decorator.wrapper\u001b[1;34m()\u001b[0m\n",
      "\u001b[1;32mc:\\users\\king\\appdata\\local\\programs\\python\\python39\\lib\\site-packages\\atrader\\tframe\\utils\\argchecker.cp39-win_amd64.pyd\u001b[0m in \u001b[0;36mtframe.utils.argchecker.apply_rule.decorator.api_rule_check_wrapper\u001b[1;34m()\u001b[0m\n",
      "\u001b[1;32mc:\\users\\king\\appdata\\local\\programs\\python\\python39\\lib\\site-packages\\atrader\\api\\history\\__init__.py\u001b[0m in \u001b[0;36mget_kdata\u001b[1;34m(target_list, frequency, fre_num, begin_date, end_date, fq, fill_up, df, sort_by_date)\u001b[0m\n\u001b[0;32m    160\u001b[0m     \u001b[0mresults\u001b[0m \u001b[1;33m=\u001b[0m \u001b[1;33m[\u001b[0m\u001b[1;32mNone\u001b[0m\u001b[1;33m]\u001b[0m \u001b[1;33m*\u001b[0m \u001b[0mlen\u001b[0m\u001b[1;33m(\u001b[0m\u001b[0mnew_targets\u001b[0m\u001b[1;33m)\u001b[0m\u001b[1;33m\u001b[0m\u001b[1;33m\u001b[0m\u001b[0m\n\u001b[0;32m    161\u001b[0m     \u001b[0mtarget_infos\u001b[0m \u001b[1;33m=\u001b[0m \u001b[0m_history\u001b[0m\u001b[1;33m.\u001b[0m\u001b[0mget_target_info\u001b[0m\u001b[1;33m(\u001b[0m\u001b[0mnew_targets\u001b[0m\u001b[1;33m)\u001b[0m\u001b[1;33m\u001b[0m\u001b[1;33m\u001b[0m\u001b[0m\n\u001b[1;32m--> 162\u001b[1;33m     \u001b[0mdata_list\u001b[0m \u001b[1;33m=\u001b[0m \u001b[0m_history\u001b[0m\u001b[1;33m.\u001b[0m\u001b[0mget_k_data_independent_target\u001b[0m\u001b[1;33m(\u001b[0m\u001b[0mnew_targets\u001b[0m\u001b[1;33m,\u001b[0m \u001b[0mfrequency\u001b[0m\u001b[1;33m,\u001b[0m \u001b[0mfre_num\u001b[0m\u001b[1;33m,\u001b[0m \u001b[0mbegin_date\u001b[0m\u001b[1;33m,\u001b[0m \u001b[0mend_date\u001b[0m\u001b[1;33m,\u001b[0m \u001b[0mfill_up\u001b[0m\u001b[1;33m,\u001b[0m \u001b[0mfq\u001b[0m\u001b[1;33m)\u001b[0m\u001b[1;33m\u001b[0m\u001b[1;33m\u001b[0m\u001b[0m\n\u001b[0m\u001b[0;32m    163\u001b[0m     \u001b[1;32mfor\u001b[0m \u001b[0midx\u001b[0m\u001b[1;33m,\u001b[0m \u001b[0mdata\u001b[0m \u001b[1;32min\u001b[0m \u001b[0menumerate\u001b[0m\u001b[1;33m(\u001b[0m\u001b[0mdata_list\u001b[0m\u001b[1;33m)\u001b[0m\u001b[1;33m:\u001b[0m\u001b[1;33m\u001b[0m\u001b[1;33m\u001b[0m\u001b[0m\n\u001b[0;32m    164\u001b[0m         \u001b[0mresults\u001b[0m\u001b[1;33m[\u001b[0m\u001b[0midx\u001b[0m\u001b[1;33m]\u001b[0m \u001b[1;33m=\u001b[0m \u001b[0mhistory_cvt\u001b[0m\u001b[1;33m.\u001b[0m\u001b[0mconvert_k_data_to_df\u001b[0m\u001b[1;33m(\u001b[0m\u001b[0mdata\u001b[0m\u001b[1;33m,\u001b[0m \u001b[0mtarget_list\u001b[0m\u001b[1;33m[\u001b[0m\u001b[0midx\u001b[0m\u001b[1;33m]\u001b[0m\u001b[1;33m,\u001b[0m \u001b[0mtarget_infos\u001b[0m\u001b[1;33m[\u001b[0m\u001b[0midx\u001b[0m\u001b[1;33m]\u001b[0m\u001b[1;33m[\u001b[0m\u001b[1;34m'Type'\u001b[0m\u001b[1;33m]\u001b[0m\u001b[1;33m)\u001b[0m\u001b[1;33m\u001b[0m\u001b[1;33m\u001b[0m\u001b[0m\n",
      "\u001b[1;32mc:\\users\\king\\appdata\\local\\programs\\python\\python39\\lib\\site-packages\\atrader\\api\\history\\_history.cp39-win_amd64.pyd\u001b[0m in \u001b[0;36mapi.history._history.get_k_data_independent_target\u001b[1;34m()\u001b[0m\n",
      "\u001b[1;32mc:\\users\\king\\appdata\\local\\programs\\python\\python39\\lib\\site-packages\\atrader\\tframe\\comm\\atcmd.cp39-win_amd64.pyd\u001b[0m in \u001b[0;36mtframe.comm.atcmd.atSendCmdGetKData\u001b[1;34m()\u001b[0m\n",
      "\u001b[1;32mc:\\users\\king\\appdata\\local\\programs\\python\\python39\\lib\\site-packages\\atrader\\tframe\\comm\\atcmd.cp39-win_amd64.pyd\u001b[0m in \u001b[0;36mtframe.comm.atcmd.atReturnChecker\u001b[1;34m()\u001b[0m\n",
      "\u001b[1;31mAtReturnError\u001b[0m: AtReturnError:atSendCmdGetKData, Code: 33, Reason: 用户没有min的数据权限, 申请权限请联系点宽客服(wechat id：digquantcs)"
     ]
    }
   ],
   "source": [
    "data=at.get_kdata(target_list=['SZSE.000001','SZSE.000002'], frequency='min', fre_num=60, begin_date='2017-06-25', end_date='2017-06-26',fq=1,fill_up=False, df=True,sort_by_date=False)\n",
    "print(data)"
   ]
  },
  {
   "cell_type": "code",
   "execution_count": null,
   "id": "36d5a4fe",
   "metadata": {},
   "outputs": [],
   "source": []
  },
  {
   "cell_type": "code",
   "execution_count": null,
   "id": "cb9f5380",
   "metadata": {},
   "outputs": [],
   "source": []
  }
 ],
 "metadata": {
  "kernelspec": {
   "display_name": "Python 3 (ipykernel)",
   "language": "python",
   "name": "python3"
  },
  "language_info": {
   "codemirror_mode": {
    "name": "ipython",
    "version": 3
   },
   "file_extension": ".py",
   "mimetype": "text/x-python",
   "name": "python",
   "nbconvert_exporter": "python",
   "pygments_lexer": "ipython3",
   "version": "3.9.0"
  }
 },
 "nbformat": 4,
 "nbformat_minor": 5
}
