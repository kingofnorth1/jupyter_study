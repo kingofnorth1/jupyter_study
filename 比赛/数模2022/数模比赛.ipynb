{
 "cells": [
  {
   "cell_type": "code",
   "execution_count": 505,
   "id": "fb1b2a36",
   "metadata": {},
   "outputs": [],
   "source": [
    "import numpy as np\n",
    "import pandas as pd\n",
    "from pandas import DataFrame\n",
    "import seaborn as sns \n",
    "import matplotlib.pyplot as plt \n",
    "from sklearn.metrics import mean_absolute_error, mean_squared_error\n",
    "from sklearn.model_selection import GridSearchCV\n",
    "from sklearn.model_selection import LeaveOneOut\n",
    "from sklearn.neighbors import KernelDensity\n",
    "from scipy import integrate\n",
    "import warnings\n",
    "warnings.filterwarnings('ignore')"
   ]
  },
  {
   "cell_type": "code",
   "execution_count": 506,
   "id": "298001f1",
   "metadata": {
    "scrolled": true
   },
   "outputs": [
    {
     "data": {
      "text/html": [
       "<div>\n",
       "<style scoped>\n",
       "    .dataframe tbody tr th:only-of-type {\n",
       "        vertical-align: middle;\n",
       "    }\n",
       "\n",
       "    .dataframe tbody tr th {\n",
       "        vertical-align: top;\n",
       "    }\n",
       "\n",
       "    .dataframe thead th {\n",
       "        text-align: right;\n",
       "    }\n",
       "</style>\n",
       "<table border=\"1\" class=\"dataframe\">\n",
       "  <thead>\n",
       "    <tr style=\"text-align: right;\">\n",
       "      <th></th>\n",
       "      <th>Q2-二氧化硅(SiO2)</th>\n",
       "      <th>Q5-氧化钙(CaO)</th>\n",
       "      <th>Q10-氧化铅(PbO)</th>\n",
       "      <th>Q12-五氧化二磷(P2O5)</th>\n",
       "    </tr>\n",
       "  </thead>\n",
       "  <tbody>\n",
       "    <tr>\n",
       "      <th>0</th>\n",
       "      <td>37.36</td>\n",
       "      <td>0.00</td>\n",
       "      <td>9.30</td>\n",
       "      <td>5.75</td>\n",
       "    </tr>\n",
       "    <tr>\n",
       "      <th>1</th>\n",
       "      <td>31.94</td>\n",
       "      <td>0.47</td>\n",
       "      <td>29.14</td>\n",
       "      <td>0.14</td>\n",
       "    </tr>\n",
       "    <tr>\n",
       "      <th>2</th>\n",
       "      <td>34.34</td>\n",
       "      <td>4.49</td>\n",
       "      <td>39.22</td>\n",
       "      <td>0.00</td>\n",
       "    </tr>\n",
       "    <tr>\n",
       "      <th>3</th>\n",
       "      <td>36.93</td>\n",
       "      <td>4.24</td>\n",
       "      <td>37.74</td>\n",
       "      <td>1.41</td>\n",
       "    </tr>\n",
       "    <tr>\n",
       "      <th>4</th>\n",
       "      <td>65.91</td>\n",
       "      <td>1.60</td>\n",
       "      <td>16.55</td>\n",
       "      <td>1.62</td>\n",
       "    </tr>\n",
       "    <tr>\n",
       "      <th>5</th>\n",
       "      <td>69.71</td>\n",
       "      <td>0.46</td>\n",
       "      <td>19.76</td>\n",
       "      <td>0.17</td>\n",
       "    </tr>\n",
       "    <tr>\n",
       "      <th>6</th>\n",
       "      <td>75.51</td>\n",
       "      <td>0.64</td>\n",
       "      <td>16.16</td>\n",
       "      <td>0.13</td>\n",
       "    </tr>\n",
       "    <tr>\n",
       "      <th>7</th>\n",
       "      <td>65.91</td>\n",
       "      <td>0.38</td>\n",
       "      <td>22.05</td>\n",
       "      <td>0.42</td>\n",
       "    </tr>\n",
       "    <tr>\n",
       "      <th>8</th>\n",
       "      <td>60.12</td>\n",
       "      <td>0.89</td>\n",
       "      <td>17.24</td>\n",
       "      <td>1.46</td>\n",
       "    </tr>\n",
       "    <tr>\n",
       "      <th>9</th>\n",
       "      <td>61.28</td>\n",
       "      <td>0.84</td>\n",
       "      <td>15.99</td>\n",
       "      <td>0.00</td>\n",
       "    </tr>\n",
       "    <tr>\n",
       "      <th>10</th>\n",
       "      <td>55.21</td>\n",
       "      <td>0.00</td>\n",
       "      <td>25.25</td>\n",
       "      <td>0.20</td>\n",
       "    </tr>\n",
       "    <tr>\n",
       "      <th>11</th>\n",
       "      <td>51.54</td>\n",
       "      <td>0.87</td>\n",
       "      <td>25.40</td>\n",
       "      <td>0.10</td>\n",
       "    </tr>\n",
       "    <tr>\n",
       "      <th>12</th>\n",
       "      <td>49.01</td>\n",
       "      <td>1.13</td>\n",
       "      <td>32.92</td>\n",
       "      <td>0.35</td>\n",
       "    </tr>\n",
       "    <tr>\n",
       "      <th>13</th>\n",
       "      <td>53.79</td>\n",
       "      <td>0.50</td>\n",
       "      <td>16.98</td>\n",
       "      <td>0.00</td>\n",
       "    </tr>\n",
       "    <tr>\n",
       "      <th>14</th>\n",
       "      <td>50.61</td>\n",
       "      <td>0.63</td>\n",
       "      <td>31.90</td>\n",
       "      <td>0.19</td>\n",
       "    </tr>\n",
       "    <tr>\n",
       "      <th>15</th>\n",
       "      <td>68.08</td>\n",
       "      <td>1.34</td>\n",
       "      <td>17.14</td>\n",
       "      <td>1.04</td>\n",
       "    </tr>\n",
       "    <tr>\n",
       "      <th>16</th>\n",
       "      <td>63.30</td>\n",
       "      <td>2.98</td>\n",
       "      <td>12.31</td>\n",
       "      <td>0.41</td>\n",
       "    </tr>\n",
       "    <tr>\n",
       "      <th>17</th>\n",
       "      <td>51.26</td>\n",
       "      <td>0.79</td>\n",
       "      <td>21.88</td>\n",
       "      <td>0.08</td>\n",
       "    </tr>\n",
       "    <tr>\n",
       "      <th>18</th>\n",
       "      <td>51.33</td>\n",
       "      <td>0.00</td>\n",
       "      <td>20.12</td>\n",
       "      <td>0.00</td>\n",
       "    </tr>\n",
       "    <tr>\n",
       "      <th>19</th>\n",
       "      <td>60.74</td>\n",
       "      <td>2.14</td>\n",
       "      <td>13.61</td>\n",
       "      <td>0.00</td>\n",
       "    </tr>\n",
       "    <tr>\n",
       "      <th>20</th>\n",
       "      <td>54.61</td>\n",
       "      <td>2.08</td>\n",
       "      <td>23.02</td>\n",
       "      <td>4.32</td>\n",
       "    </tr>\n",
       "    <tr>\n",
       "      <th>21</th>\n",
       "      <td>45.02</td>\n",
       "      <td>3.12</td>\n",
       "      <td>30.61</td>\n",
       "      <td>6.34</td>\n",
       "    </tr>\n",
       "    <tr>\n",
       "      <th>22</th>\n",
       "      <td>63.66</td>\n",
       "      <td>0.78</td>\n",
       "      <td>13.66</td>\n",
       "      <td>0.00</td>\n",
       "    </tr>\n",
       "  </tbody>\n",
       "</table>\n",
       "</div>"
      ],
      "text/plain": [
       "    Q2-二氧化硅(SiO2)  Q5-氧化钙(CaO)  Q10-氧化铅(PbO)  Q12-五氧化二磷(P2O5)\n",
       "0           37.36         0.00          9.30             5.75\n",
       "1           31.94         0.47         29.14             0.14\n",
       "2           34.34         4.49         39.22             0.00\n",
       "3           36.93         4.24         37.74             1.41\n",
       "4           65.91         1.60         16.55             1.62\n",
       "5           69.71         0.46         19.76             0.17\n",
       "6           75.51         0.64         16.16             0.13\n",
       "7           65.91         0.38         22.05             0.42\n",
       "8           60.12         0.89         17.24             1.46\n",
       "9           61.28         0.84         15.99             0.00\n",
       "10          55.21         0.00         25.25             0.20\n",
       "11          51.54         0.87         25.40             0.10\n",
       "12          49.01         1.13         32.92             0.35\n",
       "13          53.79         0.50         16.98             0.00\n",
       "14          50.61         0.63         31.90             0.19\n",
       "15          68.08         1.34         17.14             1.04\n",
       "16          63.30         2.98         12.31             0.41\n",
       "17          51.26         0.79         21.88             0.08\n",
       "18          51.33         0.00         20.12             0.00\n",
       "19          60.74         2.14         13.61             0.00\n",
       "20          54.61         2.08         23.02             4.32\n",
       "21          45.02         3.12         30.61             6.34\n",
       "22          63.66         0.78         13.66             0.00"
      ]
     },
     "execution_count": 506,
     "metadata": {},
     "output_type": "execute_result"
    }
   ],
   "source": [
    "df_wind = pd.read_excel(\"版本1_缺失值处理_铅钡风化修改版.xlsx\")\n",
    "df_nowind = pd.read_excel(\"版本1_缺失值处理_铅钡未风化修改版.xlsx\")\n",
    "df_nowind"
   ]
  },
  {
   "cell_type": "code",
   "execution_count": 507,
   "id": "5c63cf39",
   "metadata": {
    "scrolled": true
   },
   "outputs": [
    {
     "data": {
      "image/png": "[encoded data removed]",
      "text/plain": [
       "<Figure size 432x288 with 2 Axes>"
      ]
     },
     "metadata": {
      "needs_background": "light"
     },
     "output_type": "display_data"
    },
    {
     "data": {
      "image/png": "[encoded data removed]",
      "text/plain": [
       "<Figure size 432x288 with 2 Axes>"
      ]
     },
     "metadata": {
      "needs_background": "light"
     },
     "output_type": "display_data"
    },
    {
     "data": {
      "image/png": "[encoded data removed]",
      "text/plain": [
       "<Figure size 432x288 with 2 Axes>"
      ]
     },
     "metadata": {
      "needs_background": "light"
     },
     "output_type": "display_data"
    },
    {
     "data": {
      "image/png": "[encoded data removed]",
      "text/plain": [
       "<Figure size 432x288 with 2 Axes>"
      ]
     },
     "metadata": {
      "needs_background": "light"
     },
     "output_type": "display_data"
    }
   ],
   "source": [
    "for i in range(0,4):\n",
    "    x_train = np.array(df.iloc[:,i])\n",
    "    fig, ax = plt.subplots(nrows=1, ncols=2)\n",
    "    plt.subplot(121)\n",
    "    plt.scatter(np.arange(len(x_train)), x_train, c='green')\n",
    "    plt.xlabel('Sample no.')\n",
    "    plt.ylabel('Value')\n",
    "    plt.title('Scatter plot')\n",
    "    plt.subplot(122)\n",
    "    plt.hist(x_train)\n",
    "    plt.title('Histogram')\n",
    "    fig.subplots_adjust(wspace=.3)\n",
    "    plt.show()"
   ]
  },
  {
   "cell_type": "code",
   "execution_count": 508,
   "id": "14a67339",
   "metadata": {},
   "outputs": [
    {
     "data": {
      "text/plain": [
       "75.51"
      ]
     },
     "execution_count": 508,
     "metadata": {},
     "output_type": "execute_result"
    }
   ],
   "source": [
    "max_al = max(df_nowind.iloc[:,0])\n",
    "max_al"
   ]
  },
  {
   "cell_type": "code",
   "execution_count": 518,
   "id": "011cb840",
   "metadata": {},
   "outputs": [
    {
     "data": {
      "image/png": "[encoded data removed]",
      "text/plain": [
       "<Figure size 432x288 with 1 Axes>"
      ]
     },
     "metadata": {
      "needs_background": "light"
     },
     "output_type": "display_data"
    },
    {
     "name": "stdout",
     "output_type": "stream",
     "text": [
      "optimal bandwidth: 8.72\n"
     ]
    },
    {
     "data": {
      "image/png": "[encoded data removed]",
      "text/plain": [
       "<Figure size 432x288 with 1 Axes>"
      ]
     },
     "metadata": {
      "needs_background": "light"
     },
     "output_type": "display_data"
    },
    {
     "name": "stdout",
     "output_type": "stream",
     "text": [
      "optimal bandwidth: 1.24\n"
     ]
    },
    {
     "data": {
      "image/png": "[encoded data removed]",
      "text/plain": [
       "<Figure size 432x288 with 1 Axes>"
      ]
     },
     "metadata": {
      "needs_background": "light"
     },
     "output_type": "display_data"
    },
    {
     "name": "stdout",
     "output_type": "stream",
     "text": [
      "optimal bandwidth: 9.49\n"
     ]
    },
    {
     "data": {
      "image/png": "[encoded data removed]",
      "text/plain": [
       "<Figure size 432x288 with 1 Axes>"
      ]
     },
     "metadata": {
      "needs_background": "light"
     },
     "output_type": "display_data"
    },
    {
     "name": "stdout",
     "output_type": "stream",
     "text": [
      "optimal bandwidth: 1.98\n"
     ]
    },
    {
     "ename": "IndexError",
     "evalue": "single positional indexer is out-of-bounds",
     "output_type": "error",
     "traceback": [
      "\u001b[1;31m---------------------------------------------------------------------------\u001b[0m",
      "\u001b[1;31mIndexError\u001b[0m                                Traceback (most recent call last)",
      "\u001b[1;32m~\\AppData\\Local\\Temp/ipykernel_18396/2518434899.py\u001b[0m in \u001b[0;36m<cell line: 1>\u001b[1;34m()\u001b[0m\n\u001b[0;32m      1\u001b[0m \u001b[1;32mfor\u001b[0m \u001b[0mi\u001b[0m \u001b[1;32min\u001b[0m \u001b[0mrange\u001b[0m\u001b[1;33m(\u001b[0m\u001b[1;36m0\u001b[0m\u001b[1;33m,\u001b[0m\u001b[1;36m6\u001b[0m\u001b[1;33m)\u001b[0m\u001b[1;33m:\u001b[0m\u001b[1;33m\u001b[0m\u001b[1;33m\u001b[0m\u001b[0m\n\u001b[1;32m----> 2\u001b[1;33m     \u001b[0mx_train\u001b[0m \u001b[1;33m=\u001b[0m \u001b[0mnp\u001b[0m\u001b[1;33m.\u001b[0m\u001b[0marray\u001b[0m\u001b[1;33m(\u001b[0m\u001b[0mdf_wind\u001b[0m\u001b[1;33m.\u001b[0m\u001b[0miloc\u001b[0m\u001b[1;33m[\u001b[0m\u001b[1;33m:\u001b[0m\u001b[1;33m,\u001b[0m\u001b[0mi\u001b[0m\u001b[1;33m]\u001b[0m\u001b[1;33m)\u001b[0m\u001b[1;33m\u001b[0m\u001b[1;33m\u001b[0m\u001b[0m\n\u001b[0m\u001b[0;32m      3\u001b[0m     \u001b[0mx_train\u001b[0m \u001b[1;33m=\u001b[0m \u001b[0mx_train\u001b[0m\u001b[1;33m[\u001b[0m\u001b[1;33m:\u001b[0m\u001b[1;33m,\u001b[0m\u001b[1;32mNone\u001b[0m\u001b[1;33m]\u001b[0m\u001b[1;33m\u001b[0m\u001b[1;33m\u001b[0m\u001b[0m\n\u001b[0;32m      4\u001b[0m     \u001b[0mmax_al\u001b[0m \u001b[1;33m=\u001b[0m \u001b[0mmax\u001b[0m\u001b[1;33m(\u001b[0m\u001b[0mdf_wind\u001b[0m\u001b[1;33m.\u001b[0m\u001b[0miloc\u001b[0m\u001b[1;33m[\u001b[0m\u001b[1;33m:\u001b[0m\u001b[1;33m,\u001b[0m\u001b[0mi\u001b[0m\u001b[1;33m]\u001b[0m\u001b[1;33m)\u001b[0m\u001b[1;33m\u001b[0m\u001b[1;33m\u001b[0m\u001b[0m\n\u001b[0;32m      5\u001b[0m     \u001b[0mmin_al\u001b[0m \u001b[1;33m=\u001b[0m \u001b[0mmin\u001b[0m\u001b[1;33m(\u001b[0m\u001b[0mdf_wind\u001b[0m\u001b[1;33m.\u001b[0m\u001b[0miloc\u001b[0m\u001b[1;33m[\u001b[0m\u001b[1;33m:\u001b[0m\u001b[1;33m,\u001b[0m\u001b[0mi\u001b[0m\u001b[1;33m]\u001b[0m\u001b[1;33m)\u001b[0m\u001b[1;33m\u001b[0m\u001b[1;33m\u001b[0m\u001b[0m\n",
      "\u001b[1;32mc:\\users\\king\\appdata\\local\\programs\\python\\python39\\lib\\site-packages\\pandas\\core\\indexing.py\u001b[0m in \u001b[0;36m__getitem__\u001b[1;34m(self, key)\u001b[0m\n\u001b[0;32m    923\u001b[0m                 \u001b[1;32mwith\u001b[0m \u001b[0msuppress\u001b[0m\u001b[1;33m(\u001b[0m\u001b[0mKeyError\u001b[0m\u001b[1;33m,\u001b[0m \u001b[0mIndexError\u001b[0m\u001b[1;33m)\u001b[0m\u001b[1;33m:\u001b[0m\u001b[1;33m\u001b[0m\u001b[1;33m\u001b[0m\u001b[0m\n\u001b[0;32m    924\u001b[0m                     \u001b[1;32mreturn\u001b[0m \u001b[0mself\u001b[0m\u001b[1;33m.\u001b[0m\u001b[0mobj\u001b[0m\u001b[1;33m.\u001b[0m\u001b[0m_get_value\u001b[0m\u001b[1;33m(\u001b[0m\u001b[1;33m*\u001b[0m\u001b[0mkey\u001b[0m\u001b[1;33m,\u001b[0m \u001b[0mtakeable\u001b[0m\u001b[1;33m=\u001b[0m\u001b[0mself\u001b[0m\u001b[1;33m.\u001b[0m\u001b[0m_takeable\u001b[0m\u001b[1;33m)\u001b[0m\u001b[1;33m\u001b[0m\u001b[1;33m\u001b[0m\u001b[0m\n\u001b[1;32m--> 925\u001b[1;33m             \u001b[1;32mreturn\u001b[0m \u001b[0mself\u001b[0m\u001b[1;33m.\u001b[0m\u001b[0m_getitem_tuple\u001b[0m\u001b[1;33m(\u001b[0m\u001b[0mkey\u001b[0m\u001b[1;33m)\u001b[0m\u001b[1;33m\u001b[0m\u001b[1;33m\u001b[0m\u001b[0m\n\u001b[0m\u001b[0;32m    926\u001b[0m         \u001b[1;32melse\u001b[0m\u001b[1;33m:\u001b[0m\u001b[1;33m\u001b[0m\u001b[1;33m\u001b[0m\u001b[0m\n\u001b[0;32m    927\u001b[0m             \u001b[1;31m# we by definition only have the 0th axis\u001b[0m\u001b[1;33m\u001b[0m\u001b[1;33m\u001b[0m\u001b[1;33m\u001b[0m\u001b[0m\n",
      "\u001b[1;32mc:\\users\\king\\appdata\\local\\programs\\python\\python39\\lib\\site-packages\\pandas\\core\\indexing.py\u001b[0m in \u001b[0;36m_getitem_tuple\u001b[1;34m(self, tup)\u001b[0m\n\u001b[0;32m   1504\u001b[0m     \u001b[1;32mdef\u001b[0m \u001b[0m_getitem_tuple\u001b[0m\u001b[1;33m(\u001b[0m\u001b[0mself\u001b[0m\u001b[1;33m,\u001b[0m \u001b[0mtup\u001b[0m\u001b[1;33m:\u001b[0m \u001b[0mtuple\u001b[0m\u001b[1;33m)\u001b[0m\u001b[1;33m:\u001b[0m\u001b[1;33m\u001b[0m\u001b[1;33m\u001b[0m\u001b[0m\n\u001b[0;32m   1505\u001b[0m \u001b[1;33m\u001b[0m\u001b[0m\n\u001b[1;32m-> 1506\u001b[1;33m         \u001b[0mself\u001b[0m\u001b[1;33m.\u001b[0m\u001b[0m_has_valid_tuple\u001b[0m\u001b[1;33m(\u001b[0m\u001b[0mtup\u001b[0m\u001b[1;33m)\u001b[0m\u001b[1;33m\u001b[0m\u001b[1;33m\u001b[0m\u001b[0m\n\u001b[0m\u001b[0;32m   1507\u001b[0m         \u001b[1;32mwith\u001b[0m \u001b[0msuppress\u001b[0m\u001b[1;33m(\u001b[0m\u001b[0mIndexingError\u001b[0m\u001b[1;33m)\u001b[0m\u001b[1;33m:\u001b[0m\u001b[1;33m\u001b[0m\u001b[1;33m\u001b[0m\u001b[0m\n\u001b[0;32m   1508\u001b[0m             \u001b[1;32mreturn\u001b[0m \u001b[0mself\u001b[0m\u001b[1;33m.\u001b[0m\u001b[0m_getitem_lowerdim\u001b[0m\u001b[1;33m(\u001b[0m\u001b[0mtup\u001b[0m\u001b[1;33m)\u001b[0m\u001b[1;33m\u001b[0m\u001b[1;33m\u001b[0m\u001b[0m\n",
      "\u001b[1;32mc:\\users\\king\\appdata\\local\\programs\\python\\python39\\lib\\site-packages\\pandas\\core\\indexing.py\u001b[0m in \u001b[0;36m_has_valid_tuple\u001b[1;34m(self, key)\u001b[0m\n\u001b[0;32m    752\u001b[0m         \u001b[1;32mfor\u001b[0m \u001b[0mi\u001b[0m\u001b[1;33m,\u001b[0m \u001b[0mk\u001b[0m \u001b[1;32min\u001b[0m \u001b[0menumerate\u001b[0m\u001b[1;33m(\u001b[0m\u001b[0mkey\u001b[0m\u001b[1;33m)\u001b[0m\u001b[1;33m:\u001b[0m\u001b[1;33m\u001b[0m\u001b[1;33m\u001b[0m\u001b[0m\n\u001b[0;32m    753\u001b[0m             \u001b[1;32mtry\u001b[0m\u001b[1;33m:\u001b[0m\u001b[1;33m\u001b[0m\u001b[1;33m\u001b[0m\u001b[0m\n\u001b[1;32m--> 754\u001b[1;33m                 \u001b[0mself\u001b[0m\u001b[1;33m.\u001b[0m\u001b[0m_validate_key\u001b[0m\u001b[1;33m(\u001b[0m\u001b[0mk\u001b[0m\u001b[1;33m,\u001b[0m \u001b[0mi\u001b[0m\u001b[1;33m)\u001b[0m\u001b[1;33m\u001b[0m\u001b[1;33m\u001b[0m\u001b[0m\n\u001b[0m\u001b[0;32m    755\u001b[0m             \u001b[1;32mexcept\u001b[0m \u001b[0mValueError\u001b[0m \u001b[1;32mas\u001b[0m \u001b[0merr\u001b[0m\u001b[1;33m:\u001b[0m\u001b[1;33m\u001b[0m\u001b[1;33m\u001b[0m\u001b[0m\n\u001b[0;32m    756\u001b[0m                 raise ValueError(\n",
      "\u001b[1;32mc:\\users\\king\\appdata\\local\\programs\\python\\python39\\lib\\site-packages\\pandas\\core\\indexing.py\u001b[0m in \u001b[0;36m_validate_key\u001b[1;34m(self, key, axis)\u001b[0m\n\u001b[0;32m   1407\u001b[0m             \u001b[1;32mreturn\u001b[0m\u001b[1;33m\u001b[0m\u001b[1;33m\u001b[0m\u001b[0m\n\u001b[0;32m   1408\u001b[0m         \u001b[1;32melif\u001b[0m \u001b[0mis_integer\u001b[0m\u001b[1;33m(\u001b[0m\u001b[0mkey\u001b[0m\u001b[1;33m)\u001b[0m\u001b[1;33m:\u001b[0m\u001b[1;33m\u001b[0m\u001b[1;33m\u001b[0m\u001b[0m\n\u001b[1;32m-> 1409\u001b[1;33m             \u001b[0mself\u001b[0m\u001b[1;33m.\u001b[0m\u001b[0m_validate_integer\u001b[0m\u001b[1;33m(\u001b[0m\u001b[0mkey\u001b[0m\u001b[1;33m,\u001b[0m \u001b[0maxis\u001b[0m\u001b[1;33m)\u001b[0m\u001b[1;33m\u001b[0m\u001b[1;33m\u001b[0m\u001b[0m\n\u001b[0m\u001b[0;32m   1410\u001b[0m         \u001b[1;32melif\u001b[0m \u001b[0misinstance\u001b[0m\u001b[1;33m(\u001b[0m\u001b[0mkey\u001b[0m\u001b[1;33m,\u001b[0m \u001b[0mtuple\u001b[0m\u001b[1;33m)\u001b[0m\u001b[1;33m:\u001b[0m\u001b[1;33m\u001b[0m\u001b[1;33m\u001b[0m\u001b[0m\n\u001b[0;32m   1411\u001b[0m             \u001b[1;31m# a tuple should already have been caught by this point\u001b[0m\u001b[1;33m\u001b[0m\u001b[1;33m\u001b[0m\u001b[1;33m\u001b[0m\u001b[0m\n",
      "\u001b[1;32mc:\\users\\king\\appdata\\local\\programs\\python\\python39\\lib\\site-packages\\pandas\\core\\indexing.py\u001b[0m in \u001b[0;36m_validate_integer\u001b[1;34m(self, key, axis)\u001b[0m\n\u001b[0;32m   1498\u001b[0m         \u001b[0mlen_axis\u001b[0m \u001b[1;33m=\u001b[0m \u001b[0mlen\u001b[0m\u001b[1;33m(\u001b[0m\u001b[0mself\u001b[0m\u001b[1;33m.\u001b[0m\u001b[0mobj\u001b[0m\u001b[1;33m.\u001b[0m\u001b[0m_get_axis\u001b[0m\u001b[1;33m(\u001b[0m\u001b[0maxis\u001b[0m\u001b[1;33m)\u001b[0m\u001b[1;33m)\u001b[0m\u001b[1;33m\u001b[0m\u001b[1;33m\u001b[0m\u001b[0m\n\u001b[0;32m   1499\u001b[0m         \u001b[1;32mif\u001b[0m \u001b[0mkey\u001b[0m \u001b[1;33m>=\u001b[0m \u001b[0mlen_axis\u001b[0m \u001b[1;32mor\u001b[0m \u001b[0mkey\u001b[0m \u001b[1;33m<\u001b[0m \u001b[1;33m-\u001b[0m\u001b[0mlen_axis\u001b[0m\u001b[1;33m:\u001b[0m\u001b[1;33m\u001b[0m\u001b[1;33m\u001b[0m\u001b[0m\n\u001b[1;32m-> 1500\u001b[1;33m             \u001b[1;32mraise\u001b[0m \u001b[0mIndexError\u001b[0m\u001b[1;33m(\u001b[0m\u001b[1;34m\"single positional indexer is out-of-bounds\"\u001b[0m\u001b[1;33m)\u001b[0m\u001b[1;33m\u001b[0m\u001b[1;33m\u001b[0m\u001b[0m\n\u001b[0m\u001b[0;32m   1501\u001b[0m \u001b[1;33m\u001b[0m\u001b[0m\n\u001b[0;32m   1502\u001b[0m     \u001b[1;31m# -------------------------------------------------------------------\u001b[0m\u001b[1;33m\u001b[0m\u001b[1;33m\u001b[0m\u001b[1;33m\u001b[0m\u001b[0m\n",
      "\u001b[1;31mIndexError\u001b[0m: single positional indexer is out-of-bounds"
     ]
    }
   ],
   "source": [
    "for i in range(0,6):\n",
    "    x_train = np.array(df_wind.iloc[:,i])\n",
    "    x_train = x_train[:,None]\n",
    "    max_al = max(df_wind.iloc[:,i])\n",
    "    min_al = min(df_wind.iloc[:,i])\n",
    "    \n",
    "    x_test = np.linspace(min_al, max_al, 1000)\n",
    "    bandwidth = np.arange(1, 10, 0.01)\n",
    "    kde = KernelDensity(kernel='gaussian')\n",
    "    grid = GridSearchCV(kde, {'bandwidth': bandwidth})\n",
    "    grid.fit(x_train)\n",
    "\n",
    "    kde = grid.best_estimator_\n",
    "    log_dens = kde.score_samples(x_test[:,None])\n",
    "    plt.fill_between(x_test,np.exp(log_dens),alpha=0.5)\n",
    "    plt.title(df_wind.columns[i])\n",
    "#     name = \"./图/\"+\"铅钡未风化\"+df_wind.columns[i]+\".jpg\"\n",
    "#     plt.savefig(name)\n",
    "    plt.show()\n",
    "    print(\"optimal bandwidth: \" + \"{:.2f}\".format(kde.bandwidth))"
   ]
  },
  {
   "cell_type": "code",
   "execution_count": 509,
   "id": "b99fdf85",
   "metadata": {},
   "outputs": [],
   "source": [
    "from functools import partial\n",
    "bandwidth = np.arange(1, 10, 0.1)\n",
    "grid_ba = GridSearchCV(KernelDensity(kernel='gaussian'),{'bandwidth': bandwidth},cv=LeaveOneOut())\n",
    "\n",
    "def sf(grid, x):\n",
    "    return np.exp(grid.score_samples([[x]])[0])\n",
    "def kde_func(df):\n",
    "    df_kde = pd.DataFrame()\n",
    "    for column in df.columns[0:df.shape[1]]:\n",
    "        cdf = []\n",
    "        grid_ba.fit(df[column].to_numpy()[:,None])\n",
    "        for x in df[column]:\n",
    "            p = integrate.quad(partial(sf, grid_ba),-np.inf,x)[0] if x!=0 else 0\n",
    "            cdf.append(p)\n",
    "        df_kde[column] = cdf\n",
    "    return df_kde\n",
    "cdf_nowind = kde_func(df_nowind)\n",
    "cdf_wind = kde_func(df_wind)"
   ]
  },
  {
   "cell_type": "code",
   "execution_count": 512,
   "id": "991ed353",
   "metadata": {},
   "outputs": [
    {
     "name": "stdout",
     "output_type": "stream",
     "text": [
      "0.8165949237758698 66.3807540491689\n",
      "0.35683156355394097 50.91738389455713\n",
      "0.06188574670953355 33.17996261175722\n",
      "0.7572947612950879 64.23078809748404\n",
      "0.6514284585251542 60.64136030036025\n",
      "0.3465236640963902 50.5632585438434\n",
      "0.054417594655375615 32.55862427176908\n",
      "0.8064317144875378 65.99576892331243\n",
      "0.8736148124393153 68.7765188049525\n",
      "0.741059055722495 63.67041815537959\n",
      "0.5478656782653369 57.15550764580257\n",
      "0.26193998583201644 47.23990297643468\n",
      "0.3085519086977864 49.18767899507657\n",
      "0.16658785170553894 41.14326514536515\n",
      "0.4040847924675685 52.480999066028744\n",
      "0.9764654844959915 76.71120010782033\n",
      "0.6262799493976796 59.79341098573059\n",
      "0.29536310868907556 48.67347863037139\n",
      "0.4958006556850685 55.43899380136281\n",
      "0.39331833408265565 52.13086000876501\n",
      "0.5317326057278027 56.619365501683205\n",
      "0.4220969443035076 53.06246941909194\n",
      "0.27222734171167 47.705081972526386\n",
      "0.6370138220792799 60.155511199263856\n",
      "0.5215752659566683 56.28371946513653\n",
      "0.6730139758573785 61.36805693968199\n"
     ]
    }
   ],
   "source": [
    "def findx(percent, grid, delta= 1e-10):\n",
    "    def sf(x):\n",
    "        return np.exp(grid.score_samples([[x]])[0])\n",
    "    \n",
    "    if (percent < 0 or percent >= 1):\n",
    "        raise ValueError(\"percent should be (0,1)\")\n",
    "        \n",
    "    low = -100\n",
    "    step = 10\n",
    "    max_round = 1000\n",
    "    r = 0\n",
    "    left_high = -100\n",
    "    right_high = 100\n",
    "    high = right_high\n",
    "    val = integrate.quad(sf, low, high)[0]\n",
    "    \n",
    "    while (abs(percent -val) > delta):\n",
    "        if (val > percent):\n",
    "            right_high = high\n",
    "        else:\n",
    "            left_high = high\n",
    "        high = float(left_high + right_high) /2\n",
    "        val = integrate.quad(sf, low, high)[0]\n",
    "        \n",
    "        r += 1\n",
    "        if (r >= max_round):\n",
    "            break\n",
    "    return high\n",
    "\n",
    "global grid_ba\n",
    "def grid_ba_fit(num):\n",
    "    global grid_ba\n",
    "    grid_ba = GridSearchCV(KernelDensity(kernel='gaussian'),{'bandwidth': bandwidth},cv=LeaveOneOut())\n",
    "    grid_ba.fit(df_nowind.iloc[:,num].to_numpy()[:,None])\n",
    "\n",
    "num = 0\n",
    "count = 0\n",
    "df_arr = pd.DataFrame(columns=['%',df_wind.columns[num]])\n",
    "for i in cdf_wind.iloc[:,num]:\n",
    "    grid_ba_fit(num)\n",
    "    global grid_ba\n",
    "    count += 1;\n",
    "    df_arr.loc[count] = [i,findx(i,grid_ba)]\n",
    "    print(i,findx(i,grid_ba))"
   ]
  },
  {
   "cell_type": "code",
   "execution_count": 513,
   "id": "19e0a69c",
   "metadata": {},
   "outputs": [
    {
     "data": {
      "text/plain": [
       "0     0.816595\n",
       "1     0.356832\n",
       "2     0.061886\n",
       "3     0.757295\n",
       "4     0.651428\n",
       "5     0.346524\n",
       "6     0.054418\n",
       "7     0.806432\n",
       "8     0.873615\n",
       "9     0.741059\n",
       "10    0.547866\n",
       "11    0.261940\n",
       "12    0.308552\n",
       "13    0.166588\n",
       "14    0.404085\n",
       "15    0.976465\n",
       "16    0.626280\n",
       "17    0.295363\n",
       "18    0.495801\n",
       "19    0.393318\n",
       "20    0.531733\n",
       "21    0.422097\n",
       "22    0.272227\n",
       "23    0.637014\n",
       "24    0.521575\n",
       "25    0.673014\n",
       "Name: Q2-二氧化硅(SiO2), dtype: float64"
      ]
     },
     "execution_count": 513,
     "metadata": {},
     "output_type": "execute_result"
    }
   ],
   "source": [
    "cdf_wind.iloc[:,0]"
   ]
  },
  {
   "cell_type": "code",
   "execution_count": 514,
   "id": "e3e45be6",
   "metadata": {
    "scrolled": false
   },
   "outputs": [
    {
     "data": {
      "text/plain": [
       "0     0.117968\n",
       "1     0.047424\n",
       "2     0.076781\n",
       "3     0.112118\n",
       "4     0.804136\n",
       "5     0.892486\n",
       "6     0.968030\n",
       "7     0.804136\n",
       "8     0.635961\n",
       "9     0.670397\n",
       "10    0.488762\n",
       "11    0.375360\n",
       "12    0.303927\n",
       "13    0.444741\n",
       "14    0.347873\n",
       "15    0.858256\n",
       "16    0.730220\n",
       "17    0.366970\n",
       "18    0.369059\n",
       "19    0.654357\n",
       "20    0.470227\n",
       "21    0.220055\n",
       "22    0.740755\n",
       "Name: Q2-二氧化硅(SiO2), dtype: float64"
      ]
     },
     "execution_count": 514,
     "metadata": {},
     "output_type": "execute_result"
    }
   ],
   "source": [
    "cdf_nowind.iloc[:,0]"
   ]
  },
  {
   "cell_type": "code",
   "execution_count": 404,
   "id": "41a97bce",
   "metadata": {},
   "outputs": [],
   "source": [
    "# arr = pd.Series(arr)\n",
    "# arr.column=df_wind.columns[0]\n",
    "df_arr.to_excel(\"预测高钾_风化前的数据.xlsx\") "
   ]
  },
  {
   "cell_type": "code",
   "execution_count": null,
   "id": "3ca3d438",
   "metadata": {},
   "outputs": [],
   "source": []
  }
 ],
 "metadata": {
  "kernelspec": {
   "display_name": "Python 3 (ipykernel)",
   "language": "python",
   "name": "python3"
  },
  "language_info": {
   "codemirror_mode": {
    "name": "ipython",
    "version": 3
   },
   "file_extension": ".py",
   "mimetype": "text/x-python",
   "name": "python",
   "nbconvert_exporter": "python",
   "pygments_lexer": "ipython3",
   "version": "3.9.0"
  }
 },
 "nbformat": 4,
 "nbformat_minor": 5
}
