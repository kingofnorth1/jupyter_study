{
 "cells": [
  {
   "cell_type": "code",
   "execution_count": null,
   "id": "f46f9648-c98e-416f-b4c6-5fa061e35257",
   "metadata": {
    "tags": []
   },
   "outputs": [],
   "source": [
    "use ferris_says::say;\n",
    "use std::io::{stdout, BufWriter};\n",
    "\n",
    "fn main() {\n",
    "    let stdout = stdout();\n",
    "    let message =  String::from(\"Hello fellow Rustaceans!\");\n",
    "    let width = message.chars().count();\n",
    "\n",
    "    let mut writer = BufWriter::new(stdout.lock());\n",
    "    say(&message, width, &mut writer).unwrap(); \n",
    "}"
   ]
  },
  {
   "cell_type": "code",
   "execution_count": null,
   "id": "b953df06-4de5-467e-bc6c-993c9bf284ca",
   "metadata": {
    "tags": []
   },
   "outputs": [],
   "source": [
    "let a = 1334;\n",
    "println!{\"{a}\"};"
   ]
  },
  {
   "cell_type": "code",
   "execution_count": null,
   "id": "dbe0c5a8-4abb-411e-9f68-5665c493fec0",
   "metadata": {
    "tags": []
   },
   "outputs": [],
   "source": [
    "let a = 1334;\n",
    "println!{\"{a}\"};"
   ]
  },
  {
   "cell_type": "code",
   "execution_count": null,
   "id": "f5ec663b-7e83-4cc6-a6de-d4ddb6f4e2e8",
   "metadata": {},
   "outputs": [],
   "source": []
  }
 ],
 "metadata": {
  "kernelspec": {
   "display_name": "Rust",
   "language": "rust",
   "name": "rust"
  },
  "language_info": {
   "codemirror_mode": "rust",
   "file_extension": ".rs",
   "mimetype": "text/rust",
   "name": "Rust",
   "pygment_lexer": "rust",
   "version": ""
  }
 },
 "nbformat": 4,
 "nbformat_minor": 5
}
