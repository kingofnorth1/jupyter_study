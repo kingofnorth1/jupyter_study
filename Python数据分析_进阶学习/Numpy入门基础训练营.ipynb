{
 "cells": [
  {
   "cell_type": "code",
   "execution_count": 15,
   "metadata": {},
   "outputs": [],
   "source": [
    "import numpy as np"
   ]
  },
  {
   "cell_type": "code",
   "execution_count": 16,
   "metadata": {},
   "outputs": [
    {
     "name": "stdout",
     "output_type": "stream",
     "text": [
      "[ 0  2  4  6  8 10 12 14 16 18]\n",
      "[[0.68535982 0.95339335 0.00394827]\n",
      " [0.51219226 0.81262096 0.61252607]\n",
      " [0.72175532 0.29187607 0.91777412]]\n",
      "[[ 0.35365794  1.78370094 -0.35030121]\n",
      " [-0.9896496  -0.63425417  1.89876222]\n",
      " [ 1.99652279 -1.11867153  2.18032831]]\n",
      "[[ 0.19046688  1.2616859   0.41765968]\n",
      " [ 0.89395769  0.04735517 -0.60842552]\n",
      " [-0.26854813 -0.66630197 -0.34401183]]\n",
      "[[1. 0. 0.]\n",
      " [0. 1. 0.]\n",
      " [0. 0. 1.]]\n",
      "[1. 1. 1.]\n",
      "None\n",
      "[[1 2 3 1 2 3]\n",
      " [4 5 6 4 5 6]]\n",
      "np.vstack垂直栈同axis=0\n",
      " [[ 1  2  3]\n",
      " [ 3  2  1]\n",
      " [99 99 99]\n",
      " [ 1  2  3]\n",
      " [ 4  5  6]]\n",
      "np.hstack水平栈同axis=1\n",
      " [[1 2 3 1 2 3]\n",
      " [4 5 6 4 5 6]]\n",
      "[[ 0  1  2  3]\n",
      " [ 4  5  6  7]\n",
      " [ 8  9 10 11]\n",
      " [12 13 14 15]]\n",
      "[[0 1 2 3]\n",
      " [4 5 6 7]]\n",
      "[[ 8  9 10 11]\n",
      " [12 13 14 15]]\n",
      "[[ 0]\n",
      " [ 4]\n",
      " [ 8]\n",
      " [12]]\n",
      "[[ 1  2  3]\n",
      " [ 5  6  7]\n",
      " [ 9 10 11]\n",
      " [13 14 15]]\n",
      "[5 6 7 8]\n",
      "[-5 -4 -3 -2]\n",
      "[ 0  5 10 15]\n",
      "[0.  0.2 0.4 0.6]\n",
      "[0 0 0 0]\n",
      "[0 1 0 1]\n",
      "[ 0  1  8 27]\n",
      "[ 0 -1 -2 -3]\n",
      "[0 1 2 3]\n",
      "[0.0000000e+00 1.0000000e+00 1.2246468e-16]\n",
      "[ 1.000000e+00  6.123234e-17 -1.000000e+00]\n",
      "[ 0.00000000e+00  1.63312394e+16 -1.22464680e-16]\n",
      "[ 0. nan nan]\n",
      "[1.57079633        nan        nan]\n",
      "[0.         1.00388482 1.26262726]\n",
      "[ 2.71828183  7.3890561  20.08553692]\n",
      "[2. 4. 8.]\n",
      "[ 3  9 27]\n",
      "[0.         0.69314718 1.09861229]\n",
      "[0.        1.        1.5849625]\n",
      "[0.         0.30103    0.47712125]\n",
      "[ 0. 10. 20. 30. 40.]\n",
      "[ 1.  2.  4.  8. 16.]\n",
      "[ 1.  0.  2.  0.  4.  0.  8.  0. 16.  0.]\n",
      "x中所有元素求和： 10\n",
      "x中所有元素求积： 0\n",
      "x中所有元素依次求和并展示： [ 0  1  3  6 10]\n",
      "x中所有元素依次求积并展示： [0 0 0 0 0]\n",
      "[[ 0  0  0  0  0]\n",
      " [ 0  1  2  3  4]\n",
      " [ 0  2  4  6  8]\n",
      " [ 0  3  6  9 12]\n",
      " [ 0  4  8 12 16]]\n"
     ]
    },
    {
     "name": "stderr",
     "output_type": "stream",
     "text": [
      "C:\\Windows\\Temp\\ipykernel_12548\\1693188234.py:47: RuntimeWarning: invalid value encountered in arcsin\n",
      "  print(np.arcsin(theta))\n",
      "C:\\Windows\\Temp\\ipykernel_12548\\1693188234.py:48: RuntimeWarning: invalid value encountered in arccos\n",
      "  print(np.arccos(theta))\n"
     ]
    }
   ],
   "source": [
    "list(range(10))\n",
    "print(np.arange(0,20,2))\n",
    "print(np.random.random((3,3)))\n",
    "print(np.random.normal(0, 1, (3,3)))\n",
    "print(np.random.randn(3,3))\n",
    "print(np.eye(3))\n",
    "print(np.empty(3))\n",
    "print(np.random.seed(10))\n",
    "x1 = np.random.randint(10, size=(3,4))\n",
    "x1[0,0] \n",
    "x1[2:,1:3]\n",
    "grid = np.arange(1,10)\n",
    "grid.reshape(3,3)\n",
    "x = np.array([1, 2, 3])\n",
    "y = np.array([3, 2, 1])\n",
    "z = np.array([99, 99, 99])\n",
    "grid1 = np.array([[1, 2, 3],\n",
    "            [4, 5, 6]])\n",
    "print(np.concatenate([grid1, grid1], axis=1))\n",
    "print('np.vstack垂直栈同axis=0\\n', np.vstack([x, y, z, grid1]))\n",
    "print('np.hstack水平栈同axis=1\\n', np.hstack([grid1, grid1]))\n",
    "x = [0, 1, 2, 3, 4, 5, 6, 7, 8]\n",
    "x1, x2, x3 = np.split(x, [3, 5])\n",
    "grid = np.arange(16).reshape(4, 4) \n",
    "print(grid)\n",
    "upper, lower = np.vsplit(grid, [2])\n",
    "print(upper)\n",
    "print(lower)\n",
    "left, right = np.hsplit(grid, [1])\n",
    "print(left)\n",
    "print(right)\n",
    "# print(x1, x2, x3)\n",
    "x = np.arange(4)\n",
    "print(np.add(x, 5))\n",
    "print(np.subtract(x, 5))\n",
    "print(np.multiply(x, 5))\n",
    "print(np.divide(x, 5))\n",
    "print(np.floor_divide(x, 5))\n",
    "print(np.mod(x, 2))\n",
    "print(np.power(x, 3))\n",
    "print(np.negative(x))\n",
    "print(np.abs(x))\n",
    "theta = np.linspace(0, np.pi, 3)\n",
    "print(np.sin(theta))\n",
    "print(np.cos(theta))\n",
    "print(np.tan(theta))\n",
    "print(np.arcsin(theta))\n",
    "print(np.arccos(theta))\n",
    "print(np.arctan(theta))\n",
    "xn = np.arange(1, 4)\n",
    "print(np.exp(xn))\n",
    "print(np.exp2(xn))\n",
    "print(np.power(3, xn))\n",
    "print(np.log(xn))\n",
    "print(np.log2(xn))\n",
    "print(np.log10(xn)) \n",
    "x = np.arange(5)\n",
    "y = np.empty(5)\n",
    "z = np.zeros(10)    \n",
    "print(np.multiply(x, 10, out = y))\n",
    "print(np.power(2, x, out = z[::2]))\n",
    "print(z)\n",
    "print('x中所有元素求和：', np.add.reduce(x))\n",
    "print('x中所有元素求积：', np.multiply.reduce(x))\n",
    "print('x中所有元素依次求和并展示：', np.add.accumulate(x))\n",
    "print('x中所有元素依次求积并展示：', np.multiply.accumulate(x))\n",
    "print(np.multiply.outer(x, x))"
   ]
  },
  {
   "cell_type": "markdown",
   "metadata": {},
   "source": [
    "## 关卡 1:数组的创建与计算"
   ]
  },
  {
   "cell_type": "code",
   "execution_count": 17,
   "metadata": {},
   "outputs": [
    {
     "data": {
      "text/plain": [
       "13366080"
      ]
     },
     "execution_count": 17,
     "metadata": {},
     "output_type": "execute_result"
    }
   ],
   "source": [
    "a = np.arange(1,19)\n",
    "b = np.arange(19, 49)\n",
    "A = a.reshape(3,6)\n",
    "B = b.reshape(5,6)\n",
    "C = np.vstack([A,B])\n",
    "N, D = np.split(C, [1])\n",
    "E = D[1]\n",
    "a1 = np.multiply.accumulate(E)[-1]\n",
    "a1"
   ]
  },
  {
   "cell_type": "markdown",
   "metadata": {},
   "source": [
    "## 关卡 2:数组聚合与广播"
   ]
  },
  {
   "cell_type": "code",
   "execution_count": 18,
   "metadata": {},
   "outputs": [],
   "source": []
  },
  {
   "cell_type": "markdown",
   "metadata": {},
   "source": [
    "## 关卡 3:数组的比较与索引"
   ]
  },
  {
   "cell_type": "code",
   "execution_count": null,
   "metadata": {},
   "outputs": [],
   "source": []
  },
  {
   "cell_type": "markdown",
   "metadata": {},
   "source": [
    "## 关卡 4:数组排序与结构化数组"
   ]
  },
  {
   "cell_type": "code",
   "execution_count": null,
   "metadata": {},
   "outputs": [],
   "source": []
  },
  {
   "cell_type": "markdown",
   "metadata": {},
   "source": [
    "## 关卡 5:综合实战"
   ]
  },
  {
   "cell_type": "code",
   "execution_count": null,
   "metadata": {},
   "outputs": [],
   "source": []
  },
  {
   "cell_type": "code",
   "execution_count": null,
   "metadata": {},
   "outputs": [],
   "source": [
    "def save_csv(a1):\n",
    "    import pandas as pd\n",
    "    df = pd.DataFrame({\"id\": [\"q1\"], \"answer\": [a1]})\n",
    "    df.to_csv(\"answer_1.csv\", index=None)\n",
    "save_csv(a1)"
   ]
  }
 ],
 "metadata": {
  "kernelspec": {
   "display_name": "base",
   "language": "python",
   "name": "python3"
  },
  "language_info": {
   "codemirror_mode": {
    "name": "ipython",
    "version": 3
   },
   "file_extension": ".py",
   "mimetype": "text/x-python",
   "name": "python",
   "nbconvert_exporter": "python",
   "pygments_lexer": "ipython3",
   "version": "3.11.5"
  }
 },
 "nbformat": 4,
 "nbformat_minor": 2
}
