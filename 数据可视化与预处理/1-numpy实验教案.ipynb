{
 "cells": [
  {
   "cell_type": "markdown",
   "id": "5cae6c5e",
   "metadata": {},
   "source": [
    "# <font face = \"微软雅黑\" color = blue size = 6>实验名称</font>"
   ]
  },
  {
   "cell_type": "markdown",
   "id": "20103a09",
   "metadata": {},
   "source": [
    "## numpy的基本操作"
   ]
  },
  {
   "cell_type": "markdown",
   "id": "747b14a0",
   "metadata": {},
   "source": [
    "# <font face = \"微软雅黑\" color = blue size = 6>实验目的</font>"
   ]
  },
  {
   "cell_type": "markdown",
   "id": "de67b57c",
   "metadata": {},
   "source": [
    "## 通过该实验的实践，要求学生掌握不同维度组数据的表现形式，熟悉ndarray的属性和基本操作，能够使用numpy进行数据组的统计、运算和数据存取等操作"
   ]
  },
  {
   "cell_type": "markdown",
   "id": "43705c26",
   "metadata": {},
   "source": [
    "# <font face = \"微软雅黑\" color = blue size = 6>实验背景</font>"
   ]
  },
  {
   "cell_type": "markdown",
   "id": "801698f5",
   "metadata": {},
   "source": [
    "## NumPy（Numerical Python） 是Python语言的一个扩展程序库，支持大量的维度数组与矩阵运算，此外也针对数组运算提供大量的数学函数库，有助于学生学习数据科学或者机器学习。"
   ]
  },
  {
   "cell_type": "markdown",
   "id": "141a9193",
   "metadata": {},
   "source": [
    "# <font face = \"微软雅黑\" color = blue size = 6>实验原理</font>"
   ]
  },
  {
   "cell_type": "markdown",
   "id": "4918d4f1",
   "metadata": {},
   "source": [
    "## NumPy是一个运行速度非常快的数学库，主要用于数组计算，包含：\n",
    "\n",
    "### 1、一个强大的N维数组对象ndarray\n",
    "\n",
    "### 2、广播功能函数\n",
    "\n",
    "### 3、整合C/C++/Fortran代码的工具\n",
    "\n",
    "### 4、线性代数、傅里叶变换、随机数生成等功能实验环境"
   ]
  },
  {
   "cell_type": "markdown",
   "id": "b0d7b408",
   "metadata": {},
   "source": [
    "# <font face = \"微软雅黑\" color = blue size = 6>实验环境</font>"
   ]
  },
  {
   "cell_type": "markdown",
   "id": "e0e2fc5f",
   "metadata": {},
   "source": [
    "## Windows操作系统 64bits\n",
    "## python 3.6以上\n",
    "## numpy1.17以上"
   ]
  },
  {
   "cell_type": "markdown",
   "id": "27cefbd1",
   "metadata": {},
   "source": [
    "# <font face = \"微软雅黑\" color = blue size = 6>实验步骤</font>"
   ]
  },
  {
   "cell_type": "markdown",
   "id": "4990ba34",
   "metadata": {},
   "source": [
    "## 2 不同维度数据的表示"
   ]
  },
  {
   "cell_type": "markdown",
   "id": "2934b838",
   "metadata": {},
   "source": [
    "## 2.1 一维数据的表示"
   ]
  },
  {
   "cell_type": "code",
   "execution_count": 3,
   "id": "1cfa496b",
   "metadata": {},
   "outputs": [
    {
     "data": {
      "text/plain": [
       "[1, 2, 'a', 4]"
      ]
     },
     "execution_count": 3,
     "metadata": {},
     "output_type": "execute_result"
    }
   ],
   "source": [
    "# 列表\n",
    "[1,2,'a',4]"
   ]
  },
  {
   "cell_type": "code",
   "execution_count": 6,
   "id": "3306c6a6",
   "metadata": {},
   "outputs": [
    {
     "name": "stdout",
     "output_type": "stream",
     "text": [
      "Requirement already satisfied: numpy in d:\\programfiles\\anaconda3\\lib\\site-packages (1.21.0)\n"
     ]
    },
    {
     "data": {
      "text/plain": [
       "array(['1', 'a', '3', '4'], dtype='<U11')"
      ]
     },
     "execution_count": 6,
     "metadata": {},
     "output_type": "execute_result"
    }
   ],
   "source": [
    "# 数组\n",
    "# 安装numpy\n",
    "!pip install  numpy\n",
    "import numpy as np #引入numpy库\n",
    "np.array([1,'a',3,4]) #使用numpy创建一维数组\n",
    "#数组的元素类型必须是一致的"
   ]
  },
  {
   "cell_type": "code",
   "execution_count": 7,
   "id": "89d8b29a",
   "metadata": {},
   "outputs": [
    {
     "data": {
      "text/plain": [
       "{1, 3, 4, 'a'}"
      ]
     },
     "execution_count": 7,
     "metadata": {},
     "output_type": "execute_result"
    }
   ],
   "source": [
    "# 集合\n",
    "set([1,'a',3,4]) #集合的元素唯一且无序"
   ]
  },
  {
   "cell_type": "code",
   "execution_count": 8,
   "id": "fb7b3578",
   "metadata": {},
   "outputs": [
    {
     "data": {
      "text/plain": [
       "(1, 'a', 3, 4)"
      ]
     },
     "execution_count": 8,
     "metadata": {},
     "output_type": "execute_result"
    }
   ],
   "source": [
    "# 元组\n",
    "tuple([1,'a',3,4])#元组的元素不可变"
   ]
  },
  {
   "cell_type": "markdown",
   "id": "680576b6",
   "metadata": {},
   "source": [
    "## 2.2 二维数据的表示"
   ]
  },
  {
   "cell_type": "code",
   "execution_count": 9,
   "id": "155f2021",
   "metadata": {},
   "outputs": [
    {
     "data": {
      "text/plain": [
       "[[1, 2, 3], ['a', 'b', 'c']]"
      ]
     },
     "execution_count": 9,
     "metadata": {},
     "output_type": "execute_result"
    }
   ],
   "source": [
    "# 用列表存储2维数据\n",
    "[[1,2,3],['a','b','c']]"
   ]
  },
  {
   "cell_type": "code",
   "execution_count": 10,
   "id": "2c342f82",
   "metadata": {},
   "outputs": [
    {
     "data": {
      "text/plain": [
       "array([['1', '2', '3'],\n",
       "       ['a', 'b', 'c']], dtype='<U11')"
      ]
     },
     "execution_count": 10,
     "metadata": {},
     "output_type": "execute_result"
    }
   ],
   "source": [
    "# 用数组存储二维数据\n",
    "np.array([[1,2,3],['a','b','c']])"
   ]
  },
  {
   "cell_type": "code",
   "execution_count": 11,
   "id": "af15ccc4",
   "metadata": {},
   "outputs": [
    {
     "name": "stdout",
     "output_type": "stream",
     "text": [
      "Requirement already satisfied: pandas in d:\\programfiles\\anaconda3\\lib\\site-packages (1.4.2)\n",
      "Requirement already satisfied: pytz>=2020.1 in d:\\programfiles\\anaconda3\\lib\\site-packages (from pandas) (2021.3)\n",
      "Requirement already satisfied: python-dateutil>=2.8.1 in d:\\programfiles\\anaconda3\\lib\\site-packages (from pandas) (2.8.2)\n",
      "Requirement already satisfied: numpy>=1.18.5 in d:\\programfiles\\anaconda3\\lib\\site-packages (from pandas) (1.21.0)\n",
      "Requirement already satisfied: six>=1.5 in d:\\programfiles\\anaconda3\\lib\\site-packages (from python-dateutil>=2.8.1->pandas) (1.16.0)\n"
     ]
    },
    {
     "data": {
      "text/html": [
       "<div>\n",
       "<style scoped>\n",
       "    .dataframe tbody tr th:only-of-type {\n",
       "        vertical-align: middle;\n",
       "    }\n",
       "\n",
       "    .dataframe tbody tr th {\n",
       "        vertical-align: top;\n",
       "    }\n",
       "\n",
       "    .dataframe thead th {\n",
       "        text-align: right;\n",
       "    }\n",
       "</style>\n",
       "<table border=\"1\" class=\"dataframe\">\n",
       "  <thead>\n",
       "    <tr style=\"text-align: right;\">\n",
       "      <th></th>\n",
       "      <th>A</th>\n",
       "      <th>B</th>\n",
       "      <th>C</th>\n",
       "    </tr>\n",
       "  </thead>\n",
       "  <tbody>\n",
       "    <tr>\n",
       "      <th>0</th>\n",
       "      <td>1</td>\n",
       "      <td>2</td>\n",
       "      <td>3</td>\n",
       "    </tr>\n",
       "    <tr>\n",
       "      <th>1</th>\n",
       "      <td>a</td>\n",
       "      <td>b</td>\n",
       "      <td>c</td>\n",
       "    </tr>\n",
       "  </tbody>\n",
       "</table>\n",
       "</div>"
      ],
      "text/plain": [
       "   A  B  C\n",
       "0  1  2  3\n",
       "1  a  b  c"
      ]
     },
     "execution_count": 11,
     "metadata": {},
     "output_type": "execute_result"
    }
   ],
   "source": [
    "# 列表或者数组存储的二维数据可以转换成表格形式\n",
    "!pip install  pandas\n",
    "import pandas as pd\n",
    "pd.DataFrame([[1,2,3],['a','b','c']],columns=['A','B','C'])"
   ]
  },
  {
   "cell_type": "code",
   "execution_count": 12,
   "id": "aa332bbf",
   "metadata": {},
   "outputs": [
    {
     "data": {
      "text/html": [
       "<div>\n",
       "<style scoped>\n",
       "    .dataframe tbody tr th:only-of-type {\n",
       "        vertical-align: middle;\n",
       "    }\n",
       "\n",
       "    .dataframe tbody tr th {\n",
       "        vertical-align: top;\n",
       "    }\n",
       "\n",
       "    .dataframe thead th {\n",
       "        text-align: right;\n",
       "    }\n",
       "</style>\n",
       "<table border=\"1\" class=\"dataframe\">\n",
       "  <thead>\n",
       "    <tr style=\"text-align: right;\">\n",
       "      <th></th>\n",
       "      <th>A</th>\n",
       "      <th>B</th>\n",
       "      <th>C</th>\n",
       "    </tr>\n",
       "  </thead>\n",
       "  <tbody>\n",
       "    <tr>\n",
       "      <th>0</th>\n",
       "      <td>1</td>\n",
       "      <td>2</td>\n",
       "      <td>3</td>\n",
       "    </tr>\n",
       "    <tr>\n",
       "      <th>1</th>\n",
       "      <td>a</td>\n",
       "      <td>b</td>\n",
       "      <td>c</td>\n",
       "    </tr>\n",
       "  </tbody>\n",
       "</table>\n",
       "</div>"
      ],
      "text/plain": [
       "   A  B  C\n",
       "0  1  2  3\n",
       "1  a  b  c"
      ]
     },
     "execution_count": 12,
     "metadata": {},
     "output_type": "execute_result"
    }
   ],
   "source": [
    "pd.DataFrame(np.array([[1,2,3],['a','b','c']]),columns=['A','B','C'])"
   ]
  },
  {
   "cell_type": "markdown",
   "id": "a9afb03e",
   "metadata": {},
   "source": [
    "## 2.3 三维数据的表示"
   ]
  },
  {
   "cell_type": "code",
   "execution_count": 13,
   "id": "8eea765d",
   "metadata": {},
   "outputs": [
    {
     "data": {
      "text/plain": [
       "[[1, 2], [3, 4]]"
      ]
     },
     "execution_count": 13,
     "metadata": {},
     "output_type": "execute_result"
    }
   ],
   "source": [
    "# 用列表存储多维数组\n",
    "a = [[[1,2],[3,4]],[[5,6],[7,8]]]\n",
    "a[0]"
   ]
  },
  {
   "cell_type": "code",
   "execution_count": 14,
   "id": "e889e0b8",
   "metadata": {},
   "outputs": [
    {
     "data": {
      "text/html": [
       "<div>\n",
       "<style scoped>\n",
       "    .dataframe tbody tr th:only-of-type {\n",
       "        vertical-align: middle;\n",
       "    }\n",
       "\n",
       "    .dataframe tbody tr th {\n",
       "        vertical-align: top;\n",
       "    }\n",
       "\n",
       "    .dataframe thead th {\n",
       "        text-align: right;\n",
       "    }\n",
       "</style>\n",
       "<table border=\"1\" class=\"dataframe\">\n",
       "  <thead>\n",
       "    <tr style=\"text-align: right;\">\n",
       "      <th></th>\n",
       "      <th>0</th>\n",
       "      <th>1</th>\n",
       "    </tr>\n",
       "  </thead>\n",
       "  <tbody>\n",
       "    <tr>\n",
       "      <th>0</th>\n",
       "      <td>[1, 2]</td>\n",
       "      <td>[3, 4]</td>\n",
       "    </tr>\n",
       "    <tr>\n",
       "      <th>1</th>\n",
       "      <td>[5, 6]</td>\n",
       "      <td>[7, 8]</td>\n",
       "    </tr>\n",
       "  </tbody>\n",
       "</table>\n",
       "</div>"
      ],
      "text/plain": [
       "        0       1\n",
       "0  [1, 2]  [3, 4]\n",
       "1  [5, 6]  [7, 8]"
      ]
     },
     "execution_count": 14,
     "metadata": {},
     "output_type": "execute_result"
    }
   ],
   "source": [
    "pd.DataFrame(a)"
   ]
  },
  {
   "cell_type": "code",
   "execution_count": 15,
   "id": "bc5f96cd",
   "metadata": {},
   "outputs": [
    {
     "data": {
      "text/html": [
       "<div>\n",
       "<style scoped>\n",
       "    .dataframe tbody tr th:only-of-type {\n",
       "        vertical-align: middle;\n",
       "    }\n",
       "\n",
       "    .dataframe tbody tr th {\n",
       "        vertical-align: top;\n",
       "    }\n",
       "\n",
       "    .dataframe thead th {\n",
       "        text-align: right;\n",
       "    }\n",
       "</style>\n",
       "<table border=\"1\" class=\"dataframe\">\n",
       "  <thead>\n",
       "    <tr style=\"text-align: right;\">\n",
       "      <th></th>\n",
       "      <th>0</th>\n",
       "      <th>1</th>\n",
       "    </tr>\n",
       "  </thead>\n",
       "  <tbody>\n",
       "    <tr>\n",
       "      <th>0</th>\n",
       "      <td>1</td>\n",
       "      <td>2</td>\n",
       "    </tr>\n",
       "    <tr>\n",
       "      <th>1</th>\n",
       "      <td>3</td>\n",
       "      <td>4</td>\n",
       "    </tr>\n",
       "  </tbody>\n",
       "</table>\n",
       "</div>"
      ],
      "text/plain": [
       "   0  1\n",
       "0  1  2\n",
       "1  3  4"
      ]
     },
     "execution_count": 15,
     "metadata": {},
     "output_type": "execute_result"
    }
   ],
   "source": [
    "pd.DataFrame(a[0])"
   ]
  },
  {
   "cell_type": "markdown",
   "id": "dbaa0673",
   "metadata": {},
   "source": [
    "## 3 为什么要使用Numpy"
   ]
  },
  {
   "cell_type": "markdown",
   "id": "5853525d",
   "metadata": {},
   "source": [
    "## 3.1 Numpy的ndarray具有广播功能"
   ]
  },
  {
   "cell_type": "code",
   "execution_count": 16,
   "id": "0e8133f7",
   "metadata": {},
   "outputs": [
    {
     "data": {
      "text/plain": [
       "'1.21.0'"
      ]
     },
     "execution_count": 16,
     "metadata": {},
     "output_type": "execute_result"
    }
   ],
   "source": [
    "# 导入numpy\n",
    "import numpy as np\n",
    "# 查看版本\n",
    "np.__version__"
   ]
  },
  {
   "cell_type": "code",
   "execution_count": 17,
   "id": "7aa007c4",
   "metadata": {},
   "outputs": [],
   "source": [
    "np.array?"
   ]
  },
  {
   "cell_type": "code",
   "execution_count": 18,
   "id": "aa28a19f",
   "metadata": {},
   "outputs": [
    {
     "name": "stdout",
     "output_type": "stream",
     "text": [
      "[1, 4, 9, 16]\n"
     ]
    }
   ],
   "source": [
    "# 用列表存储数据，并计算这组数据的平方\n",
    "a = [1,2,3,4]\n",
    "c = []\n",
    "for i in a:\n",
    "    c.append(i**2)\n",
    "print(c)"
   ]
  },
  {
   "cell_type": "code",
   "execution_count": 19,
   "id": "0c127ba9",
   "metadata": {},
   "outputs": [
    {
     "data": {
      "text/plain": [
       "array([ 1,  4,  9, 16], dtype=int32)"
      ]
     },
     "execution_count": 19,
     "metadata": {},
     "output_type": "execute_result"
    }
   ],
   "source": [
    "# 用ndarray类型来存储，计算显然更加简单\n",
    "#ndarray具有广播功能\n",
    "a = np.array([1,2,3,4])\n",
    "a**2"
   ]
  },
  {
   "cell_type": "markdown",
   "id": "afaed28a",
   "metadata": {},
   "source": [
    "## 3.2 Numpy数组的性能比Python原生数据类型高"
   ]
  },
  {
   "cell_type": "code",
   "execution_count": 20,
   "id": "58e89b8f",
   "metadata": {},
   "outputs": [],
   "source": [
    "# Python原生数据类型与numpy数组性能对比\n",
    "def add(n):\n",
    "    a = []\n",
    "    b = []\n",
    "    c = []\n",
    "    for i in range(n):\n",
    "        a.append(i**2)\n",
    "        b.append(i+3)\n",
    "        c.append(a[i]+b[i])\n",
    "    return c\n",
    "\n",
    "def np_add(n):\n",
    "    a = np.arange(n)**2\n",
    "    b = np.arange(n)+3\n",
    "    c = a+b"
   ]
  },
  {
   "cell_type": "code",
   "execution_count": 21,
   "id": "bfb1aa39",
   "metadata": {},
   "outputs": [],
   "source": [
    "N = 1000000"
   ]
  },
  {
   "cell_type": "code",
   "execution_count": 22,
   "id": "0a7eaf2a",
   "metadata": {},
   "outputs": [
    {
     "name": "stdout",
     "output_type": "stream",
     "text": [
      "470 ms ± 5.81 ms per loop (mean ± std. dev. of 7 runs, 1 loop each)\n"
     ]
    }
   ],
   "source": [
    "# 为了比较性能，使用ipython的“魔法函数”timeit\n",
    "%timeit add(N)"
   ]
  },
  {
   "cell_type": "code",
   "execution_count": 23,
   "id": "82c37932",
   "metadata": {},
   "outputs": [
    {
     "name": "stdout",
     "output_type": "stream",
     "text": [
      "5.21 ms ± 57.6 µs per loop (mean ± std. dev. of 7 runs, 100 loops each)\n"
     ]
    }
   ],
   "source": [
    "%timeit np_add(N)\n",
    "# 使用numpy运行时间只有使用列表版本的70分之一"
   ]
  },
  {
   "cell_type": "code",
   "execution_count": 24,
   "id": "fbbbe14f",
   "metadata": {},
   "outputs": [
    {
     "name": "stdout",
     "output_type": "stream",
     "text": [
      "array(object, dtype=None, *, copy=True, order='K', subok=False, ndmin=0,\n",
      "      like=None)\n",
      "\n",
      "Create an array.\n",
      "\n",
      "Parameters\n",
      "----------\n",
      "object : array_like\n",
      "    An array, any object exposing the array interface, an object whose\n",
      "    __array__ method returns an array, or any (nested) sequence.\n",
      "dtype : data-type, optional\n",
      "    The desired data-type for the array.  If not given, then the type will\n",
      "    be determined as the minimum type required to hold the objects in the\n",
      "    sequence.\n",
      "copy : bool, optional\n",
      "    If true (default), then the object is copied.  Otherwise, a copy will\n",
      "    only be made if __array__ returns a copy, if obj is a nested sequence,\n",
      "    or if a copy is needed to satisfy any of the other requirements\n",
      "    (`dtype`, `order`, etc.).\n",
      "order : {'K', 'A', 'C', 'F'}, optional\n",
      "    Specify the memory layout of the array. If object is not an array, the\n",
      "    newly created array will be in C order (row major) unless 'F' is\n",
      "    specified, in which case it will be in Fortran order (column major).\n",
      "    If object is an array the following holds.\n",
      "\n",
      "    ===== ========= ===================================================\n",
      "    order  no copy                     copy=True\n",
      "    ===== ========= ===================================================\n",
      "    'K'   unchanged F & C order preserved, otherwise most similar order\n",
      "    'A'   unchanged F order if input is F and not C, otherwise C order\n",
      "    'C'   C order   C order\n",
      "    'F'   F order   F order\n",
      "    ===== ========= ===================================================\n",
      "\n",
      "    When ``copy=False`` and a copy is made for other reasons, the result is\n",
      "    the same as if ``copy=True``, with some exceptions for 'A', see the\n",
      "    Notes section. The default order is 'K'.\n",
      "subok : bool, optional\n",
      "    If True, then sub-classes will be passed-through, otherwise\n",
      "    the returned array will be forced to be a base-class array (default).\n",
      "ndmin : int, optional\n",
      "    Specifies the minimum number of dimensions that the resulting\n",
      "    array should have.  Ones will be pre-pended to the shape as\n",
      "    needed to meet this requirement.\n",
      "like : array_like\n",
      "    Reference object to allow the creation of arrays which are not\n",
      "    NumPy arrays. If an array-like passed in as ``like`` supports\n",
      "    the ``__array_function__`` protocol, the result will be defined\n",
      "    by it. In this case, it ensures the creation of an array object\n",
      "    compatible with that passed in via this argument.\n",
      "\n",
      "    .. versionadded:: 1.20.0\n",
      "\n",
      "Returns\n",
      "-------\n",
      "out : ndarray\n",
      "    An array object satisfying the specified requirements.\n",
      "\n",
      "See Also\n",
      "--------\n",
      "empty_like : Return an empty array with shape and type of input.\n",
      "ones_like : Return an array of ones with shape and type of input.\n",
      "zeros_like : Return an array of zeros with shape and type of input.\n",
      "full_like : Return a new array with shape of input filled with value.\n",
      "empty : Return a new uninitialized array.\n",
      "ones : Return a new array setting values to one.\n",
      "zeros : Return a new array setting values to zero.\n",
      "full : Return a new array of given shape filled with value.\n",
      "\n",
      "\n",
      "Notes\n",
      "-----\n",
      "When order is 'A' and `object` is an array in neither 'C' nor 'F' order,\n",
      "and a copy is forced by a change in dtype, then the order of the result is\n",
      "not necessarily 'C' as expected. This is likely a bug.\n",
      "\n",
      "Examples\n",
      "--------\n",
      ">>> np.array([1, 2, 3])\n",
      "array([1, 2, 3])\n",
      "\n",
      "Upcasting:\n",
      "\n",
      ">>> np.array([1, 2, 3.0])\n",
      "array([ 1.,  2.,  3.])\n",
      "\n",
      "More than one dimension:\n",
      "\n",
      ">>> np.array([[1, 2], [3, 4]])\n",
      "array([[1, 2],\n",
      "       [3, 4]])\n",
      "\n",
      "Minimum dimensions 2:\n",
      "\n",
      ">>> np.array([1, 2, 3], ndmin=2)\n",
      "array([[1, 2, 3]])\n",
      "\n",
      "Type provided:\n",
      "\n",
      ">>> np.array([1, 2, 3], dtype=complex)\n",
      "array([ 1.+0.j,  2.+0.j,  3.+0.j])\n",
      "\n",
      "Data-type consisting of more than one element:\n",
      "\n",
      ">>> x = np.array([(1,2),(3,4)],dtype=[('a','<i4'),('b','<i4')])\n",
      ">>> x['a']\n",
      "array([1, 3])\n",
      "\n",
      "Creating an array from sub-classes:\n",
      "\n",
      ">>> np.array(np.mat('1 2; 3 4'))\n",
      "array([[1, 2],\n",
      "       [3, 4]])\n",
      "\n",
      ">>> np.array(np.mat('1 2; 3 4'), subok=True)\n",
      "matrix([[1, 2],\n",
      "        [3, 4]])\n"
     ]
    }
   ],
   "source": [
    "# 搜索某个具体的函数的文档，用法示例\n",
    "np.info(np.array)"
   ]
  },
  {
   "cell_type": "markdown",
   "id": "961b4482",
   "metadata": {},
   "source": [
    "## 4 ndarray的属性和基本操作"
   ]
  },
  {
   "cell_type": "markdown",
   "id": "704b872e",
   "metadata": {},
   "source": [
    "## 4.1 ndarray的基本属性"
   ]
  },
  {
   "cell_type": "code",
   "execution_count": 25,
   "id": "906767e6",
   "metadata": {},
   "outputs": [
    {
     "data": {
      "text/plain": [
       "numpy.ndarray"
      ]
     },
     "execution_count": 25,
     "metadata": {},
     "output_type": "execute_result"
    }
   ],
   "source": [
    "# 创建一个numpy.ndarray对象\n",
    "a = np.array([[1,2,3],[4,5,6]])\n",
    "# ndarray对象的别名是array\n",
    "type(a)"
   ]
  },
  {
   "cell_type": "code",
   "execution_count": 26,
   "id": "cf90f56c",
   "metadata": {},
   "outputs": [
    {
     "data": {
      "text/plain": [
       "array([[1, 2, 3],\n",
       "       [4, 5, 6]])"
      ]
     },
     "execution_count": 26,
     "metadata": {},
     "output_type": "execute_result"
    }
   ],
   "source": [
    "# 数据\n",
    "a"
   ]
  },
  {
   "cell_type": "code",
   "execution_count": 27,
   "id": "c03fe011",
   "metadata": {},
   "outputs": [
    {
     "data": {
      "text/plain": [
       "(2, 3)"
      ]
     },
     "execution_count": 27,
     "metadata": {},
     "output_type": "execute_result"
    }
   ],
   "source": [
    "# 数据维度\n",
    "a.shape"
   ]
  },
  {
   "cell_type": "code",
   "execution_count": 28,
   "id": "b13d79dc",
   "metadata": {},
   "outputs": [
    {
     "data": {
      "text/plain": [
       "6"
      ]
     },
     "execution_count": 28,
     "metadata": {},
     "output_type": "execute_result"
    }
   ],
   "source": [
    "# 元素个数\n",
    "a.size"
   ]
  },
  {
   "cell_type": "code",
   "execution_count": 29,
   "id": "da918ad0",
   "metadata": {},
   "outputs": [
    {
     "data": {
      "text/plain": [
       "2"
      ]
     },
     "execution_count": 29,
     "metadata": {},
     "output_type": "execute_result"
    }
   ],
   "source": [
    "# 数据的维度\n",
    "a.ndim"
   ]
  },
  {
   "cell_type": "code",
   "execution_count": 30,
   "id": "f46b75e7",
   "metadata": {},
   "outputs": [
    {
     "data": {
      "text/plain": [
       "dtype('int32')"
      ]
     },
     "execution_count": 30,
     "metadata": {},
     "output_type": "execute_result"
    }
   ],
   "source": [
    "# 数据类型\n",
    "a.dtype"
   ]
  },
  {
   "cell_type": "code",
   "execution_count": 31,
   "id": "9c2b52d4",
   "metadata": {},
   "outputs": [
    {
     "data": {
      "text/plain": [
       "4"
      ]
     },
     "execution_count": 31,
     "metadata": {},
     "output_type": "execute_result"
    }
   ],
   "source": [
    "# 每个元素的大小，以字节为单位\n",
    "a.itemsize"
   ]
  },
  {
   "cell_type": "code",
   "execution_count": 32,
   "id": "277cbed8",
   "metadata": {},
   "outputs": [
    {
     "data": {
      "text/plain": [
       "1"
      ]
     },
     "execution_count": 32,
     "metadata": {},
     "output_type": "execute_result"
    }
   ],
   "source": [
    "# 访问数组的元素\n",
    "a[0][0]"
   ]
  },
  {
   "cell_type": "markdown",
   "id": "7061ae2e",
   "metadata": {},
   "source": [
    "## 4.2 ndarray元素类型"
   ]
  },
  {
   "cell_type": "code",
   "execution_count": 34,
   "id": "8e387ac9",
   "metadata": {},
   "outputs": [],
   "source": [
    "# 数据类型不同，会自动向下进行转换\n",
    "b = np.array([[1,2,3,4],['a','b','c','d']])"
   ]
  },
  {
   "cell_type": "code",
   "execution_count": 35,
   "id": "3e61c824",
   "metadata": {},
   "outputs": [
    {
     "data": {
      "text/plain": [
       "array([['1', '2', '3', '4'],\n",
       "       ['a', 'b', 'c', 'd']], dtype='<U11')"
      ]
     },
     "execution_count": 35,
     "metadata": {},
     "output_type": "execute_result"
    }
   ],
   "source": [
    "# 数据类型\n",
    "b"
   ]
  },
  {
   "cell_type": "code",
   "execution_count": 36,
   "id": "10bbfa49",
   "metadata": {},
   "outputs": [
    {
     "data": {
      "text/plain": [
       "8"
      ]
     },
     "execution_count": 36,
     "metadata": {},
     "output_type": "execute_result"
    }
   ],
   "source": [
    "b.size"
   ]
  },
  {
   "cell_type": "code",
   "execution_count": 37,
   "id": "5b30e24a",
   "metadata": {},
   "outputs": [
    {
     "name": "stderr",
     "output_type": "stream",
     "text": [
      "C:\\Users\\lenov\\AppData\\Local\\Temp\\ipykernel_16172\\1609679914.py:2: VisibleDeprecationWarning: Creating an ndarray from ragged nested sequences (which is a list-or-tuple of lists-or-tuples-or ndarrays with different lengths or shapes) is deprecated. If you meant to do this, you must specify 'dtype=object' when creating the ndarray.\n",
      "  c = np.array([[1,2,3,4],['a','b','c','d'],[5,6,7]])\n"
     ]
    }
   ],
   "source": [
    "# 不同维度之间长短不一，生成的数组为非同质的ndarray对象\n",
    "c = np.array([[1,2,3,4],['a','b','c','d'],[5,6,7]])"
   ]
  },
  {
   "cell_type": "code",
   "execution_count": 38,
   "id": "392937ca",
   "metadata": {},
   "outputs": [
    {
     "data": {
      "text/plain": [
       "array([list([1, 2, 3, 4]), list(['a', 'b', 'c', 'd']), list([5, 6, 7])],\n",
       "      dtype=object)"
      ]
     },
     "execution_count": 38,
     "metadata": {},
     "output_type": "execute_result"
    }
   ],
   "source": [
    "# 数据类型\n",
    "c"
   ]
  },
  {
   "cell_type": "code",
   "execution_count": 39,
   "id": "b58d1a76",
   "metadata": {},
   "outputs": [
    {
     "data": {
      "text/plain": [
       "3"
      ]
     },
     "execution_count": 39,
     "metadata": {},
     "output_type": "execute_result"
    }
   ],
   "source": [
    "c.size"
   ]
  },
  {
   "cell_type": "markdown",
   "id": "ef19981e",
   "metadata": {},
   "source": [
    "## 4.3 创建ndarray的方式"
   ]
  },
  {
   "cell_type": "code",
   "execution_count": 40,
   "id": "9feaa5ce",
   "metadata": {},
   "outputs": [
    {
     "data": {
      "text/plain": [
       "array([[1., 2., 3.],\n",
       "       [4., 5., 6.]], dtype=float32)"
      ]
     },
     "execution_count": 40,
     "metadata": {},
     "output_type": "execute_result"
    }
   ],
   "source": [
    "# 从列表创建\n",
    "np.array([[1,2,3],[4,5,6]],dtype=np.float32)"
   ]
  },
  {
   "cell_type": "code",
   "execution_count": 41,
   "id": "20fabbfe",
   "metadata": {},
   "outputs": [
    {
     "data": {
      "text/plain": [
       "dtype('int32')"
      ]
     },
     "execution_count": 41,
     "metadata": {},
     "output_type": "execute_result"
    }
   ],
   "source": [
    "#当np.array()不指定dtype时，NumPy将根据数据情况自动关联一个dtype类型\n",
    "# 从Python的list创建数组，不指定元素类型\n",
    "array_01 = np.array([[1,2,3],[4,5,6]])\n",
    "array_01.dtype"
   ]
  },
  {
   "cell_type": "code",
   "execution_count": 42,
   "id": "0e3cf168",
   "metadata": {},
   "outputs": [
    {
     "data": {
      "text/plain": [
       "array([[1, 2],\n",
       "       [2, 3]])"
      ]
     },
     "execution_count": 42,
     "metadata": {},
     "output_type": "execute_result"
    }
   ],
   "source": [
    "# 从元组创建\n",
    "np.array([(1,2),(2,3)])"
   ]
  },
  {
   "cell_type": "code",
   "execution_count": 43,
   "id": "c3b17bec",
   "metadata": {},
   "outputs": [
    {
     "data": {
      "text/plain": [
       "array([[1, 2, 3, 4],\n",
       "       [4, 5, 6, 7]])"
      ]
     },
     "execution_count": 43,
     "metadata": {},
     "output_type": "execute_result"
    }
   ],
   "source": [
    "# 从列表和元组创建\n",
    "np.array([[1,2,3,4],(4,5,6,7)])"
   ]
  },
  {
   "cell_type": "code",
   "execution_count": 44,
   "id": "256e5337",
   "metadata": {},
   "outputs": [
    {
     "data": {
      "text/plain": [
       "array([0, 1, 2, 3, 4])"
      ]
     },
     "execution_count": 44,
     "metadata": {},
     "output_type": "execute_result"
    }
   ],
   "source": [
    "# 类似range()函数，返回ndarray类型，元素从0到n‐1\n",
    "np.arange(5)"
   ]
  },
  {
   "cell_type": "code",
   "execution_count": 45,
   "id": "149272de",
   "metadata": {},
   "outputs": [
    {
     "data": {
      "text/plain": [
       "array([[1., 1., 1., 1.],\n",
       "       [1., 1., 1., 1.],\n",
       "       [1., 1., 1., 1.]])"
      ]
     },
     "execution_count": 45,
     "metadata": {},
     "output_type": "execute_result"
    }
   ],
   "source": [
    "# 根据shape生成一个全1数组，shape是元组类型\n",
    "np.ones((3,4))"
   ]
  },
  {
   "cell_type": "code",
   "execution_count": 46,
   "id": "6181f6ec",
   "metadata": {},
   "outputs": [
    {
     "data": {
      "text/plain": [
       "array([[[0., 0., 0., 0.],\n",
       "        [0., 0., 0., 0.],\n",
       "        [0., 0., 0., 0.]],\n",
       "\n",
       "       [[0., 0., 0., 0.],\n",
       "        [0., 0., 0., 0.],\n",
       "        [0., 0., 0., 0.]]])"
      ]
     },
     "execution_count": 46,
     "metadata": {},
     "output_type": "execute_result"
    }
   ],
   "source": [
    "# 根据shape生成一个全0数组，shape是元组类型\n",
    "np.zeros((2,3,4))"
   ]
  },
  {
   "cell_type": "code",
   "execution_count": 47,
   "id": "12ae7e55",
   "metadata": {},
   "outputs": [
    {
     "data": {
      "text/plain": [
       "array([[99, 99, 99],\n",
       "       [99, 99, 99]])"
      ]
     },
     "execution_count": 47,
     "metadata": {},
     "output_type": "execute_result"
    }
   ],
   "source": [
    "# 根据shape生成一个数组，每个元素值都是val\n",
    "np.full((2,3),99)"
   ]
  },
  {
   "cell_type": "code",
   "execution_count": 48,
   "id": "280db43d",
   "metadata": {},
   "outputs": [
    {
     "data": {
      "text/plain": [
       "array([[1., 0., 0., 0., 0.],\n",
       "       [0., 1., 0., 0., 0.],\n",
       "       [0., 0., 1., 0., 0.],\n",
       "       [0., 0., 0., 1., 0.],\n",
       "       [0., 0., 0., 0., 1.]])"
      ]
     },
     "execution_count": 48,
     "metadata": {},
     "output_type": "execute_result"
    }
   ],
   "source": [
    "# 创建一个正方的n*n单位矩阵，对角线为1，其余为0\n",
    "np.eye(5)"
   ]
  },
  {
   "cell_type": "code",
   "execution_count": 49,
   "id": "c03b6846",
   "metadata": {},
   "outputs": [
    {
     "data": {
      "text/plain": [
       "array([[1, 2, 3, 4],\n",
       "       [4, 5, 6, 7],\n",
       "       [7, 8, 9, 0]])"
      ]
     },
     "execution_count": 49,
     "metadata": {},
     "output_type": "execute_result"
    }
   ],
   "source": [
    "# 生成一个新的2维数组\n",
    "array_03 = np.array([[1,2,3,4],[4,5,6,7],[7,8,9,0]])\n",
    "array_03"
   ]
  },
  {
   "cell_type": "code",
   "execution_count": 50,
   "id": "787c1e5d",
   "metadata": {},
   "outputs": [
    {
     "data": {
      "text/plain": [
       "array([[1, 1, 1, 1],\n",
       "       [1, 1, 1, 1],\n",
       "       [1, 1, 1, 1]])"
      ]
     },
     "execution_count": 50,
     "metadata": {},
     "output_type": "execute_result"
    }
   ],
   "source": [
    "# 根据数组array_03的形状生成一个全1数组\n",
    "np.ones_like(array_03)"
   ]
  },
  {
   "cell_type": "code",
   "execution_count": 51,
   "id": "246e5959",
   "metadata": {},
   "outputs": [
    {
     "data": {
      "text/plain": [
       "array([[0, 0, 0, 0],\n",
       "       [0, 0, 0, 0],\n",
       "       [0, 0, 0, 0]])"
      ]
     },
     "execution_count": 51,
     "metadata": {},
     "output_type": "execute_result"
    }
   ],
   "source": [
    "# 根据数组a的形状生成一个全0数组\n",
    "np.zeros_like(array_03)"
   ]
  },
  {
   "cell_type": "code",
   "execution_count": 52,
   "id": "b350152a",
   "metadata": {},
   "outputs": [
    {
     "data": {
      "text/plain": [
       "array([[99, 99, 99, 99],\n",
       "       [99, 99, 99, 99],\n",
       "       [99, 99, 99, 99]])"
      ]
     },
     "execution_count": 52,
     "metadata": {},
     "output_type": "execute_result"
    }
   ],
   "source": [
    "# 根据数组a的形状生成一个数组，每个元素值都是val\n",
    "np.full_like(array_03,99)"
   ]
  },
  {
   "cell_type": "code",
   "execution_count": 53,
   "id": "7ae7e40a",
   "metadata": {},
   "outputs": [
    {
     "data": {
      "text/plain": [
       "array([ 1.,  2.,  3.,  4.,  5.,  6.,  7.,  8.,  9., 10.])"
      ]
     },
     "execution_count": 53,
     "metadata": {},
     "output_type": "execute_result"
    }
   ],
   "source": [
    "# 根据起止数据等间距地填充数据，形成数组\n",
    "np.linspace(1,10,10)"
   ]
  },
  {
   "cell_type": "code",
   "execution_count": 54,
   "id": "9a3f2f0f",
   "metadata": {},
   "outputs": [
    {
     "data": {
      "text/plain": [
       "array([[1, 2],\n",
       "       [3, 4],\n",
       "       [5, 6]])"
      ]
     },
     "execution_count": 54,
     "metadata": {},
     "output_type": "execute_result"
    }
   ],
   "source": [
    "# 用于连接的两个组数的对应的shape应该相同\n",
    "a = np.array([[1, 2], [3, 4]])\n",
    "b = np.array([[5, 6]])\n",
    "# 纵向连接 # 将两个或多个数组合并成一个新的数组\n",
    "np.concatenate((a, b), axis=0)"
   ]
  },
  {
   "cell_type": "code",
   "execution_count": 55,
   "id": "310d37d7",
   "metadata": {},
   "outputs": [
    {
     "name": "stdout",
     "output_type": "stream",
     "text": [
      "(2, 2) (1, 2)\n"
     ]
    }
   ],
   "source": [
    "# 两个数组的shape\n",
    "print(a.shape,b.shape)"
   ]
  },
  {
   "cell_type": "code",
   "execution_count": 56,
   "id": "feef88b3",
   "metadata": {},
   "outputs": [
    {
     "data": {
      "text/plain": [
       "array([[5],\n",
       "       [6]])"
      ]
     },
     "execution_count": 56,
     "metadata": {},
     "output_type": "execute_result"
    }
   ],
   "source": [
    "# 对数组b进行转置\n",
    "b.T"
   ]
  },
  {
   "cell_type": "code",
   "execution_count": 58,
   "id": "de2f7414",
   "metadata": {},
   "outputs": [
    {
     "data": {
      "text/plain": [
       "(2, 1)"
      ]
     },
     "execution_count": 58,
     "metadata": {},
     "output_type": "execute_result"
    }
   ],
   "source": [
    "b.T.shape"
   ]
  },
  {
   "cell_type": "code",
   "execution_count": 59,
   "id": "4b2d2ba4",
   "metadata": {},
   "outputs": [
    {
     "data": {
      "text/plain": [
       "array([[1, 2, 5],\n",
       "       [3, 4, 6]])"
      ]
     },
     "execution_count": 59,
     "metadata": {},
     "output_type": "execute_result"
    }
   ],
   "source": [
    "# 转置后，在进行横向连接\n",
    "np.concatenate((a,b.T),axis = 1)"
   ]
  },
  {
   "cell_type": "markdown",
   "id": "a68206e6",
   "metadata": {},
   "source": [
    "## 4 .4 ndarray对象的变换"
   ]
  },
  {
   "cell_type": "code",
   "execution_count": 60,
   "id": "5f406dee",
   "metadata": {},
   "outputs": [
    {
     "data": {
      "text/plain": [
       "array([ 1,  2,  3,  4,  5,  6,  7,  8,  9, 10, 11, 12, 13, 14, 15, 16, 17,\n",
       "       18, 19, 20, 21, 22, 23, 24])"
      ]
     },
     "execution_count": 60,
     "metadata": {},
     "output_type": "execute_result"
    }
   ],
   "source": [
    "# 创建一个新的数组\n",
    "a = np.linspace(1,24,24,dtype=np.int32)\n",
    "a"
   ]
  },
  {
   "cell_type": "code",
   "execution_count": 61,
   "id": "3106cd55",
   "metadata": {},
   "outputs": [
    {
     "data": {
      "text/plain": [
       "array([[ 1,  2,  3,  4,  5,  6],\n",
       "       [ 7,  8,  9, 10, 11, 12],\n",
       "       [13, 14, 15, 16, 17, 18],\n",
       "       [19, 20, 21, 22, 23, 24]])"
      ]
     },
     "execution_count": 61,
     "metadata": {},
     "output_type": "execute_result"
    }
   ],
   "source": [
    "# ndarray数组的维度变换\n",
    "# 不改变数组元素，返回一个shape形状的数组，原数组a不变\n",
    "b = a.reshape(4,6)\n",
    "b"
   ]
  },
  {
   "cell_type": "code",
   "execution_count": 62,
   "id": "6c3438eb",
   "metadata": {},
   "outputs": [
    {
     "data": {
      "text/plain": [
       "array([ 1,  2,  3,  4,  5,  6,  7,  8,  9, 10, 11, 12, 13, 14, 15, 16, 17,\n",
       "       18, 19, 20, 21, 22, 23, 24])"
      ]
     },
     "execution_count": 62,
     "metadata": {},
     "output_type": "execute_result"
    }
   ],
   "source": [
    "a"
   ]
  },
  {
   "cell_type": "code",
   "execution_count": 63,
   "id": "e828a332",
   "metadata": {},
   "outputs": [
    {
     "data": {
      "text/plain": [
       "array([[ 1,  2,  3,  4,  5,  6],\n",
       "       [ 7,  8,  9, 10, 11, 12],\n",
       "       [13, 14, 15, 16, 17, 18],\n",
       "       [19, 20, 21, 22, 23, 24]])"
      ]
     },
     "execution_count": 63,
     "metadata": {},
     "output_type": "execute_result"
    }
   ],
   "source": [
    "# 改变数组的shape，且修改原数组\n",
    "a.resize(4,6)\n",
    "a"
   ]
  },
  {
   "cell_type": "code",
   "execution_count": 64,
   "id": "ab45ddbd",
   "metadata": {},
   "outputs": [
    {
     "data": {
      "text/plain": [
       "array([[ 1,  7, 13, 19],\n",
       "       [ 2,  8, 14, 20],\n",
       "       [ 3,  9, 15, 21],\n",
       "       [ 4, 10, 16, 22],\n",
       "       [ 5, 11, 17, 23],\n",
       "       [ 6, 12, 18, 24]])"
      ]
     },
     "execution_count": 64,
     "metadata": {},
     "output_type": "execute_result"
    }
   ],
   "source": [
    "# 将数组n个维度中两个维度进行调换\n",
    "a.swapaxes(1,0)"
   ]
  },
  {
   "cell_type": "code",
   "execution_count": 65,
   "id": "2f204abd",
   "metadata": {},
   "outputs": [
    {
     "data": {
      "text/plain": [
       "array([ 1,  2,  3,  4,  5,  6,  7,  8,  9, 10, 11, 12, 13, 14, 15, 16, 17,\n",
       "       18, 19, 20, 21, 22, 23, 24])"
      ]
     },
     "execution_count": 65,
     "metadata": {},
     "output_type": "execute_result"
    }
   ],
   "source": [
    "# 把数组的维度降低，返回折叠后的一维数组，原数组不变\n",
    "c = a.flatten()\n",
    "c"
   ]
  },
  {
   "cell_type": "code",
   "execution_count": 66,
   "id": "319c7e07",
   "metadata": {},
   "outputs": [
    {
     "data": {
      "text/plain": [
       "array([[ 1,  2,  3,  4,  5,  6],\n",
       "       [ 7,  8,  9, 10, 11, 12],\n",
       "       [13, 14, 15, 16, 17, 18],\n",
       "       [19, 20, 21, 22, 23, 24]])"
      ]
     },
     "execution_count": 66,
     "metadata": {},
     "output_type": "execute_result"
    }
   ],
   "source": [
    "a"
   ]
  },
  {
   "cell_type": "code",
   "execution_count": 67,
   "id": "2db1aca3",
   "metadata": {},
   "outputs": [
    {
     "data": {
      "text/plain": [
       "array([[1., 2., 3.],\n",
       "       [4., 5., 6.],\n",
       "       [7., 8., 9.]])"
      ]
     },
     "execution_count": 67,
     "metadata": {},
     "output_type": "execute_result"
    }
   ],
   "source": [
    "# 创建一个新的数组\n",
    "b = np.linspace(1,9,9)\n",
    "b.resize(3,3)\n",
    "b"
   ]
  },
  {
   "cell_type": "code",
   "execution_count": 68,
   "id": "f1ae04a5",
   "metadata": {},
   "outputs": [
    {
     "data": {
      "text/plain": [
       "dtype('float64')"
      ]
     },
     "execution_count": 68,
     "metadata": {},
     "output_type": "execute_result"
    }
   ],
   "source": [
    "b.dtype"
   ]
  },
  {
   "cell_type": "code",
   "execution_count": 69,
   "id": "fb63e8a2",
   "metadata": {},
   "outputs": [
    {
     "data": {
      "text/plain": [
       "array([[1, 2, 3],\n",
       "       [4, 5, 6],\n",
       "       [7, 8, 9]], dtype=int16)"
      ]
     },
     "execution_count": 69,
     "metadata": {},
     "output_type": "execute_result"
    }
   ],
   "source": [
    "# astype()方法一定会创建新的数组(原始数据的一个拷贝)，即使两个类型一致\n",
    "d = b.astype(np.int16)\n",
    "d"
   ]
  },
  {
   "cell_type": "code",
   "execution_count": 70,
   "id": "8b70172e",
   "metadata": {},
   "outputs": [
    {
     "data": {
      "text/plain": [
       "array([[1., 2., 3.],\n",
       "       [4., 5., 6.],\n",
       "       [7., 8., 9.]])"
      ]
     },
     "execution_count": 70,
     "metadata": {},
     "output_type": "execute_result"
    }
   ],
   "source": [
    "b"
   ]
  },
  {
   "cell_type": "code",
   "execution_count": 71,
   "id": "5d62a8bd",
   "metadata": {},
   "outputs": [
    {
     "data": {
      "text/plain": [
       "[[1.0, 2.0, 3.0], [4.0, 5.0, 6.0], [7.0, 8.0, 9.0]]"
      ]
     },
     "execution_count": 71,
     "metadata": {},
     "output_type": "execute_result"
    }
   ],
   "source": [
    "# 转换成list类型\n",
    "b.tolist()"
   ]
  },
  {
   "cell_type": "markdown",
   "id": "58d9a2e5",
   "metadata": {},
   "source": [
    "## 4.5 ndarray对象的操作"
   ]
  },
  {
   "cell_type": "code",
   "execution_count": 74,
   "id": "01f0b0a9",
   "metadata": {},
   "outputs": [
    {
     "data": {
      "text/plain": [
       "array([[[ 1,  2,  3,  4],\n",
       "        [ 5,  6,  7,  8],\n",
       "        [ 9, 10, 11, 12]],\n",
       "\n",
       "       [[13, 14, 15, 16],\n",
       "        [17, 18, 19, 20],\n",
       "        [21, 22, 23, 24]]])"
      ]
     },
     "execution_count": 74,
     "metadata": {},
     "output_type": "execute_result"
    }
   ],
   "source": [
    "c = np.linspace(1,24,24,dtype=int)\n",
    "c.resize(2,3,4)\n",
    "c"
   ]
  },
  {
   "cell_type": "code",
   "execution_count": 75,
   "id": "ca43d195",
   "metadata": {},
   "outputs": [
    {
     "data": {
      "text/plain": [
       "array([[ 1,  2,  3,  4],\n",
       "       [ 5,  6,  7,  8],\n",
       "       [ 9, 10, 11, 12]])"
      ]
     },
     "execution_count": 75,
     "metadata": {},
     "output_type": "execute_result"
    }
   ],
   "source": [
    "# 索引:获取数组中特定位置元素\n",
    "c[0]"
   ]
  },
  {
   "cell_type": "code",
   "execution_count": 76,
   "id": "16231995",
   "metadata": {},
   "outputs": [
    {
     "data": {
      "text/plain": [
       "array([1, 2, 3, 4])"
      ]
     },
     "execution_count": 76,
     "metadata": {},
     "output_type": "execute_result"
    }
   ],
   "source": [
    "c[0][0]"
   ]
  },
  {
   "cell_type": "code",
   "execution_count": 77,
   "id": "460d5325",
   "metadata": {},
   "outputs": [
    {
     "data": {
      "text/plain": [
       "1"
      ]
     },
     "execution_count": 77,
     "metadata": {},
     "output_type": "execute_result"
    }
   ],
   "source": [
    "# 多维数组索引方式一\n",
    "c[0][0][0]"
   ]
  },
  {
   "cell_type": "code",
   "execution_count": 78,
   "id": "8f4d60e1",
   "metadata": {},
   "outputs": [
    {
     "data": {
      "text/plain": [
       "1"
      ]
     },
     "execution_count": 78,
     "metadata": {},
     "output_type": "execute_result"
    }
   ],
   "source": [
    "# 多维数组索引方式二\n",
    "c[0,0,0]"
   ]
  },
  {
   "cell_type": "code",
   "execution_count": 79,
   "id": "442b85dc",
   "metadata": {},
   "outputs": [
    {
     "data": {
      "text/plain": [
       "array([[ 9, 10, 11, 12]])"
      ]
     },
     "execution_count": 79,
     "metadata": {},
     "output_type": "execute_result"
    }
   ],
   "source": [
    "# 切片:获取数组元素子集\n",
    "c[0][1:3][1:3]"
   ]
  },
  {
   "cell_type": "code",
   "execution_count": 80,
   "id": "5ef2377d",
   "metadata": {},
   "outputs": [
    {
     "data": {
      "text/plain": [
       "array([[ 9, 10, 11, 12]])"
      ]
     },
     "execution_count": 80,
     "metadata": {},
     "output_type": "execute_result"
    }
   ],
   "source": [
    "# 切片:获取数组元素子集\n",
    "c[0][1:3][1:3]"
   ]
  },
  {
   "cell_type": "code",
   "execution_count": 81,
   "id": "6fc4969f",
   "metadata": {},
   "outputs": [
    {
     "data": {
      "text/plain": [
       "array([[ 6,  7],\n",
       "       [10, 11]])"
      ]
     },
     "execution_count": 81,
     "metadata": {},
     "output_type": "execute_result"
    }
   ],
   "source": [
    "c[0,1:3,1:3]"
   ]
  },
  {
   "cell_type": "code",
   "execution_count": 82,
   "id": "64c15dad",
   "metadata": {},
   "outputs": [
    {
     "data": {
      "text/plain": [
       "array([5, 7])"
      ]
     },
     "execution_count": 82,
     "metadata": {},
     "output_type": "execute_result"
    }
   ],
   "source": [
    "# 使用步长跳跃切片\n",
    "c[0,1,::2]"
   ]
  },
  {
   "cell_type": "markdown",
   "id": "9cab9d65",
   "metadata": {},
   "source": [
    "## 5 Numpy的函数与数组运算"
   ]
  },
  {
   "cell_type": "code",
   "execution_count": 83,
   "id": "c48420b0",
   "metadata": {},
   "outputs": [],
   "source": [
    "import numpy as np"
   ]
  },
  {
   "cell_type": "markdown",
   "id": "91a76372",
   "metadata": {},
   "source": [
    "## 5.1 数组与标量之间的运算"
   ]
  },
  {
   "cell_type": "code",
   "execution_count": 84,
   "id": "177e7c81",
   "metadata": {},
   "outputs": [
    {
     "data": {
      "text/plain": [
       "array([[1, 2, 3],\n",
       "       [4, 5, 6],\n",
       "       [7, 8, 9]])"
      ]
     },
     "execution_count": 84,
     "metadata": {},
     "output_type": "execute_result"
    }
   ],
   "source": [
    "a = np.arange(1,10).reshape(3,3)\n",
    "a"
   ]
  },
  {
   "cell_type": "code",
   "execution_count": 85,
   "id": "4ff7a478",
   "metadata": {},
   "outputs": [
    {
     "data": {
      "text/plain": [
       "array([[10, 20, 30],\n",
       "       [40, 50, 60],\n",
       "       [70, 80, 90]])"
      ]
     },
     "execution_count": 85,
     "metadata": {},
     "output_type": "execute_result"
    }
   ],
   "source": [
    "a*10"
   ]
  },
  {
   "cell_type": "code",
   "execution_count": 86,
   "id": "f6742d8a",
   "metadata": {},
   "outputs": [
    {
     "data": {
      "text/plain": [
       "array([[ 1,  4,  9],\n",
       "       [16, 25, 36],\n",
       "       [49, 64, 81]], dtype=int32)"
      ]
     },
     "execution_count": 86,
     "metadata": {},
     "output_type": "execute_result"
    }
   ],
   "source": [
    "a**2"
   ]
  },
  {
   "cell_type": "code",
   "execution_count": 87,
   "id": "daf47846",
   "metadata": {},
   "outputs": [
    {
     "data": {
      "text/plain": [
       "array([[-8, -7, -6],\n",
       "       [-5, -4, -3],\n",
       "       [-2, -1,  0]])"
      ]
     },
     "execution_count": 87,
     "metadata": {},
     "output_type": "execute_result"
    }
   ],
   "source": [
    "a - 9"
   ]
  },
  {
   "cell_type": "code",
   "execution_count": 88,
   "id": "63a1c146",
   "metadata": {},
   "outputs": [
    {
     "data": {
      "text/plain": [
       "array([[False, False, False],\n",
       "       [False, False,  True],\n",
       "       [ True,  True,  True]])"
      ]
     },
     "execution_count": 88,
     "metadata": {},
     "output_type": "execute_result"
    }
   ],
   "source": [
    "# 数组的重要特性，过滤值\n",
    "a > 5"
   ]
  },
  {
   "cell_type": "code",
   "execution_count": 89,
   "id": "ac2b9e75",
   "metadata": {},
   "outputs": [
    {
     "data": {
      "text/plain": [
       "array([6, 7])"
      ]
     },
     "execution_count": 89,
     "metadata": {},
     "output_type": "execute_result"
    }
   ],
   "source": [
    "# 使用多条件过滤,注意运算优先级\n",
    "a[(a>5) & (a<8)]"
   ]
  },
  {
   "cell_type": "markdown",
   "id": "04a0cc17",
   "metadata": {},
   "source": [
    "## 5.2 对数组的元素进行运算"
   ]
  },
  {
   "cell_type": "code",
   "execution_count": 90,
   "id": "5b03c370",
   "metadata": {},
   "outputs": [
    {
     "data": {
      "text/plain": [
       "array([[ 1,  2,  3,  4,  5],\n",
       "       [ 6,  7,  8,  9, 10],\n",
       "       [11, 12, 13, 14, 15],\n",
       "       [16, 17, 18, 19, 20]])"
      ]
     },
     "execution_count": 90,
     "metadata": {},
     "output_type": "execute_result"
    }
   ],
   "source": [
    "b = np.arange(1,21).reshape(4,5)\n",
    "b"
   ]
  },
  {
   "cell_type": "code",
   "execution_count": 91,
   "id": "19879773",
   "metadata": {},
   "outputs": [
    {
     "data": {
      "text/plain": [
       "array([[ 1,  2,  3,  4,  5],\n",
       "       [ 6,  7,  8,  9, 10],\n",
       "       [11, 12, 13, 14, 15],\n",
       "       [16, 17, 18, 19, 20]])"
      ]
     },
     "execution_count": 91,
     "metadata": {},
     "output_type": "execute_result"
    }
   ],
   "source": [
    "# 计算数组各元素的绝对值\n",
    "np.abs(b)"
   ]
  },
  {
   "cell_type": "code",
   "execution_count": 92,
   "id": "b4e4fb92",
   "metadata": {},
   "outputs": [
    {
     "data": {
      "text/plain": [
       "array([[1.        , 1.41421356, 1.73205081, 2.        , 2.23606798],\n",
       "       [2.44948974, 2.64575131, 2.82842712, 3.        , 3.16227766],\n",
       "       [3.31662479, 3.46410162, 3.60555128, 3.74165739, 3.87298335],\n",
       "       [4.        , 4.12310563, 4.24264069, 4.35889894, 4.47213595]])"
      ]
     },
     "execution_count": 92,
     "metadata": {},
     "output_type": "execute_result"
    }
   ],
   "source": [
    "# 计算数组各元素的平方根\n",
    "np.sqrt(b)"
   ]
  },
  {
   "cell_type": "code",
   "execution_count": 93,
   "id": "3d96f82f",
   "metadata": {},
   "outputs": [
    {
     "data": {
      "text/plain": [
       "array([[  1,   4,   9,  16,  25],\n",
       "       [ 36,  49,  64,  81, 100],\n",
       "       [121, 144, 169, 196, 225],\n",
       "       [256, 289, 324, 361, 400]], dtype=int32)"
      ]
     },
     "execution_count": 93,
     "metadata": {},
     "output_type": "execute_result"
    }
   ],
   "source": [
    "# 计算数组各元素的平方\n",
    "np.square(b)"
   ]
  },
  {
   "cell_type": "code",
   "execution_count": 94,
   "id": "3818c1db",
   "metadata": {},
   "outputs": [
    {
     "name": "stdout",
     "output_type": "stream",
     "text": [
      "[[0.         0.69314718 1.09861229 1.38629436 1.60943791]\n",
      " [1.79175947 1.94591015 2.07944154 2.19722458 2.30258509]\n",
      " [2.39789527 2.48490665 2.56494936 2.63905733 2.7080502 ]\n",
      " [2.77258872 2.83321334 2.89037176 2.94443898 2.99573227]]\n",
      "[[0.         0.30103    0.47712125 0.60205999 0.69897   ]\n",
      " [0.77815125 0.84509804 0.90308999 0.95424251 1.        ]\n",
      " [1.04139269 1.07918125 1.11394335 1.14612804 1.17609126]\n",
      " [1.20411998 1.23044892 1.25527251 1.2787536  1.30103   ]]\n",
      "[[0.         1.         1.5849625  2.         2.32192809]\n",
      " [2.5849625  2.80735492 3.         3.169925   3.32192809]\n",
      " [3.45943162 3.5849625  3.70043972 3.80735492 3.9068906 ]\n",
      " [4.         4.08746284 4.169925   4.24792751 4.32192809]]\n"
     ]
    }
   ],
   "source": [
    "# 计算数组各元素的自然对数、10底对数和2底对数\n",
    "print(np.log(b))\n",
    "print(np.log10(b))\n",
    "print(np.log2(b))"
   ]
  },
  {
   "cell_type": "code",
   "execution_count": 95,
   "id": "0b6dbd57",
   "metadata": {},
   "outputs": [
    {
     "data": {
      "text/plain": [
       "array([[0.        , 0.69314718, 1.09861229, 1.38629436, 1.60943791],\n",
       "       [1.79175947, 1.94591015, 2.07944154, 2.19722458, 2.30258509],\n",
       "       [2.39789527, 2.48490665, 2.56494936, 2.63905733, 2.7080502 ],\n",
       "       [2.77258872, 2.83321334, 2.89037176, 2.94443898, 2.99573227]])"
      ]
     },
     "execution_count": 95,
     "metadata": {},
     "output_type": "execute_result"
    }
   ],
   "source": [
    "c = np.log(b)\n",
    "c"
   ]
  },
  {
   "cell_type": "code",
   "execution_count": 96,
   "id": "840b80ca",
   "metadata": {},
   "outputs": [
    {
     "data": {
      "text/plain": [
       "array([[0., 1., 2., 2., 2.],\n",
       "       [2., 2., 3., 3., 3.],\n",
       "       [3., 3., 3., 3., 3.],\n",
       "       [3., 3., 3., 3., 3.]])"
      ]
     },
     "execution_count": 96,
     "metadata": {},
     "output_type": "execute_result"
    }
   ],
   "source": [
    "# 计算数组各元素的ceiling值,向上取整\n",
    "np.ceil(c)"
   ]
  },
  {
   "cell_type": "code",
   "execution_count": 98,
   "id": "b2f5224e",
   "metadata": {},
   "outputs": [
    {
     "data": {
      "text/plain": [
       "array([[0., 0., 1., 1., 1.],\n",
       "       [1., 1., 2., 2., 2.],\n",
       "       [2., 2., 2., 2., 2.],\n",
       "       [2., 2., 2., 2., 2.]])"
      ]
     },
     "execution_count": 98,
     "metadata": {},
     "output_type": "execute_result"
    }
   ],
   "source": [
    "# 计算数组各元素的floor值，向下取整\n",
    "np.floor(c)"
   ]
  },
  {
   "cell_type": "code",
   "execution_count": 99,
   "id": "24c79afe",
   "metadata": {},
   "outputs": [
    {
     "data": {
      "text/plain": [
       "array([[0., 1., 1., 1., 2.],\n",
       "       [2., 2., 2., 2., 2.],\n",
       "       [2., 2., 3., 3., 3.],\n",
       "       [3., 3., 3., 3., 3.]])"
      ]
     },
     "execution_count": 99,
     "metadata": {},
     "output_type": "execute_result"
    }
   ],
   "source": [
    "# 计算数组各元素的四舍五入值\n",
    "np.rint(c)"
   ]
  },
  {
   "cell_type": "code",
   "execution_count": 100,
   "id": "5dcfdf15",
   "metadata": {},
   "outputs": [
    {
     "data": {
      "text/plain": [
       "(array([[0.        , 0.69314718, 0.09861229, 0.38629436, 0.60943791],\n",
       "        [0.79175947, 0.94591015, 0.07944154, 0.19722458, 0.30258509],\n",
       "        [0.39789527, 0.48490665, 0.56494936, 0.63905733, 0.7080502 ],\n",
       "        [0.77258872, 0.83321334, 0.89037176, 0.94443898, 0.99573227]]),\n",
       " array([[0., 0., 1., 1., 1.],\n",
       "        [1., 1., 2., 2., 2.],\n",
       "        [2., 2., 2., 2., 2.],\n",
       "        [2., 2., 2., 2., 2.]]))"
      ]
     },
     "execution_count": 100,
     "metadata": {},
     "output_type": "execute_result"
    }
   ],
   "source": [
    "# 将数组各元素的小数和整数部分以两个独立数组形式返回\n",
    "np.modf(c)"
   ]
  },
  {
   "cell_type": "code",
   "execution_count": 101,
   "id": "87b34a85",
   "metadata": {},
   "outputs": [
    {
     "data": {
      "text/plain": [
       "array([[ 1.        ,  0.7692389 ,  0.45483242,  0.18345697, -0.03863197],\n",
       "       [-0.21916945, -0.36637844, -0.48699442, -0.58625493, -0.66820151],\n",
       "       [-0.73597042, -0.79201976, -0.83829749, -0.87636424, -0.9074833 ],\n",
       "       [-0.93268708, -0.95282672, -0.96860965, -0.98062808, -0.98938122]])"
      ]
     },
     "execution_count": 101,
     "metadata": {},
     "output_type": "execute_result"
    }
   ],
   "source": [
    "# 三角函数\n",
    "np.cos(c)"
   ]
  },
  {
   "cell_type": "markdown",
   "id": "fbced21a",
   "metadata": {},
   "source": [
    "## 5.3 数组之间的运算"
   ]
  },
  {
   "cell_type": "code",
   "execution_count": 102,
   "id": "ad9b6a3f",
   "metadata": {},
   "outputs": [],
   "source": [
    "a = np.arange(1,13).reshape(3,4)\n",
    "b = np.arange(-12,0).reshape(3,4)"
   ]
  },
  {
   "cell_type": "code",
   "execution_count": 103,
   "id": "ee1ce68d",
   "metadata": {},
   "outputs": [
    {
     "data": {
      "text/plain": [
       "array([[ 1,  2,  3,  4],\n",
       "       [ 5,  6,  7,  8],\n",
       "       [ 9, 10, 11, 12]])"
      ]
     },
     "execution_count": 103,
     "metadata": {},
     "output_type": "execute_result"
    }
   ],
   "source": [
    "a"
   ]
  },
  {
   "cell_type": "code",
   "execution_count": 104,
   "id": "dd3bb9f4",
   "metadata": {},
   "outputs": [
    {
     "data": {
      "text/plain": [
       "array([[-12, -11, -10,  -9],\n",
       "       [ -8,  -7,  -6,  -5],\n",
       "       [ -4,  -3,  -2,  -1]])"
      ]
     },
     "execution_count": 104,
     "metadata": {},
     "output_type": "execute_result"
    }
   ],
   "source": [
    "b"
   ]
  },
  {
   "cell_type": "code",
   "execution_count": 105,
   "id": "a54757e9",
   "metadata": {},
   "outputs": [
    {
     "data": {
      "text/plain": [
       "array([[-11,  -9,  -7,  -5],\n",
       "       [ -3,  -1,   1,   3],\n",
       "       [  5,   7,   9,  11]])"
      ]
     },
     "execution_count": 105,
     "metadata": {},
     "output_type": "execute_result"
    }
   ],
   "source": [
    "a + b"
   ]
  },
  {
   "cell_type": "code",
   "execution_count": 107,
   "id": "6fb10bc1",
   "metadata": {},
   "outputs": [
    {
     "data": {
      "text/plain": [
       "array([[ True,  True,  True,  True],\n",
       "       [ True,  True,  True,  True],\n",
       "       [ True,  True,  True,  True]])"
      ]
     },
     "execution_count": 107,
     "metadata": {},
     "output_type": "execute_result"
    }
   ],
   "source": [
    "a > b"
   ]
  },
  {
   "cell_type": "code",
   "execution_count": 108,
   "id": "f84411d0",
   "metadata": {},
   "outputs": [
    {
     "data": {
      "text/plain": [
       "array([[-12, -22, -30, -36],\n",
       "       [-40, -42, -42, -40],\n",
       "       [-36, -30, -22, -12]])"
      ]
     },
     "execution_count": 108,
     "metadata": {},
     "output_type": "execute_result"
    }
   ],
   "source": [
    "a * b"
   ]
  },
  {
   "cell_type": "code",
   "execution_count": 109,
   "id": "1fcc25a2",
   "metadata": {},
   "outputs": [
    {
     "data": {
      "text/plain": [
       "array([[ -0.08333333,  -0.18181818,  -0.3       ,  -0.44444444],\n",
       "       [ -0.625     ,  -0.85714286,  -1.16666667,  -1.6       ],\n",
       "       [ -2.25      ,  -3.33333333,  -5.5       , -12.        ]])"
      ]
     },
     "execution_count": 109,
     "metadata": {},
     "output_type": "execute_result"
    }
   ],
   "source": [
    "a / b"
   ]
  },
  {
   "cell_type": "markdown",
   "id": "94b175ba",
   "metadata": {},
   "source": [
    "## 5.4 统计函数"
   ]
  },
  {
   "cell_type": "code",
   "execution_count": 110,
   "id": "360ec527",
   "metadata": {},
   "outputs": [
    {
     "data": {
      "text/plain": [
       "array([[ 1,  2,  3,  4],\n",
       "       [ 5,  6,  7,  8],\n",
       "       [ 9, 10, 11, 12]])"
      ]
     },
     "execution_count": 110,
     "metadata": {},
     "output_type": "execute_result"
    }
   ],
   "source": [
    "a = np.arange(1,13).reshape(3,4)\n",
    "a"
   ]
  },
  {
   "cell_type": "code",
   "execution_count": 111,
   "id": "10b2c3c5",
   "metadata": {},
   "outputs": [
    {
     "data": {
      "text/plain": [
       "78"
      ]
     },
     "execution_count": 111,
     "metadata": {},
     "output_type": "execute_result"
    }
   ],
   "source": [
    "# 根据给定轴axis计算数组a相关元素之和，axis为整数或元组\n",
    "np.sum(a,axis=(0,1))"
   ]
  },
  {
   "cell_type": "code",
   "execution_count": 112,
   "id": "d1538f08",
   "metadata": {},
   "outputs": [
    {
     "data": {
      "text/plain": [
       "array([15, 18, 21, 24])"
      ]
     },
     "execution_count": 112,
     "metadata": {},
     "output_type": "execute_result"
    }
   ],
   "source": [
    "# 求每列的和\n",
    "np.sum(a,axis=0)"
   ]
  },
  {
   "cell_type": "code",
   "execution_count": 113,
   "id": "f2d713d3",
   "metadata": {},
   "outputs": [
    {
     "data": {
      "text/plain": [
       "array([10, 26, 42])"
      ]
     },
     "execution_count": 113,
     "metadata": {},
     "output_type": "execute_result"
    }
   ],
   "source": [
    "# 求每行的和\n",
    "np.sum(a,axis=1)"
   ]
  },
  {
   "cell_type": "code",
   "execution_count": 114,
   "id": "c6fb43e9",
   "metadata": {},
   "outputs": [
    {
     "data": {
      "text/plain": [
       "78"
      ]
     },
     "execution_count": 114,
     "metadata": {},
     "output_type": "execute_result"
    }
   ],
   "source": [
    "np.sum(a)"
   ]
  },
  {
   "cell_type": "code",
   "execution_count": 115,
   "id": "6251332a",
   "metadata": {},
   "outputs": [
    {
     "data": {
      "text/plain": [
       "1"
      ]
     },
     "execution_count": 115,
     "metadata": {},
     "output_type": "execute_result"
    }
   ],
   "source": [
    "# 部分函数有两种调用方法\n",
    "a.min()"
   ]
  },
  {
   "cell_type": "code",
   "execution_count": 116,
   "id": "0987555c",
   "metadata": {},
   "outputs": [
    {
     "data": {
      "text/plain": [
       "1"
      ]
     },
     "execution_count": 116,
     "metadata": {},
     "output_type": "execute_result"
    }
   ],
   "source": [
    "np.min(a)"
   ]
  },
  {
   "cell_type": "code",
   "execution_count": 117,
   "id": "06b269b2",
   "metadata": {},
   "outputs": [
    {
     "data": {
      "text/plain": [
       "6.5"
      ]
     },
     "execution_count": 117,
     "metadata": {},
     "output_type": "execute_result"
    }
   ],
   "source": [
    "# ndarray对象没有实现自己的median方法\n",
    "np.median(a)"
   ]
  },
  {
   "cell_type": "code",
   "execution_count": 118,
   "id": "448c205e",
   "metadata": {},
   "outputs": [
    {
     "data": {
      "text/plain": [
       "3"
      ]
     },
     "execution_count": 118,
     "metadata": {},
     "output_type": "execute_result"
    }
   ],
   "source": [
    "# 数组元素个数\n",
    "len(a)"
   ]
  },
  {
   "cell_type": "markdown",
   "id": "5020e6f5",
   "metadata": {},
   "source": [
    "## 5.5 随机函数"
   ]
  },
  {
   "cell_type": "code",
   "execution_count": 119,
   "id": "fed3c4cf",
   "metadata": {},
   "outputs": [
    {
     "data": {
      "text/plain": [
       "array([[[0.97058505, 0.73299809, 0.67604498, 0.35567256],\n",
       "        [0.45652808, 0.39159869, 0.58132268, 0.20614145],\n",
       "        [0.09905721, 0.92889331, 0.12560985, 0.39527763]],\n",
       "\n",
       "       [[0.36693213, 0.87801765, 0.96013258, 0.02674043],\n",
       "        [0.12682856, 0.08464953, 0.20074725, 0.66677544],\n",
       "        [0.97763866, 0.63743047, 0.79293715, 0.19814049]]])"
      ]
     },
     "execution_count": 119,
     "metadata": {},
     "output_type": "execute_result"
    }
   ],
   "source": [
    "# 生成指定shape的[0,1]分布随机数\n",
    "np.random.rand(2,3,4)"
   ]
  },
  {
   "cell_type": "code",
   "execution_count": 120,
   "id": "463ad4f7",
   "metadata": {},
   "outputs": [
    {
     "data": {
      "text/plain": [
       "array([[[-0.34969567,  1.64496318, -0.73562208,  1.04001899],\n",
       "        [ 1.02993124, -0.80925134,  1.84045587, -0.23661245],\n",
       "        [ 0.06606951, -1.47299036, -0.3075134 , -0.00766775]],\n",
       "\n",
       "       [[-1.09578191, -2.02553424, -0.77968658,  0.39268505],\n",
       "        [-0.29097798, -0.70571983, -1.23127211,  0.02013144],\n",
       "        [ 0.70139961, -1.44572405, -1.2003624 , -0.04121024]]])"
      ]
     },
     "execution_count": 120,
     "metadata": {},
     "output_type": "execute_result"
    }
   ],
   "source": [
    "# 生成指定shape的标准正态分布随机数\n",
    "np.random.randn(2,3,4)"
   ]
  },
  {
   "cell_type": "code",
   "execution_count": 121,
   "id": "78062797",
   "metadata": {},
   "outputs": [
    {
     "data": {
      "text/plain": [
       "array([[[ 0.12743096, -1.2676465 , -2.66469861, -0.1768854 ],\n",
       "        [ 0.43734167, -0.60568363, -0.22000602,  1.36353866],\n",
       "        [-1.23809086, -1.24180415,  0.20716866, -0.99418395]],\n",
       "\n",
       "       [[ 1.02715744,  1.0866792 ,  0.7337805 , -0.941674  ],\n",
       "        [-0.14395018, -1.2766553 ,  1.45736414,  1.13743944],\n",
       "        [-0.1906304 ,  0.37730205, -1.07521331,  0.24573114]]])"
      ]
     },
     "execution_count": 121,
     "metadata": {},
     "output_type": "execute_result"
    }
   ],
   "source": [
    "# 生成指定shape的标准正态分布随机数\n",
    "np.random.randn(2,3,4)"
   ]
  },
  {
   "cell_type": "code",
   "execution_count": 123,
   "id": "21a4ec11",
   "metadata": {},
   "outputs": [],
   "source": [
    "# 随机数种子\n",
    "np.random.seed(10)\n",
    "#为什么设定随机数种子？\n",
    "#计算机生成的随机数是伪随机数，在多次生成随机数时，只要保证随机数种子一致，即可生成一样的随机数"
   ]
  },
  {
   "cell_type": "code",
   "execution_count": 124,
   "id": "13618a0e",
   "metadata": {},
   "outputs": [
    {
     "data": {
      "text/plain": [
       "array([0.77132064, 0.02075195, 0.63364823, 0.74880388, 0.49850701,\n",
       "       0.22479665, 0.19806286, 0.76053071, 0.16911084, 0.08833981])"
      ]
     },
     "execution_count": 124,
     "metadata": {},
     "output_type": "execute_result"
    }
   ],
   "source": [
    "# uniform(low=0.0, high=1.0, size=None)均匀分布\n",
    "np.random.uniform(size =10)"
   ]
  },
  {
   "cell_type": "code",
   "execution_count": 125,
   "id": "20edcd49",
   "metadata": {},
   "outputs": [
    {
     "data": {
      "text/plain": [
       "array([10.26551159, 10.10854853, 10.00429143,  9.82539979, 10.43302619,\n",
       "       11.20303737,  9.03493433, 11.02827408, 10.22863013, 10.44513761,\n",
       "        8.86339779, 10.13513688, 11.484537  ,  8.92019511,  8.02227172,\n",
       "        8.2566277 , 10.26607016, 12.38496733, 11.12369125, 11.67262221])"
      ]
     },
     "execution_count": 125,
     "metadata": {},
     "output_type": "execute_result"
    }
   ],
   "source": [
    "# normal(loc=0.0, scale=1.0, size=None)正态分布\n",
    "np.random.normal(10,1,20) "
   ]
  },
  {
   "cell_type": "code",
   "execution_count": 126,
   "id": "06d26170",
   "metadata": {},
   "outputs": [
    {
     "data": {
      "text/plain": [
       "array([3, 0, 0, 0, 1, 1, 1, 1, 1, 1])"
      ]
     },
     "execution_count": 126,
     "metadata": {},
     "output_type": "execute_result"
    }
   ],
   "source": [
    "# poisson(lam=1.0, size=None)泊松分布\n",
    "np.random.poisson(size = 10)"
   ]
  },
  {
   "cell_type": "code",
   "execution_count": 127,
   "id": "068fced9",
   "metadata": {},
   "outputs": [
    {
     "data": {
      "text/plain": [
       "array([[ 1,  2,  3,  4],\n",
       "       [ 5,  6,  7,  8],\n",
       "       [ 9, 10, 11, 12]])"
      ]
     },
     "execution_count": 127,
     "metadata": {},
     "output_type": "execute_result"
    }
   ],
   "source": [
    "a = np.arange(1,13).reshape(3,4)\n",
    "a"
   ]
  },
  {
   "cell_type": "code",
   "execution_count": 128,
   "id": "6f2ac508",
   "metadata": {},
   "outputs": [
    {
     "data": {
      "text/plain": [
       "array([[ 9, 10, 11, 12],\n",
       "       [ 5,  6,  7,  8],\n",
       "       [ 1,  2,  3,  4]])"
      ]
     },
     "execution_count": 128,
     "metadata": {},
     "output_type": "execute_result"
    }
   ],
   "source": [
    "# 根据数组a的第1轴进行随排列，改变数组a\n",
    "np.random.shuffle(a)\n",
    "a"
   ]
  },
  {
   "cell_type": "code",
   "execution_count": 129,
   "id": "3519704b",
   "metadata": {},
   "outputs": [
    {
     "data": {
      "text/plain": [
       "array([[ 9, 10, 11, 12],\n",
       "       [ 5,  6,  7,  8],\n",
       "       [ 1,  2,  3,  4]])"
      ]
     },
     "execution_count": 129,
     "metadata": {},
     "output_type": "execute_result"
    }
   ],
   "source": [
    "# 根据数组a的第1轴产生一个新的乱序数组，不改变数组a\n",
    "np.random.permutation(a)\n",
    "a"
   ]
  },
  {
   "cell_type": "code",
   "execution_count": 130,
   "id": "1b0cfa66",
   "metadata": {},
   "outputs": [],
   "source": [
    "b = np.arange(100)"
   ]
  },
  {
   "cell_type": "code",
   "execution_count": 131,
   "id": "2d99aae1",
   "metadata": {},
   "outputs": [
    {
     "data": {
      "text/plain": [
       "array([85, 22, 11, 12, 92, 96, 62, 57, 79, 42])"
      ]
     },
     "execution_count": 131,
     "metadata": {},
     "output_type": "execute_result"
    }
   ],
   "source": [
    "# 从一维数组b中随机抽取size个数形成新数组 replace表示是否可以重用元素，默认为False\n",
    "np.random.choice(b,size=10,replace=True)"
   ]
  },
  {
   "cell_type": "markdown",
   "id": "b03b7c29",
   "metadata": {},
   "source": [
    "## 6 Numpy数据的存取"
   ]
  },
  {
   "cell_type": "markdown",
   "id": "f6ad9ff4",
   "metadata": {},
   "source": [
    "## 6.1 csv数据文件的存取"
   ]
  },
  {
   "cell_type": "code",
   "execution_count": 132,
   "id": "3694d5c6",
   "metadata": {},
   "outputs": [
    {
     "data": {
      "text/plain": [
       "array([[ 1,  2,  3,  4,  5,  6,  7,  8,  9],\n",
       "       [10, 11, 12, 13, 14, 15, 16, 17, 18],\n",
       "       [19, 20, 21, 22, 23, 24, 25, 26, 27],\n",
       "       [28, 29, 30, 31, 32, 33, 34, 35, 36],\n",
       "       [37, 38, 39, 40, 41, 42, 43, 44, 45],\n",
       "       [46, 47, 48, 49, 50, 51, 52, 53, 54],\n",
       "       [55, 56, 57, 58, 59, 60, 61, 62, 63],\n",
       "       [64, 65, 66, 67, 68, 69, 70, 71, 72],\n",
       "       [73, 74, 75, 76, 77, 78, 79, 80, 81]])"
      ]
     },
     "execution_count": 132,
     "metadata": {},
     "output_type": "execute_result"
    }
   ],
   "source": [
    "a = np.arange(1,82).reshape(9,9)\n",
    "a"
   ]
  },
  {
   "cell_type": "code",
   "execution_count": 133,
   "id": "4a25a63b",
   "metadata": {},
   "outputs": [],
   "source": [
    "# 保存到本地\n",
    "np.savetxt('a.csv',a,fmt ='%d',delimiter=',')\n",
    "#csv文件的局限性:CSV只能有效存储一维和二维数组"
   ]
  },
  {
   "cell_type": "code",
   "execution_count": 136,
   "id": "7ce944a8",
   "metadata": {},
   "outputs": [
    {
     "data": {
      "text/plain": [
       "array([[ 1.,  2.,  3.,  4.,  5.,  6.,  7.,  8.,  9.],\n",
       "       [10., 11., 12., 13., 14., 15., 16., 17., 18.],\n",
       "       [19., 20., 21., 22., 23., 24., 25., 26., 27.],\n",
       "       [28., 29., 30., 31., 32., 33., 34., 35., 36.],\n",
       "       [37., 38., 39., 40., 41., 42., 43., 44., 45.],\n",
       "       [46., 47., 48., 49., 50., 51., 52., 53., 54.],\n",
       "       [55., 56., 57., 58., 59., 60., 61., 62., 63.],\n",
       "       [64., 65., 66., 67., 68., 69., 70., 71., 72.],\n",
       "       [73., 74., 75., 76., 77., 78., 79., 80., 81.]])"
      ]
     },
     "execution_count": 136,
     "metadata": {},
     "output_type": "execute_result"
    }
   ],
   "source": [
    "# 载入刚刚保存的csv文件\n",
    "np.loadtxt('a.csv',dtype=float,delimiter=',')"
   ]
  },
  {
   "cell_type": "code",
   "execution_count": 137,
   "id": "6e7eedea",
   "metadata": {},
   "outputs": [
    {
     "data": {
      "text/plain": [
       "array([[ 1,  2,  3,  4,  5,  6],\n",
       "       [ 7,  8,  9, 10, 11, 12],\n",
       "       [13, 14, 15, 16, 17, 18],\n",
       "       [19, 20, 21, 22, 23, 24]])"
      ]
     },
     "execution_count": 137,
     "metadata": {},
     "output_type": "execute_result"
    }
   ],
   "source": [
    "b = np.arange(1,25).reshape(4,6)\n",
    "b"
   ]
  },
  {
   "cell_type": "code",
   "execution_count": 138,
   "id": "7dca5c75",
   "metadata": {},
   "outputs": [],
   "source": [
    "# 保存到本地\n",
    "np.savetxt('b.csv',b,fmt ='%d',delimiter=',')"
   ]
  },
  {
   "cell_type": "markdown",
   "id": "efc7b701",
   "metadata": {},
   "source": [
    "## 6.2 多维度数据的存取"
   ]
  },
  {
   "cell_type": "code",
   "execution_count": 139,
   "id": "6869c1f6",
   "metadata": {},
   "outputs": [],
   "source": [
    "# 存储多维数据\n",
    "b.tofile('b.dat',sep=',',format='%d')"
   ]
  },
  {
   "cell_type": "code",
   "execution_count": 141,
   "id": "8eefbf97",
   "metadata": {},
   "outputs": [
    {
     "data": {
      "text/plain": [
       "array([[[ 1.,  2.,  3.,  4.],\n",
       "        [ 5.,  6.,  7.,  8.],\n",
       "        [ 9., 10., 11., 12.]],\n",
       "\n",
       "       [[13., 14., 15., 16.],\n",
       "        [17., 18., 19., 20.],\n",
       "        [21., 22., 23., 24.]]])"
      ]
     },
     "execution_count": 141,
     "metadata": {},
     "output_type": "execute_result"
    }
   ],
   "source": [
    "# 读取多维数据,并按照原来的维度还原\n",
    "np.fromfile('b.dat',dtype=float,count=-1,sep=',').reshape(2,3,4)\n",
    "# 注意：该方法需要读取时知道存入文件时数组的维度和元素类型 .tofile()和np.fromfile()需要配合使用\n",
    "#可以通过元数据文件来存储额外信息"
   ]
  },
  {
   "cell_type": "markdown",
   "id": "fd33d785",
   "metadata": {},
   "source": [
    "## 6.3 NumPy的便捷文件存取"
   ]
  },
  {
   "cell_type": "code",
   "execution_count": 142,
   "id": "ed2276bd",
   "metadata": {},
   "outputs": [],
   "source": [
    "# 存储\n",
    "np.save('b.npy',b)"
   ]
  },
  {
   "cell_type": "code",
   "execution_count": 143,
   "id": "1028c643",
   "metadata": {},
   "outputs": [
    {
     "data": {
      "text/plain": [
       "array([[ 1,  2,  3,  4,  5,  6],\n",
       "       [ 7,  8,  9, 10, 11, 12],\n",
       "       [13, 14, 15, 16, 17, 18],\n",
       "       [19, 20, 21, 22, 23, 24]])"
      ]
     },
     "execution_count": 143,
     "metadata": {},
     "output_type": "execute_result"
    }
   ],
   "source": [
    "# 读入\n",
    "np.load('b.npy')"
   ]
  },
  {
   "cell_type": "markdown",
   "id": "05f31c5a",
   "metadata": {},
   "source": [
    "# <font face = \"微软雅黑\" color = blue size = 6>实验总结</font>"
   ]
  },
  {
   "cell_type": "markdown",
   "id": "4e635c66",
   "metadata": {},
   "source": [
    "## 在实验中，通过对Numpy各种基本操作的实践练习，加深了学生对Numpy数据结构及其功能的理解，为以后学习和工作中Numpy的使用提供指南。"
   ]
  },
  {
   "cell_type": "code",
   "execution_count": null,
   "id": "17f7d2a4",
   "metadata": {},
   "outputs": [],
   "source": []
  }
 ],
 "metadata": {
  "kernelspec": {
   "display_name": "Python 3 (ipykernel)",
   "language": "python",
   "name": "python3"
  },
  "language_info": {
   "codemirror_mode": {
    "name": "ipython",
    "version": 3
   },
   "file_extension": ".py",
   "mimetype": "text/x-python",
   "name": "python",
   "nbconvert_exporter": "python",
   "pygments_lexer": "ipython3",
   "version": "3.9.0"
  }
 },
 "nbformat": 4,
 "nbformat_minor": 5
}
