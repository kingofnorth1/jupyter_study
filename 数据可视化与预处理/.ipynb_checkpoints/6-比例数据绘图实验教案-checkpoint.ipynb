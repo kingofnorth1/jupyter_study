{
 "cells": [
  {
   "cell_type": "markdown",
   "id": "5cae6c5e",
   "metadata": {},
   "source": [
    "# <font face = \"微软雅黑\" color = blue size = 6>实验名称</font>"
   ]
  },
  {
   "cell_type": "markdown",
   "id": "20103a09",
   "metadata": {},
   "source": [
    "## 比例数据可视化"
   ]
  },
  {
   "cell_type": "markdown",
   "id": "747b14a0",
   "metadata": {},
   "source": [
    "# <font face = \"微软雅黑\" color = blue size = 6>实验目的</font>"
   ]
  },
  {
   "cell_type": "markdown",
   "id": "de67b57c",
   "metadata": {},
   "source": [
    "## 通过该实验的实践，要求学生可以理解数据部分与整体的关系，掌握matplotlib和pyecharts的使用过程，能够熟练绘制常见的适合展示比例数据的图表。"
   ]
  },
  {
   "cell_type": "markdown",
   "id": "43705c26",
   "metadata": {},
   "source": [
    "# <font face = \"微软雅黑\" color = blue size = 6>实验背景</font>"
   ]
  },
  {
   "cell_type": "markdown",
   "id": "801698f5",
   "metadata": {},
   "source": [
    "## 比例数据是在日常生活和社会工作中十分常见的一种数据，它是通过部分占整体的比例来表示整体与部分，部分与部分之间关系，比如商业活动中，各细分市场的销量占比数据； 全国各省份的GDP排行情况等。对比例数据进行可视化展示，有很强的实用性。"
   ]
  },
  {
   "cell_type": "markdown",
   "id": "141a9193",
   "metadata": {},
   "source": [
    "# <font face = \"微软雅黑\" color = blue size = 6>实验原理</font>"
   ]
  },
  {
   "cell_type": "markdown",
   "id": "4918d4f1",
   "metadata": {},
   "source": [
    "## 饼图：展示各类的比例分布\n",
    "## 环形图：展示各类的比例分布并增加标签说明\n",
    "## 百分比堆叠柱状图：展示多个不同类别下的相同子类的占比情况\n",
    "## 百分比堆叠面积图：展示多个类别随时间变化的比例变化趋势\n",
    "## 矩形树图：通过面积差异展示不同分类的比例差异，通过交互可以下钻到二级分类\n",
    "## 华夫饼图：通过单位矩形个数展示不同类别比例差异"
   ]
  },
  {
   "cell_type": "markdown",
   "id": "b0d7b408",
   "metadata": {},
   "source": [
    "# <font face = \"微软雅黑\" color = blue size = 6>实验环境</font>"
   ]
  },
  {
   "cell_type": "markdown",
   "id": "e0e2fc5f",
   "metadata": {},
   "source": [
    "## ubuntu 16.04\n",
    "\n",
    "## Python 3.6.5\n",
    "\n",
    "## pyecharts 0.5.11\n",
    "\n",
    "## matplotlib 3.2.0"
   ]
  },
  {
   "cell_type": "markdown",
   "id": "27cefbd1",
   "metadata": {},
   "source": [
    "# <font face = \"微软雅黑\" color = blue size = 6>实验步骤</font>"
   ]
  },
  {
   "cell_type": "markdown",
   "id": "4990ba34",
   "metadata": {},
   "source": [
    "## 2 环境准备，安装所需的库"
   ]
  },
  {
   "cell_type": "markdown",
   "id": "059b3696",
   "metadata": {},
   "source": [
    "## 2 安装pyecharts"
   ]
  },
  {
   "cell_type": "code",
   "execution_count": 9,
   "id": "3133e210",
   "metadata": {},
   "outputs": [
    {
     "name": "stdout",
     "output_type": "stream",
     "text": [
      "Collecting pyecharts==0.5.11\n",
      "  Using cached pyecharts-0.5.11-py2.py3-none-any.whl (122 kB)\n",
      "Requirement already satisfied: future in d:\\programfiles\\anaconda3\\lib\\site-packages (from pyecharts==0.5.11) (0.18.2)\n",
      "Collecting jupyter-echarts-pypkg==0.1.2\n",
      "  Using cached jupyter_echarts_pypkg-0.1.2-py3-none-any.whl\n",
      "Requirement already satisfied: lml==0.0.2 in d:\\programfiles\\anaconda3\\lib\\site-packages (from pyecharts==0.5.11) (0.0.2)\n",
      "Requirement already satisfied: pillow in d:\\programfiles\\anaconda3\\lib\\site-packages (from pyecharts==0.5.11) (9.0.1)\n",
      "Requirement already satisfied: jinja2 in d:\\programfiles\\anaconda3\\lib\\site-packages (from pyecharts==0.5.11) (2.11.3)\n",
      "Collecting pyecharts-javascripthon==0.0.6\n",
      "  Using cached pyecharts_javascripthon-0.0.6-py2.py3-none-any.whl (9.3 kB)\n",
      "Requirement already satisfied: pyecharts-jupyter-installer==0.0.3 in d:\\programfiles\\anaconda3\\lib\\site-packages (from jupyter-echarts-pypkg==0.1.2->pyecharts==0.5.11) (0.0.3)\n",
      "Collecting javascripthon>=0.10\n",
      "  Using cached javascripthon-0.12-py3-none-any.whl (526 kB)\n",
      "Collecting dukpy\n",
      "  Using cached dukpy-0.2.3.tar.gz (1.9 MB)\n",
      "Requirement already satisfied: setuptools in d:\\programfiles\\anaconda3\\lib\\site-packages (from javascripthon>=0.10->pyecharts-javascripthon==0.0.6->pyecharts==0.5.11) (61.2.0)\n",
      "Requirement already satisfied: MarkupSafe>=0.23 in d:\\programfiles\\anaconda3\\lib\\site-packages (from jinja2->pyecharts==0.5.11) (2.0.1)\n",
      "Building wheels for collected packages: dukpy\n",
      "  Building wheel for dukpy (setup.py): started\n",
      "  Building wheel for dukpy (setup.py): finished with status 'done'\n",
      "  Created wheel for dukpy: filename=dukpy-0.2.3-cp39-cp39-win_amd64.whl size=1262292 sha256=1609f947e7b557840389fe596c15159946228050b8dec8c4b600bd3a3378703c\n",
      "  Stored in directory: c:\\users\\lenov\\appdata\\local\\pip\\cache\\wheels\\68\\81\\1c\\587c6743986b3153a950f942e68a487e6c5a8873aa06680262\n",
      "Successfully built dukpy\n",
      "Installing collected packages: dukpy, javascripthon, pyecharts-javascripthon, jupyter-echarts-pypkg, pyecharts\n",
      "Successfully installed dukpy-0.2.3 javascripthon-0.12 jupyter-echarts-pypkg-0.1.2 pyecharts-0.5.11 pyecharts-javascripthon-0.0.6\n"
     ]
    }
   ],
   "source": [
    "!pip install pyecharts==0.5.11 "
   ]
  },
  {
   "cell_type": "markdown",
   "id": "3fe607c2",
   "metadata": {},
   "source": [
    "## 3 饼图"
   ]
  },
  {
   "cell_type": "code",
   "execution_count": 3,
   "id": "2ec76e97",
   "metadata": {},
   "outputs": [],
   "source": [
    "from pyecharts import Pie\n",
    "import pandas as pd\n",
    "vote_result = pd.read_csv('./vote_result.csv')\n",
    "pie = Pie(\"数据可视化-用户感兴趣领域\",\n",
    "          \"以下是读者的投票结果。\\n\"\n",
    "          \"读者对金融、医疗保健、市场业3个领域最感兴趣。\",title_pos='left')\n",
    "#pie = Pie(\"饼图示例\")\n",
    "pie.add(\"\", vote_result['Areas_of_interest'], vote_result['Votes'], center=[60, 60],legend_orient=\"vertical\",\n",
    "    legend_pos=\"right\",is_label_show=True)\n",
    "#pie.add(\"\", vote_result['Areas_of_interest'], vote_result['Votes'],is_legend_show=False,is_label_show=True)\n",
    "#pie.add(\"\", vote_result['Areas_of_interest'], vote_result['Votes'], is_label_show=False)\n",
    "pie.render('./1.饼图.html')"
   ]
  },
  {
   "cell_type": "markdown",
   "id": "be0d5806",
   "metadata": {},
   "source": [
    "## 4 环形图"
   ]
  },
  {
   "cell_type": "code",
   "execution_count": 6,
   "id": "4f07e8ae",
   "metadata": {},
   "outputs": [],
   "source": [
    "from pyecharts import Pie\n",
    "import pandas as pd\n",
    "\n",
    "vote_result = pd.read_csv('./vote_result.csv')\n",
    "pie = Pie(\"数据可视化-用户感兴趣领域\",\n",
    "          \"以下是读者的投票结果。\\n\"\n",
    "          \"读者对金融、医疗保健、市场业3个领域最感兴趣。\",title_pos='left')\n",
    "pie.add(\"\", vote_result['Areas_of_interest'], vote_result['Votes'], center=[60, 60],legend_orient=\"vertical\",\n",
    "radius=[30, 75],legend_pos=\"right\",is_label_show=True)\n",
    "pie.render('./2.环形图.html')"
   ]
  },
  {
   "cell_type": "markdown",
   "id": "846aafcb",
   "metadata": {},
   "source": [
    "## 5 堆叠柱形图1"
   ]
  },
  {
   "cell_type": "code",
   "execution_count": 8,
   "id": "2dddd1c3",
   "metadata": {},
   "outputs": [],
   "source": [
    "from pyecharts import Bar\n",
    "import pandas as pd\n",
    "pre_approval_rate = pd.read_csv('./presidential_approval_rate.csv')\n",
    "bar = Bar(\"柱状图数据堆叠示例\")\n",
    "bar.add(\"支持\", pre_approval_rate['political_issue'], pre_approval_rate['support'], is_stack=True)\n",
    "bar.add(\"反对\", pre_approval_rate['political_issue'], pre_approval_rate['oppose'], is_stack=True)\n",
    "bar.add(\"不发表意见\", pre_approval_rate['political_issue'], pre_approval_rate['no_opinion'],xaxis_rotate=30, is_stack=True)\n",
    "bar.render('./3.1堆叠柱形图.html')"
   ]
  },
  {
   "cell_type": "markdown",
   "id": "904d9fa7",
   "metadata": {},
   "source": [
    "## 6 堆叠柱形图2"
   ]
  },
  {
   "cell_type": "code",
   "execution_count": 9,
   "id": "cb762b11",
   "metadata": {},
   "outputs": [],
   "source": [
    "from pyecharts import Bar\n",
    "import pandas as pd\n",
    "pre_approval_rate = pd.read_csv('./presidential_approval_rate.csv')\n",
    "bar = Bar(\"柱状图数据堆叠示例\",title_pos='center')\n",
    "list_support = ['支持','反对','不发表意见']\n",
    "for i in range(pre_approval_rate.iloc[:,0].size):\n",
    "    issue = pre_approval_rate.loc[i,'political_issue']\n",
    "    bar.add(issue, list_support, pre_approval_rate.loc[i,['support','oppose','no_opinion']], legend_orient=\"vertical\",legend_pos=\"right\",is_stack=True)\n",
    "bar.render('./3.2堆叠柱形图.html')"
   ]
  },
  {
   "cell_type": "markdown",
   "id": "cce56286",
   "metadata": {},
   "source": [
    "## 7 树图"
   ]
  },
  {
   "cell_type": "code",
   "execution_count": 11,
   "id": "f3c9c043",
   "metadata": {},
   "outputs": [],
   "source": [
    "import os\n",
    "import json\n",
    "import codecs\n",
    "from pyecharts import Tree\n",
    "with codecs.open(\"./GDP_data.json\", \"r\", encoding=\"utf-8\") as f:\n",
    "    j = json.load(f)\n",
    "data = [j]\n",
    "tree = Tree(width=1200, height=800)\n",
    "tree.add(\"\", data) #, tree_collapse_interval=2\n",
    "tree.render('./4.1树图.html')"
   ]
  },
  {
   "cell_type": "markdown",
   "id": "f1448497",
   "metadata": {},
   "source": [
    "## 8 矩形树图"
   ]
  },
  {
   "cell_type": "code",
   "execution_count": 12,
   "id": "aca004d7",
   "metadata": {},
   "outputs": [],
   "source": [
    "import os\n",
    "import json\n",
    "from pyecharts import TreeMap\n",
    "with open(\"./GDP_data_1.json\", \"r\", encoding=\"utf-8\") as f:\n",
    "        data = json.load(f)\n",
    "treemap = TreeMap(\"矩形树图示例\", width=1200, height=600)\n",
    "treemap.add(\"演示数据\", data, is_label_show=True, label_pos='inside') #,treemap_left_depth=1\n",
    "treemap.render('./5.1矩形树图.html')"
   ]
  },
  {
   "cell_type": "markdown",
   "id": "8cb3b096",
   "metadata": {},
   "source": [
    "## 9 面积折线图"
   ]
  },
  {
   "cell_type": "code",
   "execution_count": 15,
   "id": "88085b77",
   "metadata": {},
   "outputs": [],
   "source": [
    "from pyecharts import Line\n",
    "import pandas as pd\n",
    "year_population_age = pd.read_csv('./us_population_by_age.csv')\n",
    "# 面积折线图\n",
    "line3 =Line(\"人口老龄化\",width=700, height=500)\n",
    "line3.add(\"5岁以下\",\n",
    "          year_population_age['year'],\n",
    "          year_population_age['year_under5'],\n",
    "          is_fill=True,\n",
    "          area_color='red',\n",
    "          #line_opacity=0.2,\n",
    "          area_opacity=0.5,\n",
    "          #symbol=None,\n",
    "          mark_point=['max'],\n",
    "          is_stack=True)\n",
    "line3.add(\"5至19岁\",\n",
    "          year_population_age['year'],\n",
    "          year_population_age['year5_19'],\n",
    "          is_fill=True,\n",
    "          #area_color='#a3aed5',\n",
    "          area_color='blue',\n",
    "          area_opacity=0.5,\n",
    "          is_smooth=True,\n",
    "          is_stack = True)\n",
    "line3.add(\"20至44岁\",\n",
    "          year_population_age['year'],\n",
    "          year_population_age['year20_44'],\n",
    "          is_fill=True,\n",
    "          #area_color='#a3aed5',\n",
    "          area_color='green',\n",
    "          area_opacity=0.5,\n",
    "          is_smooth=True,\n",
    "          is_stack = True)\n",
    "line3.add(\"45至64岁\",\n",
    "          year_population_age['year'],\n",
    "          year_population_age['year45_64'],\n",
    "          is_fill=True,\n",
    "          #area_color='#a3aed5',\n",
    "          area_color='yellow',\n",
    "          area_opacity=0.5,\n",
    "          is_smooth=True,\n",
    "          is_stack = True)\n",
    "line3.add(\"65岁以上\",\n",
    "          year_population_age['year'],\n",
    "          year_population_age['year65above'],\n",
    "          is_fill=True,\n",
    "          #area_color='#a3aed5',\n",
    "          area_color='orange',\n",
    "          area_opacity=0.5,\n",
    "          is_smooth=True,\n",
    "          xaxis_rotate = 30,\n",
    "          legend_orient=\"vertical\",\n",
    "          legend_pos=\"right\",\n",
    "          is_stack = True)\n",
    "line3.render(path='./6.面积折线图.html')"
   ]
  },
  {
   "cell_type": "markdown",
   "id": "277c7184",
   "metadata": {},
   "source": [
    "## 10 华夫饼图"
   ]
  },
  {
   "cell_type": "markdown",
   "id": "cdf61763",
   "metadata": {},
   "source": []
  },
  {
   "cell_type": "code",
   "execution_count": null,
   "id": "249f2906",
   "metadata": {},
   "outputs": [
    {
     "name": "stdout",
     "output_type": "stream",
     "text": [
      "Requirement already satisfied: pywaffle in d:\\programfiles\\anaconda3\\lib\\site-packages (1.1.0)\n",
      "Requirement already satisfied: matplotlib in d:\\programfiles\\anaconda3\\lib\\site-packages (from pywaffle) (3.5.1)\n",
      "Requirement already satisfied: fontawesomefree in d:\\programfiles\\anaconda3\\lib\\site-packages (from pywaffle) (6.2.0)\n",
      "Requirement already satisfied: numpy>=1.17 in d:\\programfiles\\anaconda3\\lib\\site-packages (from matplotlib->pywaffle) (1.21.0)\n",
      "Requirement already satisfied: fonttools>=4.22.0 in d:\\programfiles\\anaconda3\\lib\\site-packages (from matplotlib->pywaffle) (4.25.0)\n",
      "Requirement already satisfied: packaging>=20.0 in d:\\programfiles\\anaconda3\\lib\\site-packages (from matplotlib->pywaffle) (21.3)\n",
      "Requirement already satisfied: python-dateutil>=2.7 in d:\\programfiles\\anaconda3\\lib\\site-packages (from matplotlib->pywaffle) (2.8.2)\n",
      "Requirement already satisfied: pillow>=6.2.0 in d:\\programfiles\\anaconda3\\lib\\site-packages (from matplotlib->pywaffle) (9.0.1)\n",
      "Requirement already satisfied: kiwisolver>=1.0.1 in d:\\programfiles\\anaconda3\\lib\\site-packages (from matplotlib->pywaffle) (1.3.2)\n",
      "Requirement already satisfied: cycler>=0.10 in d:\\programfiles\\anaconda3\\lib\\site-packages (from matplotlib->pywaffle) (0.11.0)\n",
      "Requirement already satisfied: pyparsing>=2.2.1 in d:\\programfiles\\anaconda3\\lib\\site-packages (from matplotlib->pywaffle) (3.0.4)\n",
      "Requirement already satisfied: six>=1.5 in d:\\programfiles\\anaconda3\\lib\\site-packages (from python-dateutil>=2.7->matplotlib->pywaffle) (1.16.0)\n"
     ]
    }
   ],
   "source": [
    "!pip install pywaffle "
   ]
  },
  {
   "cell_type": "code",
   "execution_count": 19,
   "id": "c5c582f9",
   "metadata": {},
   "outputs": [
    {
     "data": {
      "image/png": "[encoded data removed]",
      "text/plain": [
       "<Waffle size 1152x648 with 1 Axes>"
      ]
     },
     "metadata": {
      "needs_background": "light"
     },
     "output_type": "display_data"
    }
   ],
   "source": [
    "from pywaffle import Waffle\n",
    "import matplotlib.pyplot as plt\n",
    "\n",
    "# Import\n",
    "df_raw = pd.read_csv(\"./mpg_ggplot2.csv\")\n",
    "\n",
    "# Prepare Data\n",
    "df = df_raw.groupby('class').size().reset_index(name='counts')\n",
    "n_categories = df.shape[0]\n",
    "colors = [plt.cm.inferno_r(i/float(n_categories)) for i in range(n_categories)]\n",
    "\n",
    "# Draw Plot and Decorate\n",
    "fig = plt.figure(\n",
    "    FigureClass=Waffle,\n",
    "    plots={\n",
    "        111: {\n",
    "            'values': df['counts'],\n",
    "            'labels': [\"{0} ({1})\".format(n[0], n[1]) for n in df[['class', 'counts']].itertuples()],\n",
    "            'legend': {'loc': 'upper left', 'bbox_to_anchor': (1.05, 1), 'fontsize': 12},\n",
    "            'title': {'label': '# Vehicles by Class', 'loc': 'center', 'fontsize':18}\n",
    "        },\n",
    "    },\n",
    "    rows=7,\n",
    "    colors=colors,\n",
    "    figsize=(16, 9)\n",
    ")"
   ]
  },
  {
   "cell_type": "code",
   "execution_count": 20,
   "id": "f3740ad5",
   "metadata": {},
   "outputs": [
    {
     "data": {
      "image/png": "[encoded data removed]",
      "text/plain": [
       "<Waffle size 1152x1008 with 3 Axes>"
      ]
     },
     "metadata": {
      "needs_background": "light"
     },
     "output_type": "display_data"
    }
   ],
   "source": [
    "from pywaffle import Waffle\n",
    "\n",
    "# Import\n",
    "# df_raw = pd.read_csv(\"https://github.com/selva86/datasets/raw/master/mpg_ggplot2.csv\")\n",
    "\n",
    "# Prepare Data\n",
    "# By Class Data\n",
    "df_class = df_raw.groupby('class').size().reset_index(name='counts_class')\n",
    "n_categories = df_class.shape[0]\n",
    "colors_class = [plt.cm.Set3(i/float(n_categories)) for i in range(n_categories)]\n",
    "\n",
    "# By Cylinders Data\n",
    "df_cyl = df_raw.groupby('cyl').size().reset_index(name='counts_cyl')\n",
    "n_categories = df_cyl.shape[0]\n",
    "colors_cyl = [plt.cm.Spectral(i/float(n_categories)) for i in range(n_categories)]\n",
    "\n",
    "# By Make Data\n",
    "df_make = df_raw.groupby('manufacturer').size().reset_index(name='counts_make')\n",
    "n_categories = df_make.shape[0]\n",
    "colors_make = [plt.cm.tab20b(i/float(n_categories)) for i in range(n_categories)]\n",
    "\n",
    "\n",
    "# Draw Plot and Decorate\n",
    "fig = plt.figure(\n",
    "    FigureClass=Waffle,\n",
    "    plots={\n",
    "        311: {\n",
    "            'values': df_class['counts_class'],\n",
    "            'labels': [\"{1}\".format(n[0], n[1]) for n in df_class[['class', 'counts_class']].itertuples()],\n",
    "            'legend': {'loc': 'upper left', 'bbox_to_anchor': (1.05, 1), 'fontsize': 12, 'title':'Class'},\n",
    "            'title': {'label': '# Vehicles by Class', 'loc': 'center', 'fontsize':18},\n",
    "            'colors': colors_class\n",
    "        },\n",
    "        312: {\n",
    "            'values': df_cyl['counts_cyl'],\n",
    "            'labels': [\"{1}\".format(n[0], n[1]) for n in df_cyl[['cyl', 'counts_cyl']].itertuples()],\n",
    "            'legend': {'loc': 'upper left', 'bbox_to_anchor': (1.05, 1), 'fontsize': 12, 'title':'Cyl'},\n",
    "            'title': {'label': '# Vehicles by Cyl', 'loc': 'center', 'fontsize':18},\n",
    "            'colors': colors_cyl\n",
    "        },\n",
    "        313: {\n",
    "            'values': df_make['counts_make'],\n",
    "            'labels': [\"{1}\".format(n[0], n[1]) for n in df_make[['manufacturer', 'counts_make']].itertuples()],\n",
    "            'legend': {'loc': 'upper left', 'bbox_to_anchor': (1.05, 1), 'fontsize': 12, 'title':'Manufacturer'},\n",
    "            'title': {'label': '# Vehicles by Make', 'loc': 'center', 'fontsize':18},\n",
    "            'colors': colors_make\n",
    "        }\n",
    "    },\n",
    "    rows=9,\n",
    "    figsize=(16, 14)\n",
    ")"
   ]
  },
  {
   "cell_type": "markdown",
   "id": "53a308b8",
   "metadata": {},
   "source": [
    "# <font face = \"微软雅黑\" color = blue size = 6>实验总结</font>"
   ]
  },
  {
   "cell_type": "markdown",
   "id": "c60a7b48",
   "metadata": {},
   "source": [
    "## 在实验中，通过实践练习，提高学生使用pyecharts进行比例数据可视化的熟练程度，总结适合展示比例数据的图表，能够解释部分与整体的关系。"
   ]
  }
 ],
 "metadata": {
  "kernelspec": {
   "display_name": "Python 3 (ipykernel)",
   "language": "python",
   "name": "python3"
  },
  "language_info": {
   "codemirror_mode": {
    "name": "ipython",
    "version": 3
   },
   "file_extension": ".py",
   "mimetype": "text/x-python",
   "name": "python",
   "nbconvert_exporter": "python",
   "pygments_lexer": "ipython3",
   "version": "3.9.0"
  }
 },
 "nbformat": 4,
 "nbformat_minor": 5
}
