{
 "cells": [
  {
   "cell_type": "code",
   "execution_count": 38,
   "id": "95a8d912",
   "metadata": {},
   "outputs": [],
   "source": [
    "# import cv2 #opencv读取的格式是BGR\n",
    "# import matplotlib.pyplot as plt\n",
    "# import numpy as np \n",
    "# from PIL import Image\n",
    "# from PIL import ImageDraw\n",
    "# from PIL import ImageFont\n",
    "from watermarker.marker import add_mark"
   ]
  },
  {
   "cell_type": "code",
   "execution_count": 39,
   "id": "ff8df565",
   "metadata": {},
   "outputs": [],
   "source": [
    "import time"
   ]
  },
  {
   "cell_type": "code",
   "execution_count": 40,
   "id": "6ff72f60",
   "metadata": {},
   "outputs": [],
   "source": [
    "temp = time.strftime('%H:%M:%S', time.localtime())\n",
    "string = \"实验时间:\"+temp\n",
    "string = \"\\t乾坤\\n\\t\"+string"
   ]
  },
  {
   "cell_type": "code",
   "execution_count": 44,
   "id": "72b4788e",
   "metadata": {},
   "outputs": [
    {
     "name": "stdout",
     "output_type": "stream",
     "text": [
      "['1.png', 'demo.jpg', 'GCU.png', 'GCU_logo.png', 'GCU_text.png', 'GCU_watermark.png', 'python.png', 'python_90.png', 'street.jpg', '1.png', '1.png', 'F3[ZV6)0%D~20F1IZ]9Q}[O.png']\n"
     ]
    }
   ],
   "source": [
    "import os\n",
    "import fnmatch\n",
    "\n",
    "def getAllJpgPng(path):\n",
    "\t# 返回的是所有jpg和png图片的名称列表\n",
    "    res = []\n",
    "    for folderName, subFolders,fileNames in os.walk(path):\n",
    "        for filename in fileNames:\n",
    "            if fnmatch.fnmatch(filename, '*.jpg') or fnmatch.fnmatch(filename, '*.png'):\n",
    "                res.append(filename)\n",
    "    return res\n",
    "\n",
    "jpgs = getAllJpgPng('D:/jupyter file/date')\n",
    "print(jpgs)"
   ]
  },
  {
   "cell_type": "code",
   "execution_count": 45,
   "id": "c99d1c15",
   "metadata": {},
   "outputs": [],
   "source": [
    "# add_mark(file = \"D:/jupyter file/date/1.png\", out = \"D:/jupyter file/date/wartermarker\",\n",
    "#          mark = string, opacity=0.5, angle=30, space=80, color=\"#ffffff\",size=15)"
   ]
  },
  {
   "cell_type": "code",
   "execution_count": 48,
   "id": "7396e4d3",
   "metadata": {},
   "outputs": [
    {
     "name": "stdout",
     "output_type": "stream",
     "text": [
      "C:/Users/king/Desktop/demo\\1.png 保存成功。\n",
      "C:/Users/king/Desktop/demo\\demo.jpg 保存成功。\n",
      "C:/Users/king/Desktop/demo\\GCU.png 保存成功。\n",
      "C:/Users/king/Desktop/demo\\GCU_logo.png 保存成功。\n",
      "C:/Users/king/Desktop/demo\\GCU_text.png 保存成功。\n",
      "C:/Users/king/Desktop/demo\\GCU_watermark.png 保存成功。\n",
      "C:/Users/king/Desktop/demo\\python.png 保存成功。\n",
      "C:/Users/king/Desktop/demo\\python_90.png 保存成功。\n",
      "C:/Users/king/Desktop/demo\\street.jpg 保存成功。\n",
      "C:/Users/king/Desktop/demo\\1.png 保存成功。\n",
      "C:/Users/king/Desktop/demo\\1.png 保存成功。\n",
      "C:/Users/king/Desktop/demo\\F3[ZV6)0%D~20F1IZ]9Q}[O.png 保存失败。错误信息： [Errno 2] No such file or directory: 'D:/jupyter file/date/F3[ZV6)0%D~20F1IZ]9Q}[O.png'\n"
     ]
    }
   ],
   "source": [
    "for i in jpgs:\n",
    "    add_mark(file = 'D:/jupyter file/date/'+i, out = 'C:/Users/king/Desktop/demo',mark = string, opacity=0.5, angle=30, space=80, color=\"#ffffff\",size=15)"
   ]
  },
  {
   "cell_type": "code",
   "execution_count": null,
   "id": "37c64dd3",
   "metadata": {},
   "outputs": [],
   "source": []
  },
  {
   "cell_type": "code",
   "execution_count": null,
   "id": "f9e98a4b",
   "metadata": {},
   "outputs": [],
   "source": []
  },
  {
   "cell_type": "code",
   "execution_count": null,
   "id": "3bfd66ed",
   "metadata": {},
   "outputs": [],
   "source": []
  },
  {
   "cell_type": "code",
   "execution_count": null,
   "id": "129a49d9",
   "metadata": {},
   "outputs": [],
   "source": []
  }
 ],
 "metadata": {
  "kernelspec": {
   "display_name": "Python 3 (ipykernel)",
   "language": "python",
   "name": "python3"
  },
  "language_info": {
   "codemirror_mode": {
    "name": "ipython",
    "version": 3
   },
   "file_extension": ".py",
   "mimetype": "text/x-python",
   "name": "python",
   "nbconvert_exporter": "python",
   "pygments_lexer": "ipython3",
   "version": "3.9.0"
  }
 },
 "nbformat": 4,
 "nbformat_minor": 5
}
