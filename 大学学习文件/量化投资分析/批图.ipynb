{
 "cells": [
  {
   "cell_type": "code",
   "execution_count": 40,
   "id": "9b5f8786",
   "metadata": {},
   "outputs": [],
   "source": [
    "import cv2 #opencv读取的格式是BGR\n",
    "import matplotlib.pyplot as plt\n",
    "import numpy as np \n",
    "from PIL import Image\n",
    "from PIL import ImageDraw\n",
    "from PIL import ImageFont"
   ]
  },
  {
   "cell_type": "code",
   "execution_count": 41,
   "id": "c6be981e",
   "metadata": {},
   "outputs": [],
   "source": [
    "%matplotlib inline \n",
    "img=cv2.imread(\"D:/jupyter file/date/1.png\")\n",
    "cv2.imshow(\"img\",img)\n",
    "cv2.waitKey(0)\n",
    "cv2.destroyAllWindows()"
   ]
  },
  {
   "cell_type": "code",
   "execution_count": 42,
   "id": "19437e2f",
   "metadata": {},
   "outputs": [
    {
     "data": {
      "text/plain": [
       "array([[[0, 0, 0],\n",
       "        [0, 0, 0],\n",
       "        [0, 0, 0],\n",
       "        ...,\n",
       "        [0, 0, 0],\n",
       "        [0, 0, 0],\n",
       "        [0, 0, 0]],\n",
       "\n",
       "       [[0, 0, 0],\n",
       "        [0, 0, 0],\n",
       "        [0, 0, 0],\n",
       "        ...,\n",
       "        [0, 0, 0],\n",
       "        [0, 0, 0],\n",
       "        [0, 0, 0]],\n",
       "\n",
       "       [[0, 0, 0],\n",
       "        [0, 0, 0],\n",
       "        [0, 0, 0],\n",
       "        ...,\n",
       "        [0, 0, 0],\n",
       "        [0, 0, 0],\n",
       "        [0, 0, 0]],\n",
       "\n",
       "       ...,\n",
       "\n",
       "       [[0, 0, 0],\n",
       "        [0, 0, 0],\n",
       "        [0, 0, 0],\n",
       "        ...,\n",
       "        [0, 0, 0],\n",
       "        [0, 0, 0],\n",
       "        [0, 0, 0]],\n",
       "\n",
       "       [[0, 0, 0],\n",
       "        [0, 0, 0],\n",
       "        [0, 0, 0],\n",
       "        ...,\n",
       "        [0, 0, 0],\n",
       "        [0, 0, 0],\n",
       "        [0, 0, 0]],\n",
       "\n",
       "       [[0, 0, 0],\n",
       "        [0, 0, 0],\n",
       "        [0, 0, 0],\n",
       "        ...,\n",
       "        [0, 0, 0],\n",
       "        [0, 0, 0],\n",
       "        [0, 0, 0]]], dtype=uint8)"
      ]
     },
     "execution_count": 42,
     "metadata": {},
     "output_type": "execute_result"
    }
   ],
   "source": [
    "img=cv2.imread(\"D:/jupyter file/date/1.png\") # 导入我们需要添加水印的图片\n",
    "RGB_img = cv2.cvtColor(img, cv2.COLOR_BGR2RGB)\n",
    "blank_img = np.zeros(shape=(RGB_img.shape[0],RGB_img.shape[1],3), dtype=np.uint8)\n",
    "font = cv2.FONT_HERSHEY_SIMPLEX\n",
    "# 添加水印的文字内容\n",
    "cv2.putText(blank_img,text='Learn Python',org=(40, 90),\n",
    "            fontFace=font,fontScale= 2,\n",
    "            color=(255,0,0),thickness=10,lineType=cv2.LINE_4)"
   ]
  },
  {
   "cell_type": "code",
   "execution_count": 43,
   "id": "c7c304ac",
   "metadata": {},
   "outputs": [
    {
     "data": {
      "text/plain": [
       "<matplotlib.image.AxesImage at 0x180307e6d00>"
      ]
     },
     "execution_count": 43,
     "metadata": {},
     "output_type": "execute_result"
    },
    {
     "data": {
      "image/png": "[encoded data removed]",
      "text/plain": [
       "<Figure size 432x288 with 1 Axes>"
      ]
     },
     "metadata": {
      "needs_background": "light"
     },
     "output_type": "display_data"
    }
   ],
   "source": [
    "blended = cv2.addWeighted(src1=RGB_img, alpha=0.7,\n",
    "                          src2=blank_img, beta=1, gamma = 2)\n",
    "plt.imshow(blended)"
   ]
  },
  {
   "cell_type": "code",
   "execution_count": 50,
   "id": "dc805a7e",
   "metadata": {},
   "outputs": [],
   "source": [
    "im=Image.open(\"D:/jupyter file/date/demo.jpg\")\n",
    "draw = ImageDraw.Draw(im)\n",
    "text = \"Learn Python\"\n",
    "# 设置字体、字体大小等等\n",
    "font = ImageFont.truetype('arial.ttf', 33)\n",
    "# 添加水印\n",
    "draw.text((50, 50), text, font=font)\n",
    "im.show()\n",
    "# 保存图片\n",
    "im.save(\"D:/jupyter file/date/2.png\")"
   ]
  },
  {
   "cell_type": "code",
   "execution_count": 53,
   "id": "2e4b184c",
   "metadata": {},
   "outputs": [
    {
     "name": "stdout",
     "output_type": "stream",
     "text": [
      "D:/jupyter file/date\\demo.jpg 保存成功。\n"
     ]
    }
   ],
   "source": [
    "from watermarker.marker import add_mark\n",
    "add_mark(file = \"D:/jupyter file/date/demo.jpg\", out = \"D:/jupyter file/date\",\n",
    "         mark = \"乾坤\", opacity=0.2, angle=30, space=30)"
   ]
  },
  {
   "cell_type": "code",
   "execution_count": null,
   "id": "5ab54dec",
   "metadata": {},
   "outputs": [],
   "source": []
  }
 ],
 "metadata": {
  "kernelspec": {
   "display_name": "Python 3 (ipykernel)",
   "language": "python",
   "name": "python3"
  },
  "language_info": {
   "codemirror_mode": {
    "name": "ipython",
    "version": 3
   },
   "file_extension": ".py",
   "mimetype": "text/x-python",
   "name": "python",
   "nbconvert_exporter": "python",
   "pygments_lexer": "ipython3",
   "version": "3.9.0"
  }
 },
 "nbformat": 4,
 "nbformat_minor": 5
}
