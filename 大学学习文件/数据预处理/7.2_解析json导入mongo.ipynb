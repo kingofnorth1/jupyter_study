{
 "cells": [
  {
   "cell_type": "code",
   "execution_count": 8,
   "id": "77cf165a",
   "metadata": {},
   "outputs": [
    {
     "name": "stdout",
     "output_type": "stream",
     "text": [
      "638dbd1efd52c01c5ceff67c\n",
      "638dbd1efd52c01c5ceff67d\n",
      "638dbd1efd52c01c5ceff67e\n",
      "[ObjectId('638dbd1efd52c01c5ceff67f'), ObjectId('638dbd1efd52c01c5ceff680'), ObjectId('638dbd1efd52c01c5ceff681')]\n"
     ]
    }
   ],
   "source": [
    "#coding=utf-8\n",
    "\n",
    "from pymongo import MongoClient\n",
    "client = MongoClient('localhost', 27017)\n",
    "db = client['test-database']\n",
    "collection = db['test-collection']\n",
    "\n",
    "import json\n",
    "jsons = [json.loads(x) for x in open('in_data/json.txt')]\n",
    "\n",
    "for doc in jsons:\n",
    "    post_id = collection.insert_one(doc).inserted_id\n",
    "    print(post_id)\n",
    "\n",
    "jsons = [json.loads(x) for x in open('in_data/json.txt')]\n",
    "batch_result=collection.insert_many(jsons)\n",
    "print(batch_result.inserted_ids)"
   ]
  },
  {
   "cell_type": "code",
   "execution_count": null,
   "id": "a8d8c04c",
   "metadata": {},
   "outputs": [],
   "source": []
  }
 ],
 "metadata": {
  "kernelspec": {
   "display_name": "Python 3 (ipykernel)",
   "language": "python",
   "name": "python3"
  },
  "language_info": {
   "codemirror_mode": {
    "name": "ipython",
    "version": 3
   },
   "file_extension": ".py",
   "mimetype": "text/x-python",
   "name": "python",
   "nbconvert_exporter": "python",
   "pygments_lexer": "ipython3",
   "version": "3.9.0"
  }
 },
 "nbformat": 4,
 "nbformat_minor": 5
}
