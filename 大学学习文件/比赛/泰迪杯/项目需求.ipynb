{
 "cells": [
  {
   "cell_type": "code",
   "execution_count": 2,
   "id": "74862cc9",
   "metadata": {},
   "outputs": [],
   "source": [
    "import numpy as np\n",
    "import pandas as pd\n",
    "from pandas import DataFrame,Series\n",
    "import matplotlib.pyplot as plt\n",
    "#CDNOW_master.txt"
   ]
  },
  {
   "cell_type": "markdown",
   "id": "1e64ee0b",
   "metadata": {},
   "source": [
    "## 第一部分：数据类型处理\n",
    "  - 数据加载\n",
    "      - 字段含义：\n",
    "          - user_id:用户ID\n",
    "          - order_dt:购买日期\n",
    "          - order_product:购买产品的数量\n",
    "          - order_amount:购买金额\n",
    "  - 观察数据\n",
    "       - 查看数据的数据类型\n",
    "       - 数据中是否存储在缺失值\n",
    "       - 将order_dt转换成时间类型\n",
    "       - 查看数据的统计描述\n",
    "           - 计算所有用户购买商品的平均数量\n",
    "           - 计算所有用户购买商品的平均花费\n",
    "       - 在源数据中添加一列表示月份:astype('datatime64[M]')"
   ]
  },
  {
   "cell_type": "code",
   "execution_count": 3,
   "id": "a4193661",
   "metadata": {},
   "outputs": [
    {
     "data": {
      "text/html": [
       "<div>\n",
       "<style scoped>\n",
       "    .dataframe tbody tr th:only-of-type {\n",
       "        vertical-align: middle;\n",
       "    }\n",
       "\n",
       "    .dataframe tbody tr th {\n",
       "        vertical-align: top;\n",
       "    }\n",
       "\n",
       "    .dataframe thead th {\n",
       "        text-align: right;\n",
       "    }\n",
       "</style>\n",
       "<table border=\"1\" class=\"dataframe\">\n",
       "  <thead>\n",
       "    <tr style=\"text-align: right;\">\n",
       "      <th></th>\n",
       "      <th>user_id</th>\n",
       "      <th>order_dt</th>\n",
       "      <th>order_product</th>\n",
       "      <th>order_amount</th>\n",
       "    </tr>\n",
       "  </thead>\n",
       "  <tbody>\n",
       "    <tr>\n",
       "      <th>0</th>\n",
       "      <td>1</td>\n",
       "      <td>19970101</td>\n",
       "      <td>1</td>\n",
       "      <td>11.77</td>\n",
       "    </tr>\n",
       "    <tr>\n",
       "      <th>1</th>\n",
       "      <td>2</td>\n",
       "      <td>19970112</td>\n",
       "      <td>1</td>\n",
       "      <td>12.00</td>\n",
       "    </tr>\n",
       "    <tr>\n",
       "      <th>2</th>\n",
       "      <td>2</td>\n",
       "      <td>19970112</td>\n",
       "      <td>5</td>\n",
       "      <td>77.00</td>\n",
       "    </tr>\n",
       "    <tr>\n",
       "      <th>3</th>\n",
       "      <td>3</td>\n",
       "      <td>19970102</td>\n",
       "      <td>2</td>\n",
       "      <td>20.76</td>\n",
       "    </tr>\n",
       "    <tr>\n",
       "      <th>4</th>\n",
       "      <td>3</td>\n",
       "      <td>19970330</td>\n",
       "      <td>2</td>\n",
       "      <td>20.76</td>\n",
       "    </tr>\n",
       "    <tr>\n",
       "      <th>...</th>\n",
       "      <td>...</td>\n",
       "      <td>...</td>\n",
       "      <td>...</td>\n",
       "      <td>...</td>\n",
       "    </tr>\n",
       "    <tr>\n",
       "      <th>69654</th>\n",
       "      <td>23568</td>\n",
       "      <td>19970405</td>\n",
       "      <td>4</td>\n",
       "      <td>83.74</td>\n",
       "    </tr>\n",
       "    <tr>\n",
       "      <th>69655</th>\n",
       "      <td>23568</td>\n",
       "      <td>19970422</td>\n",
       "      <td>1</td>\n",
       "      <td>14.99</td>\n",
       "    </tr>\n",
       "    <tr>\n",
       "      <th>69656</th>\n",
       "      <td>23569</td>\n",
       "      <td>19970325</td>\n",
       "      <td>2</td>\n",
       "      <td>25.74</td>\n",
       "    </tr>\n",
       "    <tr>\n",
       "      <th>69657</th>\n",
       "      <td>23570</td>\n",
       "      <td>19970325</td>\n",
       "      <td>3</td>\n",
       "      <td>51.12</td>\n",
       "    </tr>\n",
       "    <tr>\n",
       "      <th>69658</th>\n",
       "      <td>23570</td>\n",
       "      <td>19970326</td>\n",
       "      <td>2</td>\n",
       "      <td>42.96</td>\n",
       "    </tr>\n",
       "  </tbody>\n",
       "</table>\n",
       "<p>69659 rows × 4 columns</p>\n",
       "</div>"
      ],
      "text/plain": [
       "       user_id  order_dt  order_product  order_amount\n",
       "0            1  19970101              1         11.77\n",
       "1            2  19970112              1         12.00\n",
       "2            2  19970112              5         77.00\n",
       "3            3  19970102              2         20.76\n",
       "4            3  19970330              2         20.76\n",
       "...        ...       ...            ...           ...\n",
       "69654    23568  19970405              4         83.74\n",
       "69655    23568  19970422              1         14.99\n",
       "69656    23569  19970325              2         25.74\n",
       "69657    23570  19970325              3         51.12\n",
       "69658    23570  19970326              2         42.96\n",
       "\n",
       "[69659 rows x 4 columns]"
      ]
     },
     "execution_count": 3,
     "metadata": {},
     "output_type": "execute_result"
    }
   ],
   "source": [
    "df = pd.read_csv('./B站学习数据/CDNOW_master.txt',header=None,sep='\\s+',names=['user_id','order_dt','order_product','order_amount'])\n",
    "df"
   ]
  },
  {
   "cell_type": "code",
   "execution_count": 4,
   "id": "19d3c470",
   "metadata": {},
   "outputs": [
    {
     "name": "stdout",
     "output_type": "stream",
     "text": [
      "<class 'pandas.core.frame.DataFrame'>\n",
      "RangeIndex: 69659 entries, 0 to 69658\n",
      "Data columns (total 4 columns):\n",
      " #   Column         Non-Null Count  Dtype  \n",
      "---  ------         --------------  -----  \n",
      " 0   user_id        69659 non-null  int64  \n",
      " 1   order_dt       69659 non-null  int64  \n",
      " 2   order_product  69659 non-null  int64  \n",
      " 3   order_amount   69659 non-null  float64\n",
      "dtypes: float64(1), int64(3)\n",
      "memory usage: 2.1 MB\n"
     ]
    }
   ],
   "source": [
    "df.info()"
   ]
  },
  {
   "cell_type": "code",
   "execution_count": 5,
   "id": "1802f8ce",
   "metadata": {},
   "outputs": [],
   "source": [
    "df['order_dt'] = pd.to_datetime(df['order_dt'],format='%Y%m%d')"
   ]
  },
  {
   "cell_type": "code",
   "execution_count": 6,
   "id": "0b25359b",
   "metadata": {
    "scrolled": true
   },
   "outputs": [
    {
     "name": "stdout",
     "output_type": "stream",
     "text": [
      "<class 'pandas.core.frame.DataFrame'>\n",
      "RangeIndex: 69659 entries, 0 to 69658\n",
      "Data columns (total 4 columns):\n",
      " #   Column         Non-Null Count  Dtype         \n",
      "---  ------         --------------  -----         \n",
      " 0   user_id        69659 non-null  int64         \n",
      " 1   order_dt       69659 non-null  datetime64[ns]\n",
      " 2   order_product  69659 non-null  int64         \n",
      " 3   order_amount   69659 non-null  float64       \n",
      "dtypes: datetime64[ns](1), float64(1), int64(2)\n",
      "memory usage: 2.1 MB\n"
     ]
    }
   ],
   "source": [
    "df.info()"
   ]
  },
  {
   "cell_type": "code",
   "execution_count": 7,
   "id": "3e5a1d96",
   "metadata": {},
   "outputs": [
    {
     "data": {
      "text/html": [
       "<div>\n",
       "<style scoped>\n",
       "    .dataframe tbody tr th:only-of-type {\n",
       "        vertical-align: middle;\n",
       "    }\n",
       "\n",
       "    .dataframe tbody tr th {\n",
       "        vertical-align: top;\n",
       "    }\n",
       "\n",
       "    .dataframe thead th {\n",
       "        text-align: right;\n",
       "    }\n",
       "</style>\n",
       "<table border=\"1\" class=\"dataframe\">\n",
       "  <thead>\n",
       "    <tr style=\"text-align: right;\">\n",
       "      <th></th>\n",
       "      <th>user_id</th>\n",
       "      <th>order_product</th>\n",
       "      <th>order_amount</th>\n",
       "    </tr>\n",
       "  </thead>\n",
       "  <tbody>\n",
       "    <tr>\n",
       "      <th>count</th>\n",
       "      <td>69659.000000</td>\n",
       "      <td>69659.000000</td>\n",
       "      <td>69659.000000</td>\n",
       "    </tr>\n",
       "    <tr>\n",
       "      <th>mean</th>\n",
       "      <td>11470.854592</td>\n",
       "      <td>2.410040</td>\n",
       "      <td>35.893648</td>\n",
       "    </tr>\n",
       "    <tr>\n",
       "      <th>std</th>\n",
       "      <td>6819.904848</td>\n",
       "      <td>2.333924</td>\n",
       "      <td>36.281942</td>\n",
       "    </tr>\n",
       "    <tr>\n",
       "      <th>min</th>\n",
       "      <td>1.000000</td>\n",
       "      <td>1.000000</td>\n",
       "      <td>0.000000</td>\n",
       "    </tr>\n",
       "    <tr>\n",
       "      <th>25%</th>\n",
       "      <td>5506.000000</td>\n",
       "      <td>1.000000</td>\n",
       "      <td>14.490000</td>\n",
       "    </tr>\n",
       "    <tr>\n",
       "      <th>50%</th>\n",
       "      <td>11410.000000</td>\n",
       "      <td>2.000000</td>\n",
       "      <td>25.980000</td>\n",
       "    </tr>\n",
       "    <tr>\n",
       "      <th>75%</th>\n",
       "      <td>17273.000000</td>\n",
       "      <td>3.000000</td>\n",
       "      <td>43.700000</td>\n",
       "    </tr>\n",
       "    <tr>\n",
       "      <th>max</th>\n",
       "      <td>23570.000000</td>\n",
       "      <td>99.000000</td>\n",
       "      <td>1286.010000</td>\n",
       "    </tr>\n",
       "  </tbody>\n",
       "</table>\n",
       "</div>"
      ],
      "text/plain": [
       "            user_id  order_product  order_amount\n",
       "count  69659.000000   69659.000000  69659.000000\n",
       "mean   11470.854592       2.410040     35.893648\n",
       "std     6819.904848       2.333924     36.281942\n",
       "min        1.000000       1.000000      0.000000\n",
       "25%     5506.000000       1.000000     14.490000\n",
       "50%    11410.000000       2.000000     25.980000\n",
       "75%    17273.000000       3.000000     43.700000\n",
       "max    23570.000000      99.000000   1286.010000"
      ]
     },
     "execution_count": 7,
     "metadata": {},
     "output_type": "execute_result"
    }
   ],
   "source": [
    "#查看数据的统计描述\n",
    "df.describe()"
   ]
  },
  {
   "cell_type": "code",
   "execution_count": 8,
   "id": "c2b85db5",
   "metadata": {},
   "outputs": [
    {
     "data": {
      "text/plain": [
       "0       1997-01-01\n",
       "1       1997-01-01\n",
       "2       1997-01-01\n",
       "3       1997-01-01\n",
       "4       1997-03-01\n",
       "           ...    \n",
       "69654   1997-04-01\n",
       "69655   1997-04-01\n",
       "69656   1997-03-01\n",
       "69657   1997-03-01\n",
       "69658   1997-03-01\n",
       "Name: order_dt, Length: 69659, dtype: datetime64[ns]"
      ]
     },
     "execution_count": 8,
     "metadata": {},
     "output_type": "execute_result"
    }
   ],
   "source": [
    "#基于order_dt取出期中的月份\n",
    "df['order_dt'].astype('datetime64[M]')"
   ]
  },
  {
   "cell_type": "code",
   "execution_count": 9,
   "id": "ab21399c",
   "metadata": {},
   "outputs": [
    {
     "data": {
      "text/html": [
       "<div>\n",
       "<style scoped>\n",
       "    .dataframe tbody tr th:only-of-type {\n",
       "        vertical-align: middle;\n",
       "    }\n",
       "\n",
       "    .dataframe tbody tr th {\n",
       "        vertical-align: top;\n",
       "    }\n",
       "\n",
       "    .dataframe thead th {\n",
       "        text-align: right;\n",
       "    }\n",
       "</style>\n",
       "<table border=\"1\" class=\"dataframe\">\n",
       "  <thead>\n",
       "    <tr style=\"text-align: right;\">\n",
       "      <th></th>\n",
       "      <th>user_id</th>\n",
       "      <th>order_dt</th>\n",
       "      <th>order_product</th>\n",
       "      <th>order_amount</th>\n",
       "      <th>month</th>\n",
       "    </tr>\n",
       "  </thead>\n",
       "  <tbody>\n",
       "    <tr>\n",
       "      <th>0</th>\n",
       "      <td>1</td>\n",
       "      <td>1997-01-01</td>\n",
       "      <td>1</td>\n",
       "      <td>11.77</td>\n",
       "      <td>1997-01-01</td>\n",
       "    </tr>\n",
       "    <tr>\n",
       "      <th>1</th>\n",
       "      <td>2</td>\n",
       "      <td>1997-01-12</td>\n",
       "      <td>1</td>\n",
       "      <td>12.00</td>\n",
       "      <td>1997-01-01</td>\n",
       "    </tr>\n",
       "    <tr>\n",
       "      <th>2</th>\n",
       "      <td>2</td>\n",
       "      <td>1997-01-12</td>\n",
       "      <td>5</td>\n",
       "      <td>77.00</td>\n",
       "      <td>1997-01-01</td>\n",
       "    </tr>\n",
       "    <tr>\n",
       "      <th>3</th>\n",
       "      <td>3</td>\n",
       "      <td>1997-01-02</td>\n",
       "      <td>2</td>\n",
       "      <td>20.76</td>\n",
       "      <td>1997-01-01</td>\n",
       "    </tr>\n",
       "    <tr>\n",
       "      <th>4</th>\n",
       "      <td>3</td>\n",
       "      <td>1997-03-30</td>\n",
       "      <td>2</td>\n",
       "      <td>20.76</td>\n",
       "      <td>1997-03-01</td>\n",
       "    </tr>\n",
       "    <tr>\n",
       "      <th>...</th>\n",
       "      <td>...</td>\n",
       "      <td>...</td>\n",
       "      <td>...</td>\n",
       "      <td>...</td>\n",
       "      <td>...</td>\n",
       "    </tr>\n",
       "    <tr>\n",
       "      <th>69654</th>\n",
       "      <td>23568</td>\n",
       "      <td>1997-04-05</td>\n",
       "      <td>4</td>\n",
       "      <td>83.74</td>\n",
       "      <td>1997-04-01</td>\n",
       "    </tr>\n",
       "    <tr>\n",
       "      <th>69655</th>\n",
       "      <td>23568</td>\n",
       "      <td>1997-04-22</td>\n",
       "      <td>1</td>\n",
       "      <td>14.99</td>\n",
       "      <td>1997-04-01</td>\n",
       "    </tr>\n",
       "    <tr>\n",
       "      <th>69656</th>\n",
       "      <td>23569</td>\n",
       "      <td>1997-03-25</td>\n",
       "      <td>2</td>\n",
       "      <td>25.74</td>\n",
       "      <td>1997-03-01</td>\n",
       "    </tr>\n",
       "    <tr>\n",
       "      <th>69657</th>\n",
       "      <td>23570</td>\n",
       "      <td>1997-03-25</td>\n",
       "      <td>3</td>\n",
       "      <td>51.12</td>\n",
       "      <td>1997-03-01</td>\n",
       "    </tr>\n",
       "    <tr>\n",
       "      <th>69658</th>\n",
       "      <td>23570</td>\n",
       "      <td>1997-03-26</td>\n",
       "      <td>2</td>\n",
       "      <td>42.96</td>\n",
       "      <td>1997-03-01</td>\n",
       "    </tr>\n",
       "  </tbody>\n",
       "</table>\n",
       "<p>69659 rows × 5 columns</p>\n",
       "</div>"
      ],
      "text/plain": [
       "       user_id   order_dt  order_product  order_amount      month\n",
       "0            1 1997-01-01              1         11.77 1997-01-01\n",
       "1            2 1997-01-12              1         12.00 1997-01-01\n",
       "2            2 1997-01-12              5         77.00 1997-01-01\n",
       "3            3 1997-01-02              2         20.76 1997-01-01\n",
       "4            3 1997-03-30              2         20.76 1997-03-01\n",
       "...        ...        ...            ...           ...        ...\n",
       "69654    23568 1997-04-05              4         83.74 1997-04-01\n",
       "69655    23568 1997-04-22              1         14.99 1997-04-01\n",
       "69656    23569 1997-03-25              2         25.74 1997-03-01\n",
       "69657    23570 1997-03-25              3         51.12 1997-03-01\n",
       "69658    23570 1997-03-26              2         42.96 1997-03-01\n",
       "\n",
       "[69659 rows x 5 columns]"
      ]
     },
     "execution_count": 9,
     "metadata": {},
     "output_type": "execute_result"
    }
   ],
   "source": [
    "#在源数据中添加一列表示月份:astype('datatime64[M]')\n",
    "df['month'] = df['order_dt'].astype('datetime64[M]')\n",
    "df"
   ]
  },
  {
   "cell_type": "markdown",
   "id": "1c872d7f",
   "metadata": {},
   "source": [
    "## 第二部分：按月数据分析\n",
    "  - 用户每月花费的总金额\n",
    "      - 绘制曲线图展示\n",
    "  - 所有用户每月的产品购买量\n",
    "  - 所有用户每月的消费总次数\n",
    "  - 统计每月的消费人数"
   ]
  },
  {
   "cell_type": "code",
   "execution_count": 11,
   "id": "1685bda3",
   "metadata": {
    "scrolled": true
   },
   "outputs": [
    {
     "data": {
      "text/plain": [
       "month\n",
       "1997-01-01    299060.17\n",
       "1997-02-01    379590.03\n",
       "1997-03-01    393155.27\n",
       "1997-04-01    142824.49\n",
       "1997-05-01    107933.30\n",
       "1997-06-01    108395.87\n",
       "1997-07-01    122078.88\n",
       "1997-08-01     88367.69\n",
       "1997-09-01     81948.80\n",
       "1997-10-01     89780.77\n",
       "1997-11-01    115448.64\n",
       "1997-12-01     95577.35\n",
       "1998-01-01     76756.78\n",
       "1998-02-01     77096.96\n",
       "1998-03-01    108970.15\n",
       "1998-04-01     66231.52\n",
       "1998-05-01     70989.66\n",
       "1998-06-01     76109.30\n",
       "Name: order_amount, dtype: float64"
      ]
     },
     "execution_count": 11,
     "metadata": {},
     "output_type": "execute_result"
    }
   ],
   "source": [
    "#用户每月花费的总金额\n",
    "df.groupby(by='month')['order_amount'].sum()"
   ]
  },
  {
   "cell_type": "code",
   "execution_count": 13,
   "id": "fcb4d3a1",
   "metadata": {
    "scrolled": true
   },
   "outputs": [
    {
     "data": {
      "text/plain": [
       "<AxesSubplot:xlabel='month'>"
      ]
     },
     "execution_count": 13,
     "metadata": {},
     "output_type": "execute_result"
    },
    {
     "data": {
      "image/png": "[encoded data removed]",
      "text/plain": [
       "<Figure size 432x288 with 1 Axes>"
      ]
     },
     "metadata": {
      "needs_background": "light"
     },
     "output_type": "display_data"
    }
   ],
   "source": [
    "df.groupby(by='month')['order_amount'].sum().plot()"
   ]
  },
  {
   "cell_type": "code",
   "execution_count": 15,
   "id": "abcf3585",
   "metadata": {},
   "outputs": [
    {
     "data": {
      "text/plain": [
       "<AxesSubplot:xlabel='month'>"
      ]
     },
     "execution_count": 15,
     "metadata": {},
     "output_type": "execute_result"
    },
    {
     "data": {
      "image/png": "[encoded data removed]",
      "text/plain": [
       "<Figure size 432x288 with 1 Axes>"
      ]
     },
     "metadata": {
      "needs_background": "light"
     },
     "output_type": "display_data"
    }
   ],
   "source": [
    "#所有用户每月的产品购买量\n",
    "df.groupby(by='month')['order_product'].sum().plot()"
   ]
  },
  {
   "cell_type": "code",
   "execution_count": 19,
   "id": "4f282a75",
   "metadata": {
    "scrolled": true
   },
   "outputs": [
    {
     "data": {
      "text/plain": [
       "month\n",
       "1997-01-01     8928\n",
       "1997-02-01    11272\n",
       "1997-03-01    11598\n",
       "1997-04-01     3781\n",
       "1997-05-01     2895\n",
       "1997-06-01     3054\n",
       "1997-07-01     2942\n",
       "1997-08-01     2320\n",
       "1997-09-01     2296\n",
       "1997-10-01     2562\n",
       "1997-11-01     2750\n",
       "1997-12-01     2504\n",
       "1998-01-01     2032\n",
       "1998-02-01     2026\n",
       "1998-03-01     2793\n",
       "1998-04-01     1878\n",
       "1998-05-01     1985\n",
       "1998-06-01     2043\n",
       "Name: user_id, dtype: int64"
      ]
     },
     "execution_count": 19,
     "metadata": {},
     "output_type": "execute_result"
    }
   ],
   "source": [
    "#所有用户每月的消费总次数\n",
    "df.groupby(by='month')['user_id'].count()"
   ]
  },
  {
   "cell_type": "code",
   "execution_count": 26,
   "id": "1fc97ee8",
   "metadata": {},
   "outputs": [
    {
     "data": {
      "text/plain": [
       "month\n",
       "1997-01-01    7846\n",
       "1997-02-01    9633\n",
       "1997-03-01    9524\n",
       "1997-04-01    2822\n",
       "1997-05-01    2214\n",
       "1997-06-01    2339\n",
       "1997-07-01    2180\n",
       "1997-08-01    1772\n",
       "1997-09-01    1739\n",
       "1997-10-01    1839\n",
       "1997-11-01    2028\n",
       "1997-12-01    1864\n",
       "1998-01-01    1537\n",
       "1998-02-01    1551\n",
       "1998-03-01    2060\n",
       "1998-04-01    1437\n",
       "1998-05-01    1488\n",
       "1998-06-01    1506\n",
       "Name: user_id, dtype: int64"
      ]
     },
     "execution_count": 26,
     "metadata": {},
     "output_type": "execute_result"
    }
   ],
   "source": [
    "#统计每月的消费人数(可能同一天一个用户会消费多次) nunique表示统计去重后的个数\n",
    "df.groupby(by='month')['user_id'].nunique()"
   ]
  },
  {
   "cell_type": "markdown",
   "id": "a33b713d",
   "metadata": {},
   "source": [
    "## 第三部分：用户个体消费数据分析\n",
    "  - 用户消费总金额和消费总次数的统计描述\n",
    "  - 用户消费金额和消费次数的散点图\n",
    "  - 各个用户消费总金额的直方图（消费金额在1000之内的分布）\n",
    "  - 各个用户消费总数量的直方图（消费商品的数量在100次之内的分布）"
   ]
  },
  {
   "cell_type": "code",
   "execution_count": 28,
   "id": "fd7c3a6b",
   "metadata": {
    "scrolled": true
   },
   "outputs": [
    {
     "data": {
      "text/plain": [
       "user_id\n",
       "1         11.77\n",
       "2         89.00\n",
       "3        156.46\n",
       "4        100.50\n",
       "5        385.61\n",
       "          ...  \n",
       "23566     36.00\n",
       "23567     20.97\n",
       "23568    121.70\n",
       "23569     25.74\n",
       "23570     94.08\n",
       "Name: order_amount, Length: 23570, dtype: float64"
      ]
     },
     "execution_count": 28,
     "metadata": {},
     "output_type": "execute_result"
    }
   ],
   "source": [
    "#用户消费总金额和消费总次数的统计描述\n",
    "df.groupby(by='user_id')['order_amount'].sum() #每一个用户消费的总金额"
   ]
  },
  {
   "cell_type": "code",
   "execution_count": 32,
   "id": "c44fc7e2",
   "metadata": {},
   "outputs": [
    {
     "data": {
      "text/plain": [
       "user_id\n",
       "1         1\n",
       "2         2\n",
       "3         6\n",
       "4         4\n",
       "5        11\n",
       "         ..\n",
       "23566     1\n",
       "23567     1\n",
       "23568     3\n",
       "23569     1\n",
       "23570     2\n",
       "Name: order_dt, Length: 23570, dtype: int64"
      ]
     },
     "execution_count": 32,
     "metadata": {},
     "output_type": "execute_result"
    }
   ],
   "source": [
    "#每一个用户消费的总次数\n",
    "df.groupby(by='user_id').count()['order_dt']"
   ]
  },
  {
   "cell_type": "code",
   "execution_count": 36,
   "id": "9e507bbd",
   "metadata": {},
   "outputs": [
    {
     "data": {
      "text/plain": [
       "<matplotlib.collections.PathCollection at 0x2076139e370>"
      ]
     },
     "execution_count": 36,
     "metadata": {},
     "output_type": "execute_result"
    },
    {
     "data": {
      "image/png": "[encoded data removed]",
      "text/plain": [
       "<Figure size 432x288 with 1 Axes>"
      ]
     },
     "metadata": {
      "needs_background": "light"
     },
     "output_type": "display_data"
    }
   ],
   "source": [
    "#用户消费金额和消费次数的散点图\n",
    "user_amount_sum = df.groupby(by='user_id')['order_amount'].sum()\n",
    "user_product_sum = df.groupby(by='user_id')['order_product'].sum()\n",
    "plt.scatter(user_product_sum,user_amount_sum)"
   ]
  },
  {
   "cell_type": "code",
   "execution_count": 41,
   "id": "dd09e58b",
   "metadata": {},
   "outputs": [
    {
     "data": {
      "text/plain": [
       "<AxesSubplot:>"
      ]
     },
     "execution_count": 41,
     "metadata": {},
     "output_type": "execute_result"
    },
    {
     "data": {
      "image/png": "[encoded data removed]",
      "text/plain": [
       "<Figure size 432x288 with 1 Axes>"
      ]
     },
     "metadata": {
      "needs_background": "light"
     },
     "output_type": "display_data"
    }
   ],
   "source": [
    "#各个用户消费总金额的直方图（消费金额在1000之内的分布）\n",
    "df.groupby(by='user_id').sum().query('order_amount <= 1000')['order_amount']\n",
    "df.groupby(by='user_id').sum().query('order_amount <= 1000')['order_amount'].hist()"
   ]
  },
  {
   "cell_type": "code",
   "execution_count": 43,
   "id": "1cc1aa4d",
   "metadata": {},
   "outputs": [
    {
     "data": {
      "text/plain": [
       "<AxesSubplot:>"
      ]
     },
     "execution_count": 43,
     "metadata": {},
     "output_type": "execute_result"
    },
    {
     "data": {
      "image/png": "[encoded data removed]",
      "text/plain": [
       "<Figure size 432x288 with 1 Axes>"
      ]
     },
     "metadata": {
      "needs_background": "light"
     },
     "output_type": "display_data"
    }
   ],
   "source": [
    "#各个用户消费总数量的直方图（消费商品的数量在100次之内的分布）\n",
    "df.groupby(by='user_id').sum().query('order_product <= 100')['order_product'].hist()"
   ]
  },
  {
   "cell_type": "markdown",
   "id": "d9796122",
   "metadata": {},
   "source": [
    "### 第四部分：用户消费行为分析\n",
    "- 用户第一次消费的月份分布，和人数统计\n",
    "    - 绘制线形图\n",
    "- 用户最后一次消费的时间分布，和人数统计\n",
    "    - 绘制线形图\n",
    "- 新老客户的占比\n",
    "    - 消费一次为新用户\n",
    "    - 消费多次为老用户\n",
    "        - 分析出每一个用户的第一个消费和最后一次消费的时间\n",
    "            - agg(['func1','func2']):对分组后的结果进行指定聚合\n",
    "        - 分析出新老客户的消费比例\n",
    "- 用户分层\n",
    "    - 分析得出每个用户的总购买量和总消费金额and最近一次消费的时间的表格rfm\n",
    "    - RFM模型设计\n",
    "        - R表示客户最近一次交易时间的间隔。\n",
    "            - /np.timedelta64(1,'D')：去除days\n",
    "        - F表示客户购买商品的总数量,F值越大，表示客户交易越频繁，反之则表示客户交易不够活跃。\n",
    "        - M表示客户交易的金额。M值越大，表示客户价值越高，反之则表示客户价值越低。\n",
    "        - 将R，F，M作用到rfm表中\n",
    "    - 根据价值分层，将用户分为：\n",
    "        - 重要价值客户\n",
    "        - 重要保持客户\n",
    "        - 重要挽留客户\n",
    "        - 重要发展客户\n",
    "        - 一般价值客户\n",
    "        - 一般保持客户\n",
    "        - 一般挽留客户\n",
    "        - 一般发展客户\n",
    "            - 使用已有的分层模型即可rfm_func"
   ]
  },
  {
   "cell_type": "code",
   "execution_count": null,
   "id": "6ae10504",
   "metadata": {},
   "outputs": [],
   "source": []
  },
  {
   "cell_type": "markdown",
   "id": "c5714d96",
   "metadata": {},
   "source": [
    "### 第五部分：用户的生命周期\n",
    "- 将用户划分为活跃用户和其他用户\n",
    "    - 统计每个用户每个月的消费次数\n",
    "    - 统计每个用户每个月是否消费，消费记录为1否则记录为0\n",
    "        - 知识点：DataFrame的apply和applymap的区别\n",
    "            - applymap:返回df\n",
    "            - 将函数做用于DataFrame中的所有元素(elements)\n",
    "            - apply:返回Series\n",
    "            - apply()将一个函数作用于DataFrame中的每个行或者列\n",
    "    - 将用户按照每一个月份分成：\n",
    "        - unreg:观望用户（前两月没买，第三个月才第一次买,则用户前两个月为观望用户）\n",
    "        - unactive:首月购买后，后序月份没有购买则在没有购买的月份中该用户的为非活跃用户\n",
    "        - new:当前月就进行首次购买的用户在当前月为新用户\n",
    "        - active:连续月份购买的用户在这些月中为活跃用户\n",
    "        - return:购买之后间隔n月再次购买的第一个月份为该月份的回头客"
   ]
  },
  {
   "cell_type": "code",
   "execution_count": null,
   "id": "4aa29e73",
   "metadata": {},
   "outputs": [],
   "source": []
  }
 ],
 "metadata": {
  "kernelspec": {
   "display_name": "Python 3 (ipykernel)",
   "language": "python",
   "name": "python3"
  },
  "language_info": {
   "codemirror_mode": {
    "name": "ipython",
    "version": 3
   },
   "file_extension": ".py",
   "mimetype": "text/x-python",
   "name": "python",
   "nbconvert_exporter": "python",
   "pygments_lexer": "ipython3",
   "version": "3.9.0"
  }
 },
 "nbformat": 4,
 "nbformat_minor": 5
}
