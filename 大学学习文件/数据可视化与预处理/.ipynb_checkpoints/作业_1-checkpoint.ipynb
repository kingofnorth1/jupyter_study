{
 "cells": [
  {
   "cell_type": "markdown",
   "id": "109ab618",
   "metadata": {},
   "source": [
    "# 1、 绘制数据表中total profit的线图，并要求具有如下属性："
   ]
  },
  {
   "cell_type": "markdown",
   "id": "47842283",
   "metadata": {},
   "source": [
    "## ①    趋势线为虚线，颜色为红色\n",
    "\n",
    "## ②    在右下角显示图例\n",
    "\n",
    "## ③    图题为“图一：全年公司售卖数据”\n",
    "\n",
    "## ④    X轴标签为Month Number\n",
    "\n",
    "## ⑤    Y轴标签为Sold units number\n",
    "\n",
    "## ⑥    标识点为红圈圆点\n",
    "\n",
    "## ⑦    线条宽度为3"
   ]
  },
  {
   "cell_type": "code",
   "execution_count": 34,
   "id": "0bf82828",
   "metadata": {},
   "outputs": [],
   "source": [
    "import numpy as np\n",
    "import pandas as pd\n",
    "import matplotlib.pyplot as plt\n",
    "import seaborn as sns"
   ]
  },
  {
   "cell_type": "code",
   "execution_count": 35,
   "id": "ef468a31",
   "metadata": {},
   "outputs": [],
   "source": [
    "df = pd.read_csv(\"lab01_company_sales_.csv\")"
   ]
  },
  {
   "cell_type": "code",
   "execution_count": 36,
   "id": "547ed7fa",
   "metadata": {},
   "outputs": [
    {
     "data": {
      "text/html": [
       "<div>\n",
       "<style scoped>\n",
       "    .dataframe tbody tr th:only-of-type {\n",
       "        vertical-align: middle;\n",
       "    }\n",
       "\n",
       "    .dataframe tbody tr th {\n",
       "        vertical-align: top;\n",
       "    }\n",
       "\n",
       "    .dataframe thead th {\n",
       "        text-align: right;\n",
       "    }\n",
       "</style>\n",
       "<table border=\"1\" class=\"dataframe\">\n",
       "  <thead>\n",
       "    <tr style=\"text-align: right;\">\n",
       "      <th></th>\n",
       "      <th>month_number</th>\n",
       "      <th>facecream</th>\n",
       "      <th>facewash</th>\n",
       "      <th>toothpaste</th>\n",
       "      <th>bathingsoap</th>\n",
       "      <th>shampoo</th>\n",
       "      <th>moisturizer</th>\n",
       "      <th>total_units</th>\n",
       "      <th>total_profit</th>\n",
       "    </tr>\n",
       "  </thead>\n",
       "  <tbody>\n",
       "    <tr>\n",
       "      <th>0</th>\n",
       "      <td>1</td>\n",
       "      <td>2500</td>\n",
       "      <td>1500</td>\n",
       "      <td>5200</td>\n",
       "      <td>9200</td>\n",
       "      <td>1200</td>\n",
       "      <td>1500</td>\n",
       "      <td>21100</td>\n",
       "      <td>211000</td>\n",
       "    </tr>\n",
       "    <tr>\n",
       "      <th>1</th>\n",
       "      <td>2</td>\n",
       "      <td>2630</td>\n",
       "      <td>1200</td>\n",
       "      <td>5100</td>\n",
       "      <td>6100</td>\n",
       "      <td>2100</td>\n",
       "      <td>1200</td>\n",
       "      <td>18330</td>\n",
       "      <td>183300</td>\n",
       "    </tr>\n",
       "    <tr>\n",
       "      <th>2</th>\n",
       "      <td>3</td>\n",
       "      <td>2140</td>\n",
       "      <td>1340</td>\n",
       "      <td>4550</td>\n",
       "      <td>9550</td>\n",
       "      <td>3550</td>\n",
       "      <td>1340</td>\n",
       "      <td>22470</td>\n",
       "      <td>224700</td>\n",
       "    </tr>\n",
       "    <tr>\n",
       "      <th>3</th>\n",
       "      <td>4</td>\n",
       "      <td>3400</td>\n",
       "      <td>1130</td>\n",
       "      <td>5870</td>\n",
       "      <td>8870</td>\n",
       "      <td>1870</td>\n",
       "      <td>1130</td>\n",
       "      <td>22270</td>\n",
       "      <td>222700</td>\n",
       "    </tr>\n",
       "    <tr>\n",
       "      <th>4</th>\n",
       "      <td>5</td>\n",
       "      <td>3600</td>\n",
       "      <td>1740</td>\n",
       "      <td>4560</td>\n",
       "      <td>7760</td>\n",
       "      <td>1560</td>\n",
       "      <td>1740</td>\n",
       "      <td>20960</td>\n",
       "      <td>209600</td>\n",
       "    </tr>\n",
       "    <tr>\n",
       "      <th>5</th>\n",
       "      <td>6</td>\n",
       "      <td>2760</td>\n",
       "      <td>1555</td>\n",
       "      <td>4890</td>\n",
       "      <td>7490</td>\n",
       "      <td>1890</td>\n",
       "      <td>1555</td>\n",
       "      <td>20140</td>\n",
       "      <td>201400</td>\n",
       "    </tr>\n",
       "    <tr>\n",
       "      <th>6</th>\n",
       "      <td>7</td>\n",
       "      <td>2980</td>\n",
       "      <td>1120</td>\n",
       "      <td>4780</td>\n",
       "      <td>8980</td>\n",
       "      <td>1780</td>\n",
       "      <td>1120</td>\n",
       "      <td>29550</td>\n",
       "      <td>295500</td>\n",
       "    </tr>\n",
       "    <tr>\n",
       "      <th>7</th>\n",
       "      <td>8</td>\n",
       "      <td>3700</td>\n",
       "      <td>1400</td>\n",
       "      <td>5860</td>\n",
       "      <td>9960</td>\n",
       "      <td>2860</td>\n",
       "      <td>1400</td>\n",
       "      <td>36140</td>\n",
       "      <td>361400</td>\n",
       "    </tr>\n",
       "    <tr>\n",
       "      <th>8</th>\n",
       "      <td>9</td>\n",
       "      <td>3540</td>\n",
       "      <td>1780</td>\n",
       "      <td>6100</td>\n",
       "      <td>8100</td>\n",
       "      <td>2100</td>\n",
       "      <td>1780</td>\n",
       "      <td>23400</td>\n",
       "      <td>234000</td>\n",
       "    </tr>\n",
       "    <tr>\n",
       "      <th>9</th>\n",
       "      <td>10</td>\n",
       "      <td>1990</td>\n",
       "      <td>1890</td>\n",
       "      <td>8300</td>\n",
       "      <td>10300</td>\n",
       "      <td>2300</td>\n",
       "      <td>1890</td>\n",
       "      <td>26670</td>\n",
       "      <td>266700</td>\n",
       "    </tr>\n",
       "    <tr>\n",
       "      <th>10</th>\n",
       "      <td>11</td>\n",
       "      <td>2340</td>\n",
       "      <td>2100</td>\n",
       "      <td>7300</td>\n",
       "      <td>13300</td>\n",
       "      <td>2400</td>\n",
       "      <td>2100</td>\n",
       "      <td>41280</td>\n",
       "      <td>412800</td>\n",
       "    </tr>\n",
       "    <tr>\n",
       "      <th>11</th>\n",
       "      <td>12</td>\n",
       "      <td>2900</td>\n",
       "      <td>1760</td>\n",
       "      <td>7400</td>\n",
       "      <td>14400</td>\n",
       "      <td>1800</td>\n",
       "      <td>1760</td>\n",
       "      <td>30020</td>\n",
       "      <td>300200</td>\n",
       "    </tr>\n",
       "  </tbody>\n",
       "</table>\n",
       "</div>"
      ],
      "text/plain": [
       "    month_number  facecream  facewash  toothpaste  bathingsoap  shampoo  \\\n",
       "0              1       2500      1500        5200         9200     1200   \n",
       "1              2       2630      1200        5100         6100     2100   \n",
       "2              3       2140      1340        4550         9550     3550   \n",
       "3              4       3400      1130        5870         8870     1870   \n",
       "4              5       3600      1740        4560         7760     1560   \n",
       "5              6       2760      1555        4890         7490     1890   \n",
       "6              7       2980      1120        4780         8980     1780   \n",
       "7              8       3700      1400        5860         9960     2860   \n",
       "8              9       3540      1780        6100         8100     2100   \n",
       "9             10       1990      1890        8300        10300     2300   \n",
       "10            11       2340      2100        7300        13300     2400   \n",
       "11            12       2900      1760        7400        14400     1800   \n",
       "\n",
       "    moisturizer  total_units  total_profit  \n",
       "0          1500        21100        211000  \n",
       "1          1200        18330        183300  \n",
       "2          1340        22470        224700  \n",
       "3          1130        22270        222700  \n",
       "4          1740        20960        209600  \n",
       "5          1555        20140        201400  \n",
       "6          1120        29550        295500  \n",
       "7          1400        36140        361400  \n",
       "8          1780        23400        234000  \n",
       "9          1890        26670        266700  \n",
       "10         2100        41280        412800  \n",
       "11         1760        30020        300200  "
      ]
     },
     "execution_count": 36,
     "metadata": {},
     "output_type": "execute_result"
    }
   ],
   "source": [
    "df"
   ]
  },
  {
   "cell_type": "code",
   "execution_count": 52,
   "id": "4bb6f4f0",
   "metadata": {},
   "outputs": [
    {
     "data": {
      "text/plain": [
       "<matplotlib.legend.Legend at 0x21302be1cd0>"
      ]
     },
     "execution_count": 52,
     "metadata": {},
     "output_type": "execute_result"
    },
    {
     "data": {
      "image/png": "[encoded data removed]",
      "text/plain": [
       "<Figure size 432x288 with 1 Axes>"
      ]
     },
     "metadata": {
      "needs_background": "light"
     },
     "output_type": "display_data"
    }
   ],
   "source": [
    "plt.plot(df['month_number'],df['total_units'],linestyle='--',color='red',marker='o',linewidth=3,label='total_units')\n",
    "plt.rcParams['font.sans-serif']=['SimHei']\n",
    "plt.rcParams['axes.unicode_minus'] = False\n",
    "plt.title(\"图一：全年公司售卖数据\")\n",
    "plt.xlabel('month_number')\n",
    "plt.ylabel('Sold units number')\n",
    "plt.legend(loc=4)"
   ]
  },
  {
   "cell_type": "markdown",
   "id": "33d66a6b",
   "metadata": {},
   "source": [
    "# 2、 绘制每个月toothpaste售卖量的散点图，并要求具有如下属性："
   ]
  },
  {
   "cell_type": "markdown",
   "id": "58dc2c57",
   "metadata": {},
   "source": [
    "## ①    图例在绘图的左上角\n",
    "\n",
    "## ②    标识点为蓝色叉叉\n",
    "\n",
    "## ③    图题为“图二：牙膏售卖量散点图”\n",
    "\n",
    "## ④    X轴标签为Month Number\n",
    "\n",
    "## ⑤    Y轴标签为Number of Units Sold\n",
    "\n",
    "## ⑥    背景加网格，网格形式为”-“"
   ]
  },
  {
   "cell_type": "code",
   "execution_count": 59,
   "id": "7ba18919",
   "metadata": {},
   "outputs": [
    {
     "data": {
      "text/plain": [
       "<matplotlib.legend.Legend at 0x2130338c040>"
      ]
     },
     "execution_count": 59,
     "metadata": {},
     "output_type": "execute_result"
    },
    {
     "data": {
      "image/png": "[encoded data removed]",
      "text/plain": [
       "<Figure size 432x288 with 1 Axes>"
      ]
     },
     "metadata": {
      "needs_background": "light"
     },
     "output_type": "display_data"
    }
   ],
   "source": [
    "plt.scatter(df['month_number'],df['toothpaste'],color='blue',marker='x',label='toothpaste')\n",
    "plt.title(\"图二：牙膏售卖量散点图\")\n",
    "plt.xlabel('month_number')\n",
    "plt.ylabel('Number of Units Sold')\n",
    "plt.grid(True)\n",
    "plt.legend(loc=2)"
   ]
  },
  {
   "cell_type": "markdown",
   "id": "9072d045",
   "metadata": {},
   "source": [
    "# 3、 绘制face cream售卖量的条形图，并具有如下特征"
   ]
  },
  {
   "cell_type": "markdown",
   "id": "aa3a3b20",
   "metadata": {},
   "source": [
    "## ①    图例在绘图的左上角\n",
    "\n",
    "## ②    图题为“图三：洗面奶和面霜售卖量对比条形图”\n",
    "\n",
    "## ③    X轴标签为Month Number\n",
    "\n",
    "## ④    Y轴标签为Sales Units in Number\n",
    "\n",
    "## ⑤    背景加网格，网格形式为”-“"
   ]
  },
  {
   "cell_type": "code",
   "execution_count": 66,
   "id": "a284be44",
   "metadata": {},
   "outputs": [
    {
     "data": {
      "text/plain": [
       "<matplotlib.legend.Legend at 0x213030fc250>"
      ]
     },
     "execution_count": 66,
     "metadata": {},
     "output_type": "execute_result"
    },
    {
     "data": {
      "image/png": "[encoded data removed]",
      "text/plain": [
       "<Figure size 432x288 with 1 Axes>"
      ]
     },
     "metadata": {
      "needs_background": "light"
     },
     "output_type": "display_data"
    }
   ],
   "source": [
    "plt.bar(df['month_number'],df['facecream'],label='facecream')\n",
    "plt.title(\"图三：洗面奶和面霜售卖量对比条形图\")\n",
    "plt.xlabel('month_number')\n",
    "plt.ylabel('Sales Units in Number')\n",
    "plt.grid(True)\n",
    "plt.legend(loc=2)"
   ]
  },
  {
   "cell_type": "markdown",
   "id": "e26ce3ef",
   "metadata": {},
   "source": [
    "# 4、 计算去年每种商品的总售卖量，并绘制各商品售卖额的饼图"
   ]
  },
  {
   "cell_type": "markdown",
   "id": "f94fab6e",
   "metadata": {},
   "source": [
    "## ①    图例在绘图的右下角\n",
    "\n",
    "## ②    显示每种商品售卖额所占百分比数值\n",
    "\n",
    "## ③    图题为“图四：各商品售卖额占比图”"
   ]
  },
  {
   "cell_type": "code",
   "execution_count": 111,
   "id": "e86e4cac",
   "metadata": {},
   "outputs": [],
   "source": [
    "list =[]\n",
    "for i in range(1,7):\n",
    "    list.append(df.iloc[:,i].sum())"
   ]
  },
  {
   "cell_type": "code",
   "execution_count": 115,
   "id": "ab71c59e",
   "metadata": {},
   "outputs": [
    {
     "data": {
      "text/plain": [
       "<matplotlib.legend.Legend at 0x21303687790>"
      ]
     },
     "execution_count": 115,
     "metadata": {},
     "output_type": "execute_result"
    },
    {
     "data": {
      "image/png": "[encoded data removed]",
      "text/plain": [
       "<Figure size 432x288 with 1 Axes>"
      ]
     },
     "metadata": {},
     "output_type": "display_data"
    }
   ],
   "source": [
    "label = ['facecream','facewash','toothpaste','bathingsoap','shampoo','moisturizer']\n",
    "plt.pie(x=list,labels=label,autopct='%.2f%%')\n",
    "plt.title('图四：各商品售卖额占比图')\n",
    "plt.legend(loc=4)"
   ]
  },
  {
   "cell_type": "markdown",
   "id": "6477d2da",
   "metadata": {},
   "source": [
    "# 5、 绘制个月售卖额的直方图，并添加分布密度曲线"
   ]
  },
  {
   "cell_type": "markdown",
   "id": "0a778829",
   "metadata": {},
   "source": [
    "## ①    图例在绘图的左上\n",
    "\n",
    "## ②    图题为“图五：售卖额条形分布图”\n",
    "\n",
    "## ③    X轴标签为Profit Range in dollar\n",
    "\n",
    "## ④    Y轴标签为Frequency Counts"
   ]
  },
  {
   "cell_type": "code",
   "execution_count": 146,
   "id": "5ec8a43c",
   "metadata": {},
   "outputs": [
    {
     "data": {
      "text/plain": [
       "<matplotlib.legend.Legend at 0x213070aafd0>"
      ]
     },
     "execution_count": 146,
     "metadata": {},
     "output_type": "execute_result"
    },
    {
     "data": {
      "image/png": "[encoded data removed]",
      "text/plain": [
       "<Figure size 432x288 with 1 Axes>"
      ]
     },
     "metadata": {
      "needs_background": "light"
     },
     "output_type": "display_data"
    }
   ],
   "source": [
    "plt.bar(df['month_number'],df['total_profit'],label='total_profit')\n",
    "plt.title(\"图五：售卖额条形分布图\")\n",
    "plt.xlabel('Profit Range in dollar')\n",
    "plt.ylabel('Frequency Counts')\n",
    "plt.legend(loc=2)"
   ]
  },
  {
   "cell_type": "markdown",
   "id": "713af287",
   "metadata": {},
   "source": [
    "## 6、 绘制toothpaste、face cream和face wash售卖量的箱线图"
   ]
  },
  {
   "cell_type": "code",
   "execution_count": null,
   "id": "9f22c912",
   "metadata": {},
   "outputs": [],
   "source": []
  },
  {
   "cell_type": "markdown",
   "id": "3078792b",
   "metadata": {},
   "source": [
    "## 7、 根据如下数据绘制该同学各门课程成绩的雷达图\n",
    "\n",
    "### 科目：物理、化学、生物、数学、英语\n",
    "\n",
    "### 成绩：60、40、68、94、77"
   ]
  },
  {
   "cell_type": "code",
   "execution_count": null,
   "id": "8cdafbc0",
   "metadata": {},
   "outputs": [],
   "source": []
  }
 ],
 "metadata": {
  "kernelspec": {
   "display_name": "Python 3 (ipykernel)",
   "language": "python",
   "name": "python3"
  },
  "language_info": {
   "codemirror_mode": {
    "name": "ipython",
    "version": 3
   },
   "file_extension": ".py",
   "mimetype": "text/x-python",
   "name": "python",
   "nbconvert_exporter": "python",
   "pygments_lexer": "ipython3",
   "version": "3.9.0"
  }
 },
 "nbformat": 4,
 "nbformat_minor": 5
}
