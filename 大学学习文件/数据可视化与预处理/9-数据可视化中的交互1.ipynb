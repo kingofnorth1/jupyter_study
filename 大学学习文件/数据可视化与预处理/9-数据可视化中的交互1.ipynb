{
 "cells": [
  {
   "cell_type": "markdown",
   "id": "5cae6c5e",
   "metadata": {},
   "source": [
    "# <font face = \"微软雅黑\" color = blue size = 6>实验名称</font>"
   ]
  },
  {
   "cell_type": "markdown",
   "id": "20103a09",
   "metadata": {},
   "source": [
    "## 数据可视化中的交互"
   ]
  },
  {
   "cell_type": "markdown",
   "id": "747b14a0",
   "metadata": {},
   "source": [
    "# <font face = \"微软雅黑\" color = blue size = 6>实验目的</font>"
   ]
  },
  {
   "cell_type": "markdown",
   "id": "de67b57c",
   "metadata": {},
   "source": [
    "## 通过该实验的实践，要求学生可以理解可视化交互的概念，掌握Matplotlib和pyecharts的使用过程，能够熟练绘制图表中的可视化交互元素。"
   ]
  },
  {
   "cell_type": "markdown",
   "id": "43705c26",
   "metadata": {},
   "source": [
    "# <font face = \"微软雅黑\" color = blue size = 6>实验背景</font>"
   ]
  },
  {
   "cell_type": "markdown",
   "id": "801698f5",
   "metadata": {},
   "source": [
    "## 可视化由视觉呈现和交互两部分组成。可视化中的交互，可以缓解有限的可视化空间与数据量过载之间的矛盾，例如对于高维数据，交互上可以利用分组进行降维。从交互任务的角度，对数据产品中的单图和仪表盘进行操作。"
   ]
  },
  {
   "cell_type": "markdown",
   "id": "141a9193",
   "metadata": {},
   "source": [
    "# <font face = \"微软雅黑\" color = blue size = 6>实验原理</font>"
   ]
  },
  {
   "cell_type": "markdown",
   "id": "4918d4f1",
   "metadata": {},
   "source": [
    "## 可视化中的交互，可以缓解有限的可视化空间与数据量过载之间的矛盾\n",
    "\n",
    "## 可视化中优秀的交互设计，可以让用户更好的理解和分析数据\n",
    "\n",
    "## 掌握常见的可视化交互方式，如选择、过滤、溯源等"
   ]
  },
  {
   "cell_type": "markdown",
   "id": "b0d7b408",
   "metadata": {},
   "source": [
    "# <font face = \"微软雅黑\" color = blue size = 6>实验环境</font>"
   ]
  },
  {
   "cell_type": "markdown",
   "id": "e0e2fc5f",
   "metadata": {},
   "source": [
    "## Python 3.6.5\n",
    "\n",
    "## pyecharts 0.5.11\n",
    "\n",
    "## matplotlib 3.2.0\n",
    "\n",
    "## pandas 1.1.0"
   ]
  },
  {
   "cell_type": "markdown",
   "id": "27cefbd1",
   "metadata": {},
   "source": [
    "# <font face = \"微软雅黑\" color = blue size = 6>实验步骤</font>"
   ]
  },
  {
   "cell_type": "markdown",
   "id": "4990ba34",
   "metadata": {},
   "source": [
    "## 2 环境准备，安装所需的库"
   ]
  },
  {
   "cell_type": "markdown",
   "id": "059b3696",
   "metadata": {},
   "source": [
    "## 2 安装pyecharts"
   ]
  },
  {
   "cell_type": "code",
   "execution_count": 9,
   "id": "3133e210",
   "metadata": {},
   "outputs": [
    {
     "name": "stdout",
     "output_type": "stream",
     "text": [
      "Collecting pyecharts==0.5.11\n",
      "  Using cached pyecharts-0.5.11-py2.py3-none-any.whl (122 kB)\n",
      "Requirement already satisfied: future in d:\\programfiles\\anaconda3\\lib\\site-packages (from pyecharts==0.5.11) (0.18.2)\n",
      "Collecting jupyter-echarts-pypkg==0.1.2\n",
      "  Using cached jupyter_echarts_pypkg-0.1.2-py3-none-any.whl\n",
      "Requirement already satisfied: lml==0.0.2 in d:\\programfiles\\anaconda3\\lib\\site-packages (from pyecharts==0.5.11) (0.0.2)\n",
      "Requirement already satisfied: pillow in d:\\programfiles\\anaconda3\\lib\\site-packages (from pyecharts==0.5.11) (9.0.1)\n",
      "Requirement already satisfied: jinja2 in d:\\programfiles\\anaconda3\\lib\\site-packages (from pyecharts==0.5.11) (2.11.3)\n",
      "Collecting pyecharts-javascripthon==0.0.6\n",
      "  Using cached pyecharts_javascripthon-0.0.6-py2.py3-none-any.whl (9.3 kB)\n",
      "Requirement already satisfied: pyecharts-jupyter-installer==0.0.3 in d:\\programfiles\\anaconda3\\lib\\site-packages (from jupyter-echarts-pypkg==0.1.2->pyecharts==0.5.11) (0.0.3)\n",
      "Collecting javascripthon>=0.10\n",
      "  Using cached javascripthon-0.12-py3-none-any.whl (526 kB)\n",
      "Collecting dukpy\n",
      "  Using cached dukpy-0.2.3.tar.gz (1.9 MB)\n",
      "Requirement already satisfied: setuptools in d:\\programfiles\\anaconda3\\lib\\site-packages (from javascripthon>=0.10->pyecharts-javascripthon==0.0.6->pyecharts==0.5.11) (61.2.0)\n",
      "Requirement already satisfied: MarkupSafe>=0.23 in d:\\programfiles\\anaconda3\\lib\\site-packages (from jinja2->pyecharts==0.5.11) (2.0.1)\n",
      "Building wheels for collected packages: dukpy\n",
      "  Building wheel for dukpy (setup.py): started\n",
      "  Building wheel for dukpy (setup.py): finished with status 'done'\n",
      "  Created wheel for dukpy: filename=dukpy-0.2.3-cp39-cp39-win_amd64.whl size=1262292 sha256=1609f947e7b557840389fe596c15159946228050b8dec8c4b600bd3a3378703c\n",
      "  Stored in directory: c:\\users\\lenov\\appdata\\local\\pip\\cache\\wheels\\68\\81\\1c\\587c6743986b3153a950f942e68a487e6c5a8873aa06680262\n",
      "Successfully built dukpy\n",
      "Installing collected packages: dukpy, javascripthon, pyecharts-javascripthon, jupyter-echarts-pypkg, pyecharts\n",
      "Successfully installed dukpy-0.2.3 javascripthon-0.12 jupyter-echarts-pypkg-0.1.2 pyecharts-0.5.11 pyecharts-javascripthon-0.0.6\n"
     ]
    }
   ],
   "source": [
    "!pip install pyecharts==0.5.11 "
   ]
  },
  {
   "cell_type": "code",
   "execution_count": 1,
   "id": "2cd52718",
   "metadata": {},
   "outputs": [
    {
     "name": "stdout",
     "output_type": "stream",
     "text": [
      "Requirement already satisfied: pyecharts_snapshot in d:\\programfiles\\anaconda3\\lib\\site-packages (0.2.0)\n",
      "Requirement already satisfied: pyppeteer>=0.0.25 in d:\\programfiles\\anaconda3\\lib\\site-packages (from pyecharts_snapshot) (1.0.2)\n",
      "Requirement already satisfied: pillow in d:\\programfiles\\anaconda3\\lib\\site-packages (from pyecharts_snapshot) (9.0.1)\n",
      "Requirement already satisfied: importlib-metadata>=1.4 in d:\\programfiles\\anaconda3\\lib\\site-packages (from pyppeteer>=0.0.25->pyecharts_snapshot) (4.11.3)\n",
      "Requirement already satisfied: pyee<9.0.0,>=8.1.0 in d:\\programfiles\\anaconda3\\lib\\site-packages (from pyppeteer>=0.0.25->pyecharts_snapshot) (8.2.2)\n",
      "Requirement already satisfied: certifi>=2021 in d:\\programfiles\\anaconda3\\lib\\site-packages (from pyppeteer>=0.0.25->pyecharts_snapshot) (2021.10.8)\n",
      "Requirement already satisfied: websockets<11.0,>=10.0 in d:\\programfiles\\anaconda3\\lib\\site-packages (from pyppeteer>=0.0.25->pyecharts_snapshot) (10.3)\n",
      "Requirement already satisfied: appdirs<2.0.0,>=1.4.3 in d:\\programfiles\\anaconda3\\lib\\site-packages (from pyppeteer>=0.0.25->pyecharts_snapshot) (1.4.4)\n",
      "Requirement already satisfied: urllib3<2.0.0,>=1.25.8 in d:\\programfiles\\anaconda3\\lib\\site-packages (from pyppeteer>=0.0.25->pyecharts_snapshot) (1.26.9)\n",
      "Requirement already satisfied: tqdm<5.0.0,>=4.42.1 in d:\\programfiles\\anaconda3\\lib\\site-packages (from pyppeteer>=0.0.25->pyecharts_snapshot) (4.64.0)\n",
      "Requirement already satisfied: zipp>=0.5 in d:\\programfiles\\anaconda3\\lib\\site-packages (from importlib-metadata>=1.4->pyppeteer>=0.0.25->pyecharts_snapshot) (3.7.0)\n",
      "Requirement already satisfied: colorama in d:\\programfiles\\anaconda3\\lib\\site-packages (from tqdm<5.0.0,>=4.42.1->pyppeteer>=0.0.25->pyecharts_snapshot) (0.4.4)\n",
      "Note: you may need to restart the kernel to use updated packages.\n"
     ]
    }
   ],
   "source": [
    "pip install pyecharts_snapshot"
   ]
  },
  {
   "cell_type": "code",
   "execution_count": 13,
   "id": "7a1854a9",
   "metadata": {},
   "outputs": [
    {
     "name": "stdout",
     "output_type": "stream",
     "text": [
      "Requirement already satisfied: seaborn in d:\\programfiles\\anaconda3\\lib\\site-packages (0.11.2)\n",
      "Requirement already satisfied: numpy>=1.15 in d:\\programfiles\\anaconda3\\lib\\site-packages (from seaborn) (1.21.0)\n",
      "Requirement already satisfied: pandas>=0.23 in d:\\programfiles\\anaconda3\\lib\\site-packages (from seaborn) (1.4.2)\n",
      "Requirement already satisfied: scipy>=1.0 in d:\\programfiles\\anaconda3\\lib\\site-packages (from seaborn) (1.7.3)\n",
      "Requirement already satisfied: matplotlib>=2.2 in d:\\programfiles\\anaconda3\\lib\\site-packages (from seaborn) (3.5.1)\n",
      "Requirement already satisfied: pillow>=6.2.0 in d:\\programfiles\\anaconda3\\lib\\site-packages (from matplotlib>=2.2->seaborn) (9.0.1)\n",
      "Requirement already satisfied: packaging>=20.0 in d:\\programfiles\\anaconda3\\lib\\site-packages (from matplotlib>=2.2->seaborn) (21.3)\n",
      "Requirement already satisfied: fonttools>=4.22.0 in d:\\programfiles\\anaconda3\\lib\\site-packages (from matplotlib>=2.2->seaborn) (4.25.0)\n",
      "Requirement already satisfied: python-dateutil>=2.7 in d:\\programfiles\\anaconda3\\lib\\site-packages (from matplotlib>=2.2->seaborn) (2.8.2)\n",
      "Requirement already satisfied: pyparsing>=2.2.1 in d:\\programfiles\\anaconda3\\lib\\site-packages (from matplotlib>=2.2->seaborn) (3.0.4)\n",
      "Requirement already satisfied: cycler>=0.10 in d:\\programfiles\\anaconda3\\lib\\site-packages (from matplotlib>=2.2->seaborn) (0.11.0)\n",
      "Requirement already satisfied: kiwisolver>=1.0.1 in d:\\programfiles\\anaconda3\\lib\\site-packages (from matplotlib>=2.2->seaborn) (1.3.2)\n",
      "Requirement already satisfied: pytz>=2020.1 in d:\\programfiles\\anaconda3\\lib\\site-packages (from pandas>=0.23->seaborn) (2021.3)\n",
      "Requirement already satisfied: six>=1.5 in d:\\programfiles\\anaconda3\\lib\\site-packages (from python-dateutil>=2.7->matplotlib>=2.2->seaborn) (1.16.0)\n",
      "Note: you may need to restart the kernel to use updated packages.\n"
     ]
    }
   ],
   "source": [
    "pip install seaborn"
   ]
  },
  {
   "cell_type": "markdown",
   "id": "3fe607c2",
   "metadata": {},
   "source": [
    "## 2.2 下载实验数据"
   ]
  },
  {
   "cell_type": "code",
   "execution_count": 1,
   "id": "ee4032f0",
   "metadata": {},
   "outputs": [],
   "source": [
    "#下载实验数据：\n",
    "#http://i9000.net:8888/sgn/LMS/Visual/9/beijing_AQI_2018.csv\n",
    "#http://i9000.net:8888/sgn/LMS/Visual/9/shanghai_AQI_2018.csv\n",
    "#http://i9000.net:8888/sgn/LMS/Visual/9/guangzhou_AQI_2018.csv\n",
    "#http://i9000.net:8888/sgn/LMS/Visual/9/shenzhen_AQI_2018.csv"
   ]
  },
  {
   "cell_type": "markdown",
   "id": "0784a9ca",
   "metadata": {},
   "source": [
    "## 3 2018年北京AQI全年走势图"
   ]
  },
  {
   "cell_type": "code",
   "execution_count": 1,
   "id": "2ec76e97",
   "metadata": {},
   "outputs": [],
   "source": [
    "import pandas as pd\n",
    "from pyecharts import Line\n",
    "#读取数据\n",
    "df = pd.read_csv('./beijing_AQI_2018.csv')\n",
    "attr = df['Date']#取Date的值\n",
    "v1 = df['AQI']#取AQI的值\n",
    "line = Line(\"2018年北京AQI全年走势图\", title_pos='center', title_top='18', width=800, height=400)#设置宽高、标题的位置，字体\n",
    "#添加AQI线，设置点线的形状和颜色\n",
    "line.add(\"AQI值：\", attr, v1, mark_line=['average'], is_fill=True, area_color=\"#000\", area_opacity=0.3, mark_point=[\"max\", \"min\"], mark_point_symbol=\"circle\", mark_point_symbolsize=25)\n",
    "line.render(\"./2018年北京AQI全年走势图.html\")#生成html，在该python文件同级目录下"
   ]
  },
  {
   "cell_type": "markdown",
   "id": "0e3a1a68",
   "metadata": {},
   "source": [
    "## 4 2018年北京PM2.5全年走势图"
   ]
  },
  {
   "cell_type": "code",
   "execution_count": 3,
   "id": "3784b196",
   "metadata": {},
   "outputs": [],
   "source": [
    "import pandas as pd\n",
    "from pyecharts import Line\n",
    "#读取数据\n",
    "df = pd.read_csv('./beijing_AQI_2018.csv')\n",
    "attr = df['Date']#取Date的值\n",
    "v1 = df['PM']#取Pm的值\n",
    "line = Line(\"2018年北京PM2.5全年走势图\", title_pos='center', title_top='18', width=800, height=400)#设置宽高、标题的位置，字体\n",
    "#添加PM2.5值线，设置点线的形状和颜色\n",
    "line.add(\"PM2.5值：\", attr, v1, mark_line=['average'], is_fill=True, area_color=\"#000\", area_opacity=0.3, mark_point=[\"max\", \"min\"], mark_point_symbol=\"circle\", mark_point_symbolsize=25)\n",
    "line.render(\"./2018年北京PM2.5全年走势图.html\")#生成html，在该python文件同级目录下"
   ]
  },
  {
   "cell_type": "markdown",
   "id": "be0d5806",
   "metadata": {},
   "source": [
    "## 5 2018年北京月均AQI走势图"
   ]
  },
  {
   "cell_type": "code",
   "execution_count": 4,
   "id": "2dddd1c3",
   "metadata": {
    "scrolled": false
   },
   "outputs": [],
   "source": [
    "import numpy as np\n",
    "import pandas as pd\n",
    "from pyecharts import Line\n",
    "#读取数据\n",
    "df = pd.read_csv('./beijing_AQI_2018.csv')\n",
    "dom = df[['Date', 'AQI']]#取Date和AQI的值\n",
    "list1 = []\n",
    "#取出月份\n",
    "for j in dom['Date']:\n",
    "    time = j.split('/')[1]\n",
    "    list1.append(time)\n",
    "df['month'] = list1\n",
    "\n",
    "month_message = df.groupby(['month'])#根据月份分组\n",
    "month_com = month_message['AQI'].agg(['mean'])#求AQi的平均值\n",
    "month_com.reset_index(inplace=True)#重设索引\n",
    "month_com_last = month_com.sort_index()#索引排序\n",
    "\n",
    "attr = [\"{}\".format(str(i) + '月') for i in range(1, 13)]#月份数据\n",
    "v1 = np.array(month_com_last['mean'])#取每月的均值\n",
    "v1 = [\"{}\".format(int(i)) for i in v1]\n",
    "\n",
    "line = Line(\"2018年北京月均AQI走势图\", title_pos='center', title_top='18', width=800, height=400)\n",
    "#添加AQI月均值线，设置点线的形状和颜色\n",
    "line.add(\"AQI月均值\", attr, v1, mark_point=[\"max\", \"min\"])\n",
    "line.render(\"./2018年北京月均AQI走势图.html\")#生成html，在该python文件同级目录下"
   ]
  },
  {
   "cell_type": "markdown",
   "id": "fc9e9c46",
   "metadata": {},
   "source": [
    "## 6 2018年北京月均PM2.5走势图"
   ]
  },
  {
   "cell_type": "code",
   "execution_count": 5,
   "id": "eb3d35e3",
   "metadata": {},
   "outputs": [],
   "source": [
    "import numpy as np\n",
    "import pandas as pd\n",
    "from pyecharts import Line\n",
    "#读取数据\n",
    "df = pd.read_csv('./beijing_AQI_2018.csv')\n",
    "\n",
    "dom = df[['Date', 'PM']]#取Date和PM的值\n",
    "list1 = []\n",
    "#取出月份\n",
    "for j in dom['Date']:\n",
    "    time = j.split('/')[1]\n",
    "    list1.append(time)\n",
    "df['month'] = list1\n",
    "\n",
    "month_message = df.groupby(['month'])#根据月份分组\n",
    "month_com = month_message['PM'].agg(['mean'])#求PM的平均值\n",
    "month_com.reset_index(inplace=True)#重设索引\n",
    "month_com_last = month_com.sort_index()#索引排序\n",
    "\n",
    "attr = [\"{}\".format(str(i) + '月') for i in range(1, 13)]\n",
    "v1 = np.array(month_com_last['mean'])\n",
    "v1 = [\"{}\".format(int(i)) for i in v1]\n",
    "\n",
    "line = Line(\"2018年北京月均PM2.5走势图\", title_pos='center', title_top='18', width=800, height=400)\n",
    "#添加PM2.5，设置点线的形状和颜色\n",
    "line.add(\"\", attr, v1, mark_point=[\"max\", \"min\"])\n",
    "line.render(\"./2018年北京月均PM2.5走势图.html\")#生成html，在该python文件同级目录下"
   ]
  },
  {
   "cell_type": "markdown",
   "id": "33658a56",
   "metadata": {},
   "source": [
    "## 7 2018年北京季度AQI箱形图"
   ]
  },
  {
   "cell_type": "code",
   "execution_count": 6,
   "id": "3fdf91a0",
   "metadata": {},
   "outputs": [],
   "source": [
    "import pandas as pd\n",
    "from pyecharts import Boxplot\n",
    "#读取数据\n",
    "df = pd.read_csv('./beijing_AQI_2018.csv')\n",
    "#取Date和AQI的值\n",
    "dom = df[['Date', 'AQI']]\n",
    "data = [[], [], [], []]\n",
    "dom1, dom2, dom3, dom4 = data\n",
    "#取'第一季度', '第二季度', '第三季度', '第四季度'的AQI\n",
    "for i, j in zip(dom['Date'], dom['AQI']):\n",
    "    time = i.split('/')[1]\n",
    "    if time in ['1', '2', '3']:\n",
    "        dom1.append(j)\n",
    "    elif time in ['4', '5', '6']:\n",
    "        dom2.append(j)\n",
    "    elif time in ['7', '8', '9']:\n",
    "        dom3.append(j)\n",
    "    else:\n",
    "        dom4.append(j)\n",
    "\n",
    "boxplot = Boxplot(\"2018年北京季度AQI箱形图\", title_pos='center', title_top='18', width=800, height=400)#设置宽高、标题的位置，字体\n",
    "x_axis = ['第一季度', '第二季度', '第三季度', '第四季度']#设置x轴的值\n",
    "y_axis = [dom1, dom2, dom3, dom4]#第一个y轴的值\n",
    "_yaxis = boxplot.prepare_data(y_axis)#第二个y轴的值\n",
    "boxplot.add(\"\", x_axis, _yaxis)\n",
    "boxplot.render(\"./2018年北京季度AQI箱形图.html\")#生成html，在该python文件同级目录下"
   ]
  },
  {
   "cell_type": "markdown",
   "id": "607e4c5b",
   "metadata": {},
   "source": [
    "## 8 2018年北京季度PM2.5箱形图"
   ]
  },
  {
   "cell_type": "code",
   "execution_count": 7,
   "id": "b31c406f",
   "metadata": {},
   "outputs": [],
   "source": [
    "import pandas as pd\n",
    "from pyecharts import Boxplot\n",
    "#读取数据\n",
    "df = pd.read_csv('./beijing_AQI_2018.csv')\n",
    "#取Date和PM的值\n",
    "dom = df[['Date', 'PM']]\n",
    "data = [[], [], [], []]\n",
    "#取'第一季度', '第二季度', '第三季度', '第四季度'的PM\n",
    "dom1, dom2, dom3, dom4 = data\n",
    "for i, j in zip(dom['Date'], dom['PM']):\n",
    "    time = i.split('/')[1]\n",
    "    if time in ['1', '2', '3']:\n",
    "        dom1.append(j)\n",
    "    elif time in ['4', '5', '6']:\n",
    "        dom2.append(j)\n",
    "    elif time in ['7', '8', '9']:\n",
    "        dom3.append(j)\n",
    "    else:\n",
    "        dom4.append(j)\n",
    "\n",
    "boxplot = Boxplot(\"2018年北京季度PM2.5箱形图\", title_pos='center', title_top='18', width=800, height=400)#设置宽高、标题的位置，字体\n",
    "x_axis = ['第一季度', '第二季度', '第三季度', '第四季度']#设置x轴的值\n",
    "y_axis = [dom1, dom2, dom3, dom4]#第一个y轴的值\n",
    "_yaxis = boxplot.prepare_data(y_axis)#第二个y轴的值\n",
    "boxplot.add(\"\", x_axis, _yaxis)\n",
    "boxplot.render(\"./2018年北京季度PM2.5箱形图.html\")#生成html，在该python文件同级目录下"
   ]
  },
  {
   "cell_type": "markdown",
   "id": "b79334d2",
   "metadata": {},
   "source": [
    "## 9 2018年北京全年空气质量情况"
   ]
  },
  {
   "cell_type": "code",
   "execution_count": 8,
   "id": "b861288f",
   "metadata": {},
   "outputs": [],
   "source": [
    "import pandas as pd\n",
    "from pyecharts import Pie\n",
    "#读取数据\n",
    "df = pd.read_csv('./beijing_AQI_2018.csv')\n",
    "#根据Quality_grade分组\n",
    "rank_message = df.groupby(['Quality_grade'])\n",
    "#同级Quality_grade分组的频数\n",
    "rank_com = rank_message['Quality_grade'].agg(['count'])\n",
    "rank_com.reset_index(inplace=True)#重置索引\n",
    "rank_com_last = rank_com.sort_values('count', ascending=False) #从大到小排序\n",
    "\n",
    "attr = rank_com_last['Quality_grade'] #取Quality_grade从大到小排序的值\n",
    "v1 = rank_com_last['count']\n",
    "\n",
    "pie = Pie(\"2018年北京全年空气质量情况\", title_pos='center', title_top=0) #设置标题的位置\n",
    "pie.add(\"\", attr, v1, radius=[40, 75], label_text_color=None, is_label_show=True, legend_orient=\"vertical\", legend_pos=\"left\", legend_top=\"%10\")\n",
    "pie.render('./2018年北京全年空气质量情况.html') #生成html，在该python文件同级目录下"
   ]
  },
  {
   "cell_type": "markdown",
   "id": "eb97af71",
   "metadata": {},
   "source": [
    "## 10 2018年北京PM2.5指数日历图"
   ]
  },
  {
   "cell_type": "code",
   "execution_count": 9,
   "id": "e7648b53",
   "metadata": {},
   "outputs": [],
   "source": [
    "import datetime\n",
    "import random\n",
    "import numpy as np\n",
    "import pandas as pd\n",
    "from pyecharts import HeatMap\n",
    "#读取数据beijing_AQI_2018.csv\n",
    "df = pd.read_csv('./beijing_AQI_2018.csv')\n",
    "#v1 = [\"{}\".format(int(i)) for i in np.array(df['PM'])]#将PM值转成整数\n",
    "\n",
    "#begin = datetime.date(2018, 1, 1)\n",
    "#end = datetime.date(2018, 12, 31)\n",
    "\n",
    "#data = [[str(begin + datetime.timedelta(days=i)), v1[i]] for i in range((end - begin).days + 1)]\n",
    "#random.randint(1000, 25000)\n",
    "#data = [[str(begin + datetime.timedelta(days=i)), random.randint(0, 400)] for i in range((end - begin).days + 1)]\n",
    "dom = df[['Date', 'PM']]#取日期和PM\n",
    "list1 = []\n",
    "#将日期和PM压缩后字典后遍历\n",
    "for i, j in zip(dom['Date'], dom['PM']):\n",
    "    time_list = i.split('/')\n",
    "    #将Date转换成datatime类型\n",
    "    time = datetime.date(int(time_list[0]),int(time_list[1]),int(time_list[2]))\n",
    "    PM = int(j)#PM值取整\n",
    "    list1.append([str(time),str(PM)])\n",
    "#创建热力图，设置宽高、标题的位置\n",
    "heatmap = HeatMap(\"2018年北京PM2.5指数日历图\", title_pos='40%', title_top='10', width=800, height=400)\n",
    "heatmap.add(\n",
    "    \"\",\n",
    "    list1,\n",
    "    is_calendar_heatmap=True,#是日历天\n",
    "    visual_text_color=\"#000\",\n",
    "    visual_range_text=[\"\", \"\"],\n",
    "    visual_range=[0, 300],#可视范围\n",
    "    calendar_cell_size=[\"auto\", 30],#日期格子的大小\n",
    "    is_visualmap=True,#采用visualmap透视\n",
    "    calendar_date_range=\"2018\",#日期范围是2018年内\n",
    "    visual_orient=\"horizontal\",#水平\n",
    "    visual_pos=\"26%\",#位置\n",
    "    visual_top=\"70%\",#顶部位置\n",
    "    is_piecewise=True,#显示精确度\n",
    "    visual_split_number=6#对于连续型数据，自动平均切分成几段\n",
    ")\n",
    "heatmap.render('./2018年北京PM2.5指数日历图.html')#生成html，在该python文件同级目录下"
   ]
  },
  {
   "cell_type": "markdown",
   "id": "613c15dd",
   "metadata": {},
   "source": [
    "##  11 2018年北上广深AQI全年走势图"
   ]
  },
  {
   "cell_type": "code",
   "execution_count": 10,
   "id": "cc2e859c",
   "metadata": {},
   "outputs": [],
   "source": [
    "import numpy as np\n",
    "import pandas as pd\n",
    "from pyecharts import Line\n",
    "\n",
    "citys = ['beijing', 'shanghai', 'guangzhou', 'shenzhen']\n",
    "cityes_AQI = []\n",
    "for i in range(4):\n",
    "    filename = './'+ citys[i] + '_AQI' + '_2018.csv' # 文件内容：\"日期\",\"质量等级\",\"AQI指数\",\"当天AQI排名\",\"PM2.5\"\n",
    "    aqi_data = pd.read_csv(filename)\n",
    "\n",
    "    get_data = aqi_data[['Date', 'AQI']] # 提取 \"日期\",\"AQI指数\"两列内容进行分析\n",
    "    month_for_data = []\n",
    "    for j in get_data['Date']:\n",
    "        time = j.split('/')[1]\n",
    "        month_for_data.append(time)\n",
    "    aqi_data['Month'] = month_for_data # 获取每行数据的月份\n",
    "\n",
    "    # 求每个月AQI平均值\n",
    "    month_data = aqi_data.groupby(['Month'])\n",
    "    month_AQI = month_data['AQI'].agg(['mean'])\n",
    "    month_AQI.reset_index(inplace=True)\n",
    "    month_AQI_average = month_AQI.sort_index()\n",
    "\n",
    "    # 获取每个城市月均AQI的数据，转化为int数据类型\n",
    "    month_AQI_data = np.array(month_AQI_average['mean'])\n",
    "    month_AQI_data_int = [\"{}\".format(int(i)) for i in month_AQI_data]\n",
    "    cityes_AQI.append(month_AQI_data_int)\n",
    "\n",
    "months = [\"{}\".format(str(i) + '月') for i in range(1, 13)]\n",
    "\n",
    "line = Line(\"2018年北上广深AQI全年走势图\", title_pos='center', title_top='0', width=800, height=400)\n",
    "line.add(\"北京\", months, cityes_AQI[0], line_color='red', legend_top='8%')\n",
    "line.add(\"上海\", months, cityes_AQI[1], line_color='purple', legend_top='8%')\n",
    "line.add(\"广州\", months, cityes_AQI[2], line_color='blue', legend_top='8%')\n",
    "line.add(\"深圳\", months, cityes_AQI[3], line_color='orange', legend_top='8%')\n",
    "line.render('./2018年北上广深AQI全年走势图.html')#生成html，在该python文件同级目录下"
   ]
  },
  {
   "cell_type": "markdown",
   "id": "b10243b4",
   "metadata": {},
   "source": [
    "## 12 2018年北上广深PM2.5全年走势图"
   ]
  },
  {
   "cell_type": "code",
   "execution_count": 12,
   "id": "b5231888",
   "metadata": {},
   "outputs": [],
   "source": [
    "import numpy as np\n",
    "import pandas as pd\n",
    "from pyecharts import Line\n",
    "\n",
    "citys = ['beijing', 'shanghai', 'guangzhou', 'shenzhen']\n",
    "cityes_PM = []\n",
    "for i in range(4):\n",
    "    filename ='./'+  citys[i] + '_AQI' + '_2018.csv'  # 文件内容：\"日期\",\"质量等级\",\"AQI指数\",\"当天AQI排名\",\"PM2.5\"\n",
    "    aqi_data = pd.read_csv(filename)\n",
    "\n",
    "    get_data = aqi_data[['Date', 'PM']] # 提取 \"日期\",\"PM2.5\"两列内容进行分析\n",
    "    month_for_data = []\n",
    "    for j in get_data['Date']:\n",
    "        time = j.split('/')[1]\n",
    "        month_for_data.append(time)\n",
    "    aqi_data['Month'] = month_for_data # 获取每行数据的月份\n",
    "\n",
    "    # 求每个月PM2.5平均值\n",
    "    month_data = aqi_data.groupby(['Month'])\n",
    "    month_PM = month_data['PM'].agg(['mean'])\n",
    "    month_PM.reset_index(inplace=True)\n",
    "    month_PM_average = month_PM.sort_index()\n",
    "\n",
    "    # 获取每个城市每个月AQI的数据，转化为int数据类型\n",
    "    month_PM_data = np.array(month_PM_average['mean'])\n",
    "    month_PM_data_int = [\"{}\".format(int(i)) for i in month_PM_data]\n",
    "    cityes_PM.append(month_PM_data_int)\n",
    "\n",
    "months = [\"{}\".format(str(i) + '月') for i in range(1, 13)]\n",
    "\n",
    "line = Line(\"2018年北上广深PM2.5全年走势图\", title_pos='center', title_top='0', width=800, height=400)\n",
    "line.add(\"北京\", months, cityes_PM[0], line_color='red', legend_top='8%')\n",
    "line.add(\"上海\", months, cityes_PM[1], line_color='purple', legend_top='8%')\n",
    "line.add(\"广州\", months, cityes_PM[2], line_color='blue', legend_top='8%')\n",
    "line.add(\"深圳\", months, cityes_PM[3], line_color='orange', legend_top='8%')\n",
    "line.render('./2018年北上广深PM2.5全年走势图.html')#生成html，在该python文件同级目录下"
   ]
  },
  {
   "cell_type": "markdown",
   "id": "d651a9cb",
   "metadata": {},
   "source": [
    "# 13 2018年北上广深全年空气质量情况"
   ]
  },
  {
   "cell_type": "code",
   "execution_count": 13,
   "id": "8f6467f0",
   "metadata": {},
   "outputs": [],
   "source": [
    "import numpy as np\n",
    "import pandas as pd\n",
    "from pyecharts import Pie, Grid\n",
    "\n",
    "citys = ['beijing', 'shanghai', 'guangzhou', 'shenzhen']\n",
    "v = []\n",
    "attrs = []\n",
    "for i in range(4):\n",
    "    filename = './'+ citys[i] + '_AQI' + '_2018.csv'# 文件内容：\"日期\",\"质量等级\",\"AQI指数\",\"当天AQI排名\",\"PM2.5\"\n",
    "    df = pd.read_csv(filename) #pd.read_csv(filename, header=None, names=[\"Date\", \"Quality_grade\", \"AQI\", \"AQI_rank\", \"PM\"])\n",
    "\t#根据Quality_grade分组\n",
    "    Quality_grade_message = df.groupby(['Quality_grade'])\n",
    "    #每组的频数\n",
    "    Quality_grade_com = Quality_grade_message['Quality_grade'].agg(['count'])\n",
    "    Quality_grade_com.reset_index(inplace=True)#重置索引\n",
    "    Quality_grade_com_last = Quality_grade_com.sort_values('count', ascending=False)#从大到小排序\n",
    "\t#取Quality_grade的值\n",
    "    Quality_grade_array = Quality_grade_com_last['Quality_grade']\n",
    "    Quality_grade_array = np.array(Quality_grade_com_last['Quality_grade'])\n",
    "    attrs.append(Quality_grade_array)\n",
    "    Quality_grade_count = Quality_grade_com_last['count']\n",
    "    Quality_grade_count = np.array(Quality_grade_com_last['count'])\n",
    "    v.append(Quality_grade_count)\n",
    "\n",
    "pie1 = Pie(\"北京\", title_pos=\"28%\", title_top=\"24%\")#创建饼图，设置位置\n",
    "pie1.add(\"\", attrs[0], v[0], radius=[20, 40], center=[30, 27], legend_pos=\"63%\", legend_top=\"40%\", legend_orient=\"vertical\",is_label_show=True)#添加数据，设置图例的属性，显示标签\n",
    "\n",
    "pie2 = Pie(\"上海\", title_pos=\"52%\", title_top=\"24%\")#创建饼图，设置位置\n",
    "pie2.add(\"\", attrs[1], v[1], radius=[20, 40], center=[54, 27], is_label_show=False, is_legend_show=False)\n",
    "#添加数据，设置图例的属性，显示标签\n",
    "pie3 = Pie(\"广州\", title_pos='28%', title_top='77%')#创建饼图，设置位置\n",
    "pie3.add(\"\", attrs[2], v[2], radius=[20, 40], center=[30, 80], is_label_show=False, is_legend_show=False)\n",
    "#添加数据，设置图例的属性，显示标签\n",
    "pie4 = Pie(\"深圳\", title_pos='52%', title_top='77%')#创建饼图，设置位置\n",
    "pie4.add(\"\", attrs[3], v[3], radius=[20, 40], center=[54, 80], is_label_show=False, is_legend_show=False)\n",
    "#添加数据，设置图例的属性，显示标签\n",
    "grid = Grid(\"2018年北上广深全年空气质量情况\", width=1200)\n",
    "grid.add(pie1)\n",
    "grid.add(pie2)\n",
    "grid.add(pie3)\n",
    "grid.add(pie4)\n",
    "grid.render('./2018年北上广深全年空气质量情况.html')#生成html，在该python文件同级目录下"
   ]
  },
  {
   "cell_type": "markdown",
   "id": "53a308b8",
   "metadata": {},
   "source": [
    "# <font face = \"微软雅黑\" color = blue size = 6>实验总结</font>"
   ]
  },
  {
   "cell_type": "markdown",
   "id": "c60a7b48",
   "metadata": {},
   "source": [
    "## 在实验中，通过实践练习，提高学生使用Matplotlib和pyecharts进行文本数据可视化的熟练程度，总结适合展示文本数据的图表，能够解释文本数据所包含的实际意义。"
   ]
  },
  {
   "cell_type": "code",
   "execution_count": null,
   "id": "5c153f2b",
   "metadata": {},
   "outputs": [],
   "source": []
  }
 ],
 "metadata": {
  "kernelspec": {
   "display_name": "Python 3 (ipykernel)",
   "language": "python",
   "name": "python3"
  },
  "language_info": {
   "codemirror_mode": {
    "name": "ipython",
    "version": 3
   },
   "file_extension": ".py",
   "mimetype": "text/x-python",
   "name": "python",
   "nbconvert_exporter": "python",
   "pygments_lexer": "ipython3",
   "version": "3.9.12"
  }
 },
 "nbformat": 4,
 "nbformat_minor": 5
}
