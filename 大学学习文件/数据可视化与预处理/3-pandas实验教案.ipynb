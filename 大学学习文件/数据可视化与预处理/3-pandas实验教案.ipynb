{
 "cells": [
  {
   "cell_type": "markdown",
   "id": "5cae6c5e",
   "metadata": {},
   "source": [
    "# <font face = \"微软雅黑\" color = blue size = 6>实验名称</font>"
   ]
  },
  {
   "cell_type": "markdown",
   "id": "20103a09",
   "metadata": {},
   "source": [
    "## pandas的基本操作(二）"
   ]
  },
  {
   "cell_type": "markdown",
   "id": "747b14a0",
   "metadata": {},
   "source": [
    "# <font face = \"微软雅黑\" color = blue size = 6>实验目的</font>"
   ]
  },
  {
   "cell_type": "markdown",
   "id": "de67b57c",
   "metadata": {},
   "source": [
    "## 通过该实验的实践，要求学生可以掌握Pandas的数据结构Series、DataFrame，能够使用Pandas进行数据的存取、处理、运算、统计等基本操作"
   ]
  },
  {
   "cell_type": "markdown",
   "id": "43705c26",
   "metadata": {},
   "source": [
    "# <font face = \"微软雅黑\" color = blue size = 6>实验背景</font>"
   ]
  },
  {
   "cell_type": "markdown",
   "id": "801698f5",
   "metadata": {},
   "source": [
    "## Pandas是一个强大的分析结构化数据的工具集；它的使用基础是Numpy（提供高性能的矩阵运算）；用于数据挖掘和数据分析，同时也提供数据清洗功能。"
   ]
  },
  {
   "cell_type": "markdown",
   "id": "141a9193",
   "metadata": {},
   "source": [
    "# <font face = \"微软雅黑\" color = blue size = 6>实验原理</font>"
   ]
  },
  {
   "cell_type": "markdown",
   "id": "4918d4f1",
   "metadata": {},
   "source": [
    "## Python Data Analysis Library 或 pandas 是连接 SciPy和 NumPy的一种工具，该工具是为了解决数据分析任务而创建的，通过数据结构Series、DataFrame实现功能：\n",
    "\n",
    "## 1、Series是一种类似于一维数组的对象，是由一组数据(各种NumPy数据类型)以及一组与之相关的数据标签(即索引)组成。仅由一组数据也可产生简单的Series对象\n",
    "\n",
    "## 2、DataFrame是Pandas中的一个表格型的数据结构，包含有一组有序的列，每列可以是不同的值类型(数值、字符串、布尔型等)，DataFrame即有行索引也有列索引，可以被看做是由Series组成的字典"
   ]
  },
  {
   "cell_type": "markdown",
   "id": "b0d7b408",
   "metadata": {},
   "source": [
    "# <font face = \"微软雅黑\" color = blue size = 6>实验环境</font>"
   ]
  },
  {
   "cell_type": "markdown",
   "id": "e0e2fc5f",
   "metadata": {},
   "source": [
    "## Windows操作系统 64bits\n",
    "## python 3.6以上\n",
    "## numpy1.17以上\n",
    "## pandas1.0.2"
   ]
  },
  {
   "cell_type": "markdown",
   "id": "27cefbd1",
   "metadata": {},
   "source": [
    "# <font face = \"微软雅黑\" color = blue size = 6>实验步骤</font>"
   ]
  },
  {
   "cell_type": "markdown",
   "id": "4990ba34",
   "metadata": {},
   "source": [
    "## 4 数据导出"
   ]
  },
  {
   "cell_type": "code",
   "execution_count": 1,
   "id": "7bf7ab25",
   "metadata": {
    "scrolled": true
   },
   "outputs": [],
   "source": [
    "# !pip3 install wheel\n",
    "# !pip3 install lxml\n",
    "# !pip3 install tushare\n",
    "# !pip3 install beautifulsoup4\n",
    "# !pip3 install requests\n",
    "# !pip3 install pandas"
   ]
  },
  {
   "cell_type": "code",
   "execution_count": null,
   "id": "80ce78d0",
   "metadata": {},
   "outputs": [
    {
     "name": "stdout",
     "output_type": "stream",
     "text": [
      "本接口即将停止更新，请尽快使用Pro版接口：https://tushare.pro/document/2\n",
      "[Getting data:]#################################################################本接口即将停止更新，请尽快使用Pro版接口：https://tushare.pro/document/2\n",
      "[Getting data:]########################"
     ]
    }
   ],
   "source": [
    "import tushare as ts\n",
    "# 业绩报告\n",
    "report = ts.get_report_data(2017,2)\n",
    "# 盈利能力\n",
    "profit = ts.get_profit_data(2017,2)\n",
    "# 营运能力\n",
    "operation = ts.get_operation_data(2017,2)"
   ]
  },
  {
   "cell_type": "markdown",
   "id": "abbcf660",
   "metadata": {},
   "source": [
    "## 4.1 导出到本地文件"
   ]
  },
  {
   "cell_type": "markdown",
   "id": "31878296",
   "metadata": {},
   "source": [
    "### 4.1.1 导出为文本文件"
   ]
  },
  {
   "cell_type": "code",
   "execution_count": null,
   "id": "3306c6a6",
   "metadata": {},
   "outputs": [],
   "source": [
    "report.to_csv('./report.csv',index = False,encoding = 'utf-8')\n",
    "profit.to_csv('./profit.csv',index = False,encoding = 'utf-8')\n",
    "operation.to_csv('./operation.csv',index = False,encoding = 'utf-8')"
   ]
  },
  {
   "cell_type": "markdown",
   "id": "ce2a6c5f",
   "metadata": {},
   "source": [
    "### 4.1.2 导出为Excel文件"
   ]
  },
  {
   "cell_type": "code",
   "execution_count": null,
   "id": "89d8b29a",
   "metadata": {},
   "outputs": [],
   "source": [
    "# 可以分别导出到不同的Excel工作簿；\n",
    "!pip  install openpyxl\n",
    "import pandas as pd\n",
    "report.to_excel('./report.xlsx',index =False)\n",
    "profit.to_excel('./profit.xlsx',index = False)\n",
    "operation.to_excel('./operation.xlsx',index =False)\n",
    "#先打开一个Excel工作簿，然后分别写入三个表格，然后关掉Excel工作簿\n",
    "writer = pd.ExcelWriter('./finance.xlsx')\n",
    "report.to_excel(writer,sheet_name='report',index = False)\n",
    "profit.to_excel(writer,sheet_name='profit',index = False)\n",
    "operation.to_excel(writer,sheet_name='operation',index = False)\n",
    "# 文件写入完毕后关掉Excel工作簿\n",
    "writer.close()"
   ]
  },
  {
   "cell_type": "markdown",
   "id": "7089d9e9",
   "metadata": {},
   "source": [
    "### 4.1.3 导出为Json文件"
   ]
  },
  {
   "cell_type": "code",
   "execution_count": null,
   "id": "fb7b3578",
   "metadata": {},
   "outputs": [],
   "source": [
    "# 导出为json文件\n",
    "report.to_json('./report.json')"
   ]
  },
  {
   "cell_type": "markdown",
   "id": "f2844cf4",
   "metadata": {},
   "source": [
    "### 4.1.4 导出为hdf文件"
   ]
  },
  {
   "cell_type": "code",
   "execution_count": null,
   "id": "76c2c28f",
   "metadata": {},
   "outputs": [],
   "source": [
    "# 导出为hdf文件\n",
    "!pip install tables\n",
    "from warnings import filterwarnings\n",
    "filterwarnings('ignore')\n",
    "\n",
    "report.to_hdf('./report.hdf','report')\n",
    "# ImportError: HDFStore requires PyTables, \"No module named 'tables'\" problem importing"
   ]
  },
  {
   "cell_type": "markdown",
   "id": "b18e0d6e",
   "metadata": {},
   "source": [
    "## 4.2 将数据存储到数据库"
   ]
  },
  {
   "cell_type": "code",
   "execution_count": null,
   "id": "c5ae8145",
   "metadata": {},
   "outputs": [],
   "source": [
    "import sqlite3\n",
    "# 创建连接\n",
    "sqlite_con = sqlite3.connect('./pandas.db')\n",
    "# 写入数据\n",
    "report.to_sql('report',sqlite_con,if_exists ='replace',index =False)\n",
    "profit.to_sql('profit',sqlite_con,if_exists ='replace',index =False)\n",
    "operation.to_sql('operation',sqlite_con,if_exists ='replace',index =False)"
   ]
  },
  {
   "cell_type": "markdown",
   "id": "e1c223ae",
   "metadata": {},
   "source": [
    "## 4.3 数据导入"
   ]
  },
  {
   "cell_type": "markdown",
   "id": "00be16ec",
   "metadata": {},
   "source": [
    "### 4.3.1 从本地文件"
   ]
  },
  {
   "cell_type": "code",
   "execution_count": null,
   "id": "82e959f8",
   "metadata": {},
   "outputs": [],
   "source": [
    "# 从文本文件\n",
    "# 推荐使用相对路径\n",
    "pd.read_csv('./report.csv').head(3)"
   ]
  },
  {
   "cell_type": "code",
   "execution_count": null,
   "id": "3e93e6fb",
   "metadata": {},
   "outputs": [],
   "source": [
    "#从Excel文件\n",
    "# 如果不是被迫选择Excel文件格式，一般不推荐使用Excel文件格式，速度很慢\n",
    "!pip install xlrd\n",
    "pd.read_excel('./report.xlsx').head()"
   ]
  },
  {
   "cell_type": "code",
   "execution_count": null,
   "id": "841b4a7d",
   "metadata": {},
   "outputs": [],
   "source": [
    "# 如果一个Excel工作簿有多个表格，那么需要指定传入的表格名称\n",
    "pd.read_excel('./finance.xlsx',sheet_name='report').head()"
   ]
  },
  {
   "cell_type": "code",
   "execution_count": null,
   "id": "954045eb",
   "metadata": {},
   "outputs": [],
   "source": [
    "pd.read_json('./report.json').head()"
   ]
  },
  {
   "cell_type": "code",
   "execution_count": null,
   "id": "f3fd4dfd",
   "metadata": {},
   "outputs": [],
   "source": [
    "pd.read_hdf('./report.hdf','report').head()"
   ]
  },
  {
   "cell_type": "markdown",
   "id": "bcdec73c",
   "metadata": {},
   "source": [
    "### 4.3.2 从数据库"
   ]
  },
  {
   "cell_type": "code",
   "execution_count": null,
   "id": "333b8b32",
   "metadata": {},
   "outputs": [],
   "source": [
    "import sqlite3\n",
    "import pandas as pd\n",
    "# 创建连接\n",
    "sqlite_con = sqlite3.connect('./pandas.db')\n",
    "# 读取数据，显示前5行\n",
    "pd.read_sql('select * from report limit 5',sqlite_con)"
   ]
  },
  {
   "cell_type": "code",
   "execution_count": null,
   "id": "e1b35050",
   "metadata": {},
   "outputs": [],
   "source": [
    "pd.Series(999,['a','b','c','d'])"
   ]
  },
  {
   "cell_type": "markdown",
   "id": "b6a67a6a",
   "metadata": {},
   "source": [
    "## 5 分组计算与汇总"
   ]
  },
  {
   "cell_type": "markdown",
   "id": "680576b6",
   "metadata": {},
   "source": [
    "## 5.1 导入数据"
   ]
  },
  {
   "cell_type": "code",
   "execution_count": null,
   "id": "155f2021",
   "metadata": {},
   "outputs": [],
   "source": [
    "#下载数据http://59.110.26.116:8888/sgn/HUP/Visual/2/super_store.xls，存放于运行目录下。\n",
    "order = pd.read_excel('./super_store.xls',sheet_name = '订单')\n",
    "order.head(2)"
   ]
  },
  {
   "cell_type": "markdown",
   "id": "e51b89cd",
   "metadata": {},
   "source": [
    "## 5.2 按照地区对所有的数值型变量进行汇总"
   ]
  },
  {
   "cell_type": "code",
   "execution_count": null,
   "id": "2c342f82",
   "metadata": {},
   "outputs": [],
   "source": [
    "order.groupby(['地区']).sum()"
   ]
  },
  {
   "cell_type": "code",
   "execution_count": null,
   "id": "af15ccc4",
   "metadata": {},
   "outputs": [],
   "source": [
    "order.groupby(['地区']).count()"
   ]
  },
  {
   "cell_type": "markdown",
   "id": "6b04fc1b",
   "metadata": {},
   "source": [
    "## 5.3 选择有现实意义的数值型变量进行汇总"
   ]
  },
  {
   "cell_type": "code",
   "execution_count": null,
   "id": "aa332bbf",
   "metadata": {},
   "outputs": [],
   "source": [
    "# 按照地区对销售额,销售数量,销售利润进行汇总\n",
    "order.groupby(['地区'])['销售额','数量','利润'].sum()"
   ]
  },
  {
   "cell_type": "code",
   "execution_count": null,
   "id": "a268b796",
   "metadata": {},
   "outputs": [],
   "source": [
    "# 不同细分市场的销售额\n",
    "order.groupby('细分').销售额.sum()\n",
    "order.groupby('细分').sum().销售额\n",
    "order.groupby('细分').sum()['销售额']\n",
    "order.groupby('细分')['销售额'].sum()"
   ]
  },
  {
   "cell_type": "code",
   "execution_count": null,
   "id": "3ba3d9c9",
   "metadata": {},
   "outputs": [],
   "source": [
    "order.groupby('细分').sum().销售额"
   ]
  },
  {
   "cell_type": "code",
   "execution_count": null,
   "id": "356b8101",
   "metadata": {},
   "outputs": [],
   "source": [
    "order.groupby('细分')['销售额'].sum()"
   ]
  },
  {
   "cell_type": "markdown",
   "id": "6b48de2f",
   "metadata": {},
   "source": [
    "## 5.4 分组查看变量的描述性统计量"
   ]
  },
  {
   "cell_type": "code",
   "execution_count": null,
   "id": "b4d199a1",
   "metadata": {},
   "outputs": [],
   "source": [
    "# 根据不同地区查看销售额的描述性统计\n",
    "order.groupby(['地区']).describe()['销售额']\n",
    "order.groupby(['地区'])['销售额'].describe()"
   ]
  },
  {
   "cell_type": "code",
   "execution_count": null,
   "id": "ea69655d",
   "metadata": {},
   "outputs": [],
   "source": [
    "order.groupby(['地区'])['销售额'].describe()"
   ]
  },
  {
   "cell_type": "code",
   "execution_count": null,
   "id": "9c7f7aa7",
   "metadata": {},
   "outputs": [],
   "source": [
    "order.groupby(['地区'])['销售额'].describe()"
   ]
  },
  {
   "cell_type": "markdown",
   "id": "0baa7a94",
   "metadata": {},
   "source": [
    "## 5.5 按照多个分类变量对数据进行汇总"
   ]
  },
  {
   "cell_type": "code",
   "execution_count": null,
   "id": "e24d9b83",
   "metadata": {},
   "outputs": [],
   "source": [
    "# 按照市场细分和地区来汇总销售额\n",
    "order.groupby(['细分','地区']).sum()['销售额']"
   ]
  },
  {
   "cell_type": "code",
   "execution_count": null,
   "id": "f9804e17",
   "metadata": {},
   "outputs": [],
   "source": [
    "# 按照市场细分和地区来汇总销售额,利润,和销售数量\n",
    "order.groupby(['细分','地区']).sum()[['销售额','利润','数量']]"
   ]
  },
  {
   "cell_type": "markdown",
   "id": "4183bea3",
   "metadata": {},
   "source": [
    "## 5.6 将透视分析结果以交叉表的形式呈现"
   ]
  },
  {
   "cell_type": "code",
   "execution_count": null,
   "id": "69bc6b22",
   "metadata": {},
   "outputs": [],
   "source": [
    "# 默认呈现方式\n",
    "order.groupby(['细分','类别'])['销售额','利润'].sum()"
   ]
  },
  {
   "cell_type": "code",
   "execution_count": null,
   "id": "4252b562",
   "metadata": {},
   "outputs": [],
   "source": [
    "# 以交叉表的形式呈现\n",
    "order.groupby(['细分','类别'])['销售额','利润'].sum().unstack()"
   ]
  },
  {
   "cell_type": "markdown",
   "id": "e94aa78f",
   "metadata": {},
   "source": [
    "## 6 数据融合"
   ]
  },
  {
   "cell_type": "markdown",
   "id": "c51ff574",
   "metadata": {},
   "source": [
    "## 6.1 构造数据"
   ]
  },
  {
   "cell_type": "code",
   "execution_count": null,
   "id": "6a0af6ce",
   "metadata": {},
   "outputs": [],
   "source": [
    "raw_data01 = {'col_a':[1,2,3,4],\n",
    "              'col_b':list('abcd'),\n",
    "              'col_c':[True]*2+[False]*2}"
   ]
  },
  {
   "cell_type": "code",
   "execution_count": null,
   "id": "dc382614",
   "metadata": {},
   "outputs": [],
   "source": [
    "raw_data02 = {'ID':[1,3,4,5], 'col_b':['a','d','c','e']} \n",
    "df1 = pd.DataFrame(raw_data01) \n",
    "df2 = pd.DataFrame(raw_data02)"
   ]
  },
  {
   "cell_type": "code",
   "execution_count": null,
   "id": "937a062d",
   "metadata": {},
   "outputs": [],
   "source": [
    "df1"
   ]
  },
  {
   "cell_type": "code",
   "execution_count": null,
   "id": "64be7635",
   "metadata": {},
   "outputs": [],
   "source": [
    "df2"
   ]
  },
  {
   "cell_type": "markdown",
   "id": "48d1b21c",
   "metadata": {},
   "source": [
    "## 6.2 直接进行连接"
   ]
  },
  {
   "cell_type": "code",
   "execution_count": null,
   "id": "4ea9ac99",
   "metadata": {},
   "outputs": [],
   "source": [
    "# 连接方式1\n",
    "pd.merge(df1,df2)"
   ]
  },
  {
   "cell_type": "code",
   "execution_count": null,
   "id": "22dcd303",
   "metadata": {},
   "outputs": [],
   "source": [
    "# 连接方式2\n",
    "df1.merge(df2)"
   ]
  },
  {
   "cell_type": "markdown",
   "id": "0a6a1e3e",
   "metadata": {},
   "source": [
    "## 6.3 指定字段进行连接"
   ]
  },
  {
   "cell_type": "code",
   "execution_count": null,
   "id": "cd51a2bf",
   "metadata": {},
   "outputs": [],
   "source": [
    "# 根据能够进行匹配的一个字段进行连接\n",
    "pd.merge(df1,df2,left_on=['col_a'],right_on=['ID'])"
   ]
  },
  {
   "cell_type": "code",
   "execution_count": null,
   "id": "7279aef9",
   "metadata": {},
   "outputs": [],
   "source": [
    "# 根据能够进行匹配的多个字段进行连接\n",
    "pd.merge(df1,df2,left_on=['col_a','col_b'],right_on=['ID','col_b'])"
   ]
  },
  {
   "cell_type": "markdown",
   "id": "0f5beafc",
   "metadata": {},
   "source": [
    "## 6.4 指定根据哪个表进行连接"
   ]
  },
  {
   "cell_type": "code",
   "execution_count": null,
   "id": "c81ea9ae",
   "metadata": {},
   "outputs": [],
   "source": [
    "# 左连接\n",
    "pd.merge(df1,df2,how = 'left')"
   ]
  },
  {
   "cell_type": "code",
   "execution_count": null,
   "id": "469907b2",
   "metadata": {},
   "outputs": [],
   "source": [
    "# 换一种写法\n",
    "df1.merge(df2,how = 'right')"
   ]
  },
  {
   "cell_type": "code",
   "execution_count": null,
   "id": "adc483c4",
   "metadata": {},
   "outputs": [],
   "source": [
    "# 右连接\n",
    "pd.merge(df1,df2,how = 'right')"
   ]
  },
  {
   "cell_type": "code",
   "execution_count": null,
   "id": "1d67db4f",
   "metadata": {},
   "outputs": [],
   "source": [
    "# 内连接\n",
    "pd.merge(df1,df2,how ='inner')"
   ]
  },
  {
   "cell_type": "code",
   "execution_count": null,
   "id": "25657e48",
   "metadata": {},
   "outputs": [],
   "source": [
    "# 外连接\n",
    "pd.merge(df1,df2,how = 'outer')"
   ]
  },
  {
   "cell_type": "markdown",
   "id": "b898a8a8",
   "metadata": {},
   "source": [
    "## 7 案例：分析每个地区经理负责的区域退货订单数量"
   ]
  },
  {
   "cell_type": "markdown",
   "id": "216f8669",
   "metadata": {},
   "source": [
    "## 7.1 导入需要进行融合的数据集"
   ]
  },
  {
   "cell_type": "code",
   "execution_count": null,
   "id": "1ee17196",
   "metadata": {},
   "outputs": [],
   "source": [
    "order = pd.read_excel('./super_store.xls',sheet_name='订单')\n",
    "returns = pd.read_excel('./super_store.xls',sheet_name='退货')\n",
    "salers = pd.read_excel('./super_store.xls',sheet_name='销售人员')"
   ]
  },
  {
   "cell_type": "markdown",
   "id": "b2dfc218",
   "metadata": {},
   "source": [
    "## 7.2 分别查看这几个数据集的格式"
   ]
  },
  {
   "cell_type": "code",
   "execution_count": null,
   "id": "94e82be6",
   "metadata": {},
   "outputs": [],
   "source": [
    "order.head(2)\n",
    "returns.head()\n",
    "salers.head()"
   ]
  },
  {
   "cell_type": "markdown",
   "id": "4b23b7e3",
   "metadata": {},
   "source": [
    "## 7.3 统计订单数量与销售的商品数量"
   ]
  },
  {
   "cell_type": "code",
   "execution_count": null,
   "id": "f59febbb",
   "metadata": {},
   "outputs": [],
   "source": [
    "# 商品数量\n",
    "len(order)"
   ]
  },
  {
   "cell_type": "code",
   "execution_count": null,
   "id": "a9e1160f",
   "metadata": {},
   "outputs": [],
   "source": [
    "# 订单数量（一个订单对应多个商品）\n",
    "len(order['订单 ID'].unique())"
   ]
  },
  {
   "cell_type": "code",
   "execution_count": null,
   "id": "9f0cc91c",
   "metadata": {},
   "outputs": [],
   "source": [
    "# 查看是否有一个订单送往多个地区的情形\n",
    "len(order[['地区','订单 ID']].drop_duplicates())"
   ]
  },
  {
   "cell_type": "markdown",
   "id": "d93a10e4",
   "metadata": {},
   "source": [
    "## 7.4 按照地区对订单ID进行去重"
   ]
  },
  {
   "cell_type": "code",
   "execution_count": null,
   "id": "6f177836",
   "metadata": {},
   "outputs": [],
   "source": [
    "# 去重后的结果保存在distinct_order中\n",
    "distinct_order = order[['地区','订单 ID']].drop_duplicates()\n",
    "distinct_order.count()"
   ]
  },
  {
   "cell_type": "code",
   "execution_count": null,
   "id": "24e102ac",
   "metadata": {},
   "outputs": [],
   "source": [
    "distinct_order.head(2)"
   ]
  },
  {
   "cell_type": "markdown",
   "id": "6d87f154",
   "metadata": {},
   "source": [
    "## 7.5 将退货记录表和独立订单ID表进行融合,这样就将退货的订单ID与地区进行了关联"
   ]
  },
  {
   "cell_type": "code",
   "execution_count": null,
   "id": "1038d12e",
   "metadata": {},
   "outputs": [],
   "source": [
    "# 融合后的结果保存在return_ID中\n",
    "returns_ID = pd.merge(returns,distinct_order,how = 'left',on = ['订单 ID'])"
   ]
  },
  {
   "cell_type": "code",
   "execution_count": null,
   "id": "581a05c8",
   "metadata": {},
   "outputs": [],
   "source": [
    "returns_ID.head(2)"
   ]
  },
  {
   "cell_type": "markdown",
   "id": "c029b93a",
   "metadata": {},
   "source": [
    "## 7.6 将地区与销售经理进行关联,这样就能够知道每一个具体的退货订单对应的销售经理"
   ]
  },
  {
   "cell_type": "code",
   "execution_count": null,
   "id": "564b48f8",
   "metadata": {},
   "outputs": [],
   "source": [
    "pd.merge(returns_ID,salers,how ='left',on ='地区').head()"
   ]
  },
  {
   "cell_type": "code",
   "execution_count": null,
   "id": "24eb3a3f",
   "metadata": {},
   "outputs": [],
   "source": [
    "# 不同销售经理笔下的退货订单数量\n",
    "pd.merge(returns_ID,salers,how ='left',on ='地区').groupby('地区经理')['订单 ID'].count()"
   ]
  },
  {
   "cell_type": "markdown",
   "id": "528ed2a8",
   "metadata": {},
   "source": [
    "## 7.7 也可以直接先将3个表进行连接,之后再统计独立订单数量"
   ]
  },
  {
   "cell_type": "code",
   "execution_count": null,
   "id": "fc35ad75",
   "metadata": {},
   "outputs": [],
   "source": [
    "# 连接order表和returns表\n",
    "# 再连接sales表\n",
    "# 提取两个字段 ['地区经理','订单 ID'],并去除重复记录\n",
    "# 分组汇总\n",
    "\n",
    "order.merge(returns,how='right',on='订单 ID')\\\n",
    "     .merge(salers,how='left',on='地区')\\\n",
    "     [['地区经理','订单 ID']].drop_duplicates()\\\n",
    "     .groupby('地区经理').count()"
   ]
  },
  {
   "cell_type": "markdown",
   "id": "53a308b8",
   "metadata": {},
   "source": [
    "# <font face = \"微软雅黑\" color = blue size = 6>实验总结</font>"
   ]
  },
  {
   "cell_type": "markdown",
   "id": "c60a7b48",
   "metadata": {},
   "source": [
    "## 在实验中，通过对Pandas各种基本操作的实践练习，加深了学生对Pandas数据结构及其功能的理解，能够应用Pandas进行数据处理及分析。"
   ]
  }
 ],
 "metadata": {
  "kernelspec": {
   "display_name": "Python 3 (ipykernel)",
   "language": "python",
   "name": "python3"
  },
  "language_info": {
   "codemirror_mode": {
    "name": "ipython",
    "version": 3
   },
   "file_extension": ".py",
   "mimetype": "text/x-python",
   "name": "python",
   "nbconvert_exporter": "python",
   "pygments_lexer": "ipython3",
   "version": "3.9.0"
  }
 },
 "nbformat": 4,
 "nbformat_minor": 5
}
