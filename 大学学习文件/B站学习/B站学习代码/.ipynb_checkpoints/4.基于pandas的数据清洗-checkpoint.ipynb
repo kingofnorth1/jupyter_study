{
 "cells": [
  {
   "cell_type": "markdown",
   "id": "a4e87860",
   "metadata": {},
   "source": [
    "- 原数数据中会存在缺失值（空值）\n",
    "- 重复值\n",
    "- 异常值"
   ]
  },
  {
   "cell_type": "markdown",
   "id": "df928937",
   "metadata": {},
   "source": [
    "处理丢失数据\n",
    "- 有两种丢失数据：\n",
    "    - None\n",
    "    - np.nan(NaN)\n",
    "    \n",
    "    \n",
    "- 两种丢失数据的区别"
   ]
  },
  {
   "cell_type": "code",
   "execution_count": 1,
   "id": "7d533549",
   "metadata": {},
   "outputs": [
    {
     "data": {
      "text/plain": [
       "NoneType"
      ]
     },
     "execution_count": 1,
     "metadata": {},
     "output_type": "execute_result"
    }
   ],
   "source": [
    "import numpy as np\n",
    "type(None) #None对象类型"
   ]
  },
  {
   "cell_type": "code",
   "execution_count": 5,
   "id": "6794084a",
   "metadata": {},
   "outputs": [
    {
     "data": {
      "text/plain": [
       "float"
      ]
     },
     "execution_count": 5,
     "metadata": {},
     "output_type": "execute_result"
    }
   ],
   "source": [
    "type(np.nan) #NAN浮点型"
   ]
  },
  {
   "cell_type": "markdown",
   "id": "121261c2",
   "metadata": {},
   "source": [
    "- 为什么在数据分析中需要用到的是浮点类型的空而不是对象类型\n",
    "    - 数据分析中常常使用某些形式的运算来处理原始数据，如果原数据中的空值为NAN形式，则不会干扰或者中断运算\n",
    "    - NAN可以参加运算的\n",
    "    - None是不可以参与运算"
   ]
  },
  {
   "cell_type": "markdown",
   "id": "2954b576",
   "metadata": {},
   "source": [
    "- 在pandas中如果遇到了None形式的空值则pandas会将其强转成NAN的形式"
   ]
  },
  {
   "cell_type": "code",
   "execution_count": 8,
   "id": "179aee66",
   "metadata": {
    "scrolled": true
   },
   "outputs": [
    {
     "data": {
      "text/plain": [
       "nan"
      ]
     },
     "execution_count": 8,
     "metadata": {},
     "output_type": "execute_result"
    }
   ],
   "source": [
    "np.nan + 1"
   ]
  },
  {
   "cell_type": "markdown",
   "id": "3a279784",
   "metadata": {},
   "source": [
    "- pandas处理空值操作\n",
    "    - isnull\n",
    "    - notnull\n",
    "    - any\n",
    "    - all\n",
    "    - dropna\n",
    "    - fillna"
   ]
  },
  {
   "cell_type": "code",
   "execution_count": 9,
   "id": "f58dd195",
   "metadata": {},
   "outputs": [],
   "source": [
    "import pandas as pd\n",
    "from pandas import DataFrame,Series"
   ]
  },
  {
   "cell_type": "code",
   "execution_count": 15,
   "id": "9e41692b",
   "metadata": {},
   "outputs": [
    {
     "data": {
      "text/html": [
       "<div>\n",
       "<style scoped>\n",
       "    .dataframe tbody tr th:only-of-type {\n",
       "        vertical-align: middle;\n",
       "    }\n",
       "\n",
       "    .dataframe tbody tr th {\n",
       "        vertical-align: top;\n",
       "    }\n",
       "\n",
       "    .dataframe thead th {\n",
       "        text-align: right;\n",
       "    }\n",
       "</style>\n",
       "<table border=\"1\" class=\"dataframe\">\n",
       "  <thead>\n",
       "    <tr style=\"text-align: right;\">\n",
       "      <th></th>\n",
       "      <th>0</th>\n",
       "      <th>1</th>\n",
       "      <th>2</th>\n",
       "      <th>3</th>\n",
       "      <th>4</th>\n",
       "      <th>5</th>\n",
       "    </tr>\n",
       "  </thead>\n",
       "  <tbody>\n",
       "    <tr>\n",
       "      <th>0</th>\n",
       "      <td>51</td>\n",
       "      <td>13</td>\n",
       "      <td>34</td>\n",
       "      <td>99</td>\n",
       "      <td>36</td>\n",
       "      <td>1</td>\n",
       "    </tr>\n",
       "    <tr>\n",
       "      <th>1</th>\n",
       "      <td>90</td>\n",
       "      <td>42</td>\n",
       "      <td>54</td>\n",
       "      <td>44</td>\n",
       "      <td>48</td>\n",
       "      <td>60</td>\n",
       "    </tr>\n",
       "    <tr>\n",
       "      <th>2</th>\n",
       "      <td>48</td>\n",
       "      <td>74</td>\n",
       "      <td>25</td>\n",
       "      <td>50</td>\n",
       "      <td>1</td>\n",
       "      <td>15</td>\n",
       "    </tr>\n",
       "    <tr>\n",
       "      <th>3</th>\n",
       "      <td>29</td>\n",
       "      <td>52</td>\n",
       "      <td>1</td>\n",
       "      <td>92</td>\n",
       "      <td>83</td>\n",
       "      <td>56</td>\n",
       "    </tr>\n",
       "    <tr>\n",
       "      <th>4</th>\n",
       "      <td>96</td>\n",
       "      <td>85</td>\n",
       "      <td>77</td>\n",
       "      <td>7</td>\n",
       "      <td>78</td>\n",
       "      <td>19</td>\n",
       "    </tr>\n",
       "    <tr>\n",
       "      <th>5</th>\n",
       "      <td>40</td>\n",
       "      <td>87</td>\n",
       "      <td>28</td>\n",
       "      <td>50</td>\n",
       "      <td>24</td>\n",
       "      <td>82</td>\n",
       "    </tr>\n",
       "    <tr>\n",
       "      <th>6</th>\n",
       "      <td>57</td>\n",
       "      <td>69</td>\n",
       "      <td>94</td>\n",
       "      <td>68</td>\n",
       "      <td>92</td>\n",
       "      <td>32</td>\n",
       "    </tr>\n",
       "    <tr>\n",
       "      <th>7</th>\n",
       "      <td>97</td>\n",
       "      <td>8</td>\n",
       "      <td>12</td>\n",
       "      <td>16</td>\n",
       "      <td>20</td>\n",
       "      <td>7</td>\n",
       "    </tr>\n",
       "  </tbody>\n",
       "</table>\n",
       "</div>"
      ],
      "text/plain": [
       "    0   1   2   3   4   5\n",
       "0  51  13  34  99  36   1\n",
       "1  90  42  54  44  48  60\n",
       "2  48  74  25  50   1  15\n",
       "3  29  52   1  92  83  56\n",
       "4  96  85  77   7  78  19\n",
       "5  40  87  28  50  24  82\n",
       "6  57  69  94  68  92  32\n",
       "7  97   8  12  16  20   7"
      ]
     },
     "execution_count": 15,
     "metadata": {},
     "output_type": "execute_result"
    }
   ],
   "source": [
    "#伪造一组数据(存在空值)\n",
    "df = DataFrame(data=np.random.randint(0,100,size=(8,6)))\n",
    "df"
   ]
  },
  {
   "cell_type": "code",
   "execution_count": null,
   "id": "741ed9f1",
   "metadata": {},
   "outputs": [],
   "source": []
  }
 ],
 "metadata": {
  "kernelspec": {
   "display_name": "Python 3 (ipykernel)",
   "language": "python",
   "name": "python3"
  },
  "language_info": {
   "codemirror_mode": {
    "name": "ipython",
    "version": 3
   },
   "file_extension": ".py",
   "mimetype": "text/x-python",
   "name": "python",
   "nbconvert_exporter": "python",
   "pygments_lexer": "ipython3",
   "version": "3.9.0"
  }
 },
 "nbformat": 4,
 "nbformat_minor": 5
}
