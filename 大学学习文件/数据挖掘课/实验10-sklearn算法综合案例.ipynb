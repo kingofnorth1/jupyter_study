{
 "cells": [
  {
   "cell_type": "markdown",
   "id": "3a36ca4f",
   "metadata": {},
   "source": [
    "# Scikit-Learn实现线性回归\n",
    "\n"
   ]
  },
  {
   "cell_type": "markdown",
   "id": "c8c16e39",
   "metadata": {},
   "source": [
    "## 1.\t导入数据\n"
   ]
  },
  {
   "cell_type": "code",
   "execution_count": 70,
   "id": "6d011579",
   "metadata": {},
   "outputs": [],
   "source": [
    "import pandas as pd"
   ]
  },
  {
   "cell_type": "code",
   "execution_count": 71,
   "id": "9d674c42",
   "metadata": {},
   "outputs": [
    {
     "data": {
      "text/html": [
       "<div>\n",
       "<style scoped>\n",
       "    .dataframe tbody tr th:only-of-type {\n",
       "        vertical-align: middle;\n",
       "    }\n",
       "\n",
       "    .dataframe tbody tr th {\n",
       "        vertical-align: top;\n",
       "    }\n",
       "\n",
       "    .dataframe thead th {\n",
       "        text-align: right;\n",
       "    }\n",
       "</style>\n",
       "<table border=\"1\" class=\"dataframe\">\n",
       "  <thead>\n",
       "    <tr style=\"text-align: right;\">\n",
       "      <th></th>\n",
       "      <th>longitude</th>\n",
       "      <th>latitude</th>\n",
       "      <th>housing_median_age</th>\n",
       "      <th>total_rooms</th>\n",
       "      <th>total_bedrooms</th>\n",
       "      <th>population</th>\n",
       "      <th>households</th>\n",
       "      <th>median_income</th>\n",
       "      <th>median_house_value</th>\n",
       "      <th>ocean_proximity</th>\n",
       "    </tr>\n",
       "  </thead>\n",
       "  <tbody>\n",
       "    <tr>\n",
       "      <th>0</th>\n",
       "      <td>-122.23</td>\n",
       "      <td>37.88</td>\n",
       "      <td>41.0</td>\n",
       "      <td>880.0</td>\n",
       "      <td>129.0</td>\n",
       "      <td>322.0</td>\n",
       "      <td>126.0</td>\n",
       "      <td>8.3252</td>\n",
       "      <td>452600.0</td>\n",
       "      <td>NEAR BAY</td>\n",
       "    </tr>\n",
       "    <tr>\n",
       "      <th>1</th>\n",
       "      <td>-122.22</td>\n",
       "      <td>37.86</td>\n",
       "      <td>21.0</td>\n",
       "      <td>7099.0</td>\n",
       "      <td>1106.0</td>\n",
       "      <td>2401.0</td>\n",
       "      <td>1138.0</td>\n",
       "      <td>8.3014</td>\n",
       "      <td>358500.0</td>\n",
       "      <td>NEAR BAY</td>\n",
       "    </tr>\n",
       "    <tr>\n",
       "      <th>2</th>\n",
       "      <td>-122.24</td>\n",
       "      <td>37.85</td>\n",
       "      <td>52.0</td>\n",
       "      <td>1467.0</td>\n",
       "      <td>190.0</td>\n",
       "      <td>496.0</td>\n",
       "      <td>177.0</td>\n",
       "      <td>7.2574</td>\n",
       "      <td>352100.0</td>\n",
       "      <td>NEAR BAY</td>\n",
       "    </tr>\n",
       "    <tr>\n",
       "      <th>3</th>\n",
       "      <td>-122.25</td>\n",
       "      <td>37.85</td>\n",
       "      <td>52.0</td>\n",
       "      <td>1274.0</td>\n",
       "      <td>235.0</td>\n",
       "      <td>558.0</td>\n",
       "      <td>219.0</td>\n",
       "      <td>5.6431</td>\n",
       "      <td>341300.0</td>\n",
       "      <td>NEAR BAY</td>\n",
       "    </tr>\n",
       "    <tr>\n",
       "      <th>4</th>\n",
       "      <td>-122.25</td>\n",
       "      <td>37.85</td>\n",
       "      <td>52.0</td>\n",
       "      <td>1627.0</td>\n",
       "      <td>280.0</td>\n",
       "      <td>565.0</td>\n",
       "      <td>259.0</td>\n",
       "      <td>3.8462</td>\n",
       "      <td>342200.0</td>\n",
       "      <td>NEAR BAY</td>\n",
       "    </tr>\n",
       "  </tbody>\n",
       "</table>\n",
       "</div>"
      ],
      "text/plain": [
       "   longitude  latitude  housing_median_age  total_rooms  total_bedrooms  \\\n",
       "0    -122.23     37.88                41.0        880.0           129.0   \n",
       "1    -122.22     37.86                21.0       7099.0          1106.0   \n",
       "2    -122.24     37.85                52.0       1467.0           190.0   \n",
       "3    -122.25     37.85                52.0       1274.0           235.0   \n",
       "4    -122.25     37.85                52.0       1627.0           280.0   \n",
       "\n",
       "   population  households  median_income  median_house_value ocean_proximity  \n",
       "0       322.0       126.0         8.3252            452600.0        NEAR BAY  \n",
       "1      2401.0      1138.0         8.3014            358500.0        NEAR BAY  \n",
       "2       496.0       177.0         7.2574            352100.0        NEAR BAY  \n",
       "3       558.0       219.0         5.6431            341300.0        NEAR BAY  \n",
       "4       565.0       259.0         3.8462            342200.0        NEAR BAY  "
      ]
     },
     "execution_count": 71,
     "metadata": {},
     "output_type": "execute_result"
    }
   ],
   "source": [
    "df = pd.read_csv(\"D:\\jupyter file\\date\\housing.csv\")\n",
    "df.head()"
   ]
  },
  {
   "cell_type": "markdown",
   "id": "740999dd",
   "metadata": {},
   "source": [
    "## 2.\t分割数据\n"
   ]
  },
  {
   "cell_type": "code",
   "execution_count": 72,
   "id": "bf46667a",
   "metadata": {},
   "outputs": [],
   "source": [
    "df.total_bedrooms.isna().sum()\n",
    " # 这里简单使用均值对缺失值进行填充\n",
    "df.total_bedrooms.fillna(df.total_bedrooms.mean(), inplace=True)"
   ]
  },
  {
   "cell_type": "code",
   "execution_count": 73,
   "id": "faa75fef",
   "metadata": {},
   "outputs": [],
   "source": [
    "from sklearn.preprocessing import LabelEncoder\n",
    "lb_encoder = LabelEncoder() \n",
    "df.ocean_proximity = lb_encoder.fit_transform(df.ocean_proximity)"
   ]
  },
  {
   "cell_type": "code",
   "execution_count": 74,
   "id": "48536e1a",
   "metadata": {},
   "outputs": [],
   "source": [
    "target = df.median_house_value\n",
    "data = df.drop('median_house_value', axis=1)\n",
    " \n",
    "from sklearn.model_selection import train_test_split\n",
    "X_train, X_test, y_train, y_test = train_test_split(data, target, random_state=1)"
   ]
  },
  {
   "cell_type": "markdown",
   "id": "9eb99687",
   "metadata": {},
   "source": [
    "## 3.\t导入线性回归模型并训练\n"
   ]
  },
  {
   "cell_type": "code",
   "execution_count": 75,
   "id": "39895959",
   "metadata": {},
   "outputs": [
    {
     "data": {
      "text/plain": [
       "LinearRegression()"
      ]
     },
     "execution_count": 75,
     "metadata": {},
     "output_type": "execute_result"
    }
   ],
   "source": [
    "from sklearn.linear_model import LinearRegression\n",
    "lr = LinearRegression()\n",
    "# 使用未标准化过的数据进行模型训练\n",
    "lr.fit(X_train, y_train)"
   ]
  },
  {
   "cell_type": "markdown",
   "id": "6d9f96e3",
   "metadata": {},
   "source": [
    "## 4.\t在测试集上预测\n"
   ]
  },
  {
   "cell_type": "code",
   "execution_count": 76,
   "id": "62d99a13",
   "metadata": {},
   "outputs": [],
   "source": [
    "lr_pred = lr.predict(X_test)"
   ]
  },
  {
   "cell_type": "code",
   "execution_count": 138,
   "id": "5c26f013",
   "metadata": {},
   "outputs": [],
   "source": [
    "import matplotlib.pyplot as plt"
   ]
  },
  {
   "cell_type": "markdown",
   "id": "a500b514",
   "metadata": {},
   "source": [
    "## 5.\t保存模型\n"
   ]
  },
  {
   "cell_type": "code",
   "execution_count": 78,
   "id": "240a4d42",
   "metadata": {},
   "outputs": [],
   "source": [
    "from sklearn.metrics import mean_squared_error"
   ]
  },
  {
   "cell_type": "markdown",
   "id": "38453df8",
   "metadata": {},
   "source": [
    "## 6.\t加载模型\n"
   ]
  },
  {
   "cell_type": "code",
   "execution_count": 79,
   "id": "14a86cc6",
   "metadata": {},
   "outputs": [],
   "source": [
    "lr_mse = mean_squared_error(y_test, lr_pred)"
   ]
  },
  {
   "cell_type": "markdown",
   "id": "6e9231c9",
   "metadata": {},
   "source": [
    "## 7.\t评估模型\n"
   ]
  },
  {
   "cell_type": "code",
   "execution_count": 80,
   "id": "37b650b8",
   "metadata": {},
   "outputs": [
    {
     "name": "stdout",
     "output_type": "stream",
     "text": [
      "Linear Model RMSE: 70488.860\n"
     ]
    }
   ],
   "source": [
    "# 使用RMSE评估模型表现\n",
    "print(f\"Linear Model RMSE: {np.sqrt(lr_mse):.3f}\")"
   ]
  },
  {
   "cell_type": "markdown",
   "id": "33bd3b24",
   "metadata": {},
   "source": [
    "## Scikit-Learn实现K近邻分类\n"
   ]
  },
  {
   "cell_type": "markdown",
   "id": "61e8527b",
   "metadata": {},
   "source": [
    "## 1.\t加载数据\n"
   ]
  },
  {
   "cell_type": "code",
   "execution_count": 162,
   "id": "38337ae2",
   "metadata": {},
   "outputs": [],
   "source": [
    "import numpy as np\n",
    "# 加载莺尾花数据集\n",
    "from sklearn import datasets\n",
    "import seaborn as sns\n",
    "# 导入KNN分类器\n",
    "from sklearn.model_selection import train_test_split"
   ]
  },
  {
   "cell_type": "code",
   "execution_count": 163,
   "id": "18f02af8",
   "metadata": {},
   "outputs": [],
   "source": [
    "# 导入莺尾花数据集\n",
    "iris = datasets.load_iris()"
   ]
  },
  {
   "cell_type": "markdown",
   "id": "e87cd884",
   "metadata": {},
   "source": [
    "## 2.\t分割数据\n"
   ]
  },
  {
   "cell_type": "code",
   "execution_count": 164,
   "id": "3597f0de",
   "metadata": {},
   "outputs": [],
   "source": [
    "X = iris.data\n",
    "y = iris.target\n",
    "# 得到训练集合和验证集合, 8: 2\n",
    "X_train, X_test, y_train, y_test = train_test_split(X, y, random_state=2)"
   ]
  },
  {
   "cell_type": "markdown",
   "id": "6a0b1627",
   "metadata": {},
   "source": [
    "## 3.\t选择模型\n"
   ]
  },
  {
   "cell_type": "code",
   "execution_count": 165,
   "id": "b2dec8b8",
   "metadata": {},
   "outputs": [],
   "source": [
    "from sklearn.neighbors import KNeighborsClassifier"
   ]
  },
  {
   "cell_type": "markdown",
   "id": "f5eb91b3",
   "metadata": {},
   "source": [
    "## 4.\t生成模型对象\n"
   ]
  },
  {
   "cell_type": "code",
   "execution_count": 166,
   "id": "69ab4dfd",
   "metadata": {},
   "outputs": [],
   "source": [
    "error_rate = []   # 记录不同k值错误率的列表\n",
    "for k in range(3, 20):\n",
    "    knn = KNeighborsClassifier(n_neighbors=k)\n",
    "    knn.fit(X_train, y_train)\n",
    "     # 稍后绘图我们希望看到错误率随着k增大，误差减小的情况\n",
    "     # 而knn.score返回的是准确率，因此需要 1 - 准确率\n",
    "    error_rate.append(1 - knn.score(X_test, y_test))"
   ]
  },
  {
   "cell_type": "code",
   "execution_count": 167,
   "id": "cf0d552d",
   "metadata": {},
   "outputs": [
    {
     "data": {
      "text/plain": [
       "<AxesSubplot:>"
      ]
     },
     "execution_count": 167,
     "metadata": {},
     "output_type": "execute_result"
    },
    {
     "data": {
      "image/png": "[encoded data removed]",
      "text/plain": [
       "<Figure size 432x288 with 1 Axes>"
      ]
     },
     "metadata": {
      "needs_background": "light"
     },
     "output_type": "display_data"
    }
   ],
   "source": [
    "sns.lineplot(x=range(3, 20), y=error_rate, marker='o')"
   ]
  },
  {
   "cell_type": "markdown",
   "id": "22067f26",
   "metadata": {},
   "source": [
    "## 5.\t数据拟合\n"
   ]
  },
  {
   "cell_type": "code",
   "execution_count": 173,
   "id": "d6e64b4c",
   "metadata": {},
   "outputs": [],
   "source": [
    "Knn = KNeighborsClassifier(n_neighbors=6)"
   ]
  },
  {
   "cell_type": "code",
   "execution_count": 174,
   "id": "373094bf",
   "metadata": {},
   "outputs": [
    {
     "data": {
      "text/plain": [
       "KNeighborsClassifier(n_neighbors=6)"
      ]
     },
     "execution_count": 174,
     "metadata": {},
     "output_type": "execute_result"
    }
   ],
   "source": [
    "Knn.fit(X_train,y_train)"
   ]
  },
  {
   "cell_type": "markdown",
   "id": "c0e75aba",
   "metadata": {},
   "source": [
    "## 6.\t模型预测\n"
   ]
  },
  {
   "cell_type": "code",
   "execution_count": 175,
   "id": "e9245e63",
   "metadata": {},
   "outputs": [],
   "source": [
    "X_pred = Knn.predict(X_test)"
   ]
  },
  {
   "cell_type": "markdown",
   "id": "2a3df253",
   "metadata": {},
   "source": [
    "## 7.\t模型评估"
   ]
  },
  {
   "cell_type": "code",
   "execution_count": 176,
   "id": "12885fc8",
   "metadata": {},
   "outputs": [
    {
     "name": "stdout",
     "output_type": "stream",
     "text": [
      "预测的准确率ACC: 1.000\n"
     ]
    }
   ],
   "source": [
    "acc = sum(X_pred == y_test) / X_pred.shape[0]\n",
    "print(\"预测的准确率ACC: %.3f\" % acc)"
   ]
  },
  {
   "cell_type": "code",
   "execution_count": 177,
   "id": "44ba567c",
   "metadata": {},
   "outputs": [
    {
     "name": "stdout",
     "output_type": "stream",
     "text": [
      "Linear Model RMSE: 0.000\n"
     ]
    }
   ],
   "source": [
    "from sklearn.metrics import mean_squared_error\n",
    "lr_mse = mean_squared_error(y_test, X_pred)\n",
    "# 使用RMSE评估模型表现\n",
    "print(f\"Linear Model RMSE: {np.sqrt(lr_mse):.3f}\")"
   ]
  },
  {
   "cell_type": "code",
   "execution_count": null,
   "id": "55910e75",
   "metadata": {},
   "outputs": [],
   "source": []
  }
 ],
 "metadata": {
  "kernelspec": {
   "display_name": "Python 3 (ipykernel)",
   "language": "python",
   "name": "python3"
  },
  "language_info": {
   "codemirror_mode": {
    "name": "ipython",
    "version": 3
   },
   "file_extension": ".py",
   "mimetype": "text/x-python",
   "name": "python",
   "nbconvert_exporter": "python",
   "pygments_lexer": "ipython3",
   "version": "3.9.0"
  }
 },
 "nbformat": 4,
 "nbformat_minor": 5
}
