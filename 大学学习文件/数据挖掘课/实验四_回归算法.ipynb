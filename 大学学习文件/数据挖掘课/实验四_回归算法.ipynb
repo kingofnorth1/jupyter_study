{
 "cells": [
  {
   "cell_type": "markdown",
   "id": "f4b84f1c",
   "metadata": {},
   "source": [
    "## 1.了解数据"
   ]
  },
  {
   "cell_type": "code",
   "execution_count": 3,
   "id": "38069a1d",
   "metadata": {},
   "outputs": [],
   "source": [
    "import pandas as pd\n",
    "import numpy as np\n",
    "import seaborn as sns\n",
    "import matplotlib.pyplot as plt\n",
    " \n",
    "# 配置画图参数\n",
    "plt.rcParams[\"font.family\"] = \"SimHei\"\n",
    "plt.rcParams['axes.unicode_minus']=False"
   ]
  },
  {
   "cell_type": "code",
   "execution_count": 5,
   "id": "859b733f",
   "metadata": {
    "scrolled": true
   },
   "outputs": [
    {
     "data": {
      "text/html": [
       "<div>\n",
       "<style scoped>\n",
       "    .dataframe tbody tr th:only-of-type {\n",
       "        vertical-align: middle;\n",
       "    }\n",
       "\n",
       "    .dataframe tbody tr th {\n",
       "        vertical-align: top;\n",
       "    }\n",
       "\n",
       "    .dataframe thead th {\n",
       "        text-align: right;\n",
       "    }\n",
       "</style>\n",
       "<table border=\"1\" class=\"dataframe\">\n",
       "  <thead>\n",
       "    <tr style=\"text-align: right;\">\n",
       "      <th></th>\n",
       "      <th>longitude</th>\n",
       "      <th>latitude</th>\n",
       "      <th>housing_median_age</th>\n",
       "      <th>total_rooms</th>\n",
       "      <th>total_bedrooms</th>\n",
       "      <th>population</th>\n",
       "      <th>households</th>\n",
       "      <th>median_income</th>\n",
       "      <th>median_house_value</th>\n",
       "      <th>ocean_proximity</th>\n",
       "    </tr>\n",
       "  </thead>\n",
       "  <tbody>\n",
       "    <tr>\n",
       "      <th>0</th>\n",
       "      <td>-122.23</td>\n",
       "      <td>37.88</td>\n",
       "      <td>41.0</td>\n",
       "      <td>880.0</td>\n",
       "      <td>129.0</td>\n",
       "      <td>322.0</td>\n",
       "      <td>126.0</td>\n",
       "      <td>8.3252</td>\n",
       "      <td>452600.0</td>\n",
       "      <td>NEAR BAY</td>\n",
       "    </tr>\n",
       "    <tr>\n",
       "      <th>1</th>\n",
       "      <td>-122.22</td>\n",
       "      <td>37.86</td>\n",
       "      <td>21.0</td>\n",
       "      <td>7099.0</td>\n",
       "      <td>1106.0</td>\n",
       "      <td>2401.0</td>\n",
       "      <td>1138.0</td>\n",
       "      <td>8.3014</td>\n",
       "      <td>358500.0</td>\n",
       "      <td>NEAR BAY</td>\n",
       "    </tr>\n",
       "    <tr>\n",
       "      <th>2</th>\n",
       "      <td>-122.24</td>\n",
       "      <td>37.85</td>\n",
       "      <td>52.0</td>\n",
       "      <td>1467.0</td>\n",
       "      <td>190.0</td>\n",
       "      <td>496.0</td>\n",
       "      <td>177.0</td>\n",
       "      <td>7.2574</td>\n",
       "      <td>352100.0</td>\n",
       "      <td>NEAR BAY</td>\n",
       "    </tr>\n",
       "    <tr>\n",
       "      <th>3</th>\n",
       "      <td>-122.25</td>\n",
       "      <td>37.85</td>\n",
       "      <td>52.0</td>\n",
       "      <td>1274.0</td>\n",
       "      <td>235.0</td>\n",
       "      <td>558.0</td>\n",
       "      <td>219.0</td>\n",
       "      <td>5.6431</td>\n",
       "      <td>341300.0</td>\n",
       "      <td>NEAR BAY</td>\n",
       "    </tr>\n",
       "    <tr>\n",
       "      <th>4</th>\n",
       "      <td>-122.25</td>\n",
       "      <td>37.85</td>\n",
       "      <td>52.0</td>\n",
       "      <td>1627.0</td>\n",
       "      <td>280.0</td>\n",
       "      <td>565.0</td>\n",
       "      <td>259.0</td>\n",
       "      <td>3.8462</td>\n",
       "      <td>342200.0</td>\n",
       "      <td>NEAR BAY</td>\n",
       "    </tr>\n",
       "  </tbody>\n",
       "</table>\n",
       "</div>"
      ],
      "text/plain": [
       "   longitude  latitude  housing_median_age  total_rooms  total_bedrooms  \\\n",
       "0    -122.23     37.88                41.0        880.0           129.0   \n",
       "1    -122.22     37.86                21.0       7099.0          1106.0   \n",
       "2    -122.24     37.85                52.0       1467.0           190.0   \n",
       "3    -122.25     37.85                52.0       1274.0           235.0   \n",
       "4    -122.25     37.85                52.0       1627.0           280.0   \n",
       "\n",
       "   population  households  median_income  median_house_value ocean_proximity  \n",
       "0       322.0       126.0         8.3252            452600.0        NEAR BAY  \n",
       "1      2401.0      1138.0         8.3014            358500.0        NEAR BAY  \n",
       "2       496.0       177.0         7.2574            352100.0        NEAR BAY  \n",
       "3       558.0       219.0         5.6431            341300.0        NEAR BAY  \n",
       "4       565.0       259.0         3.8462            342200.0        NEAR BAY  "
      ]
     },
     "execution_count": 5,
     "metadata": {},
     "output_type": "execute_result"
    }
   ],
   "source": [
    "df = pd.read_csv(\"D:\\jupyter file\\date\\housing.csv\")\n",
    "df.head()"
   ]
  },
  {
   "cell_type": "code",
   "execution_count": 6,
   "id": "39420621",
   "metadata": {},
   "outputs": [
    {
     "name": "stdout",
     "output_type": "stream",
     "text": [
      "<class 'pandas.core.frame.DataFrame'>\n",
      "RangeIndex: 20640 entries, 0 to 20639\n",
      "Data columns (total 10 columns):\n",
      " #   Column              Non-Null Count  Dtype  \n",
      "---  ------              --------------  -----  \n",
      " 0   longitude           20640 non-null  float64\n",
      " 1   latitude            20640 non-null  float64\n",
      " 2   housing_median_age  20640 non-null  float64\n",
      " 3   total_rooms         20640 non-null  float64\n",
      " 4   total_bedrooms      20433 non-null  float64\n",
      " 5   population          20640 non-null  float64\n",
      " 6   households          20640 non-null  float64\n",
      " 7   median_income       20640 non-null  float64\n",
      " 8   median_house_value  20640 non-null  float64\n",
      " 9   ocean_proximity     20640 non-null  object \n",
      "dtypes: float64(9), object(1)\n",
      "memory usage: 1.6+ MB\n"
     ]
    }
   ],
   "source": [
    "df.info()"
   ]
  },
  {
   "cell_type": "markdown",
   "id": "91248cf8",
   "metadata": {},
   "source": [
    "## 2.数据预处理"
   ]
  },
  {
   "cell_type": "code",
   "execution_count": null,
   "id": "11bbc2a2",
   "metadata": {},
   "outputs": [],
   "source": [
    "df.total_bedrooms.isna().sum()\n",
    " # 这里简单使用均值对缺失值进行填充\n",
    "df.total_bedrooms.fillna(df.total_bedrooms.mean(), inplace=True)"
   ]
  },
  {
   "cell_type": "code",
   "execution_count": 8,
   "id": "c4681832",
   "metadata": {},
   "outputs": [
    {
     "data": {
      "text/plain": [
       "<1H OCEAN     9136\n",
       "INLAND        6551\n",
       "NEAR OCEAN    2658\n",
       "NEAR BAY      2290\n",
       "ISLAND           5\n",
       "Name: ocean_proximity, dtype: int64"
      ]
     },
     "execution_count": 8,
     "metadata": {},
     "output_type": "execute_result"
    }
   ],
   "source": [
    "# 查看ocean_proximity的数据概况\n",
    "df.ocean_proximity.value_counts()"
   ]
  },
  {
   "cell_type": "code",
   "execution_count": 9,
   "id": "d77afa36",
   "metadata": {},
   "outputs": [],
   "source": [
    "from sklearn.preprocessing import LabelEncoder\n",
    "lb_encoder = LabelEncoder() \n",
    "df.ocean_proximity = lb_encoder.fit_transform(df.ocean_proximity)"
   ]
  },
  {
   "cell_type": "code",
   "execution_count": 10,
   "id": "f2d83584",
   "metadata": {},
   "outputs": [],
   "source": [
    "target = df.median_house_value\n",
    "data = df.drop('median_house_value', axis=1)\n",
    " \n",
    "from sklearn.model_selection import train_test_split\n",
    "X_train, X_test, y_train, y_test = train_test_split(data, target, random_state=1)"
   ]
  },
  {
   "cell_type": "code",
   "execution_count": 11,
   "id": "ae31b525",
   "metadata": {},
   "outputs": [],
   "source": [
    "from sklearn.preprocessing import MinMaxScaler\n",
    "from sklearn.preprocessing import StandardScaler\n",
    "# 对X_train, X_test进行MinMax变换\n",
    "mm_scaler = MinMaxScaler()\n",
    "X_train_mm = mm_scaler.fit_transform(X_train)\n",
    "X_test_mm = mm_scaler.fit_transform(X_test)"
   ]
  },
  {
   "cell_type": "code",
   "execution_count": 12,
   "id": "1cadc900",
   "metadata": {},
   "outputs": [],
   "source": [
    "# 对X_train, X_test进行Standard变换\n",
    "ss_scaler = StandardScaler()\n",
    "X_train_ss = ss_scaler.fit_transform(X_train) \n",
    "X_test_ss = ss_scaler.fit_transform(X_test)"
   ]
  },
  {
   "cell_type": "markdown",
   "id": "4b77ac9d",
   "metadata": {},
   "source": [
    "## 3.模型拟合及预测"
   ]
  },
  {
   "cell_type": "code",
   "execution_count": 13,
   "id": "23b1b61b",
   "metadata": {},
   "outputs": [
    {
     "name": "stdout",
     "output_type": "stream",
     "text": [
      "Linear Model RMSE: 70488.860\n"
     ]
    }
   ],
   "source": [
    "from sklearn.linear_model import LinearRegression\n",
    "lr = LinearRegression()\n",
    "# 使用未标准化过的数据进行模型训练\n",
    "lr.fit(X_train, y_train)\n",
    "lr_pred = lr.predict(X_test)\n",
    " \n",
    "# 使用RMSE评估模型表现\n",
    "from sklearn.metrics import mean_squared_error\n",
    "lr_mse = mean_squared_error(y_test, lr_pred)\n",
    "print(f\"Linear Model RMSE: {np.sqrt(lr_mse):.3f}\")"
   ]
  },
  {
   "cell_type": "code",
   "execution_count": 14,
   "id": "4f3ca7bb",
   "metadata": {},
   "outputs": [
    {
     "name": "stdout",
     "output_type": "stream",
     "text": [
      "Linear Model(MinMax) RMSE: -69653.004\n"
     ]
    }
   ],
   "source": [
    "from sklearn.model_selection import cross_val_score\n",
    "lr_scaler = LinearRegression()\n",
    "# 对MinMaxScaler的效果进行交叉检验\n",
    "scores = cross_val_score(lr_scaler,\n",
    "                          X_train_mm,\n",
    "                          y_train,\n",
    "                          scoring='neg_root_mean_squared_error',\n",
    "                          cv=5,\n",
    "                        ) \n",
    "print(f\"Linear Model(MinMax) RMSE: {scores.mean():.3f}\")"
   ]
  },
  {
   "cell_type": "code",
   "execution_count": 15,
   "id": "bdcf3ecf",
   "metadata": {},
   "outputs": [
    {
     "name": "stdout",
     "output_type": "stream",
     "text": [
      "Linear Model(Standard Scaler) RMSE: -69653.004\n"
     ]
    }
   ],
   "source": [
    "# 对StandardScaler的效果进行交叉检验\n",
    "scores = cross_val_score(lr_scaler,\n",
    "                          X_train_ss,\n",
    "                          y_train,\n",
    "                          scoring='neg_root_mean_squared_error',\n",
    "                          cv=5,\n",
    "                        )\n",
    "print(f\"Linear Model(Standard Scaler) RMSE: {scores.mean():.3f}\")"
   ]
  },
  {
   "cell_type": "code",
   "execution_count": 21,
   "id": "dd10e35d",
   "metadata": {},
   "outputs": [
    {
     "name": "stdout",
     "output_type": "stream",
     "text": [
      "Linear Model(StandardScaler) RMSE: 70497.341\n"
     ]
    }
   ],
   "source": [
    "lr_ss = LinearRegression()\n",
    "# 使用未标准化过的数据进行模型训练\n",
    "lr_ss.fit(X_train_ss, y_train)\n",
    "lr_ss_pred = lr_ss.predict(X_test_ss)\n",
    " \n",
    "lr_ss_mse = mean_squared_error(y_test, lr_ss_pred)\n",
    "print(f\"Linear Model(StandardScaler) RMSE: {np.sqrt(lr_ss_mse):.3f}\")"
   ]
  },
  {
   "cell_type": "markdown",
   "id": "5c08b6ad",
   "metadata": {},
   "source": [
    "## 3.3更多模型-岭回归"
   ]
  },
  {
   "cell_type": "code",
   "execution_count": 22,
   "id": "5212eaa7",
   "metadata": {},
   "outputs": [],
   "source": [
    "from sklearn.linear_model import Ridge, Lasso\n",
    "# 岭回归和Lasso回归都要确定alpha参数，导入网格参数搜索方法，确定最优alpha参数\n",
    "from sklearn.model_selection import GridSearchCV\n",
    "alpha = [0.01, 0.1, 0.3, 0.5, 0.7, 1.0]"
   ]
  },
  {
   "cell_type": "code",
   "execution_count": 23,
   "id": "b816bd6a",
   "metadata": {},
   "outputs": [
    {
     "name": "stdout",
     "output_type": "stream",
     "text": [
      "Ridge Model RMSE: 70488.688\n"
     ]
    }
   ],
   "source": [
    "ridge = Ridge()\n",
    "rid_model = GridSearchCV(ridge, param_grid={'alpha': alpha})\n",
    "rid_model.fit(X_train, y_train)\n",
    " \n",
    "rid_pred = rid_model.predict(X_test)\n",
    "rid_mse = mean_squared_error(y_test, rid_pred)\n",
    "print(f\"Ridge Model RMSE: {np.sqrt(rid_mse):.3f}\")"
   ]
  },
  {
   "cell_type": "markdown",
   "id": "838c2990",
   "metadata": {},
   "source": [
    "## 3.3.2 Lasso回归"
   ]
  },
  {
   "cell_type": "code",
   "execution_count": 24,
   "id": "de3e4ed2",
   "metadata": {},
   "outputs": [
    {
     "name": "stdout",
     "output_type": "stream",
     "text": [
      "Lasso Model RMSE: 70488.774\n"
     ]
    }
   ],
   "source": [
    "lasso = Lasso()\n",
    "lasso_model = GridSearchCV(lasso, param_grid={'alpha': alpha})\n",
    "lasso_model.fit(X_train, y_train)\n",
    " \n",
    "lasso_pred = lasso_model.predict(X_test)\n",
    "lasso_mse = mean_squared_error(y_test, lasso_pred) \n",
    "print(f\"Lasso Model RMSE: {np.sqrt(lasso_mse):.3f}\")"
   ]
  },
  {
   "cell_type": "code",
   "execution_count": null,
   "id": "ebb81c65",
   "metadata": {},
   "outputs": [],
   "source": []
  }
 ],
 "metadata": {
  "kernelspec": {
   "display_name": "Python 3 (ipykernel)",
   "language": "python",
   "name": "python3"
  },
  "language_info": {
   "codemirror_mode": {
    "name": "ipython",
    "version": 3
   },
   "file_extension": ".py",
   "mimetype": "text/x-python",
   "name": "python",
   "nbconvert_exporter": "python",
   "pygments_lexer": "ipython3",
   "version": "3.9.0"
  }
 },
 "nbformat": 4,
 "nbformat_minor": 5
}
