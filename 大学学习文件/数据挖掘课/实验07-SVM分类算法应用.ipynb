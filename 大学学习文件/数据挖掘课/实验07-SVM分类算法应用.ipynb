{
 "cells": [
  {
   "cell_type": "markdown",
   "id": "df72e990",
   "metadata": {},
   "source": [
    "## 一、环境准备\n"
   ]
  },
  {
   "cell_type": "code",
   "execution_count": 2,
   "id": "08885375",
   "metadata": {},
   "outputs": [
    {
     "name": "stdout",
     "output_type": "stream",
     "text": [
      "Looking in indexes: https://mirrors.aliyun.com/pypi/simple/\n",
      "Requirement already satisfied: scipy in c:\\users\\king\\appdata\\local\\programs\\python\\python39\\lib\\site-packages (1.7.1)\n",
      "Requirement already satisfied: numpy<1.23.0,>=1.16.5 in c:\\users\\king\\appdata\\local\\programs\\python\\python39\\lib\\site-packages (from scipy) (1.22.4)\n",
      "Note: you may need to restart the kernel to use updated packages.\n"
     ]
    }
   ],
   "source": [
    "pip install scipy"
   ]
  },
  {
   "cell_type": "code",
   "execution_count": 3,
   "id": "24e96784",
   "metadata": {},
   "outputs": [
    {
     "name": "stdout",
     "output_type": "stream",
     "text": [
      "Looking in indexes: https://mirrors.aliyun.com/pypi/simple/\n",
      "Requirement already satisfied: scikit-learn in c:\\users\\king\\appdata\\local\\programs\\python\\python39\\lib\\site-packages (1.0.1)\n",
      "Requirement already satisfied: numpy>=1.14.6 in c:\\users\\king\\appdata\\local\\programs\\python\\python39\\lib\\site-packages (from scikit-learn) (1.22.4)\n",
      "Requirement already satisfied: scipy>=1.1.0 in c:\\users\\king\\appdata\\local\\programs\\python\\python39\\lib\\site-packages (from scikit-learn) (1.7.1)\n",
      "Requirement already satisfied: joblib>=0.11 in c:\\users\\king\\appdata\\local\\programs\\python\\python39\\lib\\site-packages (from scikit-learn) (1.1.0)\n",
      "Requirement already satisfied: threadpoolctl>=2.0.0 in c:\\users\\king\\appdata\\local\\programs\\python\\python39\\lib\\site-packages (from scikit-learn) (3.0.0)\n",
      "Note: you may need to restart the kernel to use updated packages.\n"
     ]
    }
   ],
   "source": [
    "pip install scikit-learn"
   ]
  },
  {
   "cell_type": "markdown",
   "id": "084ee073",
   "metadata": {},
   "source": [
    "## 二、复习分类算法的简单实现"
   ]
  },
  {
   "cell_type": "code",
   "execution_count": 4,
   "id": "9e236ea5",
   "metadata": {},
   "outputs": [],
   "source": [
    "from sklearn import datasets\n",
    "iris = datasets.load_iris()"
   ]
  },
  {
   "cell_type": "code",
   "execution_count": 5,
   "id": "71c82272",
   "metadata": {},
   "outputs": [],
   "source": [
    "from sklearn.naive_bayes import GaussianNB\n",
    "gnb = GaussianNB()"
   ]
  },
  {
   "cell_type": "code",
   "execution_count": 6,
   "id": "4ce607fe",
   "metadata": {},
   "outputs": [],
   "source": [
    "y_pred = gnb.fit(iris.data, iris.target).predict(iris.data)"
   ]
  },
  {
   "cell_type": "code",
   "execution_count": 7,
   "id": "63a4bcae",
   "metadata": {},
   "outputs": [
    {
     "name": "stdout",
     "output_type": "stream",
     "text": [
      "Number of mislabeled points out of a total 150 points : 6\n"
     ]
    }
   ],
   "source": [
    "print(\"Number of mislabeled points out of a total %d points : %d\" % (iris.data.shape[0],(iris.target != y_pred).sum()))"
   ]
  },
  {
   "cell_type": "markdown",
   "id": "4b5fa433",
   "metadata": {},
   "source": [
    "## 三、人群的收入预测 现在我们获得了一个数据集adult.data.txt"
   ]
  },
  {
   "cell_type": "markdown",
   "id": "243a1dd4",
   "metadata": {},
   "source": [
    "## STEP1：加载数据并查看数据，我们希望依据不同的类别收入加载相同数量的数据，因为如果不同的类别的数据体量相差很大会造成分类器向大数据体量一方倾斜。"
   ]
  },
  {
   "cell_type": "code",
   "execution_count": 10,
   "id": "002a111a",
   "metadata": {},
   "outputs": [],
   "source": [
    "import numpy as np\n",
    "from sklearn import preprocessing\n",
    "from sklearn.naive_bayes import GaussianNB \n",
    "\n",
    "###STEP1###\n",
    "# 加载数据\n",
    "input_file = 'D:/jupyter file/date/adult.data.txt'\n",
    "X = []\n",
    "y = []\n",
    "num_lessthan50k = 0\n",
    "num_morethan50k = 0\n",
    "num_threshold = 30000\n",
    "with open(input_file, 'r') as f:\n",
    "    for line in f.readlines():\n",
    "        if '?' in line:\n",
    "            continue\n",
    "        # 逗号后有个空格\n",
    "        data = line[:-1].split(', ')\n",
    "        if data[-1] == '<=50K' and num_lessthan50k < num_threshold:\n",
    "            X.append(data)\n",
    "            num_lessthan50k = num_lessthan50k + 1\n",
    "# 依据target的不同，各选取相同大小的数据，即选取'<=50K'与'>50K'数量相等的数据\n",
    "        elif data[-1] == '>50K' and num_morethan50k < num_threshold:\n",
    "            X.append(data)\n",
    "            num_morethan50k = num_morethan50k + 1\n",
    "        if num_lessthan50k >= num_threshold and num_morethan50k >= num_threshold:\n",
    "            break\n",
    "X = np.array(X)"
   ]
  },
  {
   "cell_type": "markdown",
   "id": "e7bf08c9",
   "metadata": {},
   "source": [
    "## STEP2：转换数据的属性编码，因为原数据中的属性是包含英文字符，无法进行数学运算，请将其转换为数值型数据。"
   ]
  },
  {
   "cell_type": "code",
   "execution_count": 11,
   "id": "5a1f5154",
   "metadata": {},
   "outputs": [],
   "source": [
    "label_encoder = [] \n",
    "X_encoded = np.empty(X.shape)\n",
    "for i,item in enumerate(X[0]):\n",
    "    if item.isdigit(): \n",
    "        X_encoded[:, i] = X[:, i]\n",
    "    else:\n",
    "        le=preprocessing.LabelEncoder()\n",
    "        label_encoder.append(le)\n",
    "        # 转换数据的属性，已知原数据中含有英文字符，请将英文转换为数值型，使用preprocessing.LabelEncoder()函数\n",
    "        X_encoded[:, i] = label_encoder[-1].fit_transform(X[:, i])\n",
    "X = X_encoded[:, :-1].astype(int)\n",
    "y = X_encoded[:, -1].astype(int)"
   ]
  },
  {
   "cell_type": "markdown",
   "id": "8405c41b",
   "metadata": {},
   "source": [
    "## STEP3：创建一个分类器，将STEP1、STEP2处理好的数据进行训练，并使用交叉验证评测分类器的效果。"
   ]
  },
  {
   "cell_type": "code",
   "execution_count": 13,
   "id": "25072a0b",
   "metadata": {},
   "outputs": [
    {
     "name": "stdout",
     "output_type": "stream",
     "text": [
      "F1 score: 75.9%\n"
     ]
    }
   ],
   "source": [
    "from sklearn.model_selection import cross_val_score, train_test_split\n",
    "X_train, X_test, y_train, y_test = train_test_split(X, y, test_size=0.25, random_state=5)\n",
    "classifier_gaussiannb = GaussianNB()\n",
    "classifier_gaussiannb.fit(X_train, y_train)\n",
    "y_test_pred = classifier_gaussiannb.predict(X_test)\n",
    "# 计算F1得分\n",
    "f1 = cross_val_score(classifier_gaussiannb,\n",
    "        X, y, scoring='f1_weighted', cv=5)\n",
    "print (\"F1 score: \" + str(round(100*f1.mean(), 2)) + \"%\")"
   ]
  },
  {
   "cell_type": "markdown",
   "id": "3814c584",
   "metadata": {},
   "source": [
    "## STEP4：对新个体采用同样的编码处理，预测其收入类别。"
   ]
  },
  {
   "cell_type": "code",
   "execution_count": 14,
   "id": "7ad539e9",
   "metadata": {},
   "outputs": [
    {
     "name": "stdout",
     "output_type": "stream",
     "text": [
      "<=50K\n"
     ]
    }
   ],
   "source": [
    "# 创建个例，将其进行同样编码处理\n",
    "input_data = ['39', 'State-gov', '77516', 'Bachelors', '13', 'Never-married', 'Adm-clerical', 'Not-in-family', 'White', 'Male', '2174', '0', '40', 'United-States'] \n",
    "count = 0\n",
    "input_data_encoded = [-1] * len(input_data)\n",
    "for i,item in enumerate(input_data):\n",
    "    if item.isdigit():\n",
    "        input_data_encoded[i] = int(input_data[i])\n",
    "    else:\n",
    "        input_data_encoded[i] = int(label_encoder[count].transform([input_data[i]]))\n",
    "        count = count + 1 \n",
    "input_data_encoded = np.array(input_data_encoded)\n",
    "#将个体进行预测分类，并输出结果\n",
    "output_class = classifier_gaussiannb.predict(input_data_encoded.reshape(1,-1))\n",
    "print (label_encoder[-1].inverse_transform(output_class)[0])"
   ]
  }
 ],
 "metadata": {
  "kernelspec": {
   "display_name": "Python 3 (ipykernel)",
   "language": "python",
   "name": "python3"
  },
  "language_info": {
   "codemirror_mode": {
    "name": "ipython",
    "version": 3
   },
   "file_extension": ".py",
   "mimetype": "text/x-python",
   "name": "python",
   "nbconvert_exporter": "python",
   "pygments_lexer": "ipython3",
   "version": "3.9.0"
  }
 },
 "nbformat": 4,
 "nbformat_minor": 5
}
