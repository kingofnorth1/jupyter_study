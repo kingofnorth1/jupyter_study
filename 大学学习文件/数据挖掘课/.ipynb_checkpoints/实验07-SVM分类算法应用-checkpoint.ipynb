{
 "cells": [
  {
   "cell_type": "markdown",
   "id": "23e1c6bd",
   "metadata": {},
   "source": [
    "## 一、环境准备\n"
   ]
  },
  {
   "cell_type": "code",
   "execution_count": 2,
   "id": "90420f4d",
   "metadata": {},
   "outputs": [
    {
     "name": "stdout",
     "output_type": "stream",
     "text": [
      "Looking in indexes: https://mirrors.aliyun.com/pypi/simple/\n",
      "Requirement already satisfied: scipy in c:\\users\\king\\appdata\\local\\programs\\python\\python39\\lib\\site-packages (1.7.1)\n",
      "Requirement already satisfied: numpy<1.23.0,>=1.16.5 in c:\\users\\king\\appdata\\local\\programs\\python\\python39\\lib\\site-packages (from scipy) (1.22.4)\n",
      "Note: you may need to restart the kernel to use updated packages.\n"
     ]
    }
   ],
   "source": [
    "pip install scipy"
   ]
  },
  {
   "cell_type": "code",
   "execution_count": 3,
   "id": "314781ba",
   "metadata": {},
   "outputs": [
    {
     "name": "stdout",
     "output_type": "stream",
     "text": [
      "Looking in indexes: https://mirrors.aliyun.com/pypi/simple/\n",
      "Requirement already satisfied: scikit-learn in c:\\users\\king\\appdata\\local\\programs\\python\\python39\\lib\\site-packages (1.0.1)\n",
      "Requirement already satisfied: numpy>=1.14.6 in c:\\users\\king\\appdata\\local\\programs\\python\\python39\\lib\\site-packages (from scikit-learn) (1.22.4)\n",
      "Requirement already satisfied: scipy>=1.1.0 in c:\\users\\king\\appdata\\local\\programs\\python\\python39\\lib\\site-packages (from scikit-learn) (1.7.1)\n",
      "Requirement already satisfied: joblib>=0.11 in c:\\users\\king\\appdata\\local\\programs\\python\\python39\\lib\\site-packages (from scikit-learn) (1.1.0)\n",
      "Requirement already satisfied: threadpoolctl>=2.0.0 in c:\\users\\king\\appdata\\local\\programs\\python\\python39\\lib\\site-packages (from scikit-learn) (3.0.0)\n",
      "Note: you may need to restart the kernel to use updated packages.\n"
     ]
    }
   ],
   "source": [
    "pip install scikit-learn"
   ]
  },
  {
   "cell_type": "markdown",
   "id": "e740c771",
   "metadata": {},
   "source": [
    "## 二、复习分类算法的简单实现"
   ]
  },
  {
   "cell_type": "code",
   "execution_count": 4,
   "id": "3f66da46",
   "metadata": {},
   "outputs": [],
   "source": [
    "from sklearn import datasets\n",
    "iris = datasets.load_iris()"
   ]
  },
  {
   "cell_type": "code",
   "execution_count": 5,
   "id": "700e3e8b",
   "metadata": {},
   "outputs": [],
   "source": [
    "from sklearn.naive_bayes import GaussianNB\n",
    "gnb = GaussianNB()"
   ]
  },
  {
   "cell_type": "code",
   "execution_count": 6,
   "id": "4e85a0d9",
   "metadata": {},
   "outputs": [],
   "source": [
    "y_pred = gnb.fit(iris.data, iris.target).predict(iris.data)"
   ]
  },
  {
   "cell_type": "code",
   "execution_count": 7,
   "id": "00cf98da",
   "metadata": {},
   "outputs": [
    {
     "name": "stdout",
     "output_type": "stream",
     "text": [
      "Number of mislabeled points out of a total 150 points : 6\n"
     ]
    }
   ],
   "source": [
    "print(\"Number of mislabeled points out of a total %d points : %d\" % (iris.data.shape[0],(iris.target != y_pred).sum()))"
   ]
  },
  {
   "cell_type": "code",
   "execution_count": null,
   "id": "2cd8405f",
   "metadata": {},
   "outputs": [],
   "source": [
    "import numpy as np\n",
    "from sklearn import preprocessing\n",
    "from sklearn.naive_bayes import GaussianNB \n",
    "\n",
    "###STEP1###\n",
    "# 加载数据\n",
    "input_file = 'D:\\jupyter file\\date'\n",
    "X = []\n",
    "y = []\n",
    "num_lessthan50k = 0\n",
    "num_morethan50k = 0\n",
    "num_threshold = 30000\n",
    "with open(input_file, 'r') as f:\n",
    "    for line in f.readlines():\n",
    "        if '?' in line:\n",
    "            continue\n",
    "        # 逗号后有个空格\n",
    "        data = line[:-1].split(', ')\n",
    "        if data[-1] == '<=50K' and num_lessthan50k < num_threshold:\n",
    "            X.append(data)\n",
    "            num_lessthan50k = num_lessthan50k + 1\n",
    "# 依据target的不同，各选取相同大小的数据，即选取'<=50K'与'>50K'数量相等的数据\n",
    "        elif data[-1] == '>50K' and num_morethan50k < num_threshold:\n",
    "            X.append(data)\n",
    "            num_morethan50k = num_morethan50k + 1\n",
    "        if num_lessthan50k >= num_threshold and num_morethan50k >= num_threshold:\n",
    "            break\n",
    "X = np.array(X)"
   ]
  }
 ],
 "metadata": {
  "kernelspec": {
   "display_name": "Python 3 (ipykernel)",
   "language": "python",
   "name": "python3"
  },
  "language_info": {
   "codemirror_mode": {
    "name": "ipython",
    "version": 3
   },
   "file_extension": ".py",
   "mimetype": "text/x-python",
   "name": "python",
   "nbconvert_exporter": "python",
   "pygments_lexer": "ipython3",
   "version": "3.9.0"
  }
 },
 "nbformat": 4,
 "nbformat_minor": 5
}
