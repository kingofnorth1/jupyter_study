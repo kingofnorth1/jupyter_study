{
 "cells": [
  {
   "cell_type": "code",
   "execution_count": 2,
   "id": "37febda1",
   "metadata": {},
   "outputs": [],
   "source": [
    "import pandas as pd"
   ]
  },
  {
   "cell_type": "code",
   "execution_count": 4,
   "id": "7f6d3301",
   "metadata": {},
   "outputs": [
    {
     "name": "stdout",
     "output_type": "stream",
     "text": [
      "评论数目（总体）：7766\n",
      "评论数目（正向）：5322\n",
      "评论数目（负向）：2444\n"
     ]
    }
   ],
   "source": [
    "df = pd.read_csv('D:\\jupyter file\\date\\ChnSentiCorp_htl_all.csv')\n",
    "df.fillna(\"\", inplace=True)\n",
    "print('评论数目（总体）：%d' % df.shape[0])\n",
    "print('评论数目（正向）：%d' % df[df.label==1].shape[0])\n",
    "print('评论数目（负向）：%d' % df[df.label==0].shape[0])"
   ]
  },
  {
   "cell_type": "code",
   "execution_count": 7,
   "id": "750610c2",
   "metadata": {},
   "outputs": [
    {
     "data": {
      "text/html": [
       "<div>\n",
       "<style scoped>\n",
       "    .dataframe tbody tr th:only-of-type {\n",
       "        vertical-align: middle;\n",
       "    }\n",
       "\n",
       "    .dataframe tbody tr th {\n",
       "        vertical-align: top;\n",
       "    }\n",
       "\n",
       "    .dataframe thead th {\n",
       "        text-align: right;\n",
       "    }\n",
       "</style>\n",
       "<table border=\"1\" class=\"dataframe\">\n",
       "  <thead>\n",
       "    <tr style=\"text-align: right;\">\n",
       "      <th></th>\n",
       "      <th>label</th>\n",
       "      <th>review</th>\n",
       "    </tr>\n",
       "  </thead>\n",
       "  <tbody>\n",
       "    <tr>\n",
       "      <th>6641</th>\n",
       "      <td>0</td>\n",
       "      <td>第二次住的时候，酒店说我在房间里消费！很冤枉。。。</td>\n",
       "    </tr>\n",
       "    <tr>\n",
       "      <th>2745</th>\n",
       "      <td>1</td>\n",
       "      <td>这个酒店真不错，位置好，房间很干净，下次来还会选择这个酒店</td>\n",
       "    </tr>\n",
       "    <tr>\n",
       "      <th>387</th>\n",
       "      <td>1</td>\n",
       "      <td>总体服务不错,就是房间隔音太差,走廊里的声音就像是在房间里一样,早餐也还可以</td>\n",
       "    </tr>\n",
       "    <tr>\n",
       "      <th>4172</th>\n",
       "      <td>1</td>\n",
       "      <td>周边环境不好，虽然在五环边上，但交通也不十分便捷，初次去，恐怕不太好找。不过酒店本身还不错，...</td>\n",
       "    </tr>\n",
       "    <tr>\n",
       "      <th>1766</th>\n",
       "      <td>1</td>\n",
       "      <td>房间很干净物超所值价格也蛮合理的还不错</td>\n",
       "    </tr>\n",
       "    <tr>\n",
       "      <th>6569</th>\n",
       "      <td>0</td>\n",
       "      <td>这是我住酒店以来碰到最郁闷和龌龊的酒店,我是带着快8个月的儿子自己开车去的,亲戚已经开好其他...</td>\n",
       "    </tr>\n",
       "    <tr>\n",
       "      <th>6100</th>\n",
       "      <td>0</td>\n",
       "      <td>如果不是看在离奥运场馆近的份上，绝对不住这家。地理位置较难找。虽说只有两楼，没有电梯，让提重...</td>\n",
       "    </tr>\n",
       "    <tr>\n",
       "      <th>7334</th>\n",
       "      <td>0</td>\n",
       "      <td>是我住过的所有旅馆里最差的一个.预订时说希望要无烟房,结果开了房门以后被烟味及各种体臭味搞得...</td>\n",
       "    </tr>\n",
       "    <tr>\n",
       "      <th>2352</th>\n",
       "      <td>1</td>\n",
       "      <td>房间温馨小巧,酒店整体设计很有情调,离步行街很近,购物,吃饭都很方便.如果下次去苏州,还会选...</td>\n",
       "    </tr>\n",
       "    <tr>\n",
       "      <th>3918</th>\n",
       "      <td>1</td>\n",
       "      <td>位置非常接近浦展;然是二面路,但相,不有太多。服素一般,只是早餐相差,只有:吃或不吃</td>\n",
       "    </tr>\n",
       "  </tbody>\n",
       "</table>\n",
       "</div>"
      ],
      "text/plain": [
       "      label                                             review\n",
       "6641      0                          第二次住的时候，酒店说我在房间里消费！很冤枉。。。\n",
       "2745      1                      这个酒店真不错，位置好，房间很干净，下次来还会选择这个酒店\n",
       "387       1             总体服务不错,就是房间隔音太差,走廊里的声音就像是在房间里一样,早餐也还可以\n",
       "4172      1  周边环境不好，虽然在五环边上，但交通也不十分便捷，初次去，恐怕不太好找。不过酒店本身还不错，...\n",
       "1766      1                                房间很干净物超所值价格也蛮合理的还不错\n",
       "6569      0  这是我住酒店以来碰到最郁闷和龌龊的酒店,我是带着快8个月的儿子自己开车去的,亲戚已经开好其他...\n",
       "6100      0  如果不是看在离奥运场馆近的份上，绝对不住这家。地理位置较难找。虽说只有两楼，没有电梯，让提重...\n",
       "7334      0  是我住过的所有旅馆里最差的一个.预订时说希望要无烟房,结果开了房门以后被烟味及各种体臭味搞得...\n",
       "2352      1  房间温馨小巧,酒店整体设计很有情调,离步行街很近,购物,吃饭都很方便.如果下次去苏州,还会选...\n",
       "3918      1         位置非常接近浦展;然是二面路,但相,不有太多。服素一般,只是早餐相差,只有:吃或不吃"
      ]
     },
     "execution_count": 7,
     "metadata": {},
     "output_type": "execute_result"
    }
   ],
   "source": [
    "df.sample(10, random_state=4)"
   ]
  },
  {
   "cell_type": "code",
   "execution_count": 8,
   "id": "c438273f",
   "metadata": {},
   "outputs": [
    {
     "name": "stdout",
     "output_type": "stream",
     "text": [
      "评论数目（总体）：2000\n",
      "评论数目（正向）：1000\n",
      "评论数目（负向）：1000\n"
     ]
    },
    {
     "data": {
      "text/html": [
       "<div>\n",
       "<style scoped>\n",
       "    .dataframe tbody tr th:only-of-type {\n",
       "        vertical-align: middle;\n",
       "    }\n",
       "\n",
       "    .dataframe tbody tr th {\n",
       "        vertical-align: top;\n",
       "    }\n",
       "\n",
       "    .dataframe thead th {\n",
       "        text-align: right;\n",
       "    }\n",
       "</style>\n",
       "<table border=\"1\" class=\"dataframe\">\n",
       "  <thead>\n",
       "    <tr style=\"text-align: right;\">\n",
       "      <th></th>\n",
       "      <th>label</th>\n",
       "      <th>review</th>\n",
       "    </tr>\n",
       "  </thead>\n",
       "  <tbody>\n",
       "    <tr>\n",
       "      <th>7294</th>\n",
       "      <td>0</td>\n",
       "      <td>房间一般，洗手间浴缸里的水有些下不去，标房是对着大堂餐厅开窗户的，晚上12点好象还有人用餐，...</td>\n",
       "    </tr>\n",
       "    <tr>\n",
       "      <th>6269</th>\n",
       "      <td>0</td>\n",
       "      <td>宾馆的周边环境比较好，只是隔墙有个大型公交停车场，有点吵。可能这宾馆有很多长租的客人，很多房...</td>\n",
       "    </tr>\n",
       "    <tr>\n",
       "      <th>2131</th>\n",
       "      <td>1</td>\n",
       "      <td>位于徐家汇中心地段，房价经济实惠，环境也很好呢</td>\n",
       "    </tr>\n",
       "    <tr>\n",
       "      <th>3627</th>\n",
       "      <td>1</td>\n",
       "      <td>房间很大,设施很好,环境优美.服务专业到位.交通如到香港很方便.但到其他地方不太方便.可能我...</td>\n",
       "    </tr>\n",
       "    <tr>\n",
       "      <th>451</th>\n",
       "      <td>1</td>\n",
       "      <td>友谊宾馆环境绝对是一流的，服务态度更是让人心旷神怡。我们全家在此渡过了美好的三天，感谢酒店的...</td>\n",
       "    </tr>\n",
       "    <tr>\n",
       "      <th>965</th>\n",
       "      <td>1</td>\n",
       "      <td>是第三次住了，感觉不错，至少是温馨、安全、舒适的，酒店的各场所比较熟，会有主人的感觉。</td>\n",
       "    </tr>\n",
       "    <tr>\n",
       "      <th>174</th>\n",
       "      <td>1</td>\n",
       "      <td>帮同事订的，以下是他给我反馈：ItwasexcellentandIcanrecommendi...</td>\n",
       "    </tr>\n",
       "    <tr>\n",
       "      <th>3004</th>\n",
       "      <td>1</td>\n",
       "      <td>酒店整体很好，房很干净整齐，员工很有礼貌，就连其它的住客都显得很斯文有礼，值得给予五星的评级...</td>\n",
       "    </tr>\n",
       "    <tr>\n",
       "      <th>3160</th>\n",
       "      <td>1</td>\n",
       "      <td>大堂还是一样漂亮。电梯入口附近有焕然一新的感觉，虽然还是老电梯但是通道和灯光明显整理过。房间...</td>\n",
       "    </tr>\n",
       "    <tr>\n",
       "      <th>2496</th>\n",
       "      <td>1</td>\n",
       "      <td>环境优美，设施齐全，服务周到，房间舒适。</td>\n",
       "    </tr>\n",
       "  </tbody>\n",
       "</table>\n",
       "</div>"
      ],
      "text/plain": [
       "      label                                             review\n",
       "7294      0  房间一般，洗手间浴缸里的水有些下不去，标房是对着大堂餐厅开窗户的，晚上12点好象还有人用餐，...\n",
       "6269      0  宾馆的周边环境比较好，只是隔墙有个大型公交停车场，有点吵。可能这宾馆有很多长租的客人，很多房...\n",
       "2131      1                            位于徐家汇中心地段，房价经济实惠，环境也很好呢\n",
       "3627      1  房间很大,设施很好,环境优美.服务专业到位.交通如到香港很方便.但到其他地方不太方便.可能我...\n",
       "451       1  友谊宾馆环境绝对是一流的，服务态度更是让人心旷神怡。我们全家在此渡过了美好的三天，感谢酒店的...\n",
       "965       1        是第三次住了，感觉不错，至少是温馨、安全、舒适的，酒店的各场所比较熟，会有主人的感觉。\n",
       "174       1  帮同事订的，以下是他给我反馈：ItwasexcellentandIcanrecommendi...\n",
       "3004      1  酒店整体很好，房很干净整齐，员工很有礼貌，就连其它的住客都显得很斯文有礼，值得给予五星的评级...\n",
       "3160      1  大堂还是一样漂亮。电梯入口附近有焕然一新的感觉，虽然还是老电梯但是通道和灯光明显整理过。房间...\n",
       "2496      1                               环境优美，设施齐全，服务周到，房间舒适。"
      ]
     },
     "execution_count": 8,
     "metadata": {},
     "output_type": "execute_result"
    }
   ],
   "source": [
    "pd_positive = df[df.label==1]\n",
    "pd_negative = df[df.label==0]\n",
    "\n",
    "def get_balance_corpus(size, pos, neg):\n",
    "    sample_size = size // 2\n",
    "    balance = pd.concat([pos.sample(sample_size, replace=pos.shape[0] < sample_size),\n",
    "                          neg.sample(sample_size, replace=neg.shape[0]<sample_size)])\n",
    "     \n",
    "    print('评论数目（总体）：%d' % balance.shape[0])\n",
    "    print('评论数目（正向）：%d' % balance[balance.label==1].shape[0])\n",
    "    print('评论数目（负向）：%d' % balance[balance.label==0].shape[0])    \n",
    "     \n",
    "    return balance\n",
    " # 由于虚拟机性能有限，我们仅构建2000条平衡数据\n",
    "balance2k = get_balance_corpus(2000, pd_positive, pd_negative)\n",
    " # 随机抽查10条数据\n",
    "balance2k.sample(10)"
   ]
  },
  {
   "cell_type": "code",
   "execution_count": 34,
   "id": "cbe35431",
   "metadata": {},
   "outputs": [
    {
     "data": {
      "text/plain": [
       "'我们一行8人订了两件海景豪华间和一间豪华标间，无意间我们一家住进了2104房间，景色真不错，不但可以看到大海，还可以看到市景，夜景也不错。房间真大，干净整洁，设施齐全。不足之处是窗户玻璃有点脏，窗户只能撑开一点，窗边的天花板有漏水现象，进去的时候已经放了两个盆在接水，还有浴室的龙头太高了，花洒不能调节，水散的太开了。周边环境也很好，吃饭购物都方便地，酒店旁边一家台湾风味的餐馆味道蛮好的。总体来说还是很满意的，有机会再来威海的话还要住这里在。'"
      ]
     },
     "execution_count": 34,
     "metadata": {},
     "output_type": "execute_result"
    }
   ],
   "source": [
    "import jieba\n",
    "text = balance2k.iloc[0, 1]\n",
    "text"
   ]
  },
  {
   "cell_type": "code",
   "execution_count": 35,
   "id": "95183a4b",
   "metadata": {},
   "outputs": [
    {
     "data": {
      "text/plain": [
       "['｝', '｝＞', '～', '～±', '～＋']"
      ]
     },
     "execution_count": 35,
     "metadata": {},
     "output_type": "execute_result"
    }
   ],
   "source": [
    "# 载入停用词列表\n",
    "stopwords = []\n",
    "with open(\"D:\\jupyter file\\date\\ChineseStopwords.txt\", 'r', encoding='utf-8') as f:\n",
    "    for line in f:\n",
    "        stopwords.append(line.strip())\n",
    "stopwords[-5:]\n"
   ]
  },
  {
   "cell_type": "code",
   "execution_count": 36,
   "id": "ad5275ce",
   "metadata": {},
   "outputs": [
    {
     "name": "stdout",
     "output_type": "stream",
     "text": [
      "['一行', '人订', '两件', '海景', '豪华', '间', '一间', '豪华', '标间', '无意间', '一家', '住进', '2104', '房间', '景色', '真不错', '看到', '大海', '看到', '市景', '夜景', '不错', '房间', '真', '干净', '整洁', '设施', '齐全', '不足之处', '窗户', '玻璃', '有点', '脏', '窗户', '只能', '撑开', '一点', '窗边', '天花板', '漏水', '现象', '已经', '放', '两个', '盆在', '接水', '浴室', '龙头', '太高', '花洒', '调节', '水散', '太开', '周边环境', '吃饭', '购物', '方便', '酒店', '旁边', '一家', '台湾', '风味', '餐馆', '味道', '蛮', '总体', '满意', '机会', '威海', '住']\n"
     ]
    }
   ],
   "source": [
    "words = []\n",
    "for w in jieba.cut(text):\n",
    "    # 如果分词结果不在停用词中，则添加分词结果\n",
    "    if w not in stopwords:\n",
    "        words.append(w)\n",
    "print(words)"
   ]
  },
  {
   "cell_type": "code",
   "execution_count": 37,
   "id": "d164e816",
   "metadata": {},
   "outputs": [
    {
     "data": {
      "text/plain": [
       "['一行 人订 两件 海景 豪华 间 一间 豪华 标间 无意间 一家 住进 2104 房间 景色 真不错 看到 大海 看到 市景 夜景 不错 房间 真 干净 整洁 设施 齐全 不足之处 窗户 玻璃 有点 脏 窗户 只能 撑开 一点 窗边 天花板 漏水 现象 已经 放 两个 盆在 接水 浴室 龙头 太高 花洒 调节 水散 太开 周边环境 吃饭 购物 方便 酒店 旁边 一家 台湾 风味 餐馆 味道 蛮 总体 满意 机会 威海 住',\n",
       " '一次 德州 住 富丽华 实在 咋样 只能 字来 形容 土 住 贵 感觉 价格 贵 房间 比较 舒适 干净 早餐 满意',\n",
       " '不错 门口 大堂 成天 美女如云']"
      ]
     },
     "execution_count": 37,
     "metadata": {},
     "output_type": "execute_result"
    }
   ],
   "source": [
    "def cut_words(text):\n",
    "    words = jieba.cut(text)\n",
    "    words = [w for w in words if w not in stopwords]\n",
    "    return \" \".join(words) # 注意空格\n",
    "# 创建语料库\n",
    "corpus = [cut_words(text) for text in balance2k.review]\n",
    "corpus[:3]"
   ]
  },
  {
   "cell_type": "code",
   "execution_count": 45,
   "id": "828fd7e6",
   "metadata": {},
   "outputs": [
    {
     "data": {
      "text/plain": [
       "<2000x12898 sparse matrix of type '<class 'numpy.int64'>'\n",
       "\twith 61099 stored elements in Compressed Sparse Row format>"
      ]
     },
     "execution_count": 45,
     "metadata": {},
     "output_type": "execute_result"
    }
   ],
   "source": [
    "from sklearn.feature_extraction.text import CountVectorizer\n",
    "# CountVectorizer默认使用统计词频作为特征值。\n",
    "# 设置参数binary=True，表示生成基于Boolean特征的向量\n",
    "CV_binary = CountVectorizer(encoding=\"utf-8\", binary=True)\n",
    "X = CV_binary.fit_transform(corpus)\n",
    "X"
   ]
  },
  {
   "cell_type": "code",
   "execution_count": 46,
   "id": "c21eba44",
   "metadata": {},
   "outputs": [
    {
     "name": "stderr",
     "output_type": "stream",
     "text": [
      "c:\\users\\king\\appdata\\local\\programs\\python\\python39\\lib\\site-packages\\sklearn\\utils\\deprecation.py:87: FutureWarning: Function get_feature_names is deprecated; get_feature_names is deprecated in 1.0 and will be removed in 1.2. Please use get_feature_names_out instead.\n",
      "  warnings.warn(msg, category=FutureWarning)\n"
     ]
    },
    {
     "data": {
      "text/html": [
       "<div>\n",
       "<style scoped>\n",
       "    .dataframe tbody tr th:only-of-type {\n",
       "        vertical-align: middle;\n",
       "    }\n",
       "\n",
       "    .dataframe tbody tr th {\n",
       "        vertical-align: top;\n",
       "    }\n",
       "\n",
       "    .dataframe thead th {\n",
       "        text-align: right;\n",
       "    }\n",
       "</style>\n",
       "<table border=\"1\" class=\"dataframe\">\n",
       "  <thead>\n",
       "    <tr style=\"text-align: right;\">\n",
       "      <th></th>\n",
       "      <th>00</th>\n",
       "      <th>00pm</th>\n",
       "      <th>01</th>\n",
       "      <th>02</th>\n",
       "      <th>03</th>\n",
       "      <th>04</th>\n",
       "      <th>05</th>\n",
       "      <th>0594</th>\n",
       "      <th>06</th>\n",
       "      <th>07</th>\n",
       "      <th>...</th>\n",
       "      <th>齐齐哈尔</th>\n",
       "      <th>龌龊</th>\n",
       "      <th>龙井茶</th>\n",
       "      <th>龙凤</th>\n",
       "      <th>龙城</th>\n",
       "      <th>龙头</th>\n",
       "      <th>龙岩</th>\n",
       "      <th>龙游</th>\n",
       "      <th>龙熙</th>\n",
       "      <th>龙门石窟</th>\n",
       "    </tr>\n",
       "  </thead>\n",
       "  <tbody>\n",
       "    <tr>\n",
       "      <th>2290</th>\n",
       "      <td>0</td>\n",
       "      <td>0</td>\n",
       "      <td>0</td>\n",
       "      <td>0</td>\n",
       "      <td>0</td>\n",
       "      <td>0</td>\n",
       "      <td>0</td>\n",
       "      <td>0</td>\n",
       "      <td>0</td>\n",
       "      <td>0</td>\n",
       "      <td>...</td>\n",
       "      <td>0</td>\n",
       "      <td>0</td>\n",
       "      <td>0</td>\n",
       "      <td>0</td>\n",
       "      <td>0</td>\n",
       "      <td>1</td>\n",
       "      <td>0</td>\n",
       "      <td>0</td>\n",
       "      <td>0</td>\n",
       "      <td>0</td>\n",
       "    </tr>\n",
       "    <tr>\n",
       "      <th>2168</th>\n",
       "      <td>0</td>\n",
       "      <td>0</td>\n",
       "      <td>0</td>\n",
       "      <td>0</td>\n",
       "      <td>0</td>\n",
       "      <td>0</td>\n",
       "      <td>0</td>\n",
       "      <td>0</td>\n",
       "      <td>0</td>\n",
       "      <td>0</td>\n",
       "      <td>...</td>\n",
       "      <td>0</td>\n",
       "      <td>0</td>\n",
       "      <td>0</td>\n",
       "      <td>0</td>\n",
       "      <td>0</td>\n",
       "      <td>0</td>\n",
       "      <td>0</td>\n",
       "      <td>0</td>\n",
       "      <td>0</td>\n",
       "      <td>0</td>\n",
       "    </tr>\n",
       "    <tr>\n",
       "      <th>2421</th>\n",
       "      <td>0</td>\n",
       "      <td>0</td>\n",
       "      <td>0</td>\n",
       "      <td>0</td>\n",
       "      <td>0</td>\n",
       "      <td>0</td>\n",
       "      <td>0</td>\n",
       "      <td>0</td>\n",
       "      <td>0</td>\n",
       "      <td>0</td>\n",
       "      <td>...</td>\n",
       "      <td>0</td>\n",
       "      <td>0</td>\n",
       "      <td>0</td>\n",
       "      <td>0</td>\n",
       "      <td>0</td>\n",
       "      <td>0</td>\n",
       "      <td>0</td>\n",
       "      <td>0</td>\n",
       "      <td>0</td>\n",
       "      <td>0</td>\n",
       "    </tr>\n",
       "    <tr>\n",
       "      <th>1782</th>\n",
       "      <td>0</td>\n",
       "      <td>0</td>\n",
       "      <td>0</td>\n",
       "      <td>0</td>\n",
       "      <td>0</td>\n",
       "      <td>0</td>\n",
       "      <td>0</td>\n",
       "      <td>0</td>\n",
       "      <td>0</td>\n",
       "      <td>0</td>\n",
       "      <td>...</td>\n",
       "      <td>0</td>\n",
       "      <td>0</td>\n",
       "      <td>0</td>\n",
       "      <td>0</td>\n",
       "      <td>0</td>\n",
       "      <td>0</td>\n",
       "      <td>0</td>\n",
       "      <td>0</td>\n",
       "      <td>0</td>\n",
       "      <td>0</td>\n",
       "    </tr>\n",
       "    <tr>\n",
       "      <th>146</th>\n",
       "      <td>0</td>\n",
       "      <td>0</td>\n",
       "      <td>0</td>\n",
       "      <td>0</td>\n",
       "      <td>0</td>\n",
       "      <td>0</td>\n",
       "      <td>0</td>\n",
       "      <td>0</td>\n",
       "      <td>0</td>\n",
       "      <td>0</td>\n",
       "      <td>...</td>\n",
       "      <td>0</td>\n",
       "      <td>0</td>\n",
       "      <td>0</td>\n",
       "      <td>0</td>\n",
       "      <td>0</td>\n",
       "      <td>0</td>\n",
       "      <td>0</td>\n",
       "      <td>0</td>\n",
       "      <td>0</td>\n",
       "      <td>0</td>\n",
       "    </tr>\n",
       "  </tbody>\n",
       "</table>\n",
       "<p>5 rows × 12898 columns</p>\n",
       "</div>"
      ],
      "text/plain": [
       "      00  00pm  01  02  03  04  05  0594  06  07  ...  齐齐哈尔  龌龊  龙井茶  龙凤  龙城  \\\n",
       "2290   0     0   0   0   0   0   0     0   0   0  ...     0   0    0   0   0   \n",
       "2168   0     0   0   0   0   0   0     0   0   0  ...     0   0    0   0   0   \n",
       "2421   0     0   0   0   0   0   0     0   0   0  ...     0   0    0   0   0   \n",
       "1782   0     0   0   0   0   0   0     0   0   0  ...     0   0    0   0   0   \n",
       "146    0     0   0   0   0   0   0     0   0   0  ...     0   0    0   0   0   \n",
       "\n",
       "      龙头  龙岩  龙游  龙熙  龙门石窟  \n",
       "2290   1   0   0   0     0  \n",
       "2168   0   0   0   0     0  \n",
       "2421   0   0   0   0     0  \n",
       "1782   0   0   0   0     0  \n",
       "146    0   0   0   0     0  \n",
       "\n",
       "[5 rows x 12898 columns]"
      ]
     },
     "execution_count": 46,
     "metadata": {},
     "output_type": "execute_result"
    }
   ],
   "source": [
    "feature_df = pd.DataFrame(X.toarray(),\n",
    "                          columns=CV_binary.get_feature_names(),\n",
    "                          index=balance2k.index)\n",
    "feature_df.head()"
   ]
  },
  {
   "cell_type": "code",
   "execution_count": 50,
   "id": "85f47ffe",
   "metadata": {},
   "outputs": [
    {
     "data": {
      "text/html": [
       "<div>\n",
       "<style scoped>\n",
       "    .dataframe tbody tr th:only-of-type {\n",
       "        vertical-align: middle;\n",
       "    }\n",
       "\n",
       "    .dataframe tbody tr th {\n",
       "        vertical-align: top;\n",
       "    }\n",
       "\n",
       "    .dataframe thead th {\n",
       "        text-align: right;\n",
       "    }\n",
       "</style>\n",
       "<table border=\"1\" class=\"dataframe\">\n",
       "  <thead>\n",
       "    <tr style=\"text-align: right;\">\n",
       "      <th></th>\n",
       "      <th>label</th>\n",
       "      <th>review</th>\n",
       "      <th>00</th>\n",
       "      <th>00pm</th>\n",
       "      <th>01</th>\n",
       "      <th>02</th>\n",
       "      <th>03</th>\n",
       "      <th>04</th>\n",
       "      <th>05</th>\n",
       "      <th>0594</th>\n",
       "      <th>...</th>\n",
       "      <th>齐齐哈尔</th>\n",
       "      <th>龌龊</th>\n",
       "      <th>龙井茶</th>\n",
       "      <th>龙凤</th>\n",
       "      <th>龙城</th>\n",
       "      <th>龙头</th>\n",
       "      <th>龙岩</th>\n",
       "      <th>龙游</th>\n",
       "      <th>龙熙</th>\n",
       "      <th>龙门石窟</th>\n",
       "    </tr>\n",
       "  </thead>\n",
       "  <tbody>\n",
       "    <tr>\n",
       "      <th>2290</th>\n",
       "      <td>1</td>\n",
       "      <td>我们一行8人订了两件海景豪华间和一间豪华标间，无意间我们一家住进了2104房间，景色真不错，...</td>\n",
       "      <td>0</td>\n",
       "      <td>0</td>\n",
       "      <td>0</td>\n",
       "      <td>0</td>\n",
       "      <td>0</td>\n",
       "      <td>0</td>\n",
       "      <td>0</td>\n",
       "      <td>0</td>\n",
       "      <td>...</td>\n",
       "      <td>0</td>\n",
       "      <td>0</td>\n",
       "      <td>0</td>\n",
       "      <td>0</td>\n",
       "      <td>0</td>\n",
       "      <td>1</td>\n",
       "      <td>0</td>\n",
       "      <td>0</td>\n",
       "      <td>0</td>\n",
       "      <td>0</td>\n",
       "    </tr>\n",
       "    <tr>\n",
       "      <th>2168</th>\n",
       "      <td>1</td>\n",
       "      <td>上一次在德州住的是富丽华，实在是不咋样，只能用一个字来形容：土。但这次住在贵都的感觉非常好，...</td>\n",
       "      <td>0</td>\n",
       "      <td>0</td>\n",
       "      <td>0</td>\n",
       "      <td>0</td>\n",
       "      <td>0</td>\n",
       "      <td>0</td>\n",
       "      <td>0</td>\n",
       "      <td>0</td>\n",
       "      <td>...</td>\n",
       "      <td>0</td>\n",
       "      <td>0</td>\n",
       "      <td>0</td>\n",
       "      <td>0</td>\n",
       "      <td>0</td>\n",
       "      <td>0</td>\n",
       "      <td>0</td>\n",
       "      <td>0</td>\n",
       "      <td>0</td>\n",
       "      <td>0</td>\n",
       "    </tr>\n",
       "    <tr>\n",
       "      <th>2421</th>\n",
       "      <td>1</td>\n",
       "      <td>不错，门口、大堂成天美女如云///////////////////</td>\n",
       "      <td>0</td>\n",
       "      <td>0</td>\n",
       "      <td>0</td>\n",
       "      <td>0</td>\n",
       "      <td>0</td>\n",
       "      <td>0</td>\n",
       "      <td>0</td>\n",
       "      <td>0</td>\n",
       "      <td>...</td>\n",
       "      <td>0</td>\n",
       "      <td>0</td>\n",
       "      <td>0</td>\n",
       "      <td>0</td>\n",
       "      <td>0</td>\n",
       "      <td>0</td>\n",
       "      <td>0</td>\n",
       "      <td>0</td>\n",
       "      <td>0</td>\n",
       "      <td>0</td>\n",
       "    </tr>\n",
       "    <tr>\n",
       "      <th>1782</th>\n",
       "      <td>1</td>\n",
       "      <td>晕~~~搞不懂。我去上清寺地区办事，准备选择东方花园饭店和雾都宾馆，我一下飞机，携程推销员向...</td>\n",
       "      <td>0</td>\n",
       "      <td>0</td>\n",
       "      <td>0</td>\n",
       "      <td>0</td>\n",
       "      <td>0</td>\n",
       "      <td>0</td>\n",
       "      <td>0</td>\n",
       "      <td>0</td>\n",
       "      <td>...</td>\n",
       "      <td>0</td>\n",
       "      <td>0</td>\n",
       "      <td>0</td>\n",
       "      <td>0</td>\n",
       "      <td>0</td>\n",
       "      <td>0</td>\n",
       "      <td>0</td>\n",
       "      <td>0</td>\n",
       "      <td>0</td>\n",
       "      <td>0</td>\n",
       "    </tr>\n",
       "    <tr>\n",
       "      <th>146</th>\n",
       "      <td>1</td>\n",
       "      <td>协程价格比较好。下次出差还会住这里。房间还不错。</td>\n",
       "      <td>0</td>\n",
       "      <td>0</td>\n",
       "      <td>0</td>\n",
       "      <td>0</td>\n",
       "      <td>0</td>\n",
       "      <td>0</td>\n",
       "      <td>0</td>\n",
       "      <td>0</td>\n",
       "      <td>...</td>\n",
       "      <td>0</td>\n",
       "      <td>0</td>\n",
       "      <td>0</td>\n",
       "      <td>0</td>\n",
       "      <td>0</td>\n",
       "      <td>0</td>\n",
       "      <td>0</td>\n",
       "      <td>0</td>\n",
       "      <td>0</td>\n",
       "      <td>0</td>\n",
       "    </tr>\n",
       "  </tbody>\n",
       "</table>\n",
       "<p>5 rows × 12900 columns</p>\n",
       "</div>"
      ],
      "text/plain": [
       "      label                                             review  00  00pm  01  \\\n",
       "2290      1  我们一行8人订了两件海景豪华间和一间豪华标间，无意间我们一家住进了2104房间，景色真不错，...   0     0   0   \n",
       "2168      1  上一次在德州住的是富丽华，实在是不咋样，只能用一个字来形容：土。但这次住在贵都的感觉非常好，...   0     0   0   \n",
       "2421      1                  不错，门口、大堂成天美女如云///////////////////   0     0   0   \n",
       "1782      1  晕~~~搞不懂。我去上清寺地区办事，准备选择东方花园饭店和雾都宾馆，我一下飞机，携程推销员向...   0     0   0   \n",
       "146       1                           协程价格比较好。下次出差还会住这里。房间还不错。   0     0   0   \n",
       "\n",
       "      02  03  04  05  0594  ...  齐齐哈尔  龌龊  龙井茶  龙凤  龙城  龙头  龙岩  龙游  龙熙  龙门石窟  \n",
       "2290   0   0   0   0     0  ...     0   0    0   0   0   1   0   0   0     0  \n",
       "2168   0   0   0   0     0  ...     0   0    0   0   0   0   0   0   0     0  \n",
       "2421   0   0   0   0     0  ...     0   0    0   0   0   0   0   0   0     0  \n",
       "1782   0   0   0   0     0  ...     0   0    0   0   0   0   0   0   0     0  \n",
       "146    0   0   0   0     0  ...     0   0    0   0   0   0   0   0   0     0  \n",
       "\n",
       "[5 rows x 12900 columns]"
      ]
     },
     "execution_count": 50,
     "metadata": {},
     "output_type": "execute_result"
    }
   ],
   "source": [
    "df = pd.concat([balance2k, feature_df], axis=1)\n",
    "df.head()"
   ]
  },
  {
   "cell_type": "code",
   "execution_count": 51,
   "id": "0ef678d2",
   "metadata": {},
   "outputs": [
    {
     "data": {
      "text/plain": [
       "((1500, 12898), (1500,))"
      ]
     },
     "execution_count": 51,
     "metadata": {},
     "output_type": "execute_result"
    }
   ],
   "source": [
    "from sklearn.model_selection import train_test_split\n",
    "X_train, X_test, y_train, y_test = train_test_split(df.iloc[:, 2:], df.label)\n",
    "X_train.shape, y_train.shape"
   ]
  },
  {
   "cell_type": "code",
   "execution_count": 55,
   "id": "cbac0ce3",
   "metadata": {},
   "outputs": [
    {
     "data": {
      "text/plain": [
       "0.712"
      ]
     },
     "execution_count": 55,
     "metadata": {},
     "output_type": "execute_result"
    }
   ],
   "source": [
    "# 拟合高斯贝叶斯模型, 得到模型分类预测结果gnb_pred\n",
    "from sklearn.naive_bayes import GaussianNB\n",
    "gnb = GaussianNB()\n",
    "gnb.fit(X_train, y_train)\n",
    "gnb_pred = gnb.predict(X_test)\n",
    "# 模型评估\n",
    "from sklearn.metrics import accuracy_score, confusion_matrix, ConfusionMatrixDisplay\n",
    "# 准确率\n",
    "accuracy_score(y_test, gnb_pred)"
   ]
  },
  {
   "cell_type": "code",
   "execution_count": 56,
   "id": "a174a83f",
   "metadata": {},
   "outputs": [
    {
     "data": {
      "text/plain": [
       "<sklearn.metrics._plot.confusion_matrix.ConfusionMatrixDisplay at 0x2b3fa1ebcd0>"
      ]
     },
     "execution_count": 56,
     "metadata": {},
     "output_type": "execute_result"
    },
    {
     "data": {
      "image/png": "[encoded data removed]",
      "text/plain": [
       "<Figure size 432x288 with 2 Axes>"
      ]
     },
     "metadata": {
      "needs_background": "light"
     },
     "output_type": "display_data"
    }
   ],
   "source": [
    "cm = confusion_matrix(gnb_pred, y_test)\n",
    "cmd = ConfusionMatrixDisplay(confusion_matrix=cm)\n",
    "cmd.plot(cmap=\"plasma\")"
   ]
  },
  {
   "cell_type": "code",
   "execution_count": 60,
   "id": "3e247e25",
   "metadata": {},
   "outputs": [
    {
     "data": {
      "text/html": [
       "<div>\n",
       "<style scoped>\n",
       "    .dataframe tbody tr th:only-of-type {\n",
       "        vertical-align: middle;\n",
       "    }\n",
       "\n",
       "    .dataframe tbody tr th {\n",
       "        vertical-align: top;\n",
       "    }\n",
       "\n",
       "    .dataframe thead th {\n",
       "        text-align: right;\n",
       "    }\n",
       "</style>\n",
       "<table border=\"1\" class=\"dataframe\">\n",
       "  <thead>\n",
       "    <tr style=\"text-align: right;\">\n",
       "      <th></th>\n",
       "      <th>label</th>\n",
       "      <th>review</th>\n",
       "      <th>pred</th>\n",
       "    </tr>\n",
       "  </thead>\n",
       "  <tbody>\n",
       "    <tr>\n",
       "      <th>1475</th>\n",
       "      <td>1</td>\n",
       "      <td>我是2.13入住的,感觉服务还是可以的,特别是行李员,比较热情.但是周边的环境不是很好,我们...</td>\n",
       "      <td>1</td>\n",
       "    </tr>\n",
       "    <tr>\n",
       "      <th>4152</th>\n",
       "      <td>1</td>\n",
       "      <td>预定了套间，入住发现没有房间，但是与携程交涉后，酒店很快升级为总统套房，很满意，下次还会来</td>\n",
       "      <td>0</td>\n",
       "    </tr>\n",
       "    <tr>\n",
       "      <th>7732</th>\n",
       "      <td>0</td>\n",
       "      <td>环境还算可以，可能是当地饮食文化跟东莞有不同的原固，中餐分为二层，一层饮茶，一层食饭，本人想...</td>\n",
       "      <td>0</td>\n",
       "    </tr>\n",
       "    <tr>\n",
       "      <th>5370</th>\n",
       "      <td>0</td>\n",
       "      <td>酒店不像是五星的，最多三星标准，比较失望，两个房间的海景只能看到一个角，而且服务意识都没有，...</td>\n",
       "      <td>0</td>\n",
       "    </tr>\n",
       "    <tr>\n",
       "      <th>6589</th>\n",
       "      <td>0</td>\n",
       "      <td>实在是差啊!!我当晚住的是双人房,三楼餐厅旁,一路的黑灯瞎火,还有一股味!!!</td>\n",
       "      <td>0</td>\n",
       "    </tr>\n",
       "  </tbody>\n",
       "</table>\n",
       "</div>"
      ],
      "text/plain": [
       "      label                                             review  pred\n",
       "1475      1  我是2.13入住的,感觉服务还是可以的,特别是行李员,比较热情.但是周边的环境不是很好,我们...     1\n",
       "4152      1      预定了套间，入住发现没有房间，但是与携程交涉后，酒店很快升级为总统套房，很满意，下次还会来     0\n",
       "7732      0  环境还算可以，可能是当地饮食文化跟东莞有不同的原固，中餐分为二层，一层饮茶，一层食饭，本人想...     0\n",
       "5370      0  酒店不像是五星的，最多三星标准，比较失望，两个房间的海景只能看到一个角，而且服务意识都没有，...     0\n",
       "6589      0            实在是差啊!!我当晚住的是双人房,三楼餐厅旁,一路的黑灯瞎火,还有一股味!!!     0"
      ]
     },
     "execution_count": 60,
     "metadata": {},
     "output_type": "execute_result"
    }
   ],
   "source": [
    "pred_df = df.loc[X_test.index, ['label', 'review']]\n",
    "pred_df['pred'] = gnb_pred\n",
    "pred_df.tail()"
   ]
  },
  {
   "cell_type": "code",
   "execution_count": null,
   "id": "569ed334",
   "metadata": {},
   "outputs": [],
   "source": []
  }
 ],
 "metadata": {
  "kernelspec": {
   "display_name": "Python 3 (ipykernel)",
   "language": "python",
   "name": "python3"
  },
  "language_info": {
   "codemirror_mode": {
    "name": "ipython",
    "version": 3
   },
   "file_extension": ".py",
   "mimetype": "text/x-python",
   "name": "python",
   "nbconvert_exporter": "python",
   "pygments_lexer": "ipython3",
   "version": "3.9.0"
  }
 },
 "nbformat": 4,
 "nbformat_minor": 5
}
