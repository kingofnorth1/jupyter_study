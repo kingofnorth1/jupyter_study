{
 "cells": [
  {
   "cell_type": "markdown",
   "id": "38873dfb",
   "metadata": {},
   "source": [
    "## 2.使用KNN算法判断肿瘤类别"
   ]
  },
  {
   "cell_type": "code",
   "execution_count": 1,
   "id": "ae4115fa",
   "metadata": {},
   "outputs": [],
   "source": [
    "from sklearn.datasets import load_breast_cancer\n",
    "from sklearn.model_selection import train_test_split\n",
    "from sklearn.neighbors import KNeighborsClassifier\n",
    "import seaborn as sns"
   ]
  },
  {
   "cell_type": "code",
   "execution_count": 2,
   "id": "e1b63ee6",
   "metadata": {},
   "outputs": [],
   "source": [
    "cancer = load_breast_cancer()\n",
    "X_train, X_test, y_train, y_test = train_test_split(cancer.data, cancer.target, test_size=0.3)"
   ]
  },
  {
   "cell_type": "code",
   "execution_count": 3,
   "id": "8098dd53",
   "metadata": {},
   "outputs": [
    {
     "data": {
      "text/plain": [
       "KNeighborsClassifier()"
      ]
     },
     "execution_count": 3,
     "metadata": {},
     "output_type": "execute_result"
    }
   ],
   "source": [
    "knn = KNeighborsClassifier()\n",
    "knn.fit(X_train, y_train)"
   ]
  },
  {
   "cell_type": "code",
   "execution_count": 4,
   "id": "e62edacd",
   "metadata": {},
   "outputs": [],
   "source": [
    "accuracy= knn.score(X_test, y_test)"
   ]
  },
  {
   "cell_type": "code",
   "execution_count": 5,
   "id": "b70f7867",
   "metadata": {},
   "outputs": [
    {
     "data": {
      "text/plain": [
       "0.9298245614035088"
      ]
     },
     "execution_count": 5,
     "metadata": {},
     "output_type": "execute_result"
    }
   ],
   "source": [
    "accuracy"
   ]
  },
  {
   "cell_type": "markdown",
   "id": "4776d5c9",
   "metadata": {},
   "source": [
    "## 3.了解KNN算法中的参数"
   ]
  },
  {
   "cell_type": "code",
   "execution_count": 6,
   "id": "014e370d",
   "metadata": {},
   "outputs": [
    {
     "data": {
      "text/plain": [
       "{'algorithm': 'auto',\n",
       " 'leaf_size': 30,\n",
       " 'metric': 'minkowski',\n",
       " 'metric_params': None,\n",
       " 'n_jobs': None,\n",
       " 'n_neighbors': 5,\n",
       " 'p': 2,\n",
       " 'weights': 'uniform'}"
      ]
     },
     "execution_count": 6,
     "metadata": {},
     "output_type": "execute_result"
    }
   ],
   "source": [
    "knn.get_params()"
   ]
  },
  {
   "cell_type": "markdown",
   "id": "704c5866",
   "metadata": {},
   "source": [
    "## 4.确定K的最佳取值"
   ]
  },
  {
   "cell_type": "code",
   "execution_count": 10,
   "id": "0828e37e",
   "metadata": {},
   "outputs": [],
   "source": [
    "error_rate = []   # 记录不同k值错误率的列表\n",
    "for k in range(3, 20):\n",
    "    knn = KNeighborsClassifier(n_neighbors=k)\n",
    "    knn.fit(X_train, y_train)\n",
    "     # 稍后绘图我们希望看到错误率随着k增大，误差减小的情况\n",
    "     # 而knn.score返回的是准确率，因此需要 1 - 准确率\n",
    "    error_rate.append(1 - knn.score(X_test, y_test))\n"
   ]
  },
  {
   "cell_type": "code",
   "execution_count": 17,
   "id": "ff44901e",
   "metadata": {},
   "outputs": [
    {
     "data": {
      "text/plain": [
       "<AxesSubplot:>"
      ]
     },
     "execution_count": 17,
     "metadata": {},
     "output_type": "execute_result"
    },
    {
     "data": {
      "image/png": "[encoded data removed]",
      "text/plain": [
       "<Figure size 640x480 with 1 Axes>"
      ]
     },
     "metadata": {},
     "output_type": "display_data"
    }
   ],
   "source": [
    "sns.lineplot(x=range(3, 20), y=error_rate, marker='o')"
   ]
  },
  {
   "cell_type": "markdown",
   "id": "5439aae7",
   "metadata": {},
   "source": [
    "## 5.K近邻模型的扩展\n",
    "## 5.1标准化问题"
   ]
  },
  {
   "cell_type": "code",
   "execution_count": 18,
   "id": "735546ff",
   "metadata": {},
   "outputs": [
    {
     "data": {
      "text/plain": [
       "0.9473684210526315"
      ]
     },
     "execution_count": 18,
     "metadata": {},
     "output_type": "execute_result"
    }
   ],
   "source": [
    "from sklearn.pipeline import make_pipeline\n",
    "from sklearn.preprocessing import StandardScaler, MinMaxScaler\n",
    " \n",
    "ss_knn = make_pipeline(\n",
    "    StandardScaler(),\n",
    "    KNeighborsClassifier(n_neighbors=8)\n",
    " )\n",
    " \n",
    "ss_knn.fit(X_train, y_train)\n",
    "ss_knn.score(X_test, y_test)\n",
    "mm_knn = make_pipeline(\n",
    "    MinMaxScaler(),\n",
    "    KNeighborsClassifier(n_neighbors=8)\n",
    " )\n",
    " \n",
    "mm_knn.fit(X_train, y_train)\n",
    "mm_knn.score(X_test, y_test)"
   ]
  },
  {
   "cell_type": "markdown",
   "id": "ab890ff7",
   "metadata": {},
   "source": [
    "## 5.2不同的距离计算方法"
   ]
  },
  {
   "cell_type": "code",
   "execution_count": 19,
   "id": "faf093f1",
   "metadata": {},
   "outputs": [
    {
     "data": {
      "text/plain": [
       "0.9064327485380117"
      ]
     },
     "execution_count": 19,
     "metadata": {},
     "output_type": "execute_result"
    }
   ],
   "source": [
    "mht_knn = make_pipeline(\n",
    "MinMaxScaler(),\n",
    "    KNeighborsClassifier(n_neighbors=8, metric='manhattan')\n",
    " )\n",
    "mht_knn.fit(X_train, y_train)\n",
    "mht_knn.score(X_test, y_test)\n",
    " # 基于余弦夹角\n",
    "cos_knn = make_pipeline(\n",
    "MinMaxScaler(),\n",
    "    KNeighborsClassifier(n_neighbors=8, metric='cosine')\n",
    " )\n",
    "cos_knn.fit(X_train, y_train)\n",
    "cos_knn.score(X_test, y_test)\n"
   ]
  },
  {
   "cell_type": "markdown",
   "id": "ee64454d",
   "metadata": {},
   "source": [
    "## 5.3基于半径的近邻算法"
   ]
  },
  {
   "cell_type": "code",
   "execution_count": 20,
   "id": "d72a66df",
   "metadata": {},
   "outputs": [
    {
     "name": "stderr",
     "output_type": "stream",
     "text": [
      "c:\\users\\user\\appdata\\local\\programs\\python\\python37\\lib\\site-packages\\sklearn\\neighbors\\_classification.py:669: UserWarning: Outlier label 2 is not in training classes. All class probabilities of outliers will be assigned with 0.\n",
      "  \"\".format(self.outlier_label_[k])\n"
     ]
    },
    {
     "data": {
      "text/plain": [
       "0.8596491228070176"
      ]
     },
     "execution_count": 20,
     "metadata": {},
     "output_type": "execute_result"
    }
   ],
   "source": [
    "from sklearn.neighbors import RadiusNeighborsClassifier\n",
    "mm_rnn_base = make_pipeline(\n",
    "    MinMaxScaler(),\n",
    "     # 由于经过归一化，因此点与点之间的距离应该不大。模型默认半径为1\n",
    "     # 对于一些异常点，可能在半径范围内，找不到任何一个相邻的点。\n",
    "     # 对于这部分无法归类的异常点，需要指定outlier_label, 以免模型报错\n",
    "    RadiusNeighborsClassifier(radius=1.0, outlier_label=2)\n",
    " )\n",
    "mm_rnn_base.fit(X_train, y_train)\n",
    "mm_rnn_base.score(X_test, y_test)\n"
   ]
  },
  {
   "cell_type": "code",
   "execution_count": 23,
   "id": "1d124a18",
   "metadata": {},
   "outputs": [
    {
     "name": "stderr",
     "output_type": "stream",
     "text": [
      "c:\\users\\user\\appdata\\local\\programs\\python\\python37\\lib\\site-packages\\sklearn\\neighbors\\_classification.py:669: UserWarning: Outlier label 2 is not in training classes. All class probabilities of outliers will be assigned with 0.\n",
      "  \"\".format(self.outlier_label_[k])\n",
      "c:\\users\\user\\appdata\\local\\programs\\python\\python37\\lib\\site-packages\\sklearn\\neighbors\\_classification.py:669: UserWarning: Outlier label 2 is not in training classes. All class probabilities of outliers will be assigned with 0.\n",
      "  \"\".format(self.outlier_label_[k])\n",
      "c:\\users\\user\\appdata\\local\\programs\\python\\python37\\lib\\site-packages\\sklearn\\neighbors\\_classification.py:669: UserWarning: Outlier label 2 is not in training classes. All class probabilities of outliers will be assigned with 0.\n",
      "  \"\".format(self.outlier_label_[k])\n",
      "c:\\users\\user\\appdata\\local\\programs\\python\\python37\\lib\\site-packages\\sklearn\\neighbors\\_classification.py:669: UserWarning: Outlier label 2 is not in training classes. All class probabilities of outliers will be assigned with 0.\n",
      "  \"\".format(self.outlier_label_[k])\n",
      "c:\\users\\user\\appdata\\local\\programs\\python\\python37\\lib\\site-packages\\sklearn\\neighbors\\_classification.py:669: UserWarning: Outlier label 2 is not in training classes. All class probabilities of outliers will be assigned with 0.\n",
      "  \"\".format(self.outlier_label_[k])\n",
      "c:\\users\\user\\appdata\\local\\programs\\python\\python37\\lib\\site-packages\\sklearn\\neighbors\\_classification.py:669: UserWarning: Outlier label 2 is not in training classes. All class probabilities of outliers will be assigned with 0.\n",
      "  \"\".format(self.outlier_label_[k])\n",
      "c:\\users\\user\\appdata\\local\\programs\\python\\python37\\lib\\site-packages\\sklearn\\neighbors\\_classification.py:669: UserWarning: Outlier label 2 is not in training classes. All class probabilities of outliers will be assigned with 0.\n",
      "  \"\".format(self.outlier_label_[k])\n",
      "c:\\users\\user\\appdata\\local\\programs\\python\\python37\\lib\\site-packages\\sklearn\\neighbors\\_classification.py:669: UserWarning: Outlier label 2 is not in training classes. All class probabilities of outliers will be assigned with 0.\n",
      "  \"\".format(self.outlier_label_[k])\n",
      "c:\\users\\user\\appdata\\local\\programs\\python\\python37\\lib\\site-packages\\sklearn\\neighbors\\_classification.py:669: UserWarning: Outlier label 2 is not in training classes. All class probabilities of outliers will be assigned with 0.\n",
      "  \"\".format(self.outlier_label_[k])\n",
      "c:\\users\\user\\appdata\\local\\programs\\python\\python37\\lib\\site-packages\\sklearn\\neighbors\\_classification.py:669: UserWarning: Outlier label 2 is not in training classes. All class probabilities of outliers will be assigned with 0.\n",
      "  \"\".format(self.outlier_label_[k])\n",
      "c:\\users\\user\\appdata\\local\\programs\\python\\python37\\lib\\site-packages\\sklearn\\neighbors\\_classification.py:669: UserWarning: Outlier label 2 is not in training classes. All class probabilities of outliers will be assigned with 0.\n",
      "  \"\".format(self.outlier_label_[k])\n"
     ]
    },
    {
     "data": {
      "text/plain": [
       "<AxesSubplot:>"
      ]
     },
     "execution_count": 23,
     "metadata": {},
     "output_type": "execute_result"
    },
    {
     "data": {
      "image/png": "[encoded data removed]",
      "text/plain": [
       "<Figure size 640x480 with 1 Axes>"
      ]
     },
     "metadata": {},
     "output_type": "display_data"
    }
   ],
   "source": [
    "rnn_error = []  # 记录不同半径对应的模型错误率\n",
    "for i in range(11):\n",
    "    mm_rnn = make_pipeline(\n",
    "        MinMaxScaler(),\n",
    "        RadiusNeighborsClassifier(radius=0.5 + i * 0.1, outlier_label=2)\n",
    "    )\n",
    "    mm_rnn.fit(X_train, y_train)\n",
    "    rnn_error.append(1 - mm_rnn.score(X_test, y_test))\n",
    " # 绘制错误率曲线\n",
    "sns.lineplot(x=[0.5+x*0.1 for x in range(11)], y=rnn_error, marker='o')\n"
   ]
  },
  {
   "cell_type": "markdown",
   "id": "12af0034",
   "metadata": {},
   "source": [
    "## 6.与其他模型对比"
   ]
  },
  {
   "cell_type": "code",
   "execution_count": 24,
   "id": "8914e576",
   "metadata": {},
   "outputs": [
    {
     "data": {
      "text/plain": [
       "0.9766081871345029"
      ]
     },
     "execution_count": 24,
     "metadata": {},
     "output_type": "execute_result"
    }
   ],
   "source": [
    "from sklearn.linear_model import LogisticRegression\n",
    " \n",
    " # 基于MinMaxScaler的逻辑回归\n",
    "mm_lr = make_pipeline(\n",
    "    MinMaxScaler(),\n",
    "    LogisticRegression()\n",
    " )\n",
    "mm_lr.fit(X_train, y_train)\n",
    "mm_lr.score(X_test, y_test)\n",
    " # 基于StandardScaler的逻辑回归\n",
    "ss_lr = make_pipeline(\n",
    "    StandardScaler(),\n",
    "    LogisticRegression()\n",
    " )\n",
    "ss_lr.fit(X_train, y_train)\n",
    "ss_lr.score(X_test, y_test)\n"
   ]
  },
  {
   "cell_type": "code",
   "execution_count": 25,
   "id": "e8b7ae14",
   "metadata": {},
   "outputs": [
    {
     "data": {
      "text/plain": [
       "0.9649122807017544"
      ]
     },
     "execution_count": 25,
     "metadata": {},
     "output_type": "execute_result"
    }
   ],
   "source": [
    "from sklearn.svm import SVC\n",
    " \n",
    " # 基于MinMaxScaler的支持向量机\n",
    "mm_svc = make_pipeline(\n",
    "    MinMaxScaler(),\n",
    "    SVC()\n",
    " )\n",
    "mm_svc.fit(X_train, y_train)\n",
    "mm_svc.score(X_test, y_test)\n",
    " # 基于StandardScaler的支持向量机\n",
    "ss_svc = make_pipeline(\n",
    "    StandardScaler(),SVC()\n",
    " )\n",
    "ss_svc.fit(X_train, y_train)\n",
    "ss_svc.score(X_test, y_test)\n"
   ]
  }
 ],
 "metadata": {
  "kernelspec": {
   "display_name": "Python 3 (ipykernel)",
   "language": "python",
   "name": "python3"
  },
  "language_info": {
   "codemirror_mode": {
    "name": "ipython",
    "version": 3
   },
   "file_extension": ".py",
   "mimetype": "text/x-python",
   "name": "python",
   "nbconvert_exporter": "python",
   "pygments_lexer": "ipython3",
   "version": "3.9.0"
  }
 },
 "nbformat": 4,
 "nbformat_minor": 5
}
