{
 "cells": [
  {
   "cell_type": "markdown",
   "id": "b5a50a72",
   "metadata": {},
   "source": [
    "## 2. Pillow使用简介"
   ]
  },
  {
   "cell_type": "markdown",
   "id": "d08c3c08",
   "metadata": {},
   "source": [
    "### 2.1 读写图像"
   ]
  },
  {
   "cell_type": "code",
   "execution_count": 5,
   "id": "007fa50a",
   "metadata": {
    "scrolled": true
   },
   "outputs": [
    {
     "name": "stdout",
     "output_type": "stream",
     "text": [
      "JPEG (774, 447) RGB\n"
     ]
    }
   ],
   "source": [
    "from PIL import Image\n",
    "im = Image.open(\"D:/jupyter file/date/demo.jpg\")\n",
    "im.show()\n",
    "print(im.format, im.size, im.mode)"
   ]
  },
  {
   "cell_type": "markdown",
   "id": "fcee3bda",
   "metadata": {},
   "source": [
    "### 2.2 剪切、翻转、合并图像"
   ]
  },
  {
   "cell_type": "code",
   "execution_count": 7,
   "id": "ded25c8c",
   "metadata": {},
   "outputs": [],
   "source": [
    "logo = Image.open(\"D:/jupyter file/date/python.png\")\n",
    "box = (160, 160, 440, 440)\n",
    "part = logo.crop(box)\n",
    "part = part.rotate(-90)\n",
    "logo.paste(part, box)\n",
    "logo.save(\"D:/jupyter file/date/python_90.png\")"
   ]
  },
  {
   "cell_type": "markdown",
   "id": "38c3ad0c",
   "metadata": {},
   "source": [
    "### 2.3 为图片添加文字"
   ]
  },
  {
   "cell_type": "code",
   "execution_count": 8,
   "id": "bbf43ebf",
   "metadata": {},
   "outputs": [],
   "source": [
    "from PIL import ImageFont, ImageDraw\n",
    "img = Image.open(\"D:/jupyter file/date/GCU.png\")\n",
    "draw = ImageDraw.Draw(img)\n",
    "draw.text((350, 40), \"www.gcu.edu.cn\")\n",
    "img.save(\"D:/jupyter file/date/GCU_text.png\", \"PNG\")"
   ]
  },
  {
   "cell_type": "code",
   "execution_count": 13,
   "id": "9e3f5810",
   "metadata": {},
   "outputs": [],
   "source": [
    "img = Image.open(\"D:/jupyter file/date/GCU.png\") \n",
    "draw = ImageDraw.Draw(img) \n",
    "# font = ImageFont.truetype(\"C:/Windows/Fonts/wqy-microhei.ttc\", size=20) # 20号字体 \n",
    "font = ImageFont.truetype(\"D:/jupyter file/date/msyh.ttc\", size=20) # Windows微软雅黑 \n",
    "draw.text((300, 40), \"广州城市理工学院\", font=font, fill=(255, 255, 255)) # 指定字体对象 \n",
    "img.save(\"D:/jupyter file/date/GCU_logo.png\", \"PNG\")"
   ]
  },
  {
   "cell_type": "markdown",
   "id": "fdd0a76a",
   "metadata": {},
   "source": [
    "### 实例2 为图片添加水印"
   ]
  },
  {
   "cell_type": "code",
   "execution_count": 14,
   "id": "55c91b1e",
   "metadata": {},
   "outputs": [],
   "source": [
    "from PIL import Image, ImageDraw, ImageFont \n",
    " \n",
    "with Image.open(\"D:/jupyter file/date/GCU.png\").convert(\"RGBA\") as background: \n",
    "    txt = Image.new(\"RGBA\", background.size, (255,255,255,0)) \n",
    "    d = ImageDraw.Draw(txt) \n",
    "     \n",
    "# font = ImageFont.truetype(\"wqy-microhei.ttc\", size=20) # 20号字体 \n",
    "font = ImageFont.truetype(\"D:/jupyter file/date/msyh.ttc\", size=20) # windows微软雅黑 \n",
    "x, y = 10, 10 \n",
    "step = 250 \n",
    "while x < txt.width: \n",
    "    while y < txt.height: \n",
    "        d.text((x, y), \"广州城市理工\", font=font, fill=(255,255,255,128)) \n",
    "        y = y + step \n",
    "         \n",
    "    x = x + step \n",
    "    y = 10 \n",
    "out = Image.alpha_composite(background, txt.rotate(45)) \n",
    "out.save(\"D:/jupyter file/date/GCU_watermark.png\", \"PNG\")"
   ]
  },
  {
   "cell_type": "markdown",
   "id": "b927698e",
   "metadata": {},
   "source": [
    "## 3. 图片色彩分析"
   ]
  },
  {
   "cell_type": "code",
   "execution_count": 16,
   "id": "b65b1f77",
   "metadata": {},
   "outputs": [
    {
     "data": {
      "text/plain": [
       "[((94, 87, 128), 3154),\n",
       " ((145, 135, 198), 2604),\n",
       " ((144, 134, 197), 2246),\n",
       " ((118, 107, 149), 1970),\n",
       " ((85, 75, 125), 1960),\n",
       " ((112, 104, 141), 1924),\n",
       " ((136, 126, 187), 1801),\n",
       " ((148, 139, 206), 1783),\n",
       " ((143, 133, 193), 1767),\n",
       " ((113, 105, 142), 1722)]"
      ]
     },
     "execution_count": 16,
     "metadata": {},
     "output_type": "execute_result"
    }
   ],
   "source": [
    "import pandas as pd \n",
    "import seaborn as sns \n",
    " \n",
    "im = Image.open(\"D:/jupyter file/date/street.jpg\") \n",
    " \n",
    "# 引入Pillow中的滤镜 \n",
    "from PIL import ImageFilter \n",
    " \n",
    "# 使用Mode滤镜对图片进行处理 \n",
    "# Mode滤镜原理为，在图片中选择n个像素点，使用n个像素点的众数作为所选像素的值进行填充。以此来减少图片中颜色数量 \n",
    "im_mode = im.filter(ImageFilter.ModeFilter(size=20)) \n",
    "im_mode.show() \n",
    " \n",
    "# 将图片转为HSV模型，方便后续分析 \n",
    "# 转换后的像素点，值范围依然是0~255 \n",
    "# 后续需要借助scikit-learn中的MinMaxScaler进行转换 \n",
    "im_hsv = im_mode.convert(\"HSV\") \n",
    " \n",
    "# 获取图片的宽和高 \n",
    "w, h = im_hsv.size \n",
    " \n",
    "# 引入Counter， 统计每个像素点数量(相当于wordcount->pixelcount) \n",
    "# get_pixcel((x,y))方法可以返回(x,y)位置的像素颜色值。 \n",
    "from collections import Counter \n",
    "pixel_counter = Counter() \n",
    "for i in range(w): \n",
    "    for j in range(h): \n",
    "        pixel_counter.update({im_mode.getpixel((i, j)):1})\n",
    "# 查看图片中出现次数前10像素点值(注意这里是HSV颜色表示法)\n",
    "pixel_counter.most_common(10)"
   ]
  },
  {
   "cell_type": "markdown",
   "id": "7c3d0128",
   "metadata": {},
   "source": [
    "### 对图像数据进行处理分析"
   ]
  },
  {
   "cell_type": "code",
   "execution_count": 19,
   "id": "31057e58",
   "metadata": {},
   "outputs": [
    {
     "data": {
      "text/plain": [
       "<AxesSubplot:xlabel='hue', ylabel='wd'>"
      ]
     },
     "execution_count": 19,
     "metadata": {},
     "output_type": "execute_result"
    },
    {
     "data": {
      "image/png": "[encoded data removed]",
      "text/plain": [
       "<Figure size 432x288 with 1 Axes>"
      ]
     },
     "metadata": {
      "needs_background": "light"
     },
     "output_type": "display_data"
    }
   ],
   "source": [
    "# 将数据转换成DataFrame \n",
    "df = pd.DataFrame(pixel_counter.most_common(), columns=['color', 'wd']) \n",
    " \n",
    "# 提取颜色中的HSV值 \n",
    "df['hue'] = df.color.apply(lambda x: x[0]) \n",
    "df['saturation'] = df.color.apply(lambda x: x[1]) \n",
    "df['value'] = df.color.apply(lambda x: x[2])\n",
    "#由于convert之后，im_hsv依然是0-255范围，需要将其分别处理成hue(0~360), saturation(0~1), value(0~1)\n",
    "\n",
    "# 使用scikit-learn工具进行预处理 \n",
    "from sklearn.preprocessing import MinMaxScaler \n",
    "hue_scaler = MinMaxScaler((0,360)) \n",
    "scaler_01 = MinMaxScaler() \n",
    " \n",
    "df['hue'] = hue_scaler.fit_transform(df[['hue']]) \n",
    "df['saturation'] = scaler_01.fit_transform(df[['saturation']]) \n",
    "df['value'] = scaler_01.fit_transform(df[['value']]) \n",
    " \n",
    "# 小数点处理 \n",
    "df.hue = df.hue.round(0) \n",
    "df.saturation = df.saturation.round(2) \n",
    "df.value = df.value.round(2) \n",
    " \n",
    "df.head()\n",
    "#查看颜色、饱和度、明度的数据分布\n",
    "hue_df = pd.DataFrame(df.groupby('hue').wd.sum()) \n",
    "hue_df = hue_df.reset_index() \n",
    "sns.barplot(data=hue_df, x=\"hue\", y=\"wd\")"
   ]
  },
  {
   "cell_type": "code",
   "execution_count": 20,
   "id": "16576d7c",
   "metadata": {},
   "outputs": [
    {
     "data": {
      "text/plain": [
       "<AxesSubplot:xlabel='value', ylabel='wd'>"
      ]
     },
     "execution_count": 20,
     "metadata": {},
     "output_type": "execute_result"
    },
    {
     "data": {
      "image/png": "[encoded data removed]",
      "text/plain": [
       "<Figure size 432x288 with 1 Axes>"
      ]
     },
     "metadata": {
      "needs_background": "light"
     },
     "output_type": "display_data"
    }
   ],
   "source": [
    "value_df = pd.DataFrame(df.groupby('value').wd.sum()) \n",
    "value_df.reset_index(inplace=True) \n",
    "sns.barplot(data=value_df, x=\"value\", y=\"wd\")"
   ]
  },
  {
   "cell_type": "code",
   "execution_count": 21,
   "id": "c2dc2a1b",
   "metadata": {},
   "outputs": [
    {
     "data": {
      "text/plain": [
       "<AxesSubplot:xlabel='saturation', ylabel='wd'>"
      ]
     },
     "execution_count": 21,
     "metadata": {},
     "output_type": "execute_result"
    },
    {
     "data": {
      "image/png": "[encoded data removed]",
      "text/plain": [
       "<Figure size 432x288 with 1 Axes>"
      ]
     },
     "metadata": {
      "needs_background": "light"
     },
     "output_type": "display_data"
    }
   ],
   "source": [
    "satur_df = pd.DataFrame(df.groupby('saturation').wd.sum()) \n",
    "satur_df.reset_index(inplace=True) \n",
    "sns.barplot(data=satur_df, x=\"saturation\", y=\"wd\")"
   ]
  },
  {
   "cell_type": "code",
   "execution_count": null,
   "id": "efa90b4f",
   "metadata": {},
   "outputs": [],
   "source": []
  }
 ],
 "metadata": {
  "kernelspec": {
   "display_name": "Python 3 (ipykernel)",
   "language": "python",
   "name": "python3"
  },
  "language_info": {
   "codemirror_mode": {
    "name": "ipython",
    "version": 3
   },
   "file_extension": ".py",
   "mimetype": "text/x-python",
   "name": "python",
   "nbconvert_exporter": "python",
   "pygments_lexer": "ipython3",
   "version": "3.9.0"
  }
 },
 "nbformat": 4,
 "nbformat_minor": 5
}
