{
 "cells": [
  {
   "cell_type": "markdown",
   "id": "257d081f",
   "metadata": {},
   "source": [
    "## 1.实验准备"
   ]
  },
  {
   "cell_type": "code",
   "execution_count": 1,
   "id": "004daf8f",
   "metadata": {
    "scrolled": true
   },
   "outputs": [
    {
     "name": "stdout",
     "output_type": "stream",
     "text": [
      "Looking in indexes: https://mirrors.aliyun.com/pypi/simple/\n",
      "Requirement already satisfied: jieba in c:\\users\\king\\appdata\\local\\programs\\python\\python39\\lib\\site-packages (0.42.1)\n",
      "Note: you may need to restart the kernel to use updated packages.\n"
     ]
    }
   ],
   "source": [
    "pip install jieba"
   ]
  },
  {
   "cell_type": "code",
   "execution_count": 2,
   "id": "d745267a",
   "metadata": {},
   "outputs": [
    {
     "name": "stdout",
     "output_type": "stream",
     "text": [
      "Looking in indexes: https://mirrors.aliyun.com/pypi/simple/\n",
      "Requirement already satisfied: scikit-learn in c:\\users\\king\\appdata\\local\\programs\\python\\python39\\lib\\site-packages (1.0.1)\n",
      "Requirement already satisfied: numpy>=1.14.6 in c:\\users\\king\\appdata\\local\\programs\\python\\python39\\lib\\site-packages (from scikit-learn) (1.22.4)\n",
      "Requirement already satisfied: scipy>=1.1.0 in c:\\users\\king\\appdata\\local\\programs\\python\\python39\\lib\\site-packages (from scikit-learn) (1.7.1)\n",
      "Requirement already satisfied: joblib>=0.11 in c:\\users\\king\\appdata\\local\\programs\\python\\python39\\lib\\site-packages (from scikit-learn) (1.1.0)\n",
      "Requirement already satisfied: threadpoolctl>=2.0.0 in c:\\users\\king\\appdata\\local\\programs\\python\\python39\\lib\\site-packages (from scikit-learn) (3.0.0)\n",
      "Note: you may need to restart the kernel to use updated packages.\n"
     ]
    }
   ],
   "source": [
    "pip install scikit-learn"
   ]
  },
  {
   "cell_type": "markdown",
   "id": "75198a12",
   "metadata": {},
   "source": [
    "## 2.数据载入与预处理"
   ]
  },
  {
   "cell_type": "code",
   "execution_count": 4,
   "id": "fcc73a30",
   "metadata": {},
   "outputs": [
    {
     "data": {
      "text/html": [
       "<div>\n",
       "<style scoped>\n",
       "    .dataframe tbody tr th:only-of-type {\n",
       "        vertical-align: middle;\n",
       "    }\n",
       "\n",
       "    .dataframe tbody tr th {\n",
       "        vertical-align: top;\n",
       "    }\n",
       "\n",
       "    .dataframe thead th {\n",
       "        text-align: right;\n",
       "    }\n",
       "</style>\n",
       "<table border=\"1\" class=\"dataframe\">\n",
       "  <thead>\n",
       "    <tr style=\"text-align: right;\">\n",
       "      <th></th>\n",
       "      <th>text</th>\n",
       "      <th>label</th>\n",
       "    </tr>\n",
       "  </thead>\n",
       "  <tbody>\n",
       "    <tr>\n",
       "      <th>0</th>\n",
       "      <td>\\n　　汽车行业\\n　　越来越多的人成为“购车族”，汽车消费也在百姓消费额中所占比重越来越大...</td>\n",
       "      <td>Culture</td>\n",
       "    </tr>\n",
       "    <tr>\n",
       "      <th>1</th>\n",
       "      <td>“新异之见”和“常识之见”\\n　　记者：在给陈村的信中，你把张炜的《精神的背景》视为坏文章，...</td>\n",
       "      <td>Culture</td>\n",
       "    </tr>\n",
       "    <tr>\n",
       "      <th>2</th>\n",
       "      <td>\\n　　风暴是一波未平，一波又起。“胡风分子”的嫌疑刚刚排除，一项更大更严重的政治嫌疑又降临...</td>\n",
       "      <td>Culture</td>\n",
       "    </tr>\n",
       "    <tr>\n",
       "      <th>3</th>\n",
       "      <td>一个在中国学习和工作过、现驻印度德里的英国《经济学人》记者西蒙・朗(Simon　Long...</td>\n",
       "      <td>Culture</td>\n",
       "    </tr>\n",
       "    <tr>\n",
       "      <th>4</th>\n",
       "      <td>&amp;nbsp;　　俯视罗布沙漠中的小河墓地（３月１７日摄）。由新疆文物考古研究所所长伊弟利斯・...</td>\n",
       "      <td>Culture</td>\n",
       "    </tr>\n",
       "  </tbody>\n",
       "</table>\n",
       "</div>"
      ],
      "text/plain": [
       "                                                text    label\n",
       "0  \\n　　汽车行业\\n　　越来越多的人成为“购车族”，汽车消费也在百姓消费额中所占比重越来越大...  Culture\n",
       "1  “新异之见”和“常识之见”\\n　　记者：在给陈村的信中，你把张炜的《精神的背景》视为坏文章，...  Culture\n",
       "2  \\n　　风暴是一波未平，一波又起。“胡风分子”的嫌疑刚刚排除，一项更大更严重的政治嫌疑又降临...  Culture\n",
       "3  　　一个在中国学习和工作过、现驻印度德里的英国《经济学人》记者西蒙・朗(Simon　Long...  Culture\n",
       "4  &nbsp;　　俯视罗布沙漠中的小河墓地（３月１７日摄）。由新疆文物考古研究所所长伊弟利斯・...  Culture"
      ]
     },
     "execution_count": 4,
     "metadata": {},
     "output_type": "execute_result"
    }
   ],
   "source": [
    "import matplotlib.pyplot as plt\n",
    "import pandas as pd\n",
    "import jieba\n",
    "import re\n",
    "data = pd.read_csv(\"D:/jupyter file/date/news.csv\")\n",
    "data.head()"
   ]
  },
  {
   "cell_type": "markdown",
   "id": "eeae92ca",
   "metadata": {},
   "source": [
    "## 查看文本数据的过程中, 发现文本中存在很多问题。需要不断优化、修正文本处理函数。"
   ]
  },
  {
   "cell_type": "code",
   "execution_count": 7,
   "id": "0678c49c",
   "metadata": {},
   "outputs": [],
   "source": [
    "# 根据分词结果, 人为添加新的停用词。优化分词效果\n",
    "stopwords = [\" \", \"\\n\", \"\\t\"]\n",
    "with open(\"D:/jupyter file/date/ChineseStopwords.txt\", \"r\", encoding=\"utf-8\") as f:\n",
    "    for line in f:\n",
    "        stopwords.append(line.strip(\"\\n\"))"
   ]
  },
  {
   "cell_type": "markdown",
   "id": "f3f00ca9",
   "metadata": {},
   "source": [
    "## 以下为文本处理过程中发现的问题及对应预处理函数。"
   ]
  },
  {
   "cell_type": "code",
   "execution_count": 10,
   "id": "6adc5986",
   "metadata": {},
   "outputs": [],
   "source": [
    "# 经过数据查看发现, 很多文档的为全角字符，需要转换\n",
    "def Q2B(uchar):\n",
    "    \"\"\"单个字符 全角转半角\"\"\"\n",
    "    inside_code = ord(uchar)\n",
    "    if inside_code == 0x3000: # 除了空格其他的全角半角的公式为: 半角 = 全角 - 0xfee0\n",
    "        inside_code = 0x0020\n",
    "    else:\n",
    "        inside_code -= 0xfee0\n",
    "    if inside_code < 0x0020 or inside_code > 0x7e: #转完之后不是半角字符返回原来的字符\n",
    "        return uchar\n",
    "    return chr(inside_code)\n",
    "\n",
    "def stringQ2B(ustring):\n",
    "    \"\"\"把字符串全角转半角\"\"\"\n",
    "    return \"\".join([Q2B(uchar) for uchar in ustring])\n",
    "\n",
    "# 文本中发现很多日期\n",
    "# jieba分词无法识别日期，需要人为提取\n",
    "def extract_date(text):\n",
    "    ymd = re.compile(\"\\d{2,4}年1{0,1}\\d{1}月[123]{0,1}\\d{1}日{0,1}\")\n",
    "    ym = re.compile(\"\\d{2,4}年1{0,1}\\d{1}月\")\n",
    "    y = re.compile(\"\\d{2,4}年\")\n",
    "    m = re.compile(\"1{0,1}\\d{1}月\")\n",
    "    d = re.compile(\"[123]{0,1}\\d{1}日\")\n",
    "    md = re.compile(\"1{0,1}\\d{1}月[123]{0,1}\\d{1}日\")\n",
    "    date = []\n",
    "    for regx in [ymd, ym, y, md, m, d]:\n",
    "        date.extend(re.findall(regx, text))\n",
    "        text = re.sub(regx, \"\", text)\n",
    "        return text,date\n",
    "\n",
    "# 文本中包含很多HTML无意义字符，如&nbsp;\n",
    "# 将这些符号当成停用词去掉\n",
    "def extract_symbol(text):\n",
    "    syms = []\n",
    "    sym = re.compile(\"&\\w{1,6};\")\n",
    "    text = re.sub(sym, \"\", text)\n",
    "    return text\n"
   ]
  },
  {
   "cell_type": "markdown",
   "id": "1d6cb29b",
   "metadata": {},
   "source": [
    "## 定义preprocessing函数, 将预处理过程整合到一起"
   ]
  },
  {
   "cell_type": "code",
   "execution_count": 11,
   "id": "54133629",
   "metadata": {},
   "outputs": [],
   "source": [
    "# 数据预处理与分词\n",
    "def preprocessing(text):\n",
    "    text = stringQ2B(text)\n",
    "    text, date = extract_date(text)\n",
    "    text = extract_symbol(text)\n",
    "    words = jieba.cut(text)\n",
    " # 将提取到的日期添加到分词结果中\n",
    "    return [w for w in words if w not in stopwords] + date"
   ]
  },
  {
   "cell_type": "markdown",
   "id": "68c83daa",
   "metadata": {},
   "source": [
    "## 对data中的文本进行预处理, 分词结果赋予到data的words列。"
   ]
  },
  {
   "cell_type": "code",
   "execution_count": 12,
   "id": "1cb00638",
   "metadata": {
    "scrolled": true
   },
   "outputs": [
    {
     "name": "stderr",
     "output_type": "stream",
     "text": [
      "Building prefix dict from the default dictionary ...\n",
      "Loading model from cache C:\\Windows\\Temp\\jieba.cache\n",
      "Loading model cost 0.661 seconds.\n",
      "Prefix dict has been built successfully.\n"
     ]
    },
    {
     "data": {
      "text/html": [
       "<div>\n",
       "<style scoped>\n",
       "    .dataframe tbody tr th:only-of-type {\n",
       "        vertical-align: middle;\n",
       "    }\n",
       "\n",
       "    .dataframe tbody tr th {\n",
       "        vertical-align: top;\n",
       "    }\n",
       "\n",
       "    .dataframe thead th {\n",
       "        text-align: right;\n",
       "    }\n",
       "</style>\n",
       "<table border=\"1\" class=\"dataframe\">\n",
       "  <thead>\n",
       "    <tr style=\"text-align: right;\">\n",
       "      <th></th>\n",
       "      <th>text</th>\n",
       "      <th>label</th>\n",
       "      <th>words</th>\n",
       "    </tr>\n",
       "  </thead>\n",
       "  <tbody>\n",
       "    <tr>\n",
       "      <th>0</th>\n",
       "      <td>\\n　　汽车行业\\n　　越来越多的人成为“购车族”，汽车消费也在百姓消费额中所占比重越来越大...</td>\n",
       "      <td>Culture</td>\n",
       "      <td>[汽车行业, 越来越, 成为, 购车族, 汽车, 消费, 百姓, 消费额, 中所, 占, 比...</td>\n",
       "    </tr>\n",
       "    <tr>\n",
       "      <th>1</th>\n",
       "      <td>“新异之见”和“常识之见”\\n　　记者：在给陈村的信中，你把张炜的《精神的背景》视为坏文章，...</td>\n",
       "      <td>Culture</td>\n",
       "      <td>[新异, 之见, 常识, 之见, 记者, 陈村, 信中, 张炜, 精神, 背景, 视为, 坏...</td>\n",
       "    </tr>\n",
       "    <tr>\n",
       "      <th>2</th>\n",
       "      <td>\\n　　风暴是一波未平，一波又起。“胡风分子”的嫌疑刚刚排除，一项更大更严重的政治嫌疑又降临...</td>\n",
       "      <td>Culture</td>\n",
       "      <td>[风暴, 一波未平, 一波又起, 胡风, 分子, 嫌疑, 刚刚, 排除, 一项, 更大, 更...</td>\n",
       "    </tr>\n",
       "    <tr>\n",
       "      <th>3</th>\n",
       "      <td>一个在中国学习和工作过、现驻印度德里的英国《经济学人》记者西蒙・朗(Simon　Long...</td>\n",
       "      <td>Culture</td>\n",
       "      <td>[中国, 学习, 工作, 现驻, 印度, 德里, 英国, 经济学, 记者, 西蒙, ・, 朗...</td>\n",
       "    </tr>\n",
       "    <tr>\n",
       "      <th>4</th>\n",
       "      <td>&amp;nbsp;　　俯视罗布沙漠中的小河墓地（３月１７日摄）。由新疆文物考古研究所所长伊弟利斯・...</td>\n",
       "      <td>Culture</td>\n",
       "      <td>[俯视, 罗布, 沙漠, 中, 小河, 墓地, 月, 17, 日摄, 新疆文物考古研究所, ...</td>\n",
       "    </tr>\n",
       "  </tbody>\n",
       "</table>\n",
       "</div>"
      ],
      "text/plain": [
       "                                                text    label  \\\n",
       "0  \\n　　汽车行业\\n　　越来越多的人成为“购车族”，汽车消费也在百姓消费额中所占比重越来越大...  Culture   \n",
       "1  “新异之见”和“常识之见”\\n　　记者：在给陈村的信中，你把张炜的《精神的背景》视为坏文章，...  Culture   \n",
       "2  \\n　　风暴是一波未平，一波又起。“胡风分子”的嫌疑刚刚排除，一项更大更严重的政治嫌疑又降临...  Culture   \n",
       "3  　　一个在中国学习和工作过、现驻印度德里的英国《经济学人》记者西蒙・朗(Simon　Long...  Culture   \n",
       "4  &nbsp;　　俯视罗布沙漠中的小河墓地（３月１７日摄）。由新疆文物考古研究所所长伊弟利斯・...  Culture   \n",
       "\n",
       "                                               words  \n",
       "0  [汽车行业, 越来越, 成为, 购车族, 汽车, 消费, 百姓, 消费额, 中所, 占, 比...  \n",
       "1  [新异, 之见, 常识, 之见, 记者, 陈村, 信中, 张炜, 精神, 背景, 视为, 坏...  \n",
       "2  [风暴, 一波未平, 一波又起, 胡风, 分子, 嫌疑, 刚刚, 排除, 一项, 更大, 更...  \n",
       "3  [中国, 学习, 工作, 现驻, 印度, 德里, 英国, 经济学, 记者, 西蒙, ・, 朗...  \n",
       "4  [俯视, 罗布, 沙漠, 中, 小河, 墓地, 月, 17, 日摄, 新疆文物考古研究所, ...  "
      ]
     },
     "execution_count": 12,
     "metadata": {},
     "output_type": "execute_result"
    }
   ],
   "source": [
    "data['words'] = data.text.apply(preprocessing)\n",
    "data.head()"
   ]
  },
  {
   "cell_type": "markdown",
   "id": "22780d9d",
   "metadata": {},
   "source": [
    "## 我们使用sklearn的CountVectorizer()生成词向量。 CountVectorizer()使用空格对文本进行分词统计, 因此需要生成空格分割的文本corpus列"
   ]
  },
  {
   "cell_type": "code",
   "execution_count": 15,
   "id": "5a08cfc4",
   "metadata": {},
   "outputs": [],
   "source": [
    "data[\"corpus\"] = data.words.apply(lambda x: \" \".join(x))\n",
    "from sklearn.feature_extraction.text import CountVectorizer, TfidfVectorizer\n",
    "vec = CountVectorizer()\n",
    "bow = vec.fit_transform(data[\"corpus\"])"
   ]
  },
  {
   "cell_type": "markdown",
   "id": "50e4173b",
   "metadata": {},
   "source": [
    "## 使用dataframe简单了解创建的文本特征"
   ]
  },
  {
   "cell_type": "code",
   "execution_count": 16,
   "id": "00beb160",
   "metadata": {},
   "outputs": [
    {
     "name": "stderr",
     "output_type": "stream",
     "text": [
      "c:\\users\\king\\appdata\\local\\programs\\python\\python39\\lib\\site-packages\\sklearn\\utils\\deprecation.py:87: FutureWarning: Function get_feature_names is deprecated; get_feature_names is deprecated in 1.0 and will be removed in 1.2. Please use get_feature_names_out instead.\n",
      "  warnings.warn(msg, category=FutureWarning)\n"
     ]
    },
    {
     "data": {
      "text/html": [
       "<div>\n",
       "<style scoped>\n",
       "    .dataframe tbody tr th:only-of-type {\n",
       "        vertical-align: middle;\n",
       "    }\n",
       "\n",
       "    .dataframe tbody tr th {\n",
       "        vertical-align: top;\n",
       "    }\n",
       "\n",
       "    .dataframe thead th {\n",
       "        text-align: right;\n",
       "    }\n",
       "</style>\n",
       "<table border=\"1\" class=\"dataframe\">\n",
       "  <thead>\n",
       "    <tr style=\"text-align: right;\">\n",
       "      <th></th>\n",
       "      <th>00</th>\n",
       "      <th>000</th>\n",
       "      <th>000000</th>\n",
       "      <th>000002</th>\n",
       "      <th>000004</th>\n",
       "      <th>000005</th>\n",
       "      <th>000007</th>\n",
       "      <th>000009</th>\n",
       "      <th>000022</th>\n",
       "      <th>000025</th>\n",
       "      <th>...</th>\n",
       "      <th>龙脊</th>\n",
       "      <th>龙舌兰</th>\n",
       "      <th>龙船</th>\n",
       "      <th>龙门</th>\n",
       "      <th>龙骨</th>\n",
       "      <th>龚伟</th>\n",
       "      <th>龚在</th>\n",
       "      <th>龚建仁</th>\n",
       "      <th>龚建国</th>\n",
       "      <th>龚晓犁</th>\n",
       "    </tr>\n",
       "  </thead>\n",
       "  <tbody>\n",
       "    <tr>\n",
       "      <th>0</th>\n",
       "      <td>0</td>\n",
       "      <td>0</td>\n",
       "      <td>0</td>\n",
       "      <td>0</td>\n",
       "      <td>0</td>\n",
       "      <td>0</td>\n",
       "      <td>0</td>\n",
       "      <td>0</td>\n",
       "      <td>0</td>\n",
       "      <td>0</td>\n",
       "      <td>...</td>\n",
       "      <td>0</td>\n",
       "      <td>0</td>\n",
       "      <td>0</td>\n",
       "      <td>0</td>\n",
       "      <td>0</td>\n",
       "      <td>0</td>\n",
       "      <td>0</td>\n",
       "      <td>0</td>\n",
       "      <td>0</td>\n",
       "      <td>0</td>\n",
       "    </tr>\n",
       "    <tr>\n",
       "      <th>1</th>\n",
       "      <td>0</td>\n",
       "      <td>0</td>\n",
       "      <td>0</td>\n",
       "      <td>0</td>\n",
       "      <td>0</td>\n",
       "      <td>0</td>\n",
       "      <td>0</td>\n",
       "      <td>0</td>\n",
       "      <td>0</td>\n",
       "      <td>0</td>\n",
       "      <td>...</td>\n",
       "      <td>0</td>\n",
       "      <td>0</td>\n",
       "      <td>0</td>\n",
       "      <td>0</td>\n",
       "      <td>0</td>\n",
       "      <td>0</td>\n",
       "      <td>0</td>\n",
       "      <td>0</td>\n",
       "      <td>0</td>\n",
       "      <td>0</td>\n",
       "    </tr>\n",
       "    <tr>\n",
       "      <th>2</th>\n",
       "      <td>0</td>\n",
       "      <td>0</td>\n",
       "      <td>0</td>\n",
       "      <td>0</td>\n",
       "      <td>0</td>\n",
       "      <td>0</td>\n",
       "      <td>0</td>\n",
       "      <td>0</td>\n",
       "      <td>0</td>\n",
       "      <td>0</td>\n",
       "      <td>...</td>\n",
       "      <td>0</td>\n",
       "      <td>0</td>\n",
       "      <td>0</td>\n",
       "      <td>0</td>\n",
       "      <td>0</td>\n",
       "      <td>0</td>\n",
       "      <td>0</td>\n",
       "      <td>0</td>\n",
       "      <td>0</td>\n",
       "      <td>0</td>\n",
       "    </tr>\n",
       "    <tr>\n",
       "      <th>3</th>\n",
       "      <td>0</td>\n",
       "      <td>0</td>\n",
       "      <td>0</td>\n",
       "      <td>0</td>\n",
       "      <td>0</td>\n",
       "      <td>0</td>\n",
       "      <td>0</td>\n",
       "      <td>0</td>\n",
       "      <td>0</td>\n",
       "      <td>0</td>\n",
       "      <td>...</td>\n",
       "      <td>0</td>\n",
       "      <td>0</td>\n",
       "      <td>0</td>\n",
       "      <td>0</td>\n",
       "      <td>0</td>\n",
       "      <td>0</td>\n",
       "      <td>0</td>\n",
       "      <td>0</td>\n",
       "      <td>0</td>\n",
       "      <td>0</td>\n",
       "    </tr>\n",
       "    <tr>\n",
       "      <th>4</th>\n",
       "      <td>0</td>\n",
       "      <td>0</td>\n",
       "      <td>0</td>\n",
       "      <td>0</td>\n",
       "      <td>0</td>\n",
       "      <td>0</td>\n",
       "      <td>0</td>\n",
       "      <td>0</td>\n",
       "      <td>0</td>\n",
       "      <td>0</td>\n",
       "      <td>...</td>\n",
       "      <td>0</td>\n",
       "      <td>0</td>\n",
       "      <td>0</td>\n",
       "      <td>0</td>\n",
       "      <td>0</td>\n",
       "      <td>0</td>\n",
       "      <td>0</td>\n",
       "      <td>0</td>\n",
       "      <td>0</td>\n",
       "      <td>0</td>\n",
       "    </tr>\n",
       "  </tbody>\n",
       "</table>\n",
       "<p>5 rows × 53727 columns</p>\n",
       "</div>"
      ],
      "text/plain": [
       "   00  000  000000  000002  000004  000005  000007  000009  000022  000025  \\\n",
       "0   0    0       0       0       0       0       0       0       0       0   \n",
       "1   0    0       0       0       0       0       0       0       0       0   \n",
       "2   0    0       0       0       0       0       0       0       0       0   \n",
       "3   0    0       0       0       0       0       0       0       0       0   \n",
       "4   0    0       0       0       0       0       0       0       0       0   \n",
       "\n",
       "   ...  龙脊  龙舌兰  龙船  龙门  龙骨  龚伟  龚在  龚建仁  龚建国  龚晓犁  \n",
       "0  ...   0    0   0   0   0   0   0    0    0    0  \n",
       "1  ...   0    0   0   0   0   0   0    0    0    0  \n",
       "2  ...   0    0   0   0   0   0   0    0    0    0  \n",
       "3  ...   0    0   0   0   0   0   0    0    0    0  \n",
       "4  ...   0    0   0   0   0   0   0    0    0    0  \n",
       "\n",
       "[5 rows x 53727 columns]"
      ]
     },
     "execution_count": 16,
     "metadata": {},
     "output_type": "execute_result"
    }
   ],
   "source": [
    "bow_df = pd.DataFrame(bow.toarray(),\n",
    "                 columns=vec.get_feature_names())\n",
    "bow_df.head()"
   ]
  },
  {
   "cell_type": "markdown",
   "id": "0c2f637f",
   "metadata": {},
   "source": [
    "## 使用KMeans算法对文本进行聚类。 使用silhouette_score评估不同K值的聚类效果。\n",
    "silhouette_score为聚类算法中，评估聚类凝聚程度的轮廓系数,取值范围[-1, 1], 系数越大，聚类效果越好。\n"
   ]
  },
  {
   "cell_type": "code",
   "execution_count": 17,
   "id": "d2986266",
   "metadata": {},
   "outputs": [
    {
     "name": "stdout",
     "output_type": "stream",
     "text": [
      "K = 3: 0.710\n",
      "K = 4: -0.059\n",
      "K = 5: 0.170\n",
      "K = 6: 0.475\n",
      "K = 7: 0.677\n",
      "K = 8: 0.568\n",
      "K = 9: 0.686\n"
     ]
    }
   ],
   "source": [
    "from sklearn.cluster import KMeans\n",
    "from sklearn.metrics import silhouette_score\n",
    " \n",
    "for i in range(3, 10):\n",
    "    km = KMeans(n_clusters=i,\n",
    "             init=\"k-means++\",\n",
    "             max_iter=100,\n",
    "             n_init=1)\n",
    "    km.fit(bow.toarray())\n",
    "    score = silhouette_score(bow.toarray(),\n",
    "                              km.labels_,\n",
    "                              metric=\"euclidean\",\n",
    "                              sample_size=len(data)//2)\n",
    "    print(f\"K = {i}: {score:.3f}\")"
   ]
  },
  {
   "cell_type": "markdown",
   "id": "a067d02b",
   "metadata": {},
   "source": [
    "## 查看分为9个类别时的聚类效果"
   ]
  },
  {
   "cell_type": "code",
   "execution_count": 18,
   "id": "4ec7dfde",
   "metadata": {},
   "outputs": [
    {
     "name": "stdout",
     "output_type": "stream",
     "text": [
      "['Culture' 'Education' 'Finance' 'Health' 'IT' 'Military' 'Recruit'\n",
      " 'Sports' 'Travel']\n",
      "Cluster 0: nbsp 公司 奥美定 2005 富华 上市 产品 中国 审议 上市公司\n",
      "Cluster 1: nbsp 公司 审议 行情 论坛 2005 股东 年度 议案 股份\n",
      "Cluster 2: 医院 记者 患者 透析 病人 陕西省 核工业 二一五 姬海涛 信息\n",
      "Cluster 3: 中国 公司 工作 问题 已经 进行 发展 市场 美国 学生\n",
      "Cluster 4: 轻骑兵 突厥 具装 骑兵 军队 发展 机动性 甲骑 主要 装备\n",
      "Cluster 5: nbsp 投票 股东 会议 公司 网络 董事会 相关 流通股 委托\n",
      "Cluster 6: 招生 专业 录取 考生 考试 要求 艺术类 体育 计划 院校\n",
      "Cluster 7: nbsp 公司 股东 股权 股份 应为 情况 流通股 调整 改革方案\n",
      "Cluster 8: 司马 羊献容 贾南风 皇后 皇帝 刘曜 匈奴 司马炎 已经 司马伦\n"
     ]
    },
    {
     "name": "stderr",
     "output_type": "stream",
     "text": [
      "c:\\users\\king\\appdata\\local\\programs\\python\\python39\\lib\\site-packages\\sklearn\\utils\\deprecation.py:87: FutureWarning: Function get_feature_names is deprecated; get_feature_names is deprecated in 1.0 and will be removed in 1.2. Please use get_feature_names_out instead.\n",
      "  warnings.warn(msg, category=FutureWarning)\n"
     ]
    }
   ],
   "source": [
    "print(data.label.unique())\n",
    "km = KMeans(n_clusters=9,\n",
    "         init=\"k-means++\",\n",
    "         max_iter=100,\n",
    "         n_init=1)\n",
    "km.fit(bow.toarray())\n",
    " \n",
    " # 对质心点的特征排序\n",
    "order_centroids = km.cluster_centers_.argsort()[:, ::-1]\n",
    " \n",
    " # 查看不同聚类的质心特征构成\n",
    "terms = vec.get_feature_names()\n",
    "for i in range(9):\n",
    "    print(\"Cluster %d:\" % i, end='')\n",
    "    for ind in order_centroids[i, :10]:\n",
    "        print(' %s' % terms[ind], end='')\n",
    "    print()"
   ]
  },
  {
   "cell_type": "markdown",
   "id": "5f50779d",
   "metadata": {},
   "source": [
    "## 查看聚类效果\n"
   ]
  },
  {
   "cell_type": "code",
   "execution_count": 19,
   "id": "d61982b6",
   "metadata": {},
   "outputs": [
    {
     "data": {
      "text/plain": [
       "label1\n",
       "0     24\n",
       "1      1\n",
       "2      1\n",
       "3    864\n",
       "4      1\n",
       "5      1\n",
       "6      2\n",
       "7      5\n",
       "8      1\n",
       "Name: label, dtype: int64"
      ]
     },
     "execution_count": 19,
     "metadata": {},
     "output_type": "execute_result"
    }
   ],
   "source": [
    "data[\"label1\"] = km.labels_\n",
    "data.groupby('label1').label.count()"
   ]
  },
  {
   "cell_type": "markdown",
   "id": "f0ec6f5a",
   "metadata": {},
   "source": [
    "## 从结果可以看到，绝大多数新闻都被聚类归类到某一类别, 聚类效果并不理想"
   ]
  },
  {
   "cell_type": "code",
   "execution_count": 20,
   "id": "8c8ed2ae",
   "metadata": {},
   "outputs": [
    {
     "data": {
      "text/plain": [
       "label      label1\n",
       "Culture    3          99\n",
       "           8           1\n",
       "Education  3          98\n",
       "           6           2\n",
       "Finance    0          23\n",
       "           1           1\n",
       "           3          70\n",
       "           5           1\n",
       "           7           5\n",
       "Health     0           1\n",
       "           2           1\n",
       "           3          98\n",
       "IT         3         100\n",
       "Military   3          99\n",
       "           4           1\n",
       "Recruit    3         100\n",
       "Sports     3         100\n",
       "Travel     3         100\n",
       "Name: label, dtype: int64"
      ]
     },
     "execution_count": 20,
     "metadata": {},
     "output_type": "execute_result"
    }
   ],
   "source": [
    "data.groupby(['label', 'label1']).label.count()"
   ]
  },
  {
   "cell_type": "markdown",
   "id": "b4b85e7f",
   "metadata": {},
   "source": [
    "## 3.基于tfidf向量聚类(Pipeline)"
   ]
  },
  {
   "cell_type": "code",
   "execution_count": 21,
   "id": "8879a569",
   "metadata": {},
   "outputs": [],
   "source": [
    "# 将查看效果的代码定义成函数，方便后续使用\n",
    "def describe_cluster(order_center, feature_names):\n",
    "    for i in range(9):\n",
    "        print(\"Cluster %d:\" % i, end='')\n",
    "        for ind in order_centroids[i, :10]:\n",
    "            print(' %s' % terms[ind], end='')\n",
    "        print()\n",
    " \n",
    "def describe_label(data, label):\n",
    "    print(data.groupby(label).label.count())\n",
    "    print()\n",
    "    print(data.groupby([label, 'label']).label.count())\n",
    "    print()"
   ]
  },
  {
   "cell_type": "markdown",
   "id": "2da3c8ce",
   "metadata": {},
   "source": [
    "## 使用Pipeline生成数据处理\n"
   ]
  },
  {
   "cell_type": "code",
   "execution_count": 22,
   "id": "f393b46c",
   "metadata": {},
   "outputs": [
    {
     "name": "stdout",
     "output_type": "stream",
     "text": [
      "Cluster 0: 食物 患者 物质 引起 摄入 过敏 疾病 维生素 食品 皮肤\n",
      "Cluster 1: nbsp 公司 股份 股东 审议 股权 有限公司 议案 董事会 上市公司\n",
      "Cluster 2: 旅游 文化 旅行社 游客 中国 乡村 活动 黄金周 五一 博物馆\n",
      "Cluster 3: 比赛 队员 新华社 球队 冠军 联赛 主场 申花 球员 决赛\n",
      "Cluster 4: 考生 招生 考试 专业 录取 志愿 高校 报名 学校 计划\n",
      "Cluster 5: 中国 美国 训练 导弹 印度 系统 飞机 俄罗斯 公司 索尼\n",
      "Cluster 6: 工作 孩子 公司 学生 企业 中国 问题 生活 现在 就业\n",
      "Cluster 7: 手机 移动 资费 北京 to 套餐 石家庄 millicom 用户 the\n",
      "Cluster 8: 市场 公司 证券 机构 行情 产品 医院 增长 药物 目前\n"
     ]
    },
    {
     "name": "stderr",
     "output_type": "stream",
     "text": [
      "c:\\users\\king\\appdata\\local\\programs\\python\\python39\\lib\\site-packages\\sklearn\\utils\\deprecation.py:87: FutureWarning: Function get_feature_names is deprecated; get_feature_names is deprecated in 1.0 and will be removed in 1.2. Please use get_feature_names_out instead.\n",
      "  warnings.warn(msg, category=FutureWarning)\n"
     ]
    }
   ],
   "source": [
    "from sklearn.pipeline import Pipeline\n",
    "pipe1 = Pipeline([('tfidf', TfidfVectorizer()),\n",
    "                  ('kmeans', KMeans(n_clusters=9,\n",
    "                                 init=\"k-means++\",\n",
    "                                 max_iter=100,\n",
    "                                 n_init=1)),\n",
    "                  ])\n",
    "pipe1.fit(data['corpus'])\n",
    "order_centroids = pipe1[1].cluster_centers_.argsort()[:, ::-1]\n",
    "feature_names = pipe1[0].get_feature_names()\n",
    "describe_cluster(order_centroids, feature_names)"
   ]
  },
  {
   "cell_type": "code",
   "execution_count": 23,
   "id": "cc1aafc6",
   "metadata": {},
   "outputs": [
    {
     "name": "stdout",
     "output_type": "stream",
     "text": [
      "label2\n",
      "0     34\n",
      "1     39\n",
      "2     81\n",
      "3     86\n",
      "4     32\n",
      "5    129\n",
      "6    324\n",
      "7     44\n",
      "8    131\n",
      "Name: label, dtype: int64\n",
      "\n",
      "label2  label    \n",
      "0       Culture       1\n",
      "        Education     2\n",
      "        Health       21\n",
      "        IT            3\n",
      "        Military      3\n",
      "        Recruit       2\n",
      "        Travel        2\n",
      "1       Finance      39\n",
      "2       Culture       8\n",
      "        Education     3\n",
      "        Finance       1\n",
      "        Health        1\n",
      "        IT            2\n",
      "        Military      1\n",
      "        Sports        1\n",
      "        Travel       64\n",
      "3       IT            1\n",
      "        Sports       85\n",
      "4       Education    32\n",
      "5       Culture      11\n",
      "        Education     3\n",
      "        Finance       2\n",
      "        Health        2\n",
      "        IT           27\n",
      "        Military     74\n",
      "        Recruit       5\n",
      "        Travel        5\n",
      "6       Culture      71\n",
      "        Education    57\n",
      "        Finance       8\n",
      "        Health       39\n",
      "        IT           20\n",
      "        Military     15\n",
      "        Recruit      92\n",
      "        Sports        6\n",
      "        Travel       16\n",
      "7       Culture       3\n",
      "        Education     3\n",
      "        Finance       1\n",
      "        IT           23\n",
      "        Military      4\n",
      "        Recruit       1\n",
      "        Sports        2\n",
      "        Travel        7\n",
      "8       Culture       6\n",
      "        Finance      49\n",
      "        Health       37\n",
      "        IT           24\n",
      "        Military      3\n",
      "        Sports        6\n",
      "        Travel        6\n",
      "Name: label, dtype: int64\n",
      "\n"
     ]
    }
   ],
   "source": [
    "data['label2'] = pipe1.predict(data['corpus'])\n",
    "describe_label(data, \"label2\")"
   ]
  },
  {
   "cell_type": "markdown",
   "id": "7288e2eb",
   "metadata": {},
   "source": [
    "## 4.TFIDF+层次聚类"
   ]
  },
  {
   "cell_type": "code",
   "execution_count": 24,
   "id": "8ce8078e",
   "metadata": {},
   "outputs": [
    {
     "name": "stderr",
     "output_type": "stream",
     "text": [
      "c:\\users\\king\\appdata\\local\\programs\\python\\python39\\lib\\site-packages\\sklearn\\utils\\validation.py:585: FutureWarning: np.matrix usage is deprecated in 1.0 and will raise a TypeError in 1.2. Please convert to a numpy array with np.asarray. For more information see: https://numpy.org/doc/stable/reference/generated/numpy.matrix.html\n",
      "  warnings.warn(\n"
     ]
    },
    {
     "name": "stdout",
     "output_type": "stream",
     "text": [
      "label4\n",
      "0    107\n",
      "1     95\n",
      "2    504\n",
      "3     36\n",
      "4     81\n",
      "5     10\n",
      "6     15\n",
      "7     36\n",
      "8     16\n",
      "Name: label, dtype: int64\n",
      "\n",
      "label4  label    \n",
      "0       Culture       2\n",
      "        Education    52\n",
      "        Finance       1\n",
      "        Health        6\n",
      "        IT            4\n",
      "        Recruit      40\n",
      "        Sports        1\n",
      "        Travel        1\n",
      "1       Culture      19\n",
      "        Education     1\n",
      "        Military     69\n",
      "        Travel        6\n",
      "2       Culture      79\n",
      "        Education    25\n",
      "        Finance      28\n",
      "        Health       91\n",
      "        IT           93\n",
      "        Military     29\n",
      "        Recruit      57\n",
      "        Sports       10\n",
      "        Travel       92\n",
      "3       Finance      35\n",
      "        IT            1\n",
      "4       Education     1\n",
      "        IT            2\n",
      "        Military      1\n",
      "        Recruit       2\n",
      "        Sports       74\n",
      "        Travel        1\n",
      "5       Education     6\n",
      "        Health        3\n",
      "        Recruit       1\n",
      "6       Education    15\n",
      "7       Finance      36\n",
      "8       Military      1\n",
      "        Sports       15\n",
      "Name: label, dtype: int64\n",
      "\n"
     ]
    }
   ],
   "source": [
    "from sklearn.cluster import AgglomerativeClustering \n",
    "from sklearn.base import TransformerMixin\n",
    " \n",
    "# 自定义转换器。\n",
    "# fit函数不做任何动作，transform函数将矩阵转换成密集矩阵\n",
    "class DenseTransformer(TransformerMixin):\n",
    "    def fit(self, X, y=None, **fit_params):\n",
    "        return self\n",
    "    def transform(self, X, y=None, **fit_params):\n",
    "        return X.todense()\n",
    " \n",
    "pipe3 = Pipeline([('tfidf', TfidfVectorizer()),\n",
    "                  ('todense', DenseTransformer()),\n",
    "                  ('all_cluster', AgglomerativeClustering(n_clusters=9,\n",
    "                                 linkage='ward',\n",
    "                                 compute_distances=True,\n",
    "                                 connectivity=None)),\n",
    "                  ])\n",
    "label = pipe3.fit_predict(data['corpus'])\n",
    "data['label4'] = label\n",
    "describe_label(data, 'label4')"
   ]
  },
  {
   "cell_type": "markdown",
   "id": "f76db4f2",
   "metadata": {},
   "source": [
    "## tfidf的层次聚类效果并不理想。 不过层次聚类方便可视化理解聚类效果，我们可以画出层次图，查看聚类构成。"
   ]
  },
  {
   "cell_type": "code",
   "execution_count": 25,
   "id": "8140652e",
   "metadata": {},
   "outputs": [
    {
     "data": {
      "image/png": "[encoded data removed]",
      "text/plain": [
       "<Figure size 432x288 with 1 Axes>"
      ]
     },
     "metadata": {
      "needs_background": "light"
     },
     "output_type": "display_data"
    }
   ],
   "source": [
    "from scipy.cluster.hierarchy import dendrogram\n",
    "import numpy as np\n",
    "def plot_dendrogram(model, **kwargs):\n",
    "    counts = np.zeros(model.children_.shape[0])\n",
    "    n_samples = len(model.labels_)\n",
    " \n",
    "    for i, merge in enumerate(model.children_):\n",
    "        current_count = 0\n",
    "        for child_idx in merge:\n",
    "            if child_idx < n_samples:\n",
    "                current_count += 1\n",
    "            else:\n",
    "                current_count += counts[child_idx - n_samples]\n",
    "        counts[i] = current_count\n",
    " \n",
    "    linkage_matrix = np.column_stack([model.children_, model.distances_, counts]).astype(float)\n",
    "    dendrogram(linkage_matrix, **kwargs)\n",
    "plot_dendrogram(pipe3[-1], truncate_mode='level', p=4) # p值决定了层次的高度"
   ]
  },
  {
   "cell_type": "code",
   "execution_count": null,
   "id": "a6866b19",
   "metadata": {},
   "outputs": [],
   "source": []
  }
 ],
 "metadata": {
  "kernelspec": {
   "display_name": "Python 3 (ipykernel)",
   "language": "python",
   "name": "python3"
  },
  "language_info": {
   "codemirror_mode": {
    "name": "ipython",
    "version": 3
   },
   "file_extension": ".py",
   "mimetype": "text/x-python",
   "name": "python",
   "nbconvert_exporter": "python",
   "pygments_lexer": "ipython3",
   "version": "3.9.0"
  }
 },
 "nbformat": 4,
 "nbformat_minor": 5
}
