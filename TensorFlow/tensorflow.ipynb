{
 "cells": [
  {
   "cell_type": "code",
   "execution_count": 38,
   "id": "701b1e84",
   "metadata": {},
   "outputs": [
    {
     "name": "stdout",
     "output_type": "stream",
     "text": [
      "Epoch 1/10\n",
      "4/4 [==============================] - 0s 32ms/step - loss: 1.5971 - accuracy: 0.5333 - val_loss: 7.3812 - val_accuracy: 0.0000e+00\n",
      "Epoch 2/10\n",
      "4/4 [==============================] - 0s 6ms/step - loss: 1.5584 - accuracy: 0.6250 - val_loss: 7.2440 - val_accuracy: 0.0000e+00\n",
      "Epoch 3/10\n",
      "4/4 [==============================] - 0s 6ms/step - loss: 1.5222 - accuracy: 0.6917 - val_loss: 7.1060 - val_accuracy: 0.0000e+00\n",
      "Epoch 4/10\n",
      "4/4 [==============================] - 0s 6ms/step - loss: 1.4864 - accuracy: 0.7583 - val_loss: 6.9701 - val_accuracy: 0.0000e+00\n",
      "Epoch 5/10\n",
      "4/4 [==============================] - 0s 6ms/step - loss: 1.4531 - accuracy: 0.8083 - val_loss: 6.8352 - val_accuracy: 0.0000e+00\n",
      "Epoch 6/10\n",
      "4/4 [==============================] - 0s 6ms/step - loss: 1.4227 - accuracy: 0.8167 - val_loss: 6.7005 - val_accuracy: 0.0000e+00\n",
      "Epoch 7/10\n",
      "4/4 [==============================] - 0s 6ms/step - loss: 1.3897 - accuracy: 0.8250 - val_loss: 6.5711 - val_accuracy: 0.0000e+00\n",
      "Epoch 8/10\n",
      "4/4 [==============================] - 0s 6ms/step - loss: 1.3587 - accuracy: 0.8250 - val_loss: 6.4450 - val_accuracy: 0.0000e+00\n",
      "Epoch 9/10\n",
      "4/4 [==============================] - 0s 7ms/step - loss: 1.3346 - accuracy: 0.8333 - val_loss: 6.3146 - val_accuracy: 0.0000e+00\n",
      "Epoch 10/10\n",
      "4/4 [==============================] - 0s 6ms/step - loss: 1.3062 - accuracy: 0.8333 - val_loss: 6.1876 - val_accuracy: 0.0000e+00\n"
     ]
    }
   ],
   "source": [
    "import tensorflow as tf\n",
    "from sklearn import datasets\n",
    "from tensorboardX import SummaryWriter\n",
    "\n",
    "# 加载鸢尾花数据集\n",
    "iris = datasets.load_iris()\n",
    "X = iris[\"data\"]\n",
    "Y = iris[\"target\"]\n",
    "\n",
    "# 定义模型输入和输出\n",
    "inputs = tf.keras.Input(shape=(4,))\n",
    "outputs = tf.keras.layers.Dense(3, activation='softmax')(inputs)\n",
    "model = tf.keras.Model(inputs=inputs, outputs=outputs)\n",
    "\n",
    "# 编译模型，指定损失函数和优化器\n",
    "model.compile(optimizer='adam', loss='sparse_categorical_crossentropy', metrics=['accuracy'])\n",
    "\n",
    "# 创建SummaryWriter实例，指定日志文件存储的目录\n",
    "writer = SummaryWriter('/path/to/logs')\n",
    "\n",
    "# 训练模型\n",
    "history = model.fit(X, Y, epochs=10, validation_split=0.2)\n",
    "\n",
    "# 将训练和验证损失以及精度写入日志文件\n",
    "for epoch in range(10):\n",
    "    train_loss, train_acc = history.history['loss'][epoch], history.history['accuracy'][epoch]\n",
    "    val_loss, val_acc = history.history['val_loss'][epoch], history.history['val_accuracy'][epoch]\n",
    "    writer.add_scalar('train_loss', train_loss, epoch)\n",
    "    writer.add_scalar('train_acc', train_acc, epoch)\n",
    "    writer.add_scalar('val_loss', val_loss, epoch)\n",
    "    writer.add_scalar\n"
   ]
  },
  {
   "cell_type": "code",
   "execution_count": null,
   "id": "fb2db4a6",
   "metadata": {},
   "outputs": [],
   "source": []
  }
 ],
 "metadata": {
  "kernelspec": {
   "display_name": "Python 3 (ipykernel)",
   "language": "python",
   "name": "python3"
  },
  "language_info": {
   "codemirror_mode": {
    "name": "ipython",
    "version": 3
   },
   "file_extension": ".py",
   "mimetype": "text/x-python",
   "name": "python",
   "nbconvert_exporter": "python",
   "pygments_lexer": "ipython3",
   "version": "3.9.0"
  }
 },
 "nbformat": 4,
 "nbformat_minor": 5
}
