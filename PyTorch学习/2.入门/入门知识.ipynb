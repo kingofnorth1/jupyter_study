{
 "cells": [
  {
   "cell_type": "markdown",
   "id": "a789ed47",
   "metadata": {},
   "source": [
    "# 深度学习基本原理\n",
    "- 深度学习的概念源于人工神经网络的研究，是机器学习研究的一个新的领域，目的是建立、模拟人脑进行分析学习的神经网络，它模仿人脑的机制来解释数据，例如图像、声音和文本。\n",
    "- 作为一种机器学习方法，深度学习能让我们用给定的输入值训练AI模型预测输出值。\n",
    "- 这是在 http://playground.tensorflow.org/ 尝试构建的多层神经网络实现分类，如下图所示。\n",
    "<img src=\"https://cdn.nlark.com/yuque/0/2021/png/1508544/1613795086316-e117772f-3482-4b25-8bc6-f73d37fa8027.png\"/>"
   ]
  },
  {
   "cell_type": "markdown",
   "id": "e9853137",
   "metadata": {},
   "source": [
    "# 分类、回归基本原理\n",
    "- 最常见的监督式学习任务包括回归任务（<font color='orange'>预测值</font>）和分类任务（<font color='blue'>预测类</font>）。  \n",
    "- 在现实生活中，连续值预测问题是非常常见的，比如股价的走势预测、天气预报中温度和湿度等的预测、年龄的预测、交通流量的预测等。对于预测值是连续的实数范围，或者属于某一段连续的实数区间，我们把这种问题称为回归（Regression）问题。特别地，如果使用线性模型去逼近真实模型，那么我们把这一类方法叫做线性回归，线性回归是回归问题中的一种具体的实现。\n",
    "- 除了连续值预测问题以外，还有离散值预测问题。比如说硬币正反面的预测，它的预测值y只可能有正面或反面两种可能；再比如说给定一张图片，这张图片中物体的类别也只可能是像猫、狗、天空之类的离散类别值。对于这一类问题，我们把它称为分类（Classification）问题。\n",
    "<img src=\"img/A_Neural_Network_Playground.png\"/>\n",
    "\n",
    "【机器之心】[区分识别机器学习中的分类与回归](https://www.jiqizhixin.com/articles/2017-12-15-2)"
   ]
  },
  {
   "cell_type": "markdown",
   "id": "3d64d570",
   "metadata": {},
   "source": [
    "## 图片\n",
    "<!-- ![zhihu of tiandi](http://jupyter.org/assets/main-logo.svg) -->\n",
    "![Image of Yaktocat](https://octodex.github.com/images/yaktocat.png)\n",
    "<!-- <img src=\"img/A_Neural_Network_Playground.png\"/> -->\n",
    "![Image_ofZh1Hu](https://ss3.bdstatic.com/yrwDcj7w0QhBkMak8IuT_XF5ehU5bvGh7c50/logopic/346805af9a4035ae57e2907f5f8acf12_fullsize.jpg)"
   ]
  },
  {
   "cell_type": "code",
   "execution_count": null,
   "id": "5f3257d9",
   "metadata": {},
   "outputs": [],
   "source": []
  }
 ],
 "metadata": {
  "kernelspec": {
   "display_name": "Python 3 (ipykernel)",
   "language": "python",
   "name": "python3"
  },
  "language_info": {
   "codemirror_mode": {
    "name": "ipython",
    "version": 3
   },
   "file_extension": ".py",
   "mimetype": "text/x-python",
   "name": "python",
   "nbconvert_exporter": "python",
   "pygments_lexer": "ipython3",
   "version": "3.9.0"
  },
  "tianchi_metadata": {
   "competitions": [],
   "datasets": [],
   "description": "",
   "notebookId": "162004",
   "source": "dsw"
  }
 },
 "nbformat": 4,
 "nbformat_minor": 5
}
