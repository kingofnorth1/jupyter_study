{
 "cells": [
  {
   "cell_type": "markdown",
   "metadata": {},
   "source": [
    "- GAN主要包括了两个部分，即生成器generator与判别器discriminator。生成器主要用来学习真实图像分布从而让自身生成的图像更加真实，以骗过判别器。判别器则需要对接收的图片进行真假判别。在整个过程中，生成器努力地让生成的图像更加真实，而判别器则努力地去识别出图像的真假，这个过程相当于一个二人博弈，随着时间的推移，生成器和判别器在不断地进行对抗，最终两个网络达到了一个动态均衡：生成器生成的图像接近于真实图像分布，而判别器识别不出真假图像，对于给定图像的预测为真的概率基本接近0.5（相当于随机猜测类别）。\n",
    "\n",
    "<img src=\"https://cdn.nlark.com/yuque/0/2021/jpeg/1508544/1614608345255-91f0b01a-0c17-4fe9-8aae-45e5ff927cdf.jpeg\"/>\n",
    "\n",
    "- 我们现在拥有大量的手写数字的数据集，希望通过GAN生成一些能够以假乱真的手写字图片。主要有如下两部分组成：  \n",
    "（1）定义一个模型作为生成器（Generator），能够输入一个向量，输出手写数字大小的像素图像。  \n",
    "（2）定义一个分类器作为判别器（Discriminator）用来图片是真的还是假的（或者说是来自数据集中的还是生成器中生成的），输入为手写图片，输出为判别图片的标签。"
   ]
  },
  {
   "cell_type": "markdown",
   "metadata": {},
   "source": [
    "带你走进生成对抗网络的世界"
   ]
  },
  {
   "cell_type": "code",
   "execution_count": 1,
   "metadata": {},
   "outputs": [],
   "source": [
    "import torch\n",
    "from torch import nn\n",
    "from torch.autograd.variable import Variable\n",
    "\n",
    "import torchvision\n",
    "import torchvision.transforms as transforms"
   ]
  },
  {
   "cell_type": "markdown",
   "metadata": {},
   "source": [
    "为MNIST训练数据准备DataLoader，为这10个数字建立标签。"
   ]
  },
  {
   "cell_type": "code",
   "execution_count": 2,
   "metadata": {},
   "outputs": [],
   "source": [
    "# Preprocess\n",
    "transform = transforms.Compose(\n",
    "    [\n",
    "        transforms.ToTensor(),\n",
    "        transforms.Normalize((0.5,), (0.5,))\n",
    "    ]\n",
    ")"
   ]
  },
  {
   "cell_type": "markdown",
   "metadata": {},
   "source": [
    "代码成功从天池实验室点击编辑按钮加载到DSW，加载好的代码会⾃动打开，默认在<b>download</b>\n",
    "⽬录下<br>\n",
    "1、点击左侧的【天池】按钮<br>\n",
    "2、会出现【保存到天池】按钮和【添加数据源】模块，搜索Pytorch_MNIST，点击数据集中的下载按钮即可<br>\n",
    "###### （具体如下图所示）\n",
    "<center><img\n",
    "src=\"https://img.alicdn.com/imgextra/i4/O1CN01zsetgx1zaOBQbSDLs_!!6000000006730-2-\n",
    "tps-616-589.png\" width=60%></center>\n",
    "核⼼问题2\n",
    "数据集下载成功后，⻚⾯右上⻆会提示数据集下载成功，也会说名数据集存储位置，默认在\n",
    "<b>download</b>⽬录下，如下图所示。\n",
    "<center>\n",
    "<img\n",
    "src=\"https://img.alicdn.com/imgextra/i3/O1CN01uJzjgf1MLwg6jK7za_!!6000000001419-2-tps-\n",
    "1409-377.png\" width=60%>\n",
    "<img\n",
    "src=\"https://img.alicdn.com/imgextra/i1/O1CN01XQmAP027k1R811xls_!!6000000007834-2-\n",
    "tps-857-465.png\" width=60%>\n",
    "</center>"
   ]
  },
  {
   "cell_type": "code",
   "execution_count": 4,
   "metadata": {},
   "outputs": [],
   "source": [
    "# Training data\n",
    "train_set = torchvision.datasets.MNIST(\n",
    "    root='.', train=True, download=True, transform=transform\n",
    ")\n",
    "train_loader = torch.utils.data.DataLoader(\n",
    "    train_set, batch_size=32, shuffle=True\n",
    ")"
   ]
  },
  {
   "cell_type": "code",
   "execution_count": 5,
   "metadata": {},
   "outputs": [],
   "source": [
    "# Labels\n",
    "classes = [str(i) for i in range(0, 10)]"
   ]
  },
  {
   "cell_type": "markdown",
   "metadata": {},
   "source": [
    "判别器部分。  判别器网络是对图像真实与否进行分类。  \n",
    "输入：28×28像素 -> 一个长度为784的向量    \n",
    "输出：一个单独的值<表示图像是否是实际的MNIST数字>"
   ]
  },
  {
   "cell_type": "code",
   "execution_count": 6,
   "metadata": {},
   "outputs": [],
   "source": [
    "# Our Discriminator classes\n",
    "class Discriminator(nn.Module):\n",
    "    def __init__(self):\n",
    "        super().__init__()\n",
    "        self.model = nn.Sequential(\n",
    "            nn.Linear(784, 1024),\n",
    "            nn.ReLU(inplace=True),\n",
    "            nn.Dropout(0.3),\n",
    "            nn.Linear(1024, 512),\n",
    "            nn.ReLU(inplace=True),\n",
    "            nn.Dropout(0.3),\n",
    "            nn.Linear(512, 256),\n",
    "            nn.ReLU(inplace=True),\n",
    "            nn.Dropout(0.3),\n",
    "            nn.Linear(256, 1),\n",
    "            nn.Sigmoid()\n",
    "        )\n",
    "\n",
    "    def forward(self, x):\n",
    "        out = self.model(x.view(x.size(0), 784))\n",
    "        out = out.view(out.size(0), -1)\n",
    "        return out.cuda()\n",
    "\n",
    "discriminator = Discriminator()"
   ]
  },
  {
   "cell_type": "markdown",
   "metadata": {},
   "source": [
    "生成器部分。  生成器网络负责创建实际的图像。  \n",
    "输入：一个长度为100的向量<纯随机噪声>  \n",
    "输出：一个长度为784的向量 -> 28×28像素"
   ]
  },
  {
   "cell_type": "code",
   "execution_count": 7,
   "metadata": {},
   "outputs": [],
   "source": [
    "# Our Generator class\n",
    "class Generator(nn.Module):\n",
    "    def __init__(self):\n",
    "        super().__init__()\n",
    "        self.model = nn.Sequential(\n",
    "            nn.Linear(100, 256),\n",
    "            nn.ReLU(inplace=True),\n",
    "            nn.Linear(256, 512),\n",
    "            nn.ReLU(inplace=True),\n",
    "            nn.Linear(512, 1024),\n",
    "            nn.ReLU(inplace=True),\n",
    "            nn.Linear(1024, 784),\n",
    "            nn.Tanh()\n",
    "        )\n",
    "\n",
    "    def forward(self, x):\n",
    "        x = x.view(x.size(0), 100)\n",
    "        out = self.model(x).cuda()\n",
    "        return out\n",
    "\n",
    "generator = Generator()"
   ]
  },
  {
   "cell_type": "markdown",
   "metadata": {},
   "source": [
    "把模型移动到GPU上。"
   ]
  },
  {
   "cell_type": "code",
   "execution_count": 8,
   "metadata": {},
   "outputs": [
    {
     "name": "stdout",
     "output_type": "stream",
     "text": [
      "Using CUDA\n"
     ]
    }
   ],
   "source": [
    "# If we have a GPU with CUDA, use it\n",
    "if torch.cuda.is_available():\n",
    "    print(\"Using CUDA\")\n",
    "    discriminator.cuda()\n",
    "    generator.cuda()\n",
    "\n",
    "# Setup loss function and optimizers\n",
    "lr = 0.01\n",
    "num_epochs = 40\n",
    "num_batches = len(train_loader)\n",
    "\n",
    "criterion = nn.BCELoss()\n",
    "d_optimizer = torch.optim.Adam(discriminator.parameters(), lr=lr)\n",
    "g_optimizer = torch.optim.Adam(generator.parameters(), lr=lr)"
   ]
  },
  {
   "cell_type": "markdown",
   "metadata": {},
   "source": [
    "开始训练循环。  \n",
    "训练GAN的关键是我们需要在一个循环中更新生成器和判别器。"
   ]
  },
  {
   "cell_type": "code",
   "execution_count": 9,
   "metadata": {},
   "outputs": [],
   "source": [
    "# Convenience function for training our Discriminator\n",
    "def train_discriminator(discriminator, real_images, real_labels, fake_images, fake_labels):\n",
    "    discriminator.zero_grad()\n",
    "\n",
    "    # Get the predictions, loss, and score of the real images\n",
    "    predictions = discriminator(real_images)\n",
    "    real_loss = criterion(predictions, real_labels)\n",
    "    real_score = predictions\n",
    "\n",
    "    # Get the predictions, loss, and score of the fake images\n",
    "    predictions = discriminator(fake_images)\n",
    "    fake_loss = criterion(predictions, fake_labels)\n",
    "    fake_score = predictions\n",
    "\n",
    "    # Calculate the total loss, update the weights, and update the optimizer\n",
    "    d_loss = real_loss + fake_loss\n",
    "    d_loss.backward()\n",
    "    d_optimizer.step()\n",
    "    return d_loss, real_score, fake_score"
   ]
  },
  {
   "cell_type": "code",
   "execution_count": 10,
   "metadata": {},
   "outputs": [],
   "source": [
    "# Convenience function for training our Generator\n",
    "def train_generator(generator, discriminator_outputs, real_labels):\n",
    "    generator.zero_grad()\n",
    "\n",
    "    # Calculate the total loss, update the weights, and update the optimizer\n",
    "    g_loss = criterion(discriminator_outputs, real_labels)\n",
    "    g_loss.backward()\n",
    "    g_optimizer.step()\n",
    "    return g_loss"
   ]
  },
  {
   "cell_type": "code",
   "execution_count": 11,
   "metadata": {},
   "outputs": [],
   "source": [
    "for epoch in range(num_epochs):\n",
    "    for n, (images, _) in enumerate(train_loader):\n",
    "        # (1) Prepare the real data for the Discriminator\n",
    "        real_images = Variable(images).cuda()\n",
    "        real_labels = Variable(torch.ones(images.size(0))).reshape([32, 1]).cuda()\n",
    "\n",
    "        # (2) Prepare the random noise data for the Generator\n",
    "        noise = Variable(torch.randn(images.size(0), 100)).cuda()\n",
    "\n",
    "        # (3) Prepare the fake data for the Discriminator\n",
    "        fake_images = generator(noise)\n",
    "        fake_labels = Variable(torch.zeros(images.size(0))).reshape([32, 1]).cuda()\n",
    "\n",
    "        # (4) Train the discriminator on real and fake data\n",
    "        d_loss, real_score, fake_score = train_discriminator(\n",
    "            discriminator,\n",
    "            real_images, real_labels,\n",
    "            fake_images, fake_labels\n",
    "        )\n",
    "\n",
    "        # (5a) Generate some new fake images from the Generator.\n",
    "        # (5b) Get the label predictions of the Discriminator on that fake data.\n",
    "        noise = Variable(torch.randn(images.size(0), 100)).cuda()\n",
    "        fake_images = generator(noise)\n",
    "\n",
    "        outputs = discriminator(fake_images)\n",
    "\n",
    "        # (6) Train the generator\n",
    "        g_loss = train_generator(generator, outputs, real_labels)"
   ]
  },
  {
   "cell_type": "markdown",
   "metadata": {},
   "source": [
    "# 作业"
   ]
  },
  {
   "cell_type": "markdown",
   "metadata": {},
   "source": [
    "CGAN的诞生，对GAN的应用起到了极大的推广，使得GAN的变种多了许多，但是其基础还是CGAN。  \n",
    "实现GAN、CGAN在MNIST上的实验，并比较它们之间的优缺点。  \n",
    "\n",
    "<center><img src=\"https://cdn.nlark.com/yuque/0/2021/png/1508544/1613296043422-e95ecabb-39c4-4da0-a866-26374241f29f.png\" style=\"zoom:80%\" /><img src=\"https://cdn.nlark.com/yuque/0/2021/png/1508544/1613296047452-e533f474-ebb5-4d66-9e9e-de9e36b4ba83.png\" style=\"zoom:80%\" /><img src=\"https://cdn.nlark.com/yuque/0/2021/png/1508544/1613296051715-35fdd763-6e91-4e48-93ce-e8815a644df4.png\" style=\"zoom:80%\" /></center>\n",
    "\n",
    "<center>GAN在MNIST上实验结果</center>\n",
    "\n",
    "<center><img src=\"https://cdn.nlark.com/yuque/0/2021/png/1508544/1613296082069-7d80d0d6-2876-49a5-9ac3-3fcfa705fbd2.png\" style=\"zoom:80%\" /><img src=\"https://cdn.nlark.com/yuque/0/2021/png/1508544/1613296085509-64f49d13-c243-46a5-8c45-d58321a69c2b.png\" style=\"zoom:80%\" /><img src=\"https://cdn.nlark.com/yuque/0/2021/png/1508544/1613296088257-0f6f6a97-2a76-4f8e-bbaf-a118f6bce2ca.png\" style=\"zoom:80%\" /></center>\n",
    "\n",
    "<center>CGAN在MNIST上实验结果</center>"
   ]
  },
  {
   "cell_type": "code",
   "execution_count": null,
   "metadata": {},
   "outputs": [],
   "source": []
  }
 ],
 "metadata": {
  "kernelspec": {
   "display_name": "Python 3",
   "language": "python",
   "name": "python3"
  },
  "language_info": {
   "codemirror_mode": {
    "name": "ipython",
    "version": 3
   },
   "file_extension": ".py",
   "mimetype": "text/x-python",
   "name": "python",
   "nbconvert_exporter": "python",
   "pygments_lexer": "ipython3",
   "version": "3.6.5"
  },
  "tianchi_metadata": {
   "competitions": [],
   "datasets": [],
   "description": "",
   "notebookId": "163749",
   "source": "dsw"
  }
 },
 "nbformat": 4,
 "nbformat_minor": 5
}
