{
 "cells": [
  {
   "cell_type": "markdown",
   "metadata": {},
   "source": [
    "<img src=\"https://cdn.nlark.com/yuque/0/2020/png/1508544/1591025463440-adf34dfa-83d6-4fb6-9fe8-3c89619028d4.png\" style=\"zoom:80%\" />  \n",
    "\n",
    "1. 上图由判别模型和生成模型两部分组成。    \n",
    "2. 生成模型负责生成假样本，欺骗判别器。  \n",
    "3. 判别模型来分辨真样本和假样本。  \n",
    "4. 两个模型交替训练，类似对抗博弈的过程。  \n",
    "5. 训练判别器，固定生成器，使用反向传播。  \n",
    "6. 固定判别器，训练生成器，使用反向传播。 \n",
    "\n",
    "- 论文给出的算法实现：\n",
    "<img src=\"https://cdn.nlark.com/yuque/0/2020/png/1508544/1591026718625-8530ec99-6978-43a6-be1c-f48093d108ae.png\" style=\"zoom:80%\" />\n",
    "- 训练技巧和方法：\n",
    "1. 首先G和D是同步训练，但是两者训练次数不一样，通常是D网络训练k次后，G训练一次。主要原因是GAN刚开始训练时候会很不稳定；\n",
    "2. D的训练是同时输入真实数据和生成数据来计算loss，而不是采用交叉熵（cross entropy）分开计算。不采用cross entropy的原因是这会让${\\rm D}({\\rm G}(z))$变为0，导致没有梯度提供给G更新，而现在GAN的做法是会收敛到$\\frac{1}{2}$；\n",
    "3. 实际训练的时候，作者是采用$-\\log({\\rm D}({\\rm G}(z)))$来代替$\\log(1-{\\rm D({\\rm G}(z))})$，这是希望在训练初始就可以加大梯度信息，这是因为初始阶段D的分类能力会远大于G生成足够真实数据的能力，但这种修改也将让整个GAN不再是一个完美的零和博弈。"
   ]
  },
  {
   "cell_type": "markdown",
   "metadata": {},
   "source": [
    "## 练习题\n",
    "选择题：\n",
    "1. 关于生成对抗神经网络描述正确的是：\n",
    "    - A.网络结构中只有一个神经网络\n",
    "    - B.生成对抗神经网络中的D（判别器）网络是一个回归模型\n",
    "    - C.不仅仅能用来生成图片\n",
    "    - D.训练过程中只有G（生成器）网络的参数会得到更新\n",
    "2. 关于生成对抗神经网络，以下细节描述错误的是：\n",
    "    - A.判别器的输入不仅仅有数据集中的真实数据\n",
    "    - B.生成对抗神经网络的思想是让生成器能生成以假乱真的数据\n",
    "    - C.实际训练中判别器使用的损失函数是$min_D \\{-y\\log D(x) - (1-y)\\log (1-D(x))\\}$  \n",
    "    - D.实际训练中判别器使用的损失函数是$max_G \\{-(1-y)\\log(1-D(G(z)))\\}$  \n",
    "\n",
    "答案：\n",
    "- 1. C\n",
    "- 2. D"
   ]
  },
  {
   "cell_type": "code",
   "execution_count": null,
   "metadata": {},
   "outputs": [],
   "source": []
  }
 ],
 "metadata": {
  "kernelspec": {
   "display_name": "Python 3",
   "language": "python",
   "name": "python3"
  },
  "language_info": {
   "codemirror_mode": {
    "name": "ipython",
    "version": 3
   },
   "file_extension": ".py",
   "mimetype": "text/x-python",
   "name": "python",
   "nbconvert_exporter": "python",
   "pygments_lexer": "ipython3",
   "version": "3.6.5"
  }
 },
 "nbformat": 4,
 "nbformat_minor": 4
}
