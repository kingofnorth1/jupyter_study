{
 "cells": [
  {
   "cell_type": "markdown",
   "metadata": {},
   "source": [
    "# PyTorch简介\n",
    "<center/><img src=\"https://cdn.nlark.com/yuque/0/2021/png/1508544/1613811524709-4c0ae30b-181b-4c3e-b85b-104a0f02f9a5.png\"/></center>\n",
    "\n",
    "- PyTorch是一个基于Torch的Python开源机器学习库，用于自然语言处理等应用程序。\n",
    "- PyTorch提供了两个高级功能：\n",
    "    - 具有强大的GPU加速的张量计算（如Numpy）\n",
    "    - 包含自动求导系统的深度神经网络\n",
    "- 2017年1月，FAIR（Facebook AI Research）发布PyTorch。\n",
    "- PyTorch是在Torch基础上用python语言重新打造的一款深度学习框架。\n",
    "- Torch是采用Lua语言为接口的机器学习框架，但因Lua语言较为小众，导致Torch知名度不高。\n",
    "- Pytorch优点\n",
    "    - 上手快：掌握numpy和基本深度学习概念即可上手；\n",
    "    - 代码简洁灵活：用nn.module封装使网络搭建更方便；基于动态图机制，更灵活；\n",
    "    - Debug方便：调试PyTorch就像调试Python代码一样简单；\n",
    "    - 文档规范：https://pytorch.org/docs/ 可查各版本文档；\n",
    "    - 资源多：arXiv中的新算法大多有PyTorch实现；\n",
    "    - 开发者多：Github上贡献者已超过1100+；\n",
    "    - 背靠大树：Facebook维护开发；\n",
    "    - ... ...\n",
    "- Pytorch仍然是一个年轻的框架，但其发展速度越来越快。如果你有以下需求，它可能会比较适合你：\n",
    "    - 用于研究，或者是用于生产的非功能性需求，但其并不是很苛刻\n",
    "    - 需要更好的开发和调试体验\n",
    "    - 爱所有Python化的东西\n",
    "\n",
    "# 天池dsw平台介绍\n",
    "- 天池实验室是基于PAI DSW探索版开发的，PAI DSW（Data Science Workshop）是为算法开发者量身打造的云端开发环境，用户可在DSW中利用阿里云提供的CPU/GPU算力资源实现云端编程，无需任何运维配置即可直接开启Jupyter Notebook编写，调试，运行Python代码。DSW的主要面向用户是深度学习算法的开发者，其中内置了深度学习网络可视化建模并支持开源框架的安装。\n",
    "- [天池实验室的使用手册精简版](https://tianchi.aliyun.com/notebook-ai/detail?postId=198826)\n",
    "- [天池实验室用户手册详细版（附常见QA表）](https://tianchi.aliyun.com/notebook-ai/detail?postld=127457)\n",
    "\n",
    "## 核心特征\n",
    "1. 研发环境快速搭建，定制与分享十分灵活。\n",
    "2. 线上，线下各种数据源打通，包括ODPS，OSS，NAS，Local Storage，GitLab等。\n",
    "3. 支持各种训练框架，其中包括阿里巴巴深度优化的Tensorflow框架，通过编译优化提升训练性能。\n",
    "4. 交互式编程，可视化调试与命令行输入等多种编程模式，兼顾不同习惯的开发者。\n",
    "5. 为天池参赛用户打通整个链路，可在DSW平台完成天池比赛数据挂载，文档导入以及完成后保存发布到天池技术圈。\n",
    "\n",
    "## 资源配置\n",
    "- 天池实验室的底座是DSW探索者版，其基本配置如下：\n",
    "- 云资源用户在DSW上编辑使用的是阿里云提供的硬件资源，可选择2c4g的CPU或是Tesla P100 GPU。\n",
    "- 多镜像支持提供了不同环境配置的CPU/GPU镜像，方便用户在不同场景下使用和调度计算资源。\n",
    "- 存储资源DSW将用户编程所使用的数据和文档都储存在云端，为每位用户提供5G的免费存储空间。\n",
    "- 使用时长为保证资源的有效利用，用户每次打开DSW的单次使用时长为8小时，8小时后会自动断开。断开后用户可以刷新浏览器进行重连。\n",
    "    - 注意事项：\n",
    "    - 第一次启动DSW的速度较长，如果超过2分钟未响应请刷新页面。\n",
    "    - 推荐使用chrome浏览器。"
   ]
  },
  {
   "cell_type": "code",
   "execution_count": null,
   "metadata": {},
   "outputs": [],
   "source": []
  }
 ],
 "metadata": {
  "kernelspec": {
   "display_name": "Python 3 (ipykernel)",
   "language": "python",
   "name": "python3"
  },
  "language_info": {
   "codemirror_mode": {
    "name": "ipython",
    "version": 3
   },
   "file_extension": ".py",
   "mimetype": "text/x-python",
   "name": "python",
   "nbconvert_exporter": "python",
   "pygments_lexer": "ipython3",
   "version": "3.9.0"
  },
  "tianchi_metadata": {
   "competitions": [],
   "datasets": [],
   "description": "",
   "notebookId": "178620",
   "source": "dsw"
  }
 },
 "nbformat": 4,
 "nbformat_minor": 4
}
