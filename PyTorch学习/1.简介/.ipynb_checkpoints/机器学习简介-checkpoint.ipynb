{
 "cells": [
  {
   "cell_type": "markdown",
   "metadata": {},
   "source": [
    "- 机器学习是利用计算机模拟人的学习能力，从样本数据中学习得到知识和经验，然后用于实际的推断和决策。\n",
    "- 机器学习是一门多学科交叉专业，涵盖概率论知识、统计学知识、近似理论知识和复杂算法知识，使用计算机作为工具并致力于真实实时的模拟和实现人类学习方式，以获取新的知识或技能，并将现有内容进行知识结构划分来有效提高学习效率。机器学习推动人工智能快速发展，是第三次人工智能发展浪潮的重要推动因素。\n",
    "- 机器学习是现阶段解决很多人工智能问题的主流方法，是现代人工智能的本质，目前正处于高速发展之中。 它从概念诞生到技术的普遍应用经过了漫长的过程。 机器学习领域诞生了众多的经典理论（如 PAC 学习理论、决策树、支持向量机 SVM、 Adaboost、循环神经网络 RNN 和 LSTM、流形学习、随机森林 Random Forest 等），并走向实用。\n",
    "- 从上世纪 50 年代的图灵测试提出、 塞缪尔开发的西洋跳棋程序， 60 年代中到 70 年代末的发展几乎停滞，到 80 年代使用神经网络反向传播（BP）算法训练的多参数线性规划（MLP）理念以及昆兰在 1986 年提出的“决策树”（ID3 算法），再到后来的支持向量机（SVM）算法以及 2006 年辛顿（Hinton）提出深度学习（Deep Learning），机器学习研究已走过低迷进入蓬勃发展期。 下面借用SIGAI公众号的机器学习算法地图：\n",
    "\n",
    "<center/><img src=\"https://cdn.nlark.com/yuque/0/2021/png/1508544/1616551483043-a188e6db-3f07-46aa-91f5-1ee63835e079.png?x-oss-process=image/resize,w_885\"/></center>\n",
    "\n",
    "- 近十年来，机器学习研究热度高涨，主要集中在深度学习。 特别是在 2012 年之后，随着计算能力的进步和海量训练样本的支持，深度学习（ Deep Learning）技术走向前台并急速发展，较好地解决了人工智能领域的一些重点问题如图像分析和语音识别等，并带动了产业界的广泛应用。 下面借用SIGAI公众号的深度学习算法地图：\n",
    "\n",
    "<center/><img src=\"https://cdn.nlark.com/yuque/0/2021/png/1508544/1616551695976-e83abe00-0fa6-429a-804e-3938a357e6e7.png?x-oss-process=image/resize,w_885\"/></center>"
   ]
  },
  {
   "cell_type": "code",
   "execution_count": null,
   "metadata": {},
   "outputs": [],
   "source": []
  }
 ],
 "metadata": {
  "kernelspec": {
   "display_name": "Python 3 (ipykernel)",
   "language": "python",
   "name": "python3"
  },
  "language_info": {
   "codemirror_mode": {
    "name": "ipython",
    "version": 3
   },
   "file_extension": ".py",
   "mimetype": "text/x-python",
   "name": "python",
   "nbconvert_exporter": "python",
   "pygments_lexer": "ipython3",
   "version": "3.9.0"
  },
  "tianchi_metadata": {
   "competitions": [],
   "datasets": [],
   "description": "",
   "notebookId": "178615",
   "source": "dsw"
  }
 },
 "nbformat": 4,
 "nbformat_minor": 4
}
