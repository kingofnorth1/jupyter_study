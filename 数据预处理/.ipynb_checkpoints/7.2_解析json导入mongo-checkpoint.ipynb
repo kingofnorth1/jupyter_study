{
 "cells": [
  {
   "cell_type": "code",
   "execution_count": null,
   "id": "8310f5ee",
   "metadata": {},
   "outputs": [],
   "source": [
    "#coding=utf-8\n",
    "\n",
    "from pymongo import MongoClient\n",
    "client = MongoClient('localhost', 27017)\n",
    "db = client['test-database']\n",
    "collection = db['test-collection']\n",
    "\n",
    "import json\n",
    "jsons = [json.loads(x) for x in open('in_data/json.txt')]\n",
    "\n",
    "for doc in jsons:\n",
    "    post_id = collection.insert_one(doc).inserted_id\n",
    "    print(post_id)\n",
    "\n",
    "jsons = [json.loads(x) for x in open('in_data/json.txt')]\n",
    "batch_result=collection.insert_many(jsons)\n",
    "print(batch_result.inserted_ids)"
   ]
  }
 ],
 "metadata": {
  "kernelspec": {
   "display_name": "Python 3 (ipykernel)",
   "language": "python",
   "name": "python3"
  },
  "language_info": {
   "codemirror_mode": {
    "name": "ipython",
    "version": 3
   },
   "file_extension": ".py",
   "mimetype": "text/x-python",
   "name": "python",
   "nbconvert_exporter": "python",
   "pygments_lexer": "ipython3",
   "version": "3.9.0"
  }
 },
 "nbformat": 4,
 "nbformat_minor": 5
}
