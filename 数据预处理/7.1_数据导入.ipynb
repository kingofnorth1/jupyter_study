{
 "cells": [
  {
   "cell_type": "code",
   "execution_count": 2,
   "id": "da30beb3",
   "metadata": {},
   "outputs": [],
   "source": [
    "import pandas as pd\n",
    "df = pd.read_csv('in_data/lecturer.txt',sep='\\t')\n",
    "df[df['工龄'] > 3].to_csv('out_data/new_1.csv')"
   ]
  },
  {
   "cell_type": "code",
   "execution_count": null,
   "id": "9c25d7b9",
   "metadata": {},
   "outputs": [],
   "source": []
  },
  {
   "cell_type": "code",
   "execution_count": 3,
   "id": "5aea7f6b",
   "metadata": {},
   "outputs": [],
   "source": [
    "import pandas as pd\n",
    "df = pd.read_csv('in_data/lecturer.txt',sep='\\t')\n",
    "df.to_csv('out_data/new_2.csv',index = False)"
   ]
  },
  {
   "cell_type": "code",
   "execution_count": null,
   "id": "16443082",
   "metadata": {},
   "outputs": [],
   "source": []
  },
  {
   "cell_type": "code",
   "execution_count": 4,
   "id": "d281f595",
   "metadata": {},
   "outputs": [],
   "source": [
    "import pandas as pd\n",
    "df = pd.read_csv('in_data/lecturer.txt',sep='\\t')\n",
    "df.to_csv('out_data/new_3.csv',header = False)"
   ]
  },
  {
   "cell_type": "code",
   "execution_count": null,
   "id": "0f4b720e",
   "metadata": {},
   "outputs": [],
   "source": []
  }
 ],
 "metadata": {
  "kernelspec": {
   "display_name": "Python 3 (ipykernel)",
   "language": "python",
   "name": "python3"
  },
  "language_info": {
   "codemirror_mode": {
    "name": "ipython",
    "version": 3
   },
   "file_extension": ".py",
   "mimetype": "text/x-python",
   "name": "python",
   "nbconvert_exporter": "python",
   "pygments_lexer": "ipython3",
   "version": "3.9.0"
  }
 },
 "nbformat": 4,
 "nbformat_minor": 5
}
