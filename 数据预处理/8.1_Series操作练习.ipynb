{
 "cells": [
  {
   "cell_type": "code",
   "execution_count": 2,
   "id": "1e716364",
   "metadata": {},
   "outputs": [
    {
     "data": {
      "text/plain": [
       "a    4\n",
       "b    5\n",
       "c    6\n",
       "d    7\n",
       "e    8\n",
       "f    9\n",
       "dtype: int64"
      ]
     },
     "execution_count": 2,
     "metadata": {},
     "output_type": "execute_result"
    }
   ],
   "source": [
    "import pandas as pd\n",
    "ser = pd.Series([4,5,6,7,8,9], index = list(\"abcdef\"))\n",
    "ser"
   ]
  },
  {
   "cell_type": "code",
   "execution_count": 3,
   "id": "eefedf8a",
   "metadata": {},
   "outputs": [
    {
     "data": {
      "text/plain": [
       "5"
      ]
     },
     "execution_count": 3,
     "metadata": {},
     "output_type": "execute_result"
    }
   ],
   "source": [
    "ser.loc[\"b\"]\n",
    "ser.iloc[1]"
   ]
  },
  {
   "cell_type": "code",
   "execution_count": 4,
   "id": "21c54d39",
   "metadata": {},
   "outputs": [
    {
     "data": {
      "text/plain": [
       "6.5"
      ]
     },
     "execution_count": 4,
     "metadata": {},
     "output_type": "execute_result"
    }
   ],
   "source": [
    "ser.mean()\n",
    "ser.median()"
   ]
  },
  {
   "cell_type": "code",
   "execution_count": 5,
   "id": "866616ce",
   "metadata": {},
   "outputs": [
    {
     "data": {
      "text/plain": [
       "a    4\n",
       "c    6\n",
       "e    8\n",
       "dtype: int64"
      ]
     },
     "execution_count": 5,
     "metadata": {},
     "output_type": "execute_result"
    }
   ],
   "source": [
    "ser[ ser % 2 == 0]"
   ]
  },
  {
   "cell_type": "code",
   "execution_count": 6,
   "id": "01e78102",
   "metadata": {},
   "outputs": [],
   "source": [
    "ser[ ser % 2 == 0] = 2"
   ]
  },
  {
   "cell_type": "code",
   "execution_count": 7,
   "id": "3205f3f3",
   "metadata": {},
   "outputs": [],
   "source": [
    "ser[ ser % 2 == 0] = ser[ ser % 2 == 0] *2"
   ]
  },
  {
   "cell_type": "code",
   "execution_count": 8,
   "id": "636b69e5",
   "metadata": {},
   "outputs": [
    {
     "data": {
      "text/plain": [
       "a     2.0\n",
       "b    10.0\n",
       "c     2.0\n",
       "d    14.0\n",
       "e     2.0\n",
       "f    18.0\n",
       "dtype: float64"
      ]
     },
     "execution_count": 8,
     "metadata": {},
     "output_type": "execute_result"
    }
   ],
   "source": [
    "def func(x):\n",
    "    if x %2 == 0:\n",
    "        return x /2\n",
    "    else:\n",
    "        return x * 2\n",
    "\n",
    "ser.apply(func)"
   ]
  },
  {
   "cell_type": "code",
   "execution_count": null,
   "id": "3674a55f",
   "metadata": {},
   "outputs": [],
   "source": []
  }
 ],
 "metadata": {
  "kernelspec": {
   "display_name": "Python 3 (ipykernel)",
   "language": "python",
   "name": "python3"
  },
  "language_info": {
   "codemirror_mode": {
    "name": "ipython",
    "version": 3
   },
   "file_extension": ".py",
   "mimetype": "text/x-python",
   "name": "python",
   "nbconvert_exporter": "python",
   "pygments_lexer": "ipython3",
   "version": "3.9.0"
  }
 },
 "nbformat": 4,
 "nbformat_minor": 5
}
